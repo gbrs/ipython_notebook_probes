{
 "cells": [
  {
   "cell_type": "code",
   "execution_count": 1,
   "metadata": {},
   "outputs": [],
   "source": [
    "import numpy as np\n",
    "import pandas as pd\n",
    "import matplotlib.pyplot as plt\n",
    "import seaborn as sns"
   ]
  },
  {
   "cell_type": "code",
   "execution_count": 10,
   "metadata": {},
   "outputs": [],
   "source": [
    "%load_ext memory_profiler"
   ]
  },
  {
   "cell_type": "code",
   "execution_count": 8,
   "metadata": {},
   "outputs": [
    {
     "name": "stdout",
     "output_type": "stream",
     "text": [
      " "
     ]
    }
   ],
   "source": [
    "def sm():\n",
    "    sm = 0\n",
    "    for i in range(1000):\n",
    "        sm += i\n",
    "    return sm\n"
   ]
  },
  {
   "cell_type": "code",
   "execution_count": 74,
   "metadata": {},
   "outputs": [
    {
     "name": "stdout",
     "output_type": "stream",
     "text": [
      "82.3 µs ± 212 ns per loop (mean ± std. dev. of 7 runs, 10000 loops each)\n"
     ]
    }
   ],
   "source": [
    "%timeit sm()"
   ]
  },
  {
   "cell_type": "code",
   "execution_count": 12,
   "metadata": {
    "scrolled": true
   },
   "outputs": [
    {
     "name": "stdout",
     "output_type": "stream",
     "text": [
      "peak memory: 123.09 MiB, increment: 0.27 MiB\n"
     ]
    }
   ],
   "source": [
    "%memit sm()"
   ]
  },
  {
   "cell_type": "code",
   "execution_count": 7,
   "metadata": {},
   "outputs": [
    {
     "name": "stdout",
     "output_type": "stream",
     "text": [
      " "
     ]
    }
   ],
   "source": [
    "%prun sm()\n"
   ]
  },
  {
   "cell_type": "code",
   "execution_count": 13,
   "metadata": {},
   "outputs": [
    {
     "name": "stdout",
     "output_type": "stream",
     "text": [
      "Filename: C:\\Users\\Борис\\AnacondaProjects\\ipython_notebook_probes\\Probe2.py\n",
      "\n",
      "Line #    Mem usage    Increment  Occurences   Line Contents\n",
      "============================================================\n",
      "     4    124.1 MiB    124.1 MiB           1   @profile\n",
      "     5                                         def sm():\n",
      "     6                                             # arr1 = pd.DataFrame(np.arange(0, 10**6).reshape(1000, 1000))\n",
      "     7                                             # arr2 = pd.DataFrame(np.arange(0, 10**6).reshape(1000, 1000))\n",
      "     8                                             \n",
      "     9    131.8 MiB      7.7 MiB           1       arr1 = pd.DataFrame(np.random.rand(1000, 1000))\n",
      "    10    139.5 MiB      7.6 MiB           1       arr2 = pd.DataFrame(np.random.rand(1000, 1000))\n",
      "    11    147.6 MiB      8.2 MiB           1       arr3 = arr1 + arr2\n",
      "\n",
      "\n",
      "Filename: C:\\Users\\Борис\\AnacondaProjects\\ipython_notebook_probes\\Probe2.py\n",
      "\n",
      "Line #    Mem usage    Increment  Occurences   Line Contents\n",
      "============================================================\n",
      "     4    124.7 MiB    124.7 MiB           1   @profile\n",
      "     5                                         def sm():\n",
      "     6                                             # arr1 = pd.DataFrame(np.arange(0, 10**6).reshape(1000, 1000))\n",
      "     7                                             # arr2 = pd.DataFrame(np.arange(0, 10**6).reshape(1000, 1000))\n",
      "     8                                             \n",
      "     9    132.3 MiB      7.6 MiB           1       arr1 = pd.DataFrame(np.random.rand(1000, 1000))\n",
      "    10    140.0 MiB      7.6 MiB           1       arr2 = pd.DataFrame(np.random.rand(1000, 1000))\n",
      "    11    147.6 MiB      7.6 MiB           1       arr3 = arr1 + arr2\n",
      "\n",
      "\n",
      "\n"
     ]
    }
   ],
   "source": [
    "from Probe2 import sm\n",
    "%mprun -f sm()"
   ]
  },
  {
   "cell_type": "code",
   "execution_count": 8,
   "metadata": {
    "scrolled": true
   },
   "outputs": [
    {
     "name": "stdout",
     "output_type": "stream",
     "text": [
      "The line_profiler extension is already loaded. To reload it, use:\n",
      "  %reload_ext line_profiler\n"
     ]
    }
   ],
   "source": [
    "%load_ext line_profiler"
   ]
  },
  {
   "cell_type": "code",
   "execution_count": 9,
   "metadata": {
    "scrolled": true
   },
   "outputs": [],
   "source": [
    "%lprun -f sm()"
   ]
  },
  {
   "cell_type": "code",
   "execution_count": 34,
   "metadata": {},
   "outputs": [
    {
     "name": "stdout",
     "output_type": "stream",
     "text": [
      "549 µs ± 20.4 µs per loop (mean ± std. dev. of 7 runs, 1000 loops each)\n"
     ]
    }
   ],
   "source": [
    "arr1 = pd.DataFrame(np.random.rand(100, 100))\n",
    "arr2 = pd.DataFrame(np.random.rand(100, 100))\n",
    "arr3 = pd.DataFrame(np.random.rand(100, 100))"
   ]
  },
  {
   "cell_type": "code",
   "execution_count": 8,
   "metadata": {},
   "outputs": [
    {
     "name": "stdout",
     "output_type": "stream",
     "text": [
      "916 ms ± 16.9 ms per loop (mean ± std. dev. of 7 runs, 1 loop each)\n"
     ]
    }
   ],
   "source": [
    "%%timeit\n",
    "for i in range(100):\n",
    "    for j in range(100):\n",
    "        arr3[i][j] = arr1[i][j] / arr2[i][j]"
   ]
  },
  {
   "cell_type": "code",
   "execution_count": 35,
   "metadata": {},
   "outputs": [
    {
     "name": "stdout",
     "output_type": "stream",
     "text": [
      "peak memory: 126.33 MiB, increment: 0.04 MiB\n"
     ]
    }
   ],
   "source": [
    "%%memit\n",
    "arr4 = arr1 / arr2"
   ]
  },
  {
   "cell_type": "code",
   "execution_count": null,
   "metadata": {},
   "outputs": [],
   "source": []
  },
  {
   "cell_type": "code",
   "execution_count": null,
   "metadata": {},
   "outputs": [],
   "source": []
  },
  {
   "cell_type": "markdown",
   "metadata": {
    "scrolled": false
   },
   "source": [
    "https://habr.com/ru/company/wunderfund/blog/316826/"
   ]
  }
 ],
 "metadata": {
  "kernelspec": {
   "display_name": "Python 3",
   "language": "python",
   "name": "python3"
  },
  "language_info": {
   "codemirror_mode": {
    "name": "ipython",
    "version": 3
   },
   "file_extension": ".py",
   "mimetype": "text/x-python",
   "name": "python",
   "nbconvert_exporter": "python",
   "pygments_lexer": "ipython3",
   "version": "3.8.8"
  }
 },
 "nbformat": 4,
 "nbformat_minor": 4
}
