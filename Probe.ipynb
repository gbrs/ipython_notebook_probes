{
 "cells": [
  {
   "cell_type": "code",
   "execution_count": 2,
   "metadata": {},
   "outputs": [],
   "source": [
    "import numpy as np\n",
    "import pandas as pd\n",
    "import matplotlib.pyplot as plt\n",
    "import seaborn as sns"
   ]
  },
  {
   "cell_type": "code",
   "execution_count": 3,
   "metadata": {},
   "outputs": [],
   "source": [
    "sns.set()\n",
    "pd.set_option('display.max_columns', None)"
   ]
  },
  {
   "cell_type": "code",
   "execution_count": null,
   "metadata": {},
   "outputs": [],
   "source": []
  },
  {
   "cell_type": "code",
   "execution_count": 46,
   "metadata": {},
   "outputs": [],
   "source": [
    "%load_ext memory_profiler"
   ]
  },
  {
   "cell_type": "code",
   "execution_count": 28,
   "metadata": {},
   "outputs": [],
   "source": [
    "def sm():\n",
    "    \"\"\"исследуемая функция\"\"\"\n",
    "    sm = 0\n",
    "    for i in range(1000):\n",
    "        sm += i\n",
    "    return sm\n"
   ]
  },
  {
   "cell_type": "code",
   "execution_count": 4,
   "metadata": {},
   "outputs": [
    {
     "name": "stdout",
     "output_type": "stream",
     "text": [
      "70.9 µs ± 3.74 µs per loop (mean ± std. dev. of 7 runs, 10000 loops each)\n"
     ]
    }
   ],
   "source": [
    "%timeit sm()"
   ]
  },
  {
   "cell_type": "code",
   "execution_count": 5,
   "metadata": {
    "scrolled": true
   },
   "outputs": [
    {
     "name": "stdout",
     "output_type": "stream",
     "text": [
      "peak memory: 119.87 MiB, increment: 0.11 MiB\n"
     ]
    }
   ],
   "source": [
    "%memit sm()"
   ]
  },
  {
   "cell_type": "code",
   "execution_count": 3,
   "metadata": {
    "tags": []
   },
   "outputs": [
    {
     "name": "stdout",
     "output_type": "stream",
     "text": [
      " "
     ]
    }
   ],
   "source": [
    "%prun sm()\n"
   ]
  },
  {
   "cell_type": "code",
   "execution_count": 44,
   "metadata": {
    "scrolled": true
   },
   "outputs": [
    {
     "name": "stdout",
     "output_type": "stream",
     "text": [
      "The line_profiler extension is already loaded. To reload it, use:\n",
      "  %reload_ext line_profiler\n"
     ]
    }
   ],
   "source": [
    "%load_ext line_profiler"
   ]
  },
  {
   "cell_type": "code",
   "execution_count": 49,
   "metadata": {
    "scrolled": true
   },
   "outputs": [
    {
     "name": "stdout",
     "output_type": "stream",
     "text": [
      "ERROR: Could not find file <ipython-input-28-1c6147451ae2>\n",
      "NOTE: %mprun can only be used on functions defined in physical files, and not in the IPython environment.\n",
      "\n"
     ]
    }
   ],
   "source": [
    "%mprun -f sm"
   ]
  },
  {
   "cell_type": "code",
   "execution_count": null,
   "metadata": {},
   "outputs": [],
   "source": []
  },
  {
   "cell_type": "code",
   "execution_count": 5,
   "metadata": {
    "scrolled": true
   },
   "outputs": [
    {
     "name": "stderr",
     "output_type": "stream",
     "text": [
      "C:\\ProgramData\\Anaconda3\\lib\\site-packages\\line_profiler\\line_profiler.py:344: UserWarning: Could not extract a code object for the object 499500\n",
      "  profile = LineProfiler(*funcs)\n"
     ]
    }
   ],
   "source": [
    "%lprun -f sm()"
   ]
  },
  {
   "cell_type": "code",
   "execution_count": 6,
   "metadata": {},
   "outputs": [
    {
     "name": "stdout",
     "output_type": "stream",
     "text": [
      "Timer unit: 3.3094e-07 s\n",
      "\n",
      "Total time: 0.00104279 s\n",
      "File: <ipython-input-2-4a243120c7e7>\n",
      "Function: sm at line 1\n",
      "\n",
      "Line #      Hits         Time  Per Hit   % Time  Line Contents\n",
      "==============================================================\n",
      "     1                                           def sm():\n",
      "     2         1          5.0      5.0      0.2      sm = 0\n",
      "     3      1001       1508.0      1.5     47.9      for i in range(1000):\n",
      "     4      1000       1637.0      1.6     52.0          sm += i\n",
      "     5         1          1.0      1.0      0.0      return sm\n",
      "\n"
     ]
    }
   ],
   "source": [
    "import line_profiler\n",
    "lp = line_profiler.LineProfiler()\n",
    "lp.add_function(sm)\n",
    "lp.runctx('sm()', locals=locals(), globals=globals())\n",
    "lp.print_stats()"
   ]
  },
  {
   "cell_type": "code",
   "execution_count": 39,
   "metadata": {},
   "outputs": [],
   "source": [
    "arr1 = pd.DataFrame(np.random.rand(100, 100))\n",
    "arr2 = pd.DataFrame(np.random.rand(100, 100))\n",
    "arr3 = pd.DataFrame(np.random.rand(100, 100))"
   ]
  },
  {
   "cell_type": "code",
   "execution_count": 8,
   "metadata": {},
   "outputs": [
    {
     "name": "stdout",
     "output_type": "stream",
     "text": [
      "916 ms ± 16.9 ms per loop (mean ± std. dev. of 7 runs, 1 loop each)\n"
     ]
    }
   ],
   "source": [
    "%%timeit\n",
    "for i in range(100):\n",
    "    for j in range(100):\n",
    "        arr3[i][j] = arr1[i][j] / arr2[i][j]"
   ]
  },
  {
   "cell_type": "code",
   "execution_count": 12,
   "metadata": {},
   "outputs": [
    {
     "name": "stdout",
     "output_type": "stream",
     "text": [
      "peak memory: 122.59 MiB, increment: 0.57 MiB\n"
     ]
    }
   ],
   "source": [
    "%%memit\n",
    "arr4 = arr1 / arr2"
   ]
  },
  {
   "cell_type": "code",
   "execution_count": 43,
   "metadata": {},
   "outputs": [
    {
     "data": {
      "application/json": {
       "cell": {
        "!": "OSMagics",
        "HTML": "Other",
        "SVG": "Other",
        "bash": "Other",
        "capture": "ExecutionMagics",
        "cmd": "Other",
        "debug": "ExecutionMagics",
        "file": "Other",
        "html": "DisplayMagics",
        "javascript": "DisplayMagics",
        "js": "DisplayMagics",
        "latex": "DisplayMagics",
        "markdown": "DisplayMagics",
        "perl": "Other",
        "prun": "ExecutionMagics",
        "pypy": "Other",
        "python": "Other",
        "python2": "Other",
        "python3": "Other",
        "ruby": "Other",
        "script": "ScriptMagics",
        "sh": "Other",
        "svg": "DisplayMagics",
        "sx": "OSMagics",
        "system": "OSMagics",
        "time": "ExecutionMagics",
        "timeit": "ExecutionMagics",
        "writefile": "OSMagics"
       },
       "line": {
        "alias": "OSMagics",
        "alias_magic": "BasicMagics",
        "autoawait": "AsyncMagics",
        "autocall": "AutoMagics",
        "automagic": "AutoMagics",
        "autosave": "KernelMagics",
        "bookmark": "OSMagics",
        "cd": "OSMagics",
        "clear": "KernelMagics",
        "cls": "KernelMagics",
        "colors": "BasicMagics",
        "conda": "PackagingMagics",
        "config": "ConfigMagics",
        "connect_info": "KernelMagics",
        "copy": "Other",
        "ddir": "Other",
        "debug": "ExecutionMagics",
        "dhist": "OSMagics",
        "dirs": "OSMagics",
        "doctest_mode": "BasicMagics",
        "echo": "Other",
        "ed": "Other",
        "edit": "KernelMagics",
        "env": "OSMagics",
        "gui": "BasicMagics",
        "hist": "Other",
        "history": "HistoryMagics",
        "killbgscripts": "ScriptMagics",
        "ldir": "Other",
        "less": "KernelMagics",
        "load": "CodeMagics",
        "load_ext": "ExtensionMagics",
        "loadpy": "CodeMagics",
        "logoff": "LoggingMagics",
        "logon": "LoggingMagics",
        "logstart": "LoggingMagics",
        "logstate": "LoggingMagics",
        "logstop": "LoggingMagics",
        "lprun": "LineProfilerMagics",
        "ls": "Other",
        "lsmagic": "BasicMagics",
        "macro": "ExecutionMagics",
        "magic": "BasicMagics",
        "matplotlib": "PylabMagics",
        "mkdir": "Other",
        "more": "KernelMagics",
        "notebook": "BasicMagics",
        "page": "BasicMagics",
        "pastebin": "CodeMagics",
        "pdb": "ExecutionMagics",
        "pdef": "NamespaceMagics",
        "pdoc": "NamespaceMagics",
        "pfile": "NamespaceMagics",
        "pinfo": "NamespaceMagics",
        "pinfo2": "NamespaceMagics",
        "pip": "PackagingMagics",
        "popd": "OSMagics",
        "pprint": "BasicMagics",
        "precision": "BasicMagics",
        "prun": "ExecutionMagics",
        "psearch": "NamespaceMagics",
        "psource": "NamespaceMagics",
        "pushd": "OSMagics",
        "pwd": "OSMagics",
        "pycat": "OSMagics",
        "pylab": "PylabMagics",
        "qtconsole": "KernelMagics",
        "quickref": "BasicMagics",
        "recall": "HistoryMagics",
        "rehashx": "OSMagics",
        "reload_ext": "ExtensionMagics",
        "ren": "Other",
        "rep": "Other",
        "rerun": "HistoryMagics",
        "reset": "NamespaceMagics",
        "reset_selective": "NamespaceMagics",
        "rmdir": "Other",
        "run": "ExecutionMagics",
        "save": "CodeMagics",
        "sc": "OSMagics",
        "set_env": "OSMagics",
        "store": "StoreMagics",
        "sx": "OSMagics",
        "system": "OSMagics",
        "tb": "ExecutionMagics",
        "time": "ExecutionMagics",
        "timeit": "ExecutionMagics",
        "unalias": "OSMagics",
        "unload_ext": "ExtensionMagics",
        "who": "NamespaceMagics",
        "who_ls": "NamespaceMagics",
        "whos": "NamespaceMagics",
        "xdel": "NamespaceMagics",
        "xmode": "BasicMagics"
       }
      },
      "text/plain": [
       "Available line magics:\n",
       "%alias  %alias_magic  %autoawait  %autocall  %automagic  %autosave  %bookmark  %cd  %clear  %cls  %colors  %conda  %config  %connect_info  %copy  %ddir  %debug  %dhist  %dirs  %doctest_mode  %echo  %ed  %edit  %env  %gui  %hist  %history  %killbgscripts  %ldir  %less  %load  %load_ext  %loadpy  %logoff  %logon  %logstart  %logstate  %logstop  %lprun  %ls  %lsmagic  %macro  %magic  %matplotlib  %mkdir  %more  %notebook  %page  %pastebin  %pdb  %pdef  %pdoc  %pfile  %pinfo  %pinfo2  %pip  %popd  %pprint  %precision  %prun  %psearch  %psource  %pushd  %pwd  %pycat  %pylab  %qtconsole  %quickref  %recall  %rehashx  %reload_ext  %ren  %rep  %rerun  %reset  %reset_selective  %rmdir  %run  %save  %sc  %set_env  %store  %sx  %system  %tb  %time  %timeit  %unalias  %unload_ext  %who  %who_ls  %whos  %xdel  %xmode\n",
       "\n",
       "Available cell magics:\n",
       "%%!  %%HTML  %%SVG  %%bash  %%capture  %%cmd  %%debug  %%file  %%html  %%javascript  %%js  %%latex  %%markdown  %%perl  %%prun  %%pypy  %%python  %%python2  %%python3  %%ruby  %%script  %%sh  %%svg  %%sx  %%system  %%time  %%timeit  %%writefile\n",
       "\n",
       "Automagic is ON, % prefix IS NOT needed for line magics."
      ]
     },
     "execution_count": 43,
     "metadata": {},
     "output_type": "execute_result"
    }
   ],
   "source": [
    "%lsmagic\n"
   ]
  },
  {
   "cell_type": "code",
   "execution_count": 42,
   "metadata": {},
   "outputs": [],
   "source": [
    "?arr1.add"
   ]
  },
  {
   "cell_type": "code",
   "execution_count": 156,
   "metadata": {
    "scrolled": true
   },
   "outputs": [
    {
     "data": {
      "text/html": [
       "<div>\n",
       "<style scoped>\n",
       "    .dataframe tbody tr th:only-of-type {\n",
       "        vertical-align: middle;\n",
       "    }\n",
       "\n",
       "    .dataframe tbody tr th {\n",
       "        vertical-align: top;\n",
       "    }\n",
       "\n",
       "    .dataframe thead th {\n",
       "        text-align: right;\n",
       "    }\n",
       "</style>\n",
       "<table border=\"1\" class=\"dataframe\">\n",
       "  <thead>\n",
       "    <tr style=\"text-align: right;\">\n",
       "      <th></th>\n",
       "      <th>a</th>\n",
       "      <th>b</th>\n",
       "      <th>c</th>\n",
       "    </tr>\n",
       "  </thead>\n",
       "  <tbody>\n",
       "    <tr>\n",
       "      <th>0</th>\n",
       "      <td>0.029219</td>\n",
       "      <td>-2.903424</td>\n",
       "      <td>-0.500705</td>\n",
       "    </tr>\n",
       "    <tr>\n",
       "      <th>1</th>\n",
       "      <td>-0.581401</td>\n",
       "      <td>-0.691049</td>\n",
       "      <td>0.618647</td>\n",
       "    </tr>\n",
       "    <tr>\n",
       "      <th>2</th>\n",
       "      <td>1.048681</td>\n",
       "      <td>-1.142982</td>\n",
       "      <td>0.863099</td>\n",
       "    </tr>\n",
       "    <tr>\n",
       "      <th>3</th>\n",
       "      <td>-0.674633</td>\n",
       "      <td>0.932612</td>\n",
       "      <td>-0.234586</td>\n",
       "    </tr>\n",
       "    <tr>\n",
       "      <th>4</th>\n",
       "      <td>-0.226700</td>\n",
       "      <td>0.619903</td>\n",
       "      <td>0.233450</td>\n",
       "    </tr>\n",
       "  </tbody>\n",
       "</table>\n",
       "</div>"
      ],
      "text/plain": [
       "          a         b         c\n",
       "0  0.029219 -2.903424 -0.500705\n",
       "1 -0.581401 -0.691049  0.618647\n",
       "2  1.048681 -1.142982  0.863099\n",
       "3 -0.674633  0.932612 -0.234586\n",
       "4 -0.226700  0.619903  0.233450"
      ]
     },
     "execution_count": 156,
     "metadata": {},
     "output_type": "execute_result"
    }
   ],
   "source": [
    "df = pd.DataFrame(np.random.normal(size=(1000, 3)),\n",
    "                                columns=['a', 'b', 'c'])\n",
    "df.head()"
   ]
  },
  {
   "cell_type": "code",
   "execution_count": 127,
   "metadata": {
    "scrolled": true
   },
   "outputs": [
    {
     "data": {
      "image/png": "[encoded data removed]",
      "text/plain": [
       "<Figure size 432x288 with 1 Axes>"
      ]
     },
     "metadata": {
      "needs_background": "light"
     },
     "output_type": "display_data"
    }
   ],
   "source": [
    "df.b.plot(kind='hist', logy=True, grid=True);"
   ]
  },
  {
   "cell_type": "code",
   "execution_count": 51,
   "metadata": {},
   "outputs": [
    {
     "data": {
      "text/plain": [
       "Timestamp('2015-06-15 04:00:48')"
      ]
     },
     "execution_count": 51,
     "metadata": {},
     "output_type": "execute_result"
    }
   ],
   "source": [
    "pd.to_datetime(1434340848, unit='s')"
   ]
  },
  {
   "cell_type": "code",
   "execution_count": 81,
   "metadata": {},
   "outputs": [
    {
     "data": {
      "text/plain": [
       "31   -0.573576\n",
       "35    0.318506\n",
       "88    0.095291\n",
       "Name: c, dtype: float64"
      ]
     },
     "execution_count": 81,
     "metadata": {},
     "output_type": "execute_result"
    }
   ],
   "source": [
    "df.loc[(df.a < -1) & (df.b > 1), 'c']"
   ]
  },
  {
   "cell_type": "code",
   "execution_count": 105,
   "metadata": {},
   "outputs": [],
   "source": [
    "import scipy"
   ]
  },
  {
   "cell_type": "code",
   "execution_count": 132,
   "metadata": {
    "scrolled": true
   },
   "outputs": [
    {
     "data": {
      "text/plain": [
       "(0.9995960593223572, 0.8290085792541504)"
      ]
     },
     "execution_count": 132,
     "metadata": {},
     "output_type": "execute_result"
    }
   ],
   "source": [
    "scipy.stats.shapiro(df)"
   ]
  },
  {
   "cell_type": "code",
   "execution_count": 131,
   "metadata": {},
   "outputs": [
    {
     "data": {
      "text/plain": [
       "NormaltestResult(statistic=array([4.10452135, 0.76544463, 1.78599902]), pvalue=array([0.1284442 , 0.68200226, 0.40942583]))"
      ]
     },
     "execution_count": 131,
     "metadata": {},
     "output_type": "execute_result"
    }
   ],
   "source": [
    "scipy.stats.normaltest(df)"
   ]
  },
  {
   "cell_type": "code",
   "execution_count": 172,
   "metadata": {},
   "outputs": [
    {
     "data": {
      "text/plain": [
       "Ttest_indResult(statistic=-0.00378764875375555, pvalue=0.9969786577148051)"
      ]
     },
     "execution_count": 172,
     "metadata": {},
     "output_type": "execute_result"
    }
   ],
   "source": [
    "scipy.stats.ttest_ind(df.a[:500], df.a[500:])"
   ]
  },
  {
   "cell_type": "code",
   "execution_count": 194,
   "metadata": {},
   "outputs": [
    {
     "data": {
      "text/html": [
       "<div>\n",
       "<style scoped>\n",
       "    .dataframe tbody tr th:only-of-type {\n",
       "        vertical-align: middle;\n",
       "    }\n",
       "\n",
       "    .dataframe tbody tr th {\n",
       "        vertical-align: top;\n",
       "    }\n",
       "\n",
       "    .dataframe thead th {\n",
       "        text-align: right;\n",
       "    }\n",
       "</style>\n",
       "<table border=\"1\" class=\"dataframe\">\n",
       "  <thead>\n",
       "    <tr style=\"text-align: right;\">\n",
       "      <th></th>\n",
       "      <th>a</th>\n",
       "      <th>b</th>\n",
       "      <th>c</th>\n",
       "      <th>d</th>\n",
       "    </tr>\n",
       "  </thead>\n",
       "  <tbody>\n",
       "    <tr>\n",
       "      <th>0</th>\n",
       "      <td>0.029219</td>\n",
       "      <td>-2.903424</td>\n",
       "      <td>-0.500705</td>\n",
       "      <td>0.319561</td>\n",
       "    </tr>\n",
       "    <tr>\n",
       "      <th>1</th>\n",
       "      <td>-0.581401</td>\n",
       "      <td>-0.691049</td>\n",
       "      <td>0.618647</td>\n",
       "      <td>-0.512296</td>\n",
       "    </tr>\n",
       "    <tr>\n",
       "      <th>2</th>\n",
       "      <td>1.048681</td>\n",
       "      <td>-1.142982</td>\n",
       "      <td>0.863099</td>\n",
       "      <td>1.162979</td>\n",
       "    </tr>\n",
       "    <tr>\n",
       "      <th>3</th>\n",
       "      <td>-0.674633</td>\n",
       "      <td>0.932612</td>\n",
       "      <td>-0.234586</td>\n",
       "      <td>-0.581372</td>\n",
       "    </tr>\n",
       "    <tr>\n",
       "      <th>4</th>\n",
       "      <td>-0.226700</td>\n",
       "      <td>0.619903</td>\n",
       "      <td>0.233450</td>\n",
       "      <td>-0.164710</td>\n",
       "    </tr>\n",
       "    <tr>\n",
       "      <th>...</th>\n",
       "      <td>...</td>\n",
       "      <td>...</td>\n",
       "      <td>...</td>\n",
       "      <td>...</td>\n",
       "    </tr>\n",
       "    <tr>\n",
       "      <th>995</th>\n",
       "      <td>-0.810591</td>\n",
       "      <td>-1.918957</td>\n",
       "      <td>0.458101</td>\n",
       "      <td>-0.618696</td>\n",
       "    </tr>\n",
       "    <tr>\n",
       "      <th>996</th>\n",
       "      <td>0.230917</td>\n",
       "      <td>1.234558</td>\n",
       "      <td>-1.935713</td>\n",
       "      <td>0.354372</td>\n",
       "    </tr>\n",
       "    <tr>\n",
       "      <th>997</th>\n",
       "      <td>-0.606310</td>\n",
       "      <td>-2.342535</td>\n",
       "      <td>-0.613960</td>\n",
       "      <td>-0.372057</td>\n",
       "    </tr>\n",
       "    <tr>\n",
       "      <th>998</th>\n",
       "      <td>0.238668</td>\n",
       "      <td>0.246697</td>\n",
       "      <td>-0.116900</td>\n",
       "      <td>0.263338</td>\n",
       "    </tr>\n",
       "    <tr>\n",
       "      <th>999</th>\n",
       "      <td>-0.741109</td>\n",
       "      <td>1.206009</td>\n",
       "      <td>-0.391324</td>\n",
       "      <td>-0.620508</td>\n",
       "    </tr>\n",
       "  </tbody>\n",
       "</table>\n",
       "<p>1000 rows × 4 columns</p>\n",
       "</div>"
      ],
      "text/plain": [
       "            a         b         c         d\n",
       "0    0.029219 -2.903424 -0.500705  0.319561\n",
       "1   -0.581401 -0.691049  0.618647 -0.512296\n",
       "2    1.048681 -1.142982  0.863099  1.162979\n",
       "3   -0.674633  0.932612 -0.234586 -0.581372\n",
       "4   -0.226700  0.619903  0.233450 -0.164710\n",
       "..        ...       ...       ...       ...\n",
       "995 -0.810591 -1.918957  0.458101 -0.618696\n",
       "996  0.230917  1.234558 -1.935713  0.354372\n",
       "997 -0.606310 -2.342535 -0.613960 -0.372057\n",
       "998  0.238668  0.246697 -0.116900  0.263338\n",
       "999 -0.741109  1.206009 -0.391324 -0.620508\n",
       "\n",
       "[1000 rows x 4 columns]"
      ]
     },
     "execution_count": 194,
     "metadata": {},
     "output_type": "execute_result"
    }
   ],
   "source": [
    "df['d'] = df.a + 0.1 * abs(df.b)\n",
    "df"
   ]
  },
  {
   "cell_type": "code",
   "execution_count": 195,
   "metadata": {
    "scrolled": true
   },
   "outputs": [
    {
     "data": {
      "text/plain": [
       "Ttest_relResult(statistic=-41.670442565038016, pvalue=9.760891545699535e-221)"
      ]
     },
     "execution_count": 195,
     "metadata": {},
     "output_type": "execute_result"
    }
   ],
   "source": [
    "scipy.stats.ttest_rel(df['a'], df['d'])"
   ]
  },
  {
   "cell_type": "code",
   "execution_count": 198,
   "metadata": {
    "scrolled": true
   },
   "outputs": [
    {
     "data": {
      "text/plain": [
       "array([[[-3., -3., -3., -3., -3., -3., -3.],\n",
       "        [-2., -2., -2., -2., -2., -2., -2.],\n",
       "        [-1., -1., -1., -1., -1., -1., -1.],\n",
       "        [ 0.,  0.,  0.,  0.,  0.,  0.,  0.],\n",
       "        [ 1.,  1.,  1.,  1.,  1.,  1.,  1.],\n",
       "        [ 2.,  2.,  2.,  2.,  2.,  2.,  2.],\n",
       "        [ 3.,  3.,  3.,  3.,  3.,  3.,  3.]],\n",
       "\n",
       "       [[-3., -2., -1.,  0.,  1.,  2.,  3.],\n",
       "        [-3., -2., -1.,  0.,  1.,  2.,  3.],\n",
       "        [-3., -2., -1.,  0.,  1.,  2.,  3.],\n",
       "        [-3., -2., -1.,  0.,  1.,  2.,  3.],\n",
       "        [-3., -2., -1.,  0.,  1.,  2.,  3.],\n",
       "        [-3., -2., -1.,  0.,  1.,  2.,  3.],\n",
       "        [-3., -2., -1.,  0.,  1.,  2.,  3.]]])"
      ]
     },
     "execution_count": 198,
     "metadata": {},
     "output_type": "execute_result"
    }
   ],
   "source": [
    "np.mgrid[-3:3:7j, -3:3:7j]"
   ]
  },
  {
   "cell_type": "code",
   "execution_count": 205,
   "metadata": {
    "scrolled": true
   },
   "outputs": [
    {
     "data": {
      "text/plain": [
       "array([[0, 1, 2],\n",
       "       [3, 4, 5]])"
      ]
     },
     "execution_count": 205,
     "metadata": {},
     "output_type": "execute_result"
    }
   ],
   "source": [
    "arr = np.arange(6)\n",
    "arr.resize(2, 3)\n",
    "arr"
   ]
  },
  {
   "cell_type": "code",
   "execution_count": 206,
   "metadata": {},
   "outputs": [
    {
     "data": {
      "text/html": [
       "<div>\n",
       "<style scoped>\n",
       "    .dataframe tbody tr th:only-of-type {\n",
       "        vertical-align: middle;\n",
       "    }\n",
       "\n",
       "    .dataframe tbody tr th {\n",
       "        vertical-align: top;\n",
       "    }\n",
       "\n",
       "    .dataframe thead th {\n",
       "        text-align: right;\n",
       "    }\n",
       "</style>\n",
       "<table border=\"1\" class=\"dataframe\">\n",
       "  <thead>\n",
       "    <tr style=\"text-align: right;\">\n",
       "      <th></th>\n",
       "      <th>a</th>\n",
       "      <th>b</th>\n",
       "      <th>c</th>\n",
       "      <th>d</th>\n",
       "      <th>e</th>\n",
       "    </tr>\n",
       "  </thead>\n",
       "  <tbody>\n",
       "    <tr>\n",
       "      <th>0</th>\n",
       "      <td>0.029219</td>\n",
       "      <td>-2.903424</td>\n",
       "      <td>-0.500705</td>\n",
       "      <td>0.319561</td>\n",
       "      <td>inf</td>\n",
       "    </tr>\n",
       "    <tr>\n",
       "      <th>1</th>\n",
       "      <td>-0.581401</td>\n",
       "      <td>-0.691049</td>\n",
       "      <td>0.618647</td>\n",
       "      <td>-0.512296</td>\n",
       "      <td>-inf</td>\n",
       "    </tr>\n",
       "    <tr>\n",
       "      <th>2</th>\n",
       "      <td>1.048681</td>\n",
       "      <td>-1.142982</td>\n",
       "      <td>0.863099</td>\n",
       "      <td>1.162979</td>\n",
       "      <td>inf</td>\n",
       "    </tr>\n",
       "    <tr>\n",
       "      <th>3</th>\n",
       "      <td>-0.674633</td>\n",
       "      <td>0.932612</td>\n",
       "      <td>-0.234586</td>\n",
       "      <td>-0.581372</td>\n",
       "      <td>-inf</td>\n",
       "    </tr>\n",
       "    <tr>\n",
       "      <th>4</th>\n",
       "      <td>-0.226700</td>\n",
       "      <td>0.619903</td>\n",
       "      <td>0.233450</td>\n",
       "      <td>-0.164710</td>\n",
       "      <td>-inf</td>\n",
       "    </tr>\n",
       "    <tr>\n",
       "      <th>...</th>\n",
       "      <td>...</td>\n",
       "      <td>...</td>\n",
       "      <td>...</td>\n",
       "      <td>...</td>\n",
       "      <td>...</td>\n",
       "    </tr>\n",
       "    <tr>\n",
       "      <th>995</th>\n",
       "      <td>-0.810591</td>\n",
       "      <td>-1.918957</td>\n",
       "      <td>0.458101</td>\n",
       "      <td>-0.618696</td>\n",
       "      <td>-inf</td>\n",
       "    </tr>\n",
       "    <tr>\n",
       "      <th>996</th>\n",
       "      <td>0.230917</td>\n",
       "      <td>1.234558</td>\n",
       "      <td>-1.935713</td>\n",
       "      <td>0.354372</td>\n",
       "      <td>inf</td>\n",
       "    </tr>\n",
       "    <tr>\n",
       "      <th>997</th>\n",
       "      <td>-0.606310</td>\n",
       "      <td>-2.342535</td>\n",
       "      <td>-0.613960</td>\n",
       "      <td>-0.372057</td>\n",
       "      <td>-inf</td>\n",
       "    </tr>\n",
       "    <tr>\n",
       "      <th>998</th>\n",
       "      <td>0.238668</td>\n",
       "      <td>0.246697</td>\n",
       "      <td>-0.116900</td>\n",
       "      <td>0.263338</td>\n",
       "      <td>inf</td>\n",
       "    </tr>\n",
       "    <tr>\n",
       "      <th>999</th>\n",
       "      <td>-0.741109</td>\n",
       "      <td>1.206009</td>\n",
       "      <td>-0.391324</td>\n",
       "      <td>-0.620508</td>\n",
       "      <td>-inf</td>\n",
       "    </tr>\n",
       "  </tbody>\n",
       "</table>\n",
       "<p>1000 rows × 5 columns</p>\n",
       "</div>"
      ],
      "text/plain": [
       "            a         b         c         d    e\n",
       "0    0.029219 -2.903424 -0.500705  0.319561  inf\n",
       "1   -0.581401 -0.691049  0.618647 -0.512296 -inf\n",
       "2    1.048681 -1.142982  0.863099  1.162979  inf\n",
       "3   -0.674633  0.932612 -0.234586 -0.581372 -inf\n",
       "4   -0.226700  0.619903  0.233450 -0.164710 -inf\n",
       "..        ...       ...       ...       ...  ...\n",
       "995 -0.810591 -1.918957  0.458101 -0.618696 -inf\n",
       "996  0.230917  1.234558 -1.935713  0.354372  inf\n",
       "997 -0.606310 -2.342535 -0.613960 -0.372057 -inf\n",
       "998  0.238668  0.246697 -0.116900  0.263338  inf\n",
       "999 -0.741109  1.206009 -0.391324 -0.620508 -inf\n",
       "\n",
       "[1000 rows x 5 columns]"
      ]
     },
     "execution_count": 206,
     "metadata": {},
     "output_type": "execute_result"
    }
   ],
   "source": [
    "df['e'] = df['d'] / 0\n",
    "df"
   ]
  },
  {
   "cell_type": "code",
   "execution_count": 211,
   "metadata": {},
   "outputs": [
    {
     "data": {
      "text/plain": [
       "array([8, 3, 0, 5, 1, 6, 5, 3, 6, 6, 3, 0, 7, 2, 6, 7, 1, 7, 0, 7, 2, 7,\n",
       "       1, 2, 3, 8, 3, 3, 1, 0, 0, 1, 4, 3, 8, 9, 9, 6, 5, 8, 6, 0, 8, 0,\n",
       "       8, 2, 9, 6, 0, 0, 6, 3, 4, 8, 2, 2, 4, 5, 3, 2, 9, 5, 7, 0, 4, 7,\n",
       "       9, 6, 0, 9, 8, 2, 3, 8, 2, 1, 1, 4, 9, 5, 7, 1, 5, 7, 5, 7, 2, 0,\n",
       "       8, 1, 7, 6, 6, 5, 2, 0, 1, 0, 9, 5])"
      ]
     },
     "execution_count": 211,
     "metadata": {},
     "output_type": "execute_result"
    }
   ],
   "source": [
    "np.random.randint(0, 10, size=100)"
   ]
  },
  {
   "cell_type": "code",
   "execution_count": null,
   "metadata": {},
   "outputs": [],
   "source": []
  },
  {
   "cell_type": "code",
   "execution_count": 7,
   "metadata": {},
   "outputs": [
    {
     "name": "stderr",
     "output_type": "stream",
     "text": [
      "Processing g: 100%|██████████████████████████████████████████████████████████████████████| 7/7 [00:05<00:00,  1.38it/s]\n"
     ]
    }
   ],
   "source": [
    "from tqdm import tqdm\n",
    "import time\n",
    "\n",
    "pbar = tqdm([\"a\",\"b\",\"c\",\"d\", \"e\", \"f\", \"g\"])\n",
    "for c in pbar:\n",
    "    if c == 'c':\n",
    "        time.sleep(1.5)\n",
    "    time.sleep(0.5)\n",
    "    pbar.set_description(\"Processing %s\"%c)"
   ]
  },
  {
   "cell_type": "code",
   "execution_count": 4,
   "metadata": {},
   "outputs": [
    {
     "data": {
      "application/vnd.jupyter.widget-view+json": {
       "model_id": "01224268554f4b35bedd282d4b8177cf",
       "version_major": 2,
       "version_minor": 0
      },
      "text/plain": [
       "HBox(children=(FloatProgress(value=0.0), HTML(value='')))"
      ]
     },
     "metadata": {},
     "output_type": "display_data"
    },
    {
     "name": "stdout",
     "output_type": "stream",
     "text": [
      "\n"
     ]
    }
   ],
   "source": [
    "from tqdm.notebook import tqdm\n",
    "import time\n",
    "\n",
    "#totalParameter установка общей длины индикатора выполнения\n",
    "with tqdm(total=100) as pbar:\n",
    "  for i in range(100):\n",
    "    time.sleep(0.05)\n",
    "    # Обновлять длину индикатора выполнения каждый раз\n",
    "    pbar.update(1)"
   ]
  },
  {
   "cell_type": "code",
   "execution_count": 2,
   "metadata": {},
   "outputs": [
    {
     "name": "stderr",
     "output_type": "stream",
     "text": [
      "C:\\ProgramData\\Anaconda3\\lib\\site-packages\\tqdm\\std.py:658: FutureWarning: The Panel class is removed from pandas. Accessing it from the top-level namespace will also be removed in the next version\n",
      "  from pandas import Panel\n"
     ]
    },
    {
     "data": {
      "application/vnd.jupyter.widget-view+json": {
       "model_id": "d9cd71d58082483d88623385e5c8b9b2",
       "version_major": 2,
       "version_minor": 0
      },
      "text/plain": [
       "HBox(children=(FloatProgress(value=0.0, max=6.0), HTML(value='')))"
      ]
     },
     "metadata": {},
     "output_type": "display_data"
    },
    {
     "name": "stdout",
     "output_type": "stream",
     "text": [
      "\n"
     ]
    },
    {
     "data": {
      "text/html": [
       "<div>\n",
       "<style scoped>\n",
       "    .dataframe tbody tr th:only-of-type {\n",
       "        vertical-align: middle;\n",
       "    }\n",
       "\n",
       "    .dataframe tbody tr th {\n",
       "        vertical-align: top;\n",
       "    }\n",
       "\n",
       "    .dataframe thead th {\n",
       "        text-align: right;\n",
       "    }\n",
       "</style>\n",
       "<table border=\"1\" class=\"dataframe\">\n",
       "  <thead>\n",
       "    <tr style=\"text-align: right;\">\n",
       "      <th></th>\n",
       "      <th>0</th>\n",
       "      <th>1</th>\n",
       "      <th>2</th>\n",
       "      <th>3</th>\n",
       "      <th>4</th>\n",
       "      <th>5</th>\n",
       "    </tr>\n",
       "  </thead>\n",
       "  <tbody>\n",
       "    <tr>\n",
       "      <th>0</th>\n",
       "      <td>6561</td>\n",
       "      <td>6561</td>\n",
       "      <td>961</td>\n",
       "      <td>5041</td>\n",
       "      <td>64</td>\n",
       "      <td>2500</td>\n",
       "    </tr>\n",
       "    <tr>\n",
       "      <th>1</th>\n",
       "      <td>4624</td>\n",
       "      <td>7225</td>\n",
       "      <td>4</td>\n",
       "      <td>1156</td>\n",
       "      <td>7396</td>\n",
       "      <td>1024</td>\n",
       "    </tr>\n",
       "    <tr>\n",
       "      <th>2</th>\n",
       "      <td>1296</td>\n",
       "      <td>7744</td>\n",
       "      <td>5184</td>\n",
       "      <td>0</td>\n",
       "      <td>2304</td>\n",
       "      <td>8464</td>\n",
       "    </tr>\n",
       "    <tr>\n",
       "      <th>3</th>\n",
       "      <td>5929</td>\n",
       "      <td>5776</td>\n",
       "      <td>1849</td>\n",
       "      <td>7225</td>\n",
       "      <td>8464</td>\n",
       "      <td>1225</td>\n",
       "    </tr>\n",
       "    <tr>\n",
       "      <th>4</th>\n",
       "      <td>9</td>\n",
       "      <td>6561</td>\n",
       "      <td>49</td>\n",
       "      <td>8100</td>\n",
       "      <td>441</td>\n",
       "      <td>121</td>\n",
       "    </tr>\n",
       "    <tr>\n",
       "      <th>...</th>\n",
       "      <td>...</td>\n",
       "      <td>...</td>\n",
       "      <td>...</td>\n",
       "      <td>...</td>\n",
       "      <td>...</td>\n",
       "      <td>...</td>\n",
       "    </tr>\n",
       "    <tr>\n",
       "      <th>9999995</th>\n",
       "      <td>7921</td>\n",
       "      <td>36</td>\n",
       "      <td>100</td>\n",
       "      <td>676</td>\n",
       "      <td>441</td>\n",
       "      <td>3844</td>\n",
       "    </tr>\n",
       "    <tr>\n",
       "      <th>9999996</th>\n",
       "      <td>9216</td>\n",
       "      <td>7056</td>\n",
       "      <td>5184</td>\n",
       "      <td>441</td>\n",
       "      <td>2500</td>\n",
       "      <td>484</td>\n",
       "    </tr>\n",
       "    <tr>\n",
       "      <th>9999997</th>\n",
       "      <td>4356</td>\n",
       "      <td>256</td>\n",
       "      <td>196</td>\n",
       "      <td>2916</td>\n",
       "      <td>4356</td>\n",
       "      <td>0</td>\n",
       "    </tr>\n",
       "    <tr>\n",
       "      <th>9999998</th>\n",
       "      <td>361</td>\n",
       "      <td>2025</td>\n",
       "      <td>324</td>\n",
       "      <td>36</td>\n",
       "      <td>4096</td>\n",
       "      <td>9604</td>\n",
       "    </tr>\n",
       "    <tr>\n",
       "      <th>9999999</th>\n",
       "      <td>2116</td>\n",
       "      <td>900</td>\n",
       "      <td>4624</td>\n",
       "      <td>8649</td>\n",
       "      <td>196</td>\n",
       "      <td>1521</td>\n",
       "    </tr>\n",
       "  </tbody>\n",
       "</table>\n",
       "<p>10000000 rows × 6 columns</p>\n",
       "</div>"
      ],
      "text/plain": [
       "            0     1     2     3     4     5\n",
       "0        6561  6561   961  5041    64  2500\n",
       "1        4624  7225     4  1156  7396  1024\n",
       "2        1296  7744  5184     0  2304  8464\n",
       "3        5929  5776  1849  7225  8464  1225\n",
       "4           9  6561    49  8100   441   121\n",
       "...       ...   ...   ...   ...   ...   ...\n",
       "9999995  7921    36   100   676   441  3844\n",
       "9999996  9216  7056  5184   441  2500   484\n",
       "9999997  4356   256   196  2916  4356     0\n",
       "9999998   361  2025   324    36  4096  9604\n",
       "9999999  2116   900  4624  8649   196  1521\n",
       "\n",
       "[10000000 rows x 6 columns]"
      ]
     },
     "execution_count": 2,
     "metadata": {},
     "output_type": "execute_result"
    }
   ],
   "source": [
    "import pandas as pd\n",
    "import numpy as np\n",
    "from tqdm.notebook import tqdm\n",
    "\n",
    "df = pd.DataFrame(np.random.randint(0, 100, (10000000, 6)))\n",
    "\n",
    "# Register `pandas.progress_apply` and `pandas.Series.map_apply` with `tqdm`\n",
    "# (can use `tqdm.gui.tqdm`, `tqdm.notebook.tqdm`, optional kwargs, etc.)\n",
    "# tqdm.pandas(desc=\"my bar!\")\n",
    "tqdm.pandas()\n",
    "\n",
    "# Now you can use `progress_apply` instead of `apply`\n",
    "# and `progress_map` instead of `map`\n",
    "df.progress_apply(lambda x: x**2)\n",
    "# can also groupby:\n",
    "# df.groupby(0).progress_apply(lambda x: x**2)"
   ]
  },
  {
   "cell_type": "code",
   "execution_count": 3,
   "metadata": {},
   "outputs": [
    {
     "data": {
      "application/vnd.jupyter.widget-view+json": {
       "model_id": "e76e367721ee406ebe7a09888a89e3d1",
       "version_major": 2,
       "version_minor": 0
      },
      "text/plain": [
       "HBox(children=(FloatProgress(value=0.0, description='1st loop', max=3.0, style=ProgressStyle(description_width…"
      ]
     },
     "metadata": {},
     "output_type": "display_data"
    },
    {
     "data": {
      "application/vnd.jupyter.widget-view+json": {
       "model_id": "248bf646787f48b991d2272a7e6f9176",
       "version_major": 2,
       "version_minor": 0
      },
      "text/plain": [
       "HBox(children=(FloatProgress(value=0.0, description='2nd loop', style=ProgressStyle(description_width='initial…"
      ]
     },
     "metadata": {},
     "output_type": "display_data"
    },
    {
     "name": "stdout",
     "output_type": "stream",
     "text": [
      "\n"
     ]
    },
    {
     "data": {
      "application/vnd.jupyter.widget-view+json": {
       "model_id": "fcb0a0c9b4bc4c60b3aa69eb3db2316d",
       "version_major": 2,
       "version_minor": 0
      },
      "text/plain": [
       "HBox(children=(FloatProgress(value=0.0, description='2nd loop', style=ProgressStyle(description_width='initial…"
      ]
     },
     "metadata": {},
     "output_type": "display_data"
    },
    {
     "name": "stdout",
     "output_type": "stream",
     "text": [
      "\n"
     ]
    },
    {
     "data": {
      "application/vnd.jupyter.widget-view+json": {
       "model_id": "37cb2391db5e44729398198d32a196dc",
       "version_major": 2,
       "version_minor": 0
      },
      "text/plain": [
       "HBox(children=(FloatProgress(value=0.0, description='2nd loop', style=ProgressStyle(description_width='initial…"
      ]
     },
     "metadata": {},
     "output_type": "display_data"
    },
    {
     "name": "stdout",
     "output_type": "stream",
     "text": [
      "\n",
      "\n"
     ]
    }
   ],
   "source": [
    "from tqdm.notebook import trange, tqdm\n",
    "from time import sleep\n",
    "\n",
    "for i in trange(3, desc='1st loop'):\n",
    "    for j in tqdm(range(100), desc='2nd loop'):\n",
    "        sleep(0.01)"
   ]
  },
  {
   "cell_type": "code",
   "execution_count": null,
   "metadata": {},
   "outputs": [],
   "source": []
  },
  {
   "cell_type": "code",
   "execution_count": 5,
   "metadata": {},
   "outputs": [
    {
     "data": {
      "text/html": [
       "<div>\n",
       "<style scoped>\n",
       "    .dataframe tbody tr th:only-of-type {\n",
       "        vertical-align: middle;\n",
       "    }\n",
       "\n",
       "    .dataframe tbody tr th {\n",
       "        vertical-align: top;\n",
       "    }\n",
       "\n",
       "    .dataframe thead th {\n",
       "        text-align: right;\n",
       "    }\n",
       "</style>\n",
       "<table border=\"1\" class=\"dataframe\">\n",
       "  <thead>\n",
       "    <tr style=\"text-align: right;\">\n",
       "      <th></th>\n",
       "      <th>A</th>\n",
       "      <th>B</th>\n",
       "      <th>C</th>\n",
       "    </tr>\n",
       "  </thead>\n",
       "  <tbody>\n",
       "    <tr>\n",
       "      <th>0</th>\n",
       "      <td>4</td>\n",
       "      <td>1</td>\n",
       "      <td>4</td>\n",
       "    </tr>\n",
       "    <tr>\n",
       "      <th>1</th>\n",
       "      <td>5</td>\n",
       "      <td>1</td>\n",
       "      <td>4</td>\n",
       "    </tr>\n",
       "    <tr>\n",
       "      <th>2</th>\n",
       "      <td>9</td>\n",
       "      <td>7</td>\n",
       "      <td>2</td>\n",
       "    </tr>\n",
       "  </tbody>\n",
       "</table>\n",
       "</div>"
      ],
      "text/plain": [
       "   A  B  C\n",
       "0  4  1  4\n",
       "1  5  1  4\n",
       "2  9  7  2"
      ]
     },
     "execution_count": 5,
     "metadata": {},
     "output_type": "execute_result"
    }
   ],
   "source": [
    "pd.DataFrame(np.random.randint(0, 11, (3, 3)), columns=list('ABC'))"
   ]
  },
  {
   "cell_type": "code",
   "execution_count": null,
   "metadata": {},
   "outputs": [],
   "source": []
  },
  {
   "cell_type": "code",
   "execution_count": 14,
   "metadata": {
    "scrolled": true
   },
   "outputs": [
    {
     "data": {
      "text/html": [
       "<div>\n",
       "<style scoped>\n",
       "    .dataframe tbody tr th:only-of-type {\n",
       "        vertical-align: middle;\n",
       "    }\n",
       "\n",
       "    .dataframe tbody tr th {\n",
       "        vertical-align: top;\n",
       "    }\n",
       "\n",
       "    .dataframe thead th {\n",
       "        text-align: right;\n",
       "    }\n",
       "</style>\n",
       "<table border=\"1\" class=\"dataframe\">\n",
       "  <thead>\n",
       "    <tr style=\"text-align: right;\">\n",
       "      <th></th>\n",
       "      <th>gender</th>\n",
       "      <th>math_score</th>\n",
       "    </tr>\n",
       "  </thead>\n",
       "  <tbody>\n",
       "    <tr>\n",
       "      <th>0</th>\n",
       "      <td>f</td>\n",
       "      <td>61</td>\n",
       "    </tr>\n",
       "    <tr>\n",
       "      <th>1</th>\n",
       "      <td>f</td>\n",
       "      <td>63</td>\n",
       "    </tr>\n",
       "    <tr>\n",
       "      <th>2</th>\n",
       "      <td>f</td>\n",
       "      <td>52</td>\n",
       "    </tr>\n",
       "    <tr>\n",
       "      <th>3</th>\n",
       "      <td>f</td>\n",
       "      <td>67</td>\n",
       "    </tr>\n",
       "    <tr>\n",
       "      <th>4</th>\n",
       "      <td>m</td>\n",
       "      <td>92</td>\n",
       "    </tr>\n",
       "    <tr>\n",
       "      <th>5</th>\n",
       "      <td>m</td>\n",
       "      <td>19</td>\n",
       "    </tr>\n",
       "    <tr>\n",
       "      <th>6</th>\n",
       "      <td>m</td>\n",
       "      <td>74</td>\n",
       "    </tr>\n",
       "    <tr>\n",
       "      <th>7</th>\n",
       "      <td>f</td>\n",
       "      <td>3</td>\n",
       "    </tr>\n",
       "    <tr>\n",
       "      <th>8</th>\n",
       "      <td>m</td>\n",
       "      <td>98</td>\n",
       "    </tr>\n",
       "    <tr>\n",
       "      <th>9</th>\n",
       "      <td>m</td>\n",
       "      <td>40</td>\n",
       "    </tr>\n",
       "    <tr>\n",
       "      <th>10</th>\n",
       "      <td>f</td>\n",
       "      <td>93</td>\n",
       "    </tr>\n",
       "    <tr>\n",
       "      <th>11</th>\n",
       "      <td>f</td>\n",
       "      <td>85</td>\n",
       "    </tr>\n",
       "    <tr>\n",
       "      <th>12</th>\n",
       "      <td>f</td>\n",
       "      <td>79</td>\n",
       "    </tr>\n",
       "    <tr>\n",
       "      <th>13</th>\n",
       "      <td>m</td>\n",
       "      <td>85</td>\n",
       "    </tr>\n",
       "    <tr>\n",
       "      <th>14</th>\n",
       "      <td>m</td>\n",
       "      <td>21</td>\n",
       "    </tr>\n",
       "    <tr>\n",
       "      <th>15</th>\n",
       "      <td>m</td>\n",
       "      <td>13</td>\n",
       "    </tr>\n",
       "    <tr>\n",
       "      <th>16</th>\n",
       "      <td>m</td>\n",
       "      <td>100</td>\n",
       "    </tr>\n",
       "    <tr>\n",
       "      <th>17</th>\n",
       "      <td>f</td>\n",
       "      <td>66</td>\n",
       "    </tr>\n",
       "    <tr>\n",
       "      <th>18</th>\n",
       "      <td>f</td>\n",
       "      <td>90</td>\n",
       "    </tr>\n",
       "    <tr>\n",
       "      <th>19</th>\n",
       "      <td>f</td>\n",
       "      <td>36</td>\n",
       "    </tr>\n",
       "    <tr>\n",
       "      <th>20</th>\n",
       "      <td>f</td>\n",
       "      <td>89</td>\n",
       "    </tr>\n",
       "    <tr>\n",
       "      <th>21</th>\n",
       "      <td>m</td>\n",
       "      <td>98</td>\n",
       "    </tr>\n",
       "    <tr>\n",
       "      <th>22</th>\n",
       "      <td>m</td>\n",
       "      <td>16</td>\n",
       "    </tr>\n",
       "    <tr>\n",
       "      <th>23</th>\n",
       "      <td>f</td>\n",
       "      <td>20</td>\n",
       "    </tr>\n",
       "    <tr>\n",
       "      <th>24</th>\n",
       "      <td>f</td>\n",
       "      <td>59</td>\n",
       "    </tr>\n",
       "    <tr>\n",
       "      <th>25</th>\n",
       "      <td>m</td>\n",
       "      <td>85</td>\n",
       "    </tr>\n",
       "    <tr>\n",
       "      <th>26</th>\n",
       "      <td>m</td>\n",
       "      <td>94</td>\n",
       "    </tr>\n",
       "    <tr>\n",
       "      <th>27</th>\n",
       "      <td>f</td>\n",
       "      <td>44</td>\n",
       "    </tr>\n",
       "    <tr>\n",
       "      <th>28</th>\n",
       "      <td>f</td>\n",
       "      <td>26</td>\n",
       "    </tr>\n",
       "    <tr>\n",
       "      <th>29</th>\n",
       "      <td>m</td>\n",
       "      <td>76</td>\n",
       "    </tr>\n",
       "    <tr>\n",
       "      <th>30</th>\n",
       "      <td>m</td>\n",
       "      <td>10</td>\n",
       "    </tr>\n",
       "    <tr>\n",
       "      <th>31</th>\n",
       "      <td>m</td>\n",
       "      <td>70</td>\n",
       "    </tr>\n",
       "    <tr>\n",
       "      <th>32</th>\n",
       "      <td>f</td>\n",
       "      <td>7</td>\n",
       "    </tr>\n",
       "    <tr>\n",
       "      <th>33</th>\n",
       "      <td>f</td>\n",
       "      <td>6</td>\n",
       "    </tr>\n",
       "    <tr>\n",
       "      <th>34</th>\n",
       "      <td>m</td>\n",
       "      <td>78</td>\n",
       "    </tr>\n",
       "    <tr>\n",
       "      <th>35</th>\n",
       "      <td>f</td>\n",
       "      <td>0</td>\n",
       "    </tr>\n",
       "    <tr>\n",
       "      <th>36</th>\n",
       "      <td>f</td>\n",
       "      <td>75</td>\n",
       "    </tr>\n",
       "    <tr>\n",
       "      <th>37</th>\n",
       "      <td>f</td>\n",
       "      <td>9</td>\n",
       "    </tr>\n",
       "    <tr>\n",
       "      <th>38</th>\n",
       "      <td>m</td>\n",
       "      <td>68</td>\n",
       "    </tr>\n",
       "    <tr>\n",
       "      <th>39</th>\n",
       "      <td>f</td>\n",
       "      <td>29</td>\n",
       "    </tr>\n",
       "    <tr>\n",
       "      <th>40</th>\n",
       "      <td>m</td>\n",
       "      <td>14</td>\n",
       "    </tr>\n",
       "    <tr>\n",
       "      <th>41</th>\n",
       "      <td>f</td>\n",
       "      <td>0</td>\n",
       "    </tr>\n",
       "    <tr>\n",
       "      <th>42</th>\n",
       "      <td>f</td>\n",
       "      <td>56</td>\n",
       "    </tr>\n",
       "    <tr>\n",
       "      <th>43</th>\n",
       "      <td>f</td>\n",
       "      <td>18</td>\n",
       "    </tr>\n",
       "    <tr>\n",
       "      <th>44</th>\n",
       "      <td>f</td>\n",
       "      <td>97</td>\n",
       "    </tr>\n",
       "    <tr>\n",
       "      <th>45</th>\n",
       "      <td>m</td>\n",
       "      <td>48</td>\n",
       "    </tr>\n",
       "    <tr>\n",
       "      <th>46</th>\n",
       "      <td>m</td>\n",
       "      <td>5</td>\n",
       "    </tr>\n",
       "    <tr>\n",
       "      <th>47</th>\n",
       "      <td>f</td>\n",
       "      <td>3</td>\n",
       "    </tr>\n",
       "    <tr>\n",
       "      <th>48</th>\n",
       "      <td>f</td>\n",
       "      <td>84</td>\n",
       "    </tr>\n",
       "    <tr>\n",
       "      <th>49</th>\n",
       "      <td>f</td>\n",
       "      <td>96</td>\n",
       "    </tr>\n",
       "  </tbody>\n",
       "</table>\n",
       "</div>"
      ],
      "text/plain": [
       "   gender  math_score\n",
       "0       f          61\n",
       "1       f          63\n",
       "2       f          52\n",
       "3       f          67\n",
       "4       m          92\n",
       "5       m          19\n",
       "6       m          74\n",
       "7       f           3\n",
       "8       m          98\n",
       "9       m          40\n",
       "10      f          93\n",
       "11      f          85\n",
       "12      f          79\n",
       "13      m          85\n",
       "14      m          21\n",
       "15      m          13\n",
       "16      m         100\n",
       "17      f          66\n",
       "18      f          90\n",
       "19      f          36\n",
       "20      f          89\n",
       "21      m          98\n",
       "22      m          16\n",
       "23      f          20\n",
       "24      f          59\n",
       "25      m          85\n",
       "26      m          94\n",
       "27      f          44\n",
       "28      f          26\n",
       "29      m          76\n",
       "30      m          10\n",
       "31      m          70\n",
       "32      f           7\n",
       "33      f           6\n",
       "34      m          78\n",
       "35      f           0\n",
       "36      f          75\n",
       "37      f           9\n",
       "38      m          68\n",
       "39      f          29\n",
       "40      m          14\n",
       "41      f           0\n",
       "42      f          56\n",
       "43      f          18\n",
       "44      f          97\n",
       "45      m          48\n",
       "46      m           5\n",
       "47      f           3\n",
       "48      f          84\n",
       "49      f          96"
      ]
     },
     "execution_count": 14,
     "metadata": {},
     "output_type": "execute_result"
    }
   ],
   "source": [
    "df = pd.DataFrame({'gender': np.random.choice(['m', 'f'], size=50), 'math_score': np.random.randint(0, 101, 50)})\n",
    "df"
   ]
  },
  {
   "cell_type": "code",
   "execution_count": 18,
   "metadata": {},
   "outputs": [
    {
     "data": {
      "text/html": [
       "<div>\n",
       "<style scoped>\n",
       "    .dataframe tbody tr th:only-of-type {\n",
       "        vertical-align: middle;\n",
       "    }\n",
       "\n",
       "    .dataframe tbody tr th {\n",
       "        vertical-align: top;\n",
       "    }\n",
       "\n",
       "    .dataframe thead th {\n",
       "        text-align: right;\n",
       "    }\n",
       "</style>\n",
       "<table border=\"1\" class=\"dataframe\">\n",
       "  <thead>\n",
       "    <tr style=\"text-align: right;\">\n",
       "      <th></th>\n",
       "      <th>gender</th>\n",
       "      <th>math_score</th>\n",
       "    </tr>\n",
       "  </thead>\n",
       "  <tbody>\n",
       "    <tr>\n",
       "      <th>44</th>\n",
       "      <td>f</td>\n",
       "      <td>97</td>\n",
       "    </tr>\n",
       "    <tr>\n",
       "      <th>49</th>\n",
       "      <td>f</td>\n",
       "      <td>96</td>\n",
       "    </tr>\n",
       "    <tr>\n",
       "      <th>10</th>\n",
       "      <td>f</td>\n",
       "      <td>93</td>\n",
       "    </tr>\n",
       "    <tr>\n",
       "      <th>18</th>\n",
       "      <td>f</td>\n",
       "      <td>90</td>\n",
       "    </tr>\n",
       "    <tr>\n",
       "      <th>20</th>\n",
       "      <td>f</td>\n",
       "      <td>89</td>\n",
       "    </tr>\n",
       "    <tr>\n",
       "      <th>16</th>\n",
       "      <td>m</td>\n",
       "      <td>100</td>\n",
       "    </tr>\n",
       "    <tr>\n",
       "      <th>8</th>\n",
       "      <td>m</td>\n",
       "      <td>98</td>\n",
       "    </tr>\n",
       "    <tr>\n",
       "      <th>21</th>\n",
       "      <td>m</td>\n",
       "      <td>98</td>\n",
       "    </tr>\n",
       "    <tr>\n",
       "      <th>26</th>\n",
       "      <td>m</td>\n",
       "      <td>94</td>\n",
       "    </tr>\n",
       "    <tr>\n",
       "      <th>4</th>\n",
       "      <td>m</td>\n",
       "      <td>92</td>\n",
       "    </tr>\n",
       "  </tbody>\n",
       "</table>\n",
       "</div>"
      ],
      "text/plain": [
       "   gender  math_score\n",
       "44      f          97\n",
       "49      f          96\n",
       "10      f          93\n",
       "18      f          90\n",
       "20      f          89\n",
       "16      m         100\n",
       "8       m          98\n",
       "21      m          98\n",
       "26      m          94\n",
       "4       m          92"
      ]
     },
     "execution_count": 18,
     "metadata": {},
     "output_type": "execute_result"
    }
   ],
   "source": [
    "df.sort_values(['gender','math_score'], ascending=[True, False])\\\n",
    "    .groupby('gender')\\\n",
    "    .head(5)"
   ]
  },
  {
   "cell_type": "code",
   "execution_count": 21,
   "metadata": {},
   "outputs": [
    {
     "data": {
      "text/plain": [
       "800"
      ]
     },
     "execution_count": 21,
     "metadata": {},
     "output_type": "execute_result"
    }
   ],
   "source": [
    "df.values.nbytes"
   ]
  },
  {
   "cell_type": "code",
   "execution_count": null,
   "metadata": {},
   "outputs": [],
   "source": []
  },
  {
   "cell_type": "code",
   "execution_count": 26,
   "metadata": {},
   "outputs": [],
   "source": [
    "np.random.seed(42)"
   ]
  },
  {
   "cell_type": "code",
   "execution_count": 27,
   "metadata": {},
   "outputs": [
    {
     "data": {
      "text/plain": [
       "array([6, 3, 7, 4])"
      ]
     },
     "execution_count": 27,
     "metadata": {},
     "output_type": "execute_result"
    }
   ],
   "source": [
    "np.random.randint(0, 10, 4)"
   ]
  },
  {
   "cell_type": "code",
   "execution_count": 28,
   "metadata": {},
   "outputs": [
    {
     "data": {
      "text/plain": [
       "array([6, 9, 2, 6])"
      ]
     },
     "execution_count": 28,
     "metadata": {},
     "output_type": "execute_result"
    }
   ],
   "source": [
    "np.random.randint(0, 10, 4)"
   ]
  },
  {
   "cell_type": "code",
   "execution_count": 29,
   "metadata": {},
   "outputs": [],
   "source": [
    "np.random.seed(42)"
   ]
  },
  {
   "cell_type": "code",
   "execution_count": 30,
   "metadata": {},
   "outputs": [
    {
     "data": {
      "text/plain": [
       "array([6, 3, 7, 4])"
      ]
     },
     "execution_count": 30,
     "metadata": {},
     "output_type": "execute_result"
    }
   ],
   "source": [
    "np.random.randint(0, 10, 4)"
   ]
  },
  {
   "cell_type": "code",
   "execution_count": 31,
   "metadata": {},
   "outputs": [
    {
     "data": {
      "text/plain": [
       "array([6, 9, 2, 6])"
      ]
     },
     "execution_count": 31,
     "metadata": {},
     "output_type": "execute_result"
    }
   ],
   "source": [
    "np.random.randint(0, 10, 4)"
   ]
  },
  {
   "cell_type": "code",
   "execution_count": 33,
   "metadata": {},
   "outputs": [],
   "source": [
    "rng = np.random.RandomState(42)"
   ]
  },
  {
   "cell_type": "code",
   "execution_count": 34,
   "metadata": {},
   "outputs": [
    {
     "data": {
      "text/plain": [
       "array([6, 3, 7, 4])"
      ]
     },
     "execution_count": 34,
     "metadata": {},
     "output_type": "execute_result"
    }
   ],
   "source": [
    "rng.randint(0, 10, 4)"
   ]
  },
  {
   "cell_type": "code",
   "execution_count": 35,
   "metadata": {},
   "outputs": [
    {
     "data": {
      "text/plain": [
       "array([6, 9, 2, 6])"
      ]
     },
     "execution_count": 35,
     "metadata": {},
     "output_type": "execute_result"
    }
   ],
   "source": [
    "rng.randint(0, 10, 4)"
   ]
  },
  {
   "cell_type": "code",
   "execution_count": 36,
   "metadata": {},
   "outputs": [],
   "source": [
    "rng = np.random.RandomState(42)"
   ]
  },
  {
   "cell_type": "code",
   "execution_count": 37,
   "metadata": {},
   "outputs": [
    {
     "data": {
      "text/plain": [
       "array([6, 3, 7, 4])"
      ]
     },
     "execution_count": 37,
     "metadata": {},
     "output_type": "execute_result"
    }
   ],
   "source": [
    "rng.randint(0, 10, 4)"
   ]
  },
  {
   "cell_type": "code",
   "execution_count": 38,
   "metadata": {},
   "outputs": [
    {
     "data": {
      "text/plain": [
       "array([6, 9, 2, 6])"
      ]
     },
     "execution_count": 38,
     "metadata": {},
     "output_type": "execute_result"
    }
   ],
   "source": [
    "rng.randint(0, 10, 4)"
   ]
  },
  {
   "cell_type": "code",
   "execution_count": null,
   "metadata": {},
   "outputs": [],
   "source": []
  },
  {
   "cell_type": "code",
   "execution_count": 33,
   "metadata": {},
   "outputs": [],
   "source": [
    "df = pd.DataFrame(np.random.randint(0, 100, (10000, 100)))"
   ]
  },
  {
   "cell_type": "code",
   "execution_count": 4,
   "metadata": {},
   "outputs": [],
   "source": [
    "from tqdm import tqdm\n",
    "tqdm.pandas()"
   ]
  },
  {
   "cell_type": "code",
   "execution_count": 35,
   "metadata": {},
   "outputs": [
    {
     "name": "stderr",
     "output_type": "stream",
     "text": [
      "100%|████████████████████████████| 1000000/1000000 [00:04<00:00, 209149.29it/s]\n"
     ]
    },
    {
     "data": {
      "text/html": [
       "<div>\n",
       "<style scoped>\n",
       "    .dataframe tbody tr th:only-of-type {\n",
       "        vertical-align: middle;\n",
       "    }\n",
       "\n",
       "    .dataframe tbody tr th {\n",
       "        vertical-align: top;\n",
       "    }\n",
       "\n",
       "    .dataframe thead th {\n",
       "        text-align: right;\n",
       "    }\n",
       "</style>\n",
       "<table border=\"1\" class=\"dataframe\">\n",
       "  <thead>\n",
       "    <tr style=\"text-align: right;\">\n",
       "      <th></th>\n",
       "      <th>0</th>\n",
       "      <th>1</th>\n",
       "      <th>2</th>\n",
       "      <th>3</th>\n",
       "      <th>4</th>\n",
       "      <th>5</th>\n",
       "      <th>6</th>\n",
       "      <th>7</th>\n",
       "      <th>8</th>\n",
       "      <th>9</th>\n",
       "      <th>...</th>\n",
       "      <th>90</th>\n",
       "      <th>91</th>\n",
       "      <th>92</th>\n",
       "      <th>93</th>\n",
       "      <th>94</th>\n",
       "      <th>95</th>\n",
       "      <th>96</th>\n",
       "      <th>97</th>\n",
       "      <th>98</th>\n",
       "      <th>99</th>\n",
       "    </tr>\n",
       "  </thead>\n",
       "  <tbody>\n",
       "    <tr>\n",
       "      <th>0</th>\n",
       "      <td>0.992873</td>\n",
       "      <td>-0.536573</td>\n",
       "      <td>0.017702</td>\n",
       "      <td>0.670229</td>\n",
       "      <td>0.920026</td>\n",
       "      <td>-0.026551</td>\n",
       "      <td>0.296369</td>\n",
       "      <td>-0.905578</td>\n",
       "      <td>0.412118</td>\n",
       "      <td>-0.966118</td>\n",
       "      <td>...</td>\n",
       "      <td>0.963795</td>\n",
       "      <td>0.893997</td>\n",
       "      <td>0.901788</td>\n",
       "      <td>0.762558</td>\n",
       "      <td>0.999912</td>\n",
       "      <td>-0.544021</td>\n",
       "      <td>-0.245252</td>\n",
       "      <td>0.656987</td>\n",
       "      <td>-0.676772</td>\n",
       "      <td>0.986628</td>\n",
       "    </tr>\n",
       "    <tr>\n",
       "      <th>1</th>\n",
       "      <td>-0.132352</td>\n",
       "      <td>0.017702</td>\n",
       "      <td>-0.750987</td>\n",
       "      <td>-0.993889</td>\n",
       "      <td>-0.756802</td>\n",
       "      <td>0.656987</td>\n",
       "      <td>0.436165</td>\n",
       "      <td>0.551427</td>\n",
       "      <td>-0.993889</td>\n",
       "      <td>-0.916522</td>\n",
       "      <td>...</td>\n",
       "      <td>0.656987</td>\n",
       "      <td>-0.831775</td>\n",
       "      <td>-0.676772</td>\n",
       "      <td>-0.905578</td>\n",
       "      <td>0.989358</td>\n",
       "      <td>-0.428183</td>\n",
       "      <td>0.436165</td>\n",
       "      <td>0.999520</td>\n",
       "      <td>0.412118</td>\n",
       "      <td>0.992873</td>\n",
       "    </tr>\n",
       "    <tr>\n",
       "      <th>2</th>\n",
       "      <td>-0.905578</td>\n",
       "      <td>-0.831775</td>\n",
       "      <td>0.986628</td>\n",
       "      <td>0.395925</td>\n",
       "      <td>0.296369</td>\n",
       "      <td>-0.558789</td>\n",
       "      <td>-0.821818</td>\n",
       "      <td>0.395925</td>\n",
       "      <td>-0.404038</td>\n",
       "      <td>0.762558</td>\n",
       "      <td>...</td>\n",
       "      <td>0.733190</td>\n",
       "      <td>0.826829</td>\n",
       "      <td>0.989358</td>\n",
       "      <td>-0.304811</td>\n",
       "      <td>0.826829</td>\n",
       "      <td>-0.176076</td>\n",
       "      <td>-0.643538</td>\n",
       "      <td>0.968364</td>\n",
       "      <td>0.149877</td>\n",
       "      <td>-0.756802</td>\n",
       "    </tr>\n",
       "    <tr>\n",
       "      <th>3</th>\n",
       "      <td>-0.444113</td>\n",
       "      <td>-0.245252</td>\n",
       "      <td>0.513978</td>\n",
       "      <td>-0.821818</td>\n",
       "      <td>0.745113</td>\n",
       "      <td>0.990607</td>\n",
       "      <td>0.920026</td>\n",
       "      <td>0.566108</td>\n",
       "      <td>0.850904</td>\n",
       "      <td>-0.905578</td>\n",
       "      <td>...</td>\n",
       "      <td>0.105988</td>\n",
       "      <td>0.270906</td>\n",
       "      <td>0.395925</td>\n",
       "      <td>0.983588</td>\n",
       "      <td>-0.923458</td>\n",
       "      <td>-0.158623</td>\n",
       "      <td>0.551427</td>\n",
       "      <td>0.270906</td>\n",
       "      <td>-0.245252</td>\n",
       "      <td>0.826829</td>\n",
       "    </tr>\n",
       "    <tr>\n",
       "      <th>4</th>\n",
       "      <td>0.986628</td>\n",
       "      <td>-0.287903</td>\n",
       "      <td>0.513978</td>\n",
       "      <td>-0.750987</td>\n",
       "      <td>-0.428183</td>\n",
       "      <td>-0.855520</td>\n",
       "      <td>-0.026551</td>\n",
       "      <td>-0.176076</td>\n",
       "      <td>-0.026551</td>\n",
       "      <td>0.656987</td>\n",
       "      <td>...</td>\n",
       "      <td>-0.768255</td>\n",
       "      <td>-0.905578</td>\n",
       "      <td>-0.961397</td>\n",
       "      <td>-0.821818</td>\n",
       "      <td>-0.245252</td>\n",
       "      <td>-0.132352</td>\n",
       "      <td>-0.287903</td>\n",
       "      <td>-0.573382</td>\n",
       "      <td>0.773891</td>\n",
       "      <td>0.860069</td>\n",
       "    </tr>\n",
       "    <tr>\n",
       "      <th>...</th>\n",
       "      <td>...</td>\n",
       "      <td>...</td>\n",
       "      <td>...</td>\n",
       "      <td>...</td>\n",
       "      <td>...</td>\n",
       "      <td>...</td>\n",
       "      <td>...</td>\n",
       "      <td>...</td>\n",
       "      <td>...</td>\n",
       "      <td>...</td>\n",
       "      <td>...</td>\n",
       "      <td>...</td>\n",
       "      <td>...</td>\n",
       "      <td>...</td>\n",
       "      <td>...</td>\n",
       "      <td>...</td>\n",
       "      <td>...</td>\n",
       "      <td>...</td>\n",
       "      <td>...</td>\n",
       "      <td>...</td>\n",
       "      <td>...</td>\n",
       "    </tr>\n",
       "    <tr>\n",
       "      <th>9995</th>\n",
       "      <td>-0.132352</td>\n",
       "      <td>0.149877</td>\n",
       "      <td>0.683262</td>\n",
       "      <td>-0.008851</td>\n",
       "      <td>0.035398</td>\n",
       "      <td>-0.521551</td>\n",
       "      <td>-0.999990</td>\n",
       "      <td>-0.663634</td>\n",
       "      <td>0.990607</td>\n",
       "      <td>0.105988</td>\n",
       "      <td>...</td>\n",
       "      <td>-0.966118</td>\n",
       "      <td>-0.404038</td>\n",
       "      <td>0.650288</td>\n",
       "      <td>0.529083</td>\n",
       "      <td>-0.387782</td>\n",
       "      <td>-0.855520</td>\n",
       "      <td>-0.643538</td>\n",
       "      <td>-0.916522</td>\n",
       "      <td>-0.158623</td>\n",
       "      <td>0.745113</td>\n",
       "    </tr>\n",
       "    <tr>\n",
       "      <th>9996</th>\n",
       "      <td>0.912945</td>\n",
       "      <td>-0.750987</td>\n",
       "      <td>0.412118</td>\n",
       "      <td>0.636738</td>\n",
       "      <td>-0.993889</td>\n",
       "      <td>-0.279415</td>\n",
       "      <td>-0.676772</td>\n",
       "      <td>-0.404038</td>\n",
       "      <td>-0.739181</td>\n",
       "      <td>-0.404038</td>\n",
       "      <td>...</td>\n",
       "      <td>0.893997</td>\n",
       "      <td>-0.245252</td>\n",
       "      <td>-0.114785</td>\n",
       "      <td>-0.629888</td>\n",
       "      <td>-0.026551</td>\n",
       "      <td>-0.544021</td>\n",
       "      <td>-0.831775</td>\n",
       "      <td>-0.846220</td>\n",
       "      <td>0.253823</td>\n",
       "      <td>-0.953753</td>\n",
       "    </tr>\n",
       "    <tr>\n",
       "      <th>9997</th>\n",
       "      <td>-0.916522</td>\n",
       "      <td>-0.988032</td>\n",
       "      <td>-0.663634</td>\n",
       "      <td>-0.831775</td>\n",
       "      <td>0.999520</td>\n",
       "      <td>0.893997</td>\n",
       "      <td>-0.262375</td>\n",
       "      <td>-0.629888</td>\n",
       "      <td>-0.988032</td>\n",
       "      <td>-0.988032</td>\n",
       "      <td>...</td>\n",
       "      <td>0.000000</td>\n",
       "      <td>-0.132352</td>\n",
       "      <td>0.566108</td>\n",
       "      <td>-0.387782</td>\n",
       "      <td>-0.821818</td>\n",
       "      <td>0.920026</td>\n",
       "      <td>-0.663634</td>\n",
       "      <td>-0.750987</td>\n",
       "      <td>0.951055</td>\n",
       "      <td>0.566108</td>\n",
       "    </tr>\n",
       "    <tr>\n",
       "      <th>9998</th>\n",
       "      <td>0.762558</td>\n",
       "      <td>-0.629888</td>\n",
       "      <td>-0.279415</td>\n",
       "      <td>0.017702</td>\n",
       "      <td>-0.676772</td>\n",
       "      <td>-0.132352</td>\n",
       "      <td>0.035398</td>\n",
       "      <td>-0.573382</td>\n",
       "      <td>0.836656</td>\n",
       "      <td>0.841471</td>\n",
       "      <td>...</td>\n",
       "      <td>-0.262375</td>\n",
       "      <td>-0.521551</td>\n",
       "      <td>-0.287903</td>\n",
       "      <td>0.956376</td>\n",
       "      <td>0.893997</td>\n",
       "      <td>0.683262</td>\n",
       "      <td>-0.988032</td>\n",
       "      <td>-0.008851</td>\n",
       "      <td>0.270906</td>\n",
       "      <td>0.745113</td>\n",
       "    </tr>\n",
       "    <tr>\n",
       "      <th>9999</th>\n",
       "      <td>-0.821818</td>\n",
       "      <td>0.990607</td>\n",
       "      <td>-0.999207</td>\n",
       "      <td>-0.779466</td>\n",
       "      <td>-0.991779</td>\n",
       "      <td>-0.114785</td>\n",
       "      <td>0.989358</td>\n",
       "      <td>0.141120</td>\n",
       "      <td>-0.676772</td>\n",
       "      <td>-0.287903</td>\n",
       "      <td>...</td>\n",
       "      <td>0.920026</td>\n",
       "      <td>-0.114785</td>\n",
       "      <td>0.745113</td>\n",
       "      <td>-0.768255</td>\n",
       "      <td>-0.958924</td>\n",
       "      <td>-0.779466</td>\n",
       "      <td>-0.132352</td>\n",
       "      <td>0.999912</td>\n",
       "      <td>0.670229</td>\n",
       "      <td>0.123573</td>\n",
       "    </tr>\n",
       "  </tbody>\n",
       "</table>\n",
       "<p>10000 rows × 100 columns</p>\n",
       "</div>"
      ],
      "text/plain": [
       "            0         1         2         3         4         5         6   \\\n",
       "0     0.992873 -0.536573  0.017702  0.670229  0.920026 -0.026551  0.296369   \n",
       "1    -0.132352  0.017702 -0.750987 -0.993889 -0.756802  0.656987  0.436165   \n",
       "2    -0.905578 -0.831775  0.986628  0.395925  0.296369 -0.558789 -0.821818   \n",
       "3    -0.444113 -0.245252  0.513978 -0.821818  0.745113  0.990607  0.920026   \n",
       "4     0.986628 -0.287903  0.513978 -0.750987 -0.428183 -0.855520 -0.026551   \n",
       "...        ...       ...       ...       ...       ...       ...       ...   \n",
       "9995 -0.132352  0.149877  0.683262 -0.008851  0.035398 -0.521551 -0.999990   \n",
       "9996  0.912945 -0.750987  0.412118  0.636738 -0.993889 -0.279415 -0.676772   \n",
       "9997 -0.916522 -0.988032 -0.663634 -0.831775  0.999520  0.893997 -0.262375   \n",
       "9998  0.762558 -0.629888 -0.279415  0.017702 -0.676772 -0.132352  0.035398   \n",
       "9999 -0.821818  0.990607 -0.999207 -0.779466 -0.991779 -0.114785  0.989358   \n",
       "\n",
       "            7         8         9   ...        90        91        92  \\\n",
       "0    -0.905578  0.412118 -0.966118  ...  0.963795  0.893997  0.901788   \n",
       "1     0.551427 -0.993889 -0.916522  ...  0.656987 -0.831775 -0.676772   \n",
       "2     0.395925 -0.404038  0.762558  ...  0.733190  0.826829  0.989358   \n",
       "3     0.566108  0.850904 -0.905578  ...  0.105988  0.270906  0.395925   \n",
       "4    -0.176076 -0.026551  0.656987  ... -0.768255 -0.905578 -0.961397   \n",
       "...        ...       ...       ...  ...       ...       ...       ...   \n",
       "9995 -0.663634  0.990607  0.105988  ... -0.966118 -0.404038  0.650288   \n",
       "9996 -0.404038 -0.739181 -0.404038  ...  0.893997 -0.245252 -0.114785   \n",
       "9997 -0.629888 -0.988032 -0.988032  ...  0.000000 -0.132352  0.566108   \n",
       "9998 -0.573382  0.836656  0.841471  ... -0.262375 -0.521551 -0.287903   \n",
       "9999  0.141120 -0.676772 -0.287903  ...  0.920026 -0.114785  0.745113   \n",
       "\n",
       "            93        94        95        96        97        98        99  \n",
       "0     0.762558  0.999912 -0.544021 -0.245252  0.656987 -0.676772  0.986628  \n",
       "1    -0.905578  0.989358 -0.428183  0.436165  0.999520  0.412118  0.992873  \n",
       "2    -0.304811  0.826829 -0.176076 -0.643538  0.968364  0.149877 -0.756802  \n",
       "3     0.983588 -0.923458 -0.158623  0.551427  0.270906 -0.245252  0.826829  \n",
       "4    -0.821818 -0.245252 -0.132352 -0.287903 -0.573382  0.773891  0.860069  \n",
       "...        ...       ...       ...       ...       ...       ...       ...  \n",
       "9995  0.529083 -0.387782 -0.855520 -0.643538 -0.916522 -0.158623  0.745113  \n",
       "9996 -0.629888 -0.026551 -0.544021 -0.831775 -0.846220  0.253823 -0.953753  \n",
       "9997 -0.387782 -0.821818  0.920026 -0.663634 -0.750987  0.951055  0.566108  \n",
       "9998  0.956376  0.893997  0.683262 -0.988032 -0.008851  0.270906  0.745113  \n",
       "9999 -0.768255 -0.958924 -0.779466 -0.132352  0.999912  0.670229  0.123573  \n",
       "\n",
       "[10000 rows x 100 columns]"
      ]
     },
     "execution_count": 35,
     "metadata": {},
     "output_type": "execute_result"
    }
   ],
   "source": [
    "df.progress_applymap(lambda x: np.sin(x))\n",
    "# progress_map()"
   ]
  },
  {
   "cell_type": "code",
   "execution_count": 31,
   "metadata": {},
   "outputs": [
    {
     "name": "stderr",
     "output_type": "stream",
     "text": [
      "100%|████████████████████████████████| 10000/10000 [00:00<00:00, 161280.93it/s]\n"
     ]
    },
    {
     "data": {
      "text/plain": [
       "0       0.683262\n",
       "1      -0.923458\n",
       "2      -0.999755\n",
       "3      -0.387782\n",
       "4      -0.993889\n",
       "          ...   \n",
       "9995   -0.993889\n",
       "9996   -0.026551\n",
       "9997    0.683262\n",
       "9998   -0.905578\n",
       "9999   -0.026551\n",
       "Name: 0, Length: 10000, dtype: float64"
      ]
     },
     "execution_count": 31,
     "metadata": {},
     "output_type": "execute_result"
    }
   ],
   "source": [
    "df[0].progress_map(lambda x: np.sin(x))"
   ]
  },
  {
   "cell_type": "code",
   "execution_count": null,
   "metadata": {},
   "outputs": [],
   "source": []
  },
  {
   "cell_type": "code",
   "execution_count": 2,
   "metadata": {
    "scrolled": true
   },
   "outputs": [
    {
     "data": {
      "text/html": [
       "<div>\n",
       "<style scoped>\n",
       "    .dataframe tbody tr th:only-of-type {\n",
       "        vertical-align: middle;\n",
       "    }\n",
       "\n",
       "    .dataframe tbody tr th {\n",
       "        vertical-align: top;\n",
       "    }\n",
       "\n",
       "    .dataframe thead th {\n",
       "        text-align: right;\n",
       "    }\n",
       "</style>\n",
       "<table border=\"1\" class=\"dataframe\">\n",
       "  <thead>\n",
       "    <tr style=\"text-align: right;\">\n",
       "      <th></th>\n",
       "      <th>pickup</th>\n",
       "      <th>dropoff</th>\n",
       "      <th>passengers</th>\n",
       "      <th>distance</th>\n",
       "      <th>fare</th>\n",
       "      <th>tip</th>\n",
       "      <th>tolls</th>\n",
       "      <th>total</th>\n",
       "      <th>color</th>\n",
       "      <th>payment</th>\n",
       "      <th>pickup_zone</th>\n",
       "      <th>dropoff_zone</th>\n",
       "      <th>pickup_borough</th>\n",
       "      <th>dropoff_borough</th>\n",
       "    </tr>\n",
       "  </thead>\n",
       "  <tbody>\n",
       "    <tr>\n",
       "      <th>5140</th>\n",
       "      <td>2019-03-04 19:57:14</td>\n",
       "      <td>2019-03-04 20:02:27</td>\n",
       "      <td>1</td>\n",
       "      <td>1.02</td>\n",
       "      <td>5.5</td>\n",
       "      <td>1.96</td>\n",
       "      <td>0.0</td>\n",
       "      <td>11.76</td>\n",
       "      <td>yellow</td>\n",
       "      <td>credit card</td>\n",
       "      <td>Lincoln Square East</td>\n",
       "      <td>Lincoln Square East</td>\n",
       "      <td>Manhattan</td>\n",
       "      <td>Manhattan</td>\n",
       "    </tr>\n",
       "    <tr>\n",
       "      <th>1980</th>\n",
       "      <td>2019-03-06 20:59:57</td>\n",
       "      <td>2019-03-06 21:19:00</td>\n",
       "      <td>1</td>\n",
       "      <td>3.53</td>\n",
       "      <td>15.0</td>\n",
       "      <td>3.76</td>\n",
       "      <td>0.0</td>\n",
       "      <td>22.56</td>\n",
       "      <td>yellow</td>\n",
       "      <td>credit card</td>\n",
       "      <td>Times Sq/Theatre District</td>\n",
       "      <td>Long Island City/Hunters Point</td>\n",
       "      <td>Manhattan</td>\n",
       "      <td>Queens</td>\n",
       "    </tr>\n",
       "    <tr>\n",
       "      <th>3155</th>\n",
       "      <td>2019-03-07 17:56:18</td>\n",
       "      <td>2019-03-07 18:10:01</td>\n",
       "      <td>3</td>\n",
       "      <td>1.79</td>\n",
       "      <td>10.0</td>\n",
       "      <td>0.00</td>\n",
       "      <td>0.0</td>\n",
       "      <td>14.30</td>\n",
       "      <td>yellow</td>\n",
       "      <td>cash</td>\n",
       "      <td>Little Italy/NoLiTa</td>\n",
       "      <td>Murray Hill</td>\n",
       "      <td>Manhattan</td>\n",
       "      <td>Manhattan</td>\n",
       "    </tr>\n",
       "    <tr>\n",
       "      <th>1135</th>\n",
       "      <td>2019-03-26 22:43:51</td>\n",
       "      <td>2019-03-26 22:50:28</td>\n",
       "      <td>1</td>\n",
       "      <td>1.03</td>\n",
       "      <td>6.5</td>\n",
       "      <td>2.06</td>\n",
       "      <td>0.0</td>\n",
       "      <td>12.36</td>\n",
       "      <td>yellow</td>\n",
       "      <td>credit card</td>\n",
       "      <td>SoHo</td>\n",
       "      <td>Greenwich Village North</td>\n",
       "      <td>Manhattan</td>\n",
       "      <td>Manhattan</td>\n",
       "    </tr>\n",
       "    <tr>\n",
       "      <th>4937</th>\n",
       "      <td>2019-03-02 19:50:23</td>\n",
       "      <td>2019-03-02 20:04:19</td>\n",
       "      <td>2</td>\n",
       "      <td>1.60</td>\n",
       "      <td>10.0</td>\n",
       "      <td>2.75</td>\n",
       "      <td>0.0</td>\n",
       "      <td>16.55</td>\n",
       "      <td>yellow</td>\n",
       "      <td>credit card</td>\n",
       "      <td>TriBeCa/Civic Center</td>\n",
       "      <td>East Village</td>\n",
       "      <td>Manhattan</td>\n",
       "      <td>Manhattan</td>\n",
       "    </tr>\n",
       "    <tr>\n",
       "      <th>752</th>\n",
       "      <td>2019-03-14 18:05:49</td>\n",
       "      <td>2019-03-14 18:10:43</td>\n",
       "      <td>1</td>\n",
       "      <td>0.40</td>\n",
       "      <td>5.0</td>\n",
       "      <td>0.00</td>\n",
       "      <td>0.0</td>\n",
       "      <td>9.30</td>\n",
       "      <td>yellow</td>\n",
       "      <td>cash</td>\n",
       "      <td>Greenwich Village South</td>\n",
       "      <td>Little Italy/NoLiTa</td>\n",
       "      <td>Manhattan</td>\n",
       "      <td>Manhattan</td>\n",
       "    </tr>\n",
       "    <tr>\n",
       "      <th>4884</th>\n",
       "      <td>2019-03-06 08:49:58</td>\n",
       "      <td>2019-03-06 08:58:39</td>\n",
       "      <td>3</td>\n",
       "      <td>1.40</td>\n",
       "      <td>8.0</td>\n",
       "      <td>0.00</td>\n",
       "      <td>0.0</td>\n",
       "      <td>11.30</td>\n",
       "      <td>yellow</td>\n",
       "      <td>cash</td>\n",
       "      <td>Upper West Side South</td>\n",
       "      <td>Central Park</td>\n",
       "      <td>Manhattan</td>\n",
       "      <td>Manhattan</td>\n",
       "    </tr>\n",
       "    <tr>\n",
       "      <th>1484</th>\n",
       "      <td>2019-03-08 18:22:44</td>\n",
       "      <td>2019-03-08 18:27:26</td>\n",
       "      <td>1</td>\n",
       "      <td>0.88</td>\n",
       "      <td>5.5</td>\n",
       "      <td>0.00</td>\n",
       "      <td>0.0</td>\n",
       "      <td>9.80</td>\n",
       "      <td>yellow</td>\n",
       "      <td>cash</td>\n",
       "      <td>Upper West Side South</td>\n",
       "      <td>Upper West Side North</td>\n",
       "      <td>Manhattan</td>\n",
       "      <td>Manhattan</td>\n",
       "    </tr>\n",
       "    <tr>\n",
       "      <th>6390</th>\n",
       "      <td>2019-03-19 09:32:20</td>\n",
       "      <td>2019-03-19 09:36:22</td>\n",
       "      <td>1</td>\n",
       "      <td>0.70</td>\n",
       "      <td>5.0</td>\n",
       "      <td>0.00</td>\n",
       "      <td>0.0</td>\n",
       "      <td>5.80</td>\n",
       "      <td>green</td>\n",
       "      <td>cash</td>\n",
       "      <td>Morningside Heights</td>\n",
       "      <td>Central Harlem North</td>\n",
       "      <td>Manhattan</td>\n",
       "      <td>Manhattan</td>\n",
       "    </tr>\n",
       "    <tr>\n",
       "      <th>2296</th>\n",
       "      <td>2019-03-20 23:23:46</td>\n",
       "      <td>2019-03-20 23:27:54</td>\n",
       "      <td>1</td>\n",
       "      <td>0.40</td>\n",
       "      <td>4.5</td>\n",
       "      <td>1.65</td>\n",
       "      <td>0.0</td>\n",
       "      <td>9.95</td>\n",
       "      <td>yellow</td>\n",
       "      <td>credit card</td>\n",
       "      <td>Sutton Place/Turtle Bay North</td>\n",
       "      <td>Midtown Center</td>\n",
       "      <td>Manhattan</td>\n",
       "      <td>Manhattan</td>\n",
       "    </tr>\n",
       "  </tbody>\n",
       "</table>\n",
       "</div>"
      ],
      "text/plain": [
       "                   pickup              dropoff  passengers  distance  fare  \\\n",
       "5140  2019-03-04 19:57:14  2019-03-04 20:02:27           1      1.02   5.5   \n",
       "1980  2019-03-06 20:59:57  2019-03-06 21:19:00           1      3.53  15.0   \n",
       "3155  2019-03-07 17:56:18  2019-03-07 18:10:01           3      1.79  10.0   \n",
       "1135  2019-03-26 22:43:51  2019-03-26 22:50:28           1      1.03   6.5   \n",
       "4937  2019-03-02 19:50:23  2019-03-02 20:04:19           2      1.60  10.0   \n",
       "752   2019-03-14 18:05:49  2019-03-14 18:10:43           1      0.40   5.0   \n",
       "4884  2019-03-06 08:49:58  2019-03-06 08:58:39           3      1.40   8.0   \n",
       "1484  2019-03-08 18:22:44  2019-03-08 18:27:26           1      0.88   5.5   \n",
       "6390  2019-03-19 09:32:20  2019-03-19 09:36:22           1      0.70   5.0   \n",
       "2296  2019-03-20 23:23:46  2019-03-20 23:27:54           1      0.40   4.5   \n",
       "\n",
       "       tip  tolls  total   color      payment                    pickup_zone  \\\n",
       "5140  1.96    0.0  11.76  yellow  credit card            Lincoln Square East   \n",
       "1980  3.76    0.0  22.56  yellow  credit card      Times Sq/Theatre District   \n",
       "3155  0.00    0.0  14.30  yellow         cash            Little Italy/NoLiTa   \n",
       "1135  2.06    0.0  12.36  yellow  credit card                           SoHo   \n",
       "4937  2.75    0.0  16.55  yellow  credit card           TriBeCa/Civic Center   \n",
       "752   0.00    0.0   9.30  yellow         cash        Greenwich Village South   \n",
       "4884  0.00    0.0  11.30  yellow         cash          Upper West Side South   \n",
       "1484  0.00    0.0   9.80  yellow         cash          Upper West Side South   \n",
       "6390  0.00    0.0   5.80   green         cash            Morningside Heights   \n",
       "2296  1.65    0.0   9.95  yellow  credit card  Sutton Place/Turtle Bay North   \n",
       "\n",
       "                        dropoff_zone pickup_borough dropoff_borough  \n",
       "5140             Lincoln Square East      Manhattan       Manhattan  \n",
       "1980  Long Island City/Hunters Point      Manhattan          Queens  \n",
       "3155                     Murray Hill      Manhattan       Manhattan  \n",
       "1135         Greenwich Village North      Manhattan       Manhattan  \n",
       "4937                    East Village      Manhattan       Manhattan  \n",
       "752              Little Italy/NoLiTa      Manhattan       Manhattan  \n",
       "4884                    Central Park      Manhattan       Manhattan  \n",
       "1484           Upper West Side North      Manhattan       Manhattan  \n",
       "6390            Central Harlem North      Manhattan       Manhattan  \n",
       "2296                  Midtown Center      Manhattan       Manhattan  "
      ]
     },
     "execution_count": 2,
     "metadata": {},
     "output_type": "execute_result"
    }
   ],
   "source": [
    "df= sns.load_dataset('taxis')\n",
    "df.sample(10)"
   ]
  },
  {
   "cell_type": "code",
   "execution_count": 4,
   "metadata": {},
   "outputs": [
    {
     "data": {
      "text/html": [
       "<div>\n",
       "<style scoped>\n",
       "    .dataframe tbody tr th:only-of-type {\n",
       "        vertical-align: middle;\n",
       "    }\n",
       "\n",
       "    .dataframe tbody tr th {\n",
       "        vertical-align: top;\n",
       "    }\n",
       "\n",
       "    .dataframe thead th {\n",
       "        text-align: right;\n",
       "    }\n",
       "</style>\n",
       "<table border=\"1\" class=\"dataframe\">\n",
       "  <thead>\n",
       "    <tr style=\"text-align: right;\">\n",
       "      <th></th>\n",
       "      <th>pickup</th>\n",
       "      <th>dropoff</th>\n",
       "      <th>passengers</th>\n",
       "      <th>distance</th>\n",
       "      <th>fare</th>\n",
       "      <th>tip</th>\n",
       "      <th>tolls</th>\n",
       "      <th>total</th>\n",
       "      <th>color</th>\n",
       "      <th>payment</th>\n",
       "      <th>pickup_zone</th>\n",
       "      <th>dropoff_zone</th>\n",
       "      <th>pickup_borough</th>\n",
       "      <th>dropoff_borough</th>\n",
       "    </tr>\n",
       "  </thead>\n",
       "  <tbody>\n",
       "    <tr>\n",
       "      <th>count</th>\n",
       "      <td>6433</td>\n",
       "      <td>6433</td>\n",
       "      <td>6433.000000</td>\n",
       "      <td>6433.000000</td>\n",
       "      <td>6433.000000</td>\n",
       "      <td>6433.00000</td>\n",
       "      <td>6433.000000</td>\n",
       "      <td>6433.000000</td>\n",
       "      <td>6433</td>\n",
       "      <td>6389</td>\n",
       "      <td>6407</td>\n",
       "      <td>6388</td>\n",
       "      <td>6407</td>\n",
       "      <td>6388</td>\n",
       "    </tr>\n",
       "    <tr>\n",
       "      <th>unique</th>\n",
       "      <td>6414</td>\n",
       "      <td>6425</td>\n",
       "      <td>NaN</td>\n",
       "      <td>NaN</td>\n",
       "      <td>NaN</td>\n",
       "      <td>NaN</td>\n",
       "      <td>NaN</td>\n",
       "      <td>NaN</td>\n",
       "      <td>2</td>\n",
       "      <td>2</td>\n",
       "      <td>194</td>\n",
       "      <td>203</td>\n",
       "      <td>4</td>\n",
       "      <td>5</td>\n",
       "    </tr>\n",
       "    <tr>\n",
       "      <th>top</th>\n",
       "      <td>2019-03-07 19:54:40</td>\n",
       "      <td>2019-03-22 11:06:48</td>\n",
       "      <td>NaN</td>\n",
       "      <td>NaN</td>\n",
       "      <td>NaN</td>\n",
       "      <td>NaN</td>\n",
       "      <td>NaN</td>\n",
       "      <td>NaN</td>\n",
       "      <td>yellow</td>\n",
       "      <td>credit card</td>\n",
       "      <td>Midtown Center</td>\n",
       "      <td>Upper East Side North</td>\n",
       "      <td>Manhattan</td>\n",
       "      <td>Manhattan</td>\n",
       "    </tr>\n",
       "    <tr>\n",
       "      <th>freq</th>\n",
       "      <td>2</td>\n",
       "      <td>2</td>\n",
       "      <td>NaN</td>\n",
       "      <td>NaN</td>\n",
       "      <td>NaN</td>\n",
       "      <td>NaN</td>\n",
       "      <td>NaN</td>\n",
       "      <td>NaN</td>\n",
       "      <td>5451</td>\n",
       "      <td>4577</td>\n",
       "      <td>230</td>\n",
       "      <td>245</td>\n",
       "      <td>5268</td>\n",
       "      <td>5206</td>\n",
       "    </tr>\n",
       "    <tr>\n",
       "      <th>mean</th>\n",
       "      <td>NaN</td>\n",
       "      <td>NaN</td>\n",
       "      <td>1.539251</td>\n",
       "      <td>3.024617</td>\n",
       "      <td>13.091073</td>\n",
       "      <td>1.97922</td>\n",
       "      <td>0.325273</td>\n",
       "      <td>18.517794</td>\n",
       "      <td>NaN</td>\n",
       "      <td>NaN</td>\n",
       "      <td>NaN</td>\n",
       "      <td>NaN</td>\n",
       "      <td>NaN</td>\n",
       "      <td>NaN</td>\n",
       "    </tr>\n",
       "    <tr>\n",
       "      <th>std</th>\n",
       "      <td>NaN</td>\n",
       "      <td>NaN</td>\n",
       "      <td>1.203768</td>\n",
       "      <td>3.827867</td>\n",
       "      <td>11.551804</td>\n",
       "      <td>2.44856</td>\n",
       "      <td>1.415267</td>\n",
       "      <td>13.815570</td>\n",
       "      <td>NaN</td>\n",
       "      <td>NaN</td>\n",
       "      <td>NaN</td>\n",
       "      <td>NaN</td>\n",
       "      <td>NaN</td>\n",
       "      <td>NaN</td>\n",
       "    </tr>\n",
       "    <tr>\n",
       "      <th>min</th>\n",
       "      <td>NaN</td>\n",
       "      <td>NaN</td>\n",
       "      <td>0.000000</td>\n",
       "      <td>0.000000</td>\n",
       "      <td>1.000000</td>\n",
       "      <td>0.00000</td>\n",
       "      <td>0.000000</td>\n",
       "      <td>1.300000</td>\n",
       "      <td>NaN</td>\n",
       "      <td>NaN</td>\n",
       "      <td>NaN</td>\n",
       "      <td>NaN</td>\n",
       "      <td>NaN</td>\n",
       "      <td>NaN</td>\n",
       "    </tr>\n",
       "    <tr>\n",
       "      <th>25%</th>\n",
       "      <td>NaN</td>\n",
       "      <td>NaN</td>\n",
       "      <td>1.000000</td>\n",
       "      <td>0.980000</td>\n",
       "      <td>6.500000</td>\n",
       "      <td>0.00000</td>\n",
       "      <td>0.000000</td>\n",
       "      <td>10.800000</td>\n",
       "      <td>NaN</td>\n",
       "      <td>NaN</td>\n",
       "      <td>NaN</td>\n",
       "      <td>NaN</td>\n",
       "      <td>NaN</td>\n",
       "      <td>NaN</td>\n",
       "    </tr>\n",
       "    <tr>\n",
       "      <th>50%</th>\n",
       "      <td>NaN</td>\n",
       "      <td>NaN</td>\n",
       "      <td>1.000000</td>\n",
       "      <td>1.640000</td>\n",
       "      <td>9.500000</td>\n",
       "      <td>1.70000</td>\n",
       "      <td>0.000000</td>\n",
       "      <td>14.160000</td>\n",
       "      <td>NaN</td>\n",
       "      <td>NaN</td>\n",
       "      <td>NaN</td>\n",
       "      <td>NaN</td>\n",
       "      <td>NaN</td>\n",
       "      <td>NaN</td>\n",
       "    </tr>\n",
       "    <tr>\n",
       "      <th>75%</th>\n",
       "      <td>NaN</td>\n",
       "      <td>NaN</td>\n",
       "      <td>2.000000</td>\n",
       "      <td>3.210000</td>\n",
       "      <td>15.000000</td>\n",
       "      <td>2.80000</td>\n",
       "      <td>0.000000</td>\n",
       "      <td>20.300000</td>\n",
       "      <td>NaN</td>\n",
       "      <td>NaN</td>\n",
       "      <td>NaN</td>\n",
       "      <td>NaN</td>\n",
       "      <td>NaN</td>\n",
       "      <td>NaN</td>\n",
       "    </tr>\n",
       "    <tr>\n",
       "      <th>max</th>\n",
       "      <td>NaN</td>\n",
       "      <td>NaN</td>\n",
       "      <td>6.000000</td>\n",
       "      <td>36.700000</td>\n",
       "      <td>150.000000</td>\n",
       "      <td>33.20000</td>\n",
       "      <td>24.020000</td>\n",
       "      <td>174.820000</td>\n",
       "      <td>NaN</td>\n",
       "      <td>NaN</td>\n",
       "      <td>NaN</td>\n",
       "      <td>NaN</td>\n",
       "      <td>NaN</td>\n",
       "      <td>NaN</td>\n",
       "    </tr>\n",
       "  </tbody>\n",
       "</table>\n",
       "</div>"
      ],
      "text/plain": [
       "                     pickup              dropoff   passengers     distance  \\\n",
       "count                  6433                 6433  6433.000000  6433.000000   \n",
       "unique                 6414                 6425          NaN          NaN   \n",
       "top     2019-03-07 19:54:40  2019-03-22 11:06:48          NaN          NaN   \n",
       "freq                      2                    2          NaN          NaN   \n",
       "mean                    NaN                  NaN     1.539251     3.024617   \n",
       "std                     NaN                  NaN     1.203768     3.827867   \n",
       "min                     NaN                  NaN     0.000000     0.000000   \n",
       "25%                     NaN                  NaN     1.000000     0.980000   \n",
       "50%                     NaN                  NaN     1.000000     1.640000   \n",
       "75%                     NaN                  NaN     2.000000     3.210000   \n",
       "max                     NaN                  NaN     6.000000    36.700000   \n",
       "\n",
       "               fare         tip        tolls        total   color  \\\n",
       "count   6433.000000  6433.00000  6433.000000  6433.000000    6433   \n",
       "unique          NaN         NaN          NaN          NaN       2   \n",
       "top             NaN         NaN          NaN          NaN  yellow   \n",
       "freq            NaN         NaN          NaN          NaN    5451   \n",
       "mean      13.091073     1.97922     0.325273    18.517794     NaN   \n",
       "std       11.551804     2.44856     1.415267    13.815570     NaN   \n",
       "min        1.000000     0.00000     0.000000     1.300000     NaN   \n",
       "25%        6.500000     0.00000     0.000000    10.800000     NaN   \n",
       "50%        9.500000     1.70000     0.000000    14.160000     NaN   \n",
       "75%       15.000000     2.80000     0.000000    20.300000     NaN   \n",
       "max      150.000000    33.20000    24.020000   174.820000     NaN   \n",
       "\n",
       "            payment     pickup_zone           dropoff_zone pickup_borough  \\\n",
       "count          6389            6407                   6388           6407   \n",
       "unique            2             194                    203              4   \n",
       "top     credit card  Midtown Center  Upper East Side North      Manhattan   \n",
       "freq           4577             230                    245           5268   \n",
       "mean            NaN             NaN                    NaN            NaN   \n",
       "std             NaN             NaN                    NaN            NaN   \n",
       "min             NaN             NaN                    NaN            NaN   \n",
       "25%             NaN             NaN                    NaN            NaN   \n",
       "50%             NaN             NaN                    NaN            NaN   \n",
       "75%             NaN             NaN                    NaN            NaN   \n",
       "max             NaN             NaN                    NaN            NaN   \n",
       "\n",
       "       dropoff_borough  \n",
       "count             6388  \n",
       "unique               5  \n",
       "top          Manhattan  \n",
       "freq              5206  \n",
       "mean               NaN  \n",
       "std                NaN  \n",
       "min                NaN  \n",
       "25%                NaN  \n",
       "50%                NaN  \n",
       "75%                NaN  \n",
       "max                NaN  "
      ]
     },
     "execution_count": 4,
     "metadata": {},
     "output_type": "execute_result"
    }
   ],
   "source": [
    "df.describe(include='all')"
   ]
  },
  {
   "cell_type": "code",
   "execution_count": 6,
   "metadata": {},
   "outputs": [
    {
     "data": {
      "text/html": [
       "<div>\n",
       "<style scoped>\n",
       "    .dataframe tbody tr th:only-of-type {\n",
       "        vertical-align: middle;\n",
       "    }\n",
       "\n",
       "    .dataframe tbody tr th {\n",
       "        vertical-align: top;\n",
       "    }\n",
       "\n",
       "    .dataframe thead th {\n",
       "        text-align: right;\n",
       "    }\n",
       "</style>\n",
       "<table border=\"1\" class=\"dataframe\">\n",
       "  <thead>\n",
       "    <tr style=\"text-align: right;\">\n",
       "      <th></th>\n",
       "      <th>0</th>\n",
       "      <th>1</th>\n",
       "      <th>2</th>\n",
       "      <th>3</th>\n",
       "      <th>4</th>\n",
       "      <th>5</th>\n",
       "      <th>6</th>\n",
       "      <th>7</th>\n",
       "      <th>8</th>\n",
       "      <th>9</th>\n",
       "      <th>...</th>\n",
       "      <th>6423</th>\n",
       "      <th>6424</th>\n",
       "      <th>6425</th>\n",
       "      <th>6426</th>\n",
       "      <th>6427</th>\n",
       "      <th>6428</th>\n",
       "      <th>6429</th>\n",
       "      <th>6430</th>\n",
       "      <th>6431</th>\n",
       "      <th>6432</th>\n",
       "    </tr>\n",
       "  </thead>\n",
       "  <tbody>\n",
       "    <tr>\n",
       "      <th>count</th>\n",
       "      <td>14</td>\n",
       "      <td>14</td>\n",
       "      <td>14</td>\n",
       "      <td>14</td>\n",
       "      <td>14</td>\n",
       "      <td>14</td>\n",
       "      <td>14</td>\n",
       "      <td>13</td>\n",
       "      <td>14</td>\n",
       "      <td>14</td>\n",
       "      <td>...</td>\n",
       "      <td>14</td>\n",
       "      <td>14</td>\n",
       "      <td>14</td>\n",
       "      <td>14</td>\n",
       "      <td>14.0</td>\n",
       "      <td>14</td>\n",
       "      <td>14.0</td>\n",
       "      <td>14</td>\n",
       "      <td>14</td>\n",
       "      <td>14</td>\n",
       "    </tr>\n",
       "    <tr>\n",
       "      <th>unique</th>\n",
       "      <td>13</td>\n",
       "      <td>11</td>\n",
       "      <td>13</td>\n",
       "      <td>13</td>\n",
       "      <td>13</td>\n",
       "      <td>13</td>\n",
       "      <td>13</td>\n",
       "      <td>10</td>\n",
       "      <td>12</td>\n",
       "      <td>12</td>\n",
       "      <td>...</td>\n",
       "      <td>12</td>\n",
       "      <td>12</td>\n",
       "      <td>12</td>\n",
       "      <td>13</td>\n",
       "      <td>12.0</td>\n",
       "      <td>13</td>\n",
       "      <td>13.0</td>\n",
       "      <td>12</td>\n",
       "      <td>12</td>\n",
       "      <td>13</td>\n",
       "    </tr>\n",
       "    <tr>\n",
       "      <th>top</th>\n",
       "      <td>Manhattan</td>\n",
       "      <td>Upper West Side South</td>\n",
       "      <td>Manhattan</td>\n",
       "      <td>Manhattan</td>\n",
       "      <td>Manhattan</td>\n",
       "      <td>Manhattan</td>\n",
       "      <td>Manhattan</td>\n",
       "      <td>0</td>\n",
       "      <td>Manhattan</td>\n",
       "      <td>Manhattan</td>\n",
       "      <td>...</td>\n",
       "      <td>Queens</td>\n",
       "      <td>Manhattan</td>\n",
       "      <td>Brooklyn</td>\n",
       "      <td>Manhattan</td>\n",
       "      <td>20.0</td>\n",
       "      <td>Manhattan</td>\n",
       "      <td>0.0</td>\n",
       "      <td>Brooklyn</td>\n",
       "      <td>Brooklyn</td>\n",
       "      <td>Brooklyn</td>\n",
       "    </tr>\n",
       "    <tr>\n",
       "      <th>freq</th>\n",
       "      <td>2</td>\n",
       "      <td>2</td>\n",
       "      <td>2</td>\n",
       "      <td>2</td>\n",
       "      <td>2</td>\n",
       "      <td>2</td>\n",
       "      <td>2</td>\n",
       "      <td>3</td>\n",
       "      <td>2</td>\n",
       "      <td>2</td>\n",
       "      <td>...</td>\n",
       "      <td>2</td>\n",
       "      <td>2</td>\n",
       "      <td>2</td>\n",
       "      <td>2</td>\n",
       "      <td>2.0</td>\n",
       "      <td>2</td>\n",
       "      <td>2.0</td>\n",
       "      <td>2</td>\n",
       "      <td>2</td>\n",
       "      <td>2</td>\n",
       "    </tr>\n",
       "  </tbody>\n",
       "</table>\n",
       "<p>4 rows × 6433 columns</p>\n",
       "</div>"
      ],
      "text/plain": [
       "             0                      1          2          3          4     \\\n",
       "count          14                     14         14         14         14   \n",
       "unique         13                     11         13         13         13   \n",
       "top     Manhattan  Upper West Side South  Manhattan  Manhattan  Manhattan   \n",
       "freq            2                      2          2          2          2   \n",
       "\n",
       "             5          6     7          8          9     ...    6423  \\\n",
       "count          14         14    13         14         14  ...      14   \n",
       "unique         13         13    10         12         12  ...      12   \n",
       "top     Manhattan  Manhattan     0  Manhattan  Manhattan  ...  Queens   \n",
       "freq            2          2     3          2          2  ...       2   \n",
       "\n",
       "             6424      6425       6426  6427       6428  6429      6430  \\\n",
       "count          14        14         14  14.0         14  14.0        14   \n",
       "unique         12        12         13  12.0         13  13.0        12   \n",
       "top     Manhattan  Brooklyn  Manhattan  20.0  Manhattan   0.0  Brooklyn   \n",
       "freq            2         2          2   2.0          2   2.0         2   \n",
       "\n",
       "            6431      6432  \n",
       "count         14        14  \n",
       "unique        12        13  \n",
       "top     Brooklyn  Brooklyn  \n",
       "freq           2         2  \n",
       "\n",
       "[4 rows x 6433 columns]"
      ]
     },
     "execution_count": 6,
     "metadata": {},
     "output_type": "execute_result"
    }
   ],
   "source": [
    "df.T.describe()"
   ]
  },
  {
   "cell_type": "code",
   "execution_count": null,
   "metadata": {},
   "outputs": [],
   "source": []
  },
  {
   "cell_type": "code",
   "execution_count": 5,
   "metadata": {},
   "outputs": [
    {
     "data": {
      "text/html": [
       "<div>\n",
       "<style scoped>\n",
       "    .dataframe tbody tr th:only-of-type {\n",
       "        vertical-align: middle;\n",
       "    }\n",
       "\n",
       "    .dataframe tbody tr th {\n",
       "        vertical-align: top;\n",
       "    }\n",
       "\n",
       "    .dataframe thead th {\n",
       "        text-align: right;\n",
       "    }\n",
       "</style>\n",
       "<table border=\"1\" class=\"dataframe\">\n",
       "  <thead>\n",
       "    <tr style=\"text-align: right;\">\n",
       "      <th></th>\n",
       "      <th>0</th>\n",
       "      <th>1</th>\n",
       "      <th>2</th>\n",
       "      <th>3</th>\n",
       "      <th>4</th>\n",
       "    </tr>\n",
       "  </thead>\n",
       "  <tbody>\n",
       "    <tr>\n",
       "      <th>0</th>\n",
       "      <td>0.075130</td>\n",
       "      <td>0.698190</td>\n",
       "      <td>0.914568</td>\n",
       "      <td>-2.039216</td>\n",
       "      <td>-0.495184</td>\n",
       "    </tr>\n",
       "    <tr>\n",
       "      <th>1</th>\n",
       "      <td>-0.797642</td>\n",
       "      <td>-0.748421</td>\n",
       "      <td>-1.980526</td>\n",
       "      <td>-0.245917</td>\n",
       "      <td>-0.214399</td>\n",
       "    </tr>\n",
       "    <tr>\n",
       "      <th>2</th>\n",
       "      <td>0.257646</td>\n",
       "      <td>-1.530694</td>\n",
       "      <td>-1.010151</td>\n",
       "      <td>1.165670</td>\n",
       "      <td>-0.564885</td>\n",
       "    </tr>\n",
       "    <tr>\n",
       "      <th>3</th>\n",
       "      <td>0.127821</td>\n",
       "      <td>0.466776</td>\n",
       "      <td>-0.684716</td>\n",
       "      <td>0.801680</td>\n",
       "      <td>-0.282858</td>\n",
       "    </tr>\n",
       "    <tr>\n",
       "      <th>4</th>\n",
       "      <td>0.342289</td>\n",
       "      <td>1.070417</td>\n",
       "      <td>0.620291</td>\n",
       "      <td>0.211575</td>\n",
       "      <td>0.870712</td>\n",
       "    </tr>\n",
       "  </tbody>\n",
       "</table>\n",
       "</div>"
      ],
      "text/plain": [
       "          0         1         2         3         4\n",
       "0  0.075130  0.698190  0.914568 -2.039216 -0.495184\n",
       "1 -0.797642 -0.748421 -1.980526 -0.245917 -0.214399\n",
       "2  0.257646 -1.530694 -1.010151  1.165670 -0.564885\n",
       "3  0.127821  0.466776 -0.684716  0.801680 -0.282858\n",
       "4  0.342289  1.070417  0.620291  0.211575  0.870712"
      ]
     },
     "execution_count": 5,
     "metadata": {},
     "output_type": "execute_result"
    }
   ],
   "source": [
    "df = pd.DataFrame(np.random.randn(5,5))\n",
    "df"
   ]
  },
  {
   "cell_type": "code",
   "execution_count": 16,
   "metadata": {},
   "outputs": [],
   "source": [
    "df2 = df.iloc[1:4, 1:4]"
   ]
  },
  {
   "cell_type": "code",
   "execution_count": 17,
   "metadata": {},
   "outputs": [
    {
     "data": {
      "text/html": [
       "<div>\n",
       "<style scoped>\n",
       "    .dataframe tbody tr th:only-of-type {\n",
       "        vertical-align: middle;\n",
       "    }\n",
       "\n",
       "    .dataframe tbody tr th {\n",
       "        vertical-align: top;\n",
       "    }\n",
       "\n",
       "    .dataframe thead th {\n",
       "        text-align: right;\n",
       "    }\n",
       "</style>\n",
       "<table border=\"1\" class=\"dataframe\">\n",
       "  <thead>\n",
       "    <tr style=\"text-align: right;\">\n",
       "      <th></th>\n",
       "      <th>1</th>\n",
       "      <th>2</th>\n",
       "      <th>3</th>\n",
       "    </tr>\n",
       "  </thead>\n",
       "  <tbody>\n",
       "    <tr>\n",
       "      <th>1</th>\n",
       "      <td>-0.748421</td>\n",
       "      <td>1000.0</td>\n",
       "      <td>-0.245917</td>\n",
       "    </tr>\n",
       "    <tr>\n",
       "      <th>2</th>\n",
       "      <td>-1.530694</td>\n",
       "      <td>1000.0</td>\n",
       "      <td>1.165670</td>\n",
       "    </tr>\n",
       "    <tr>\n",
       "      <th>3</th>\n",
       "      <td>0.466776</td>\n",
       "      <td>1000.0</td>\n",
       "      <td>0.801680</td>\n",
       "    </tr>\n",
       "  </tbody>\n",
       "</table>\n",
       "</div>"
      ],
      "text/plain": [
       "          1       2         3\n",
       "1 -0.748421  1000.0 -0.245917\n",
       "2 -1.530694  1000.0  1.165670\n",
       "3  0.466776  1000.0  0.801680"
      ]
     },
     "execution_count": 17,
     "metadata": {},
     "output_type": "execute_result"
    }
   ],
   "source": [
    "df2"
   ]
  },
  {
   "cell_type": "code",
   "execution_count": 22,
   "metadata": {},
   "outputs": [],
   "source": [
    "df2.loc[:, :] = 1000"
   ]
  },
  {
   "cell_type": "code",
   "execution_count": 23,
   "metadata": {},
   "outputs": [
    {
     "data": {
      "text/html": [
       "<div>\n",
       "<style scoped>\n",
       "    .dataframe tbody tr th:only-of-type {\n",
       "        vertical-align: middle;\n",
       "    }\n",
       "\n",
       "    .dataframe tbody tr th {\n",
       "        vertical-align: top;\n",
       "    }\n",
       "\n",
       "    .dataframe thead th {\n",
       "        text-align: right;\n",
       "    }\n",
       "</style>\n",
       "<table border=\"1\" class=\"dataframe\">\n",
       "  <thead>\n",
       "    <tr style=\"text-align: right;\">\n",
       "      <th></th>\n",
       "      <th>1</th>\n",
       "      <th>2</th>\n",
       "      <th>3</th>\n",
       "    </tr>\n",
       "  </thead>\n",
       "  <tbody>\n",
       "    <tr>\n",
       "      <th>1</th>\n",
       "      <td>1000.0</td>\n",
       "      <td>1000.0</td>\n",
       "      <td>1000.0</td>\n",
       "    </tr>\n",
       "    <tr>\n",
       "      <th>2</th>\n",
       "      <td>1000.0</td>\n",
       "      <td>1000.0</td>\n",
       "      <td>1000.0</td>\n",
       "    </tr>\n",
       "    <tr>\n",
       "      <th>3</th>\n",
       "      <td>1000.0</td>\n",
       "      <td>1000.0</td>\n",
       "      <td>1000.0</td>\n",
       "    </tr>\n",
       "  </tbody>\n",
       "</table>\n",
       "</div>"
      ],
      "text/plain": [
       "        1       2       3\n",
       "1  1000.0  1000.0  1000.0\n",
       "2  1000.0  1000.0  1000.0\n",
       "3  1000.0  1000.0  1000.0"
      ]
     },
     "execution_count": 23,
     "metadata": {},
     "output_type": "execute_result"
    }
   ],
   "source": [
    "df2"
   ]
  },
  {
   "cell_type": "code",
   "execution_count": 24,
   "metadata": {},
   "outputs": [
    {
     "data": {
      "text/html": [
       "<div>\n",
       "<style scoped>\n",
       "    .dataframe tbody tr th:only-of-type {\n",
       "        vertical-align: middle;\n",
       "    }\n",
       "\n",
       "    .dataframe tbody tr th {\n",
       "        vertical-align: top;\n",
       "    }\n",
       "\n",
       "    .dataframe thead th {\n",
       "        text-align: right;\n",
       "    }\n",
       "</style>\n",
       "<table border=\"1\" class=\"dataframe\">\n",
       "  <thead>\n",
       "    <tr style=\"text-align: right;\">\n",
       "      <th></th>\n",
       "      <th>0</th>\n",
       "      <th>1</th>\n",
       "      <th>2</th>\n",
       "      <th>3</th>\n",
       "      <th>4</th>\n",
       "    </tr>\n",
       "  </thead>\n",
       "  <tbody>\n",
       "    <tr>\n",
       "      <th>0</th>\n",
       "      <td>0.075130</td>\n",
       "      <td>0.698190</td>\n",
       "      <td>0.914568</td>\n",
       "      <td>-2.039216</td>\n",
       "      <td>-0.495184</td>\n",
       "    </tr>\n",
       "    <tr>\n",
       "      <th>1</th>\n",
       "      <td>-0.797642</td>\n",
       "      <td>1000.000000</td>\n",
       "      <td>1000.000000</td>\n",
       "      <td>1000.000000</td>\n",
       "      <td>-0.214399</td>\n",
       "    </tr>\n",
       "    <tr>\n",
       "      <th>2</th>\n",
       "      <td>0.257646</td>\n",
       "      <td>1000.000000</td>\n",
       "      <td>1000.000000</td>\n",
       "      <td>1000.000000</td>\n",
       "      <td>-0.564885</td>\n",
       "    </tr>\n",
       "    <tr>\n",
       "      <th>3</th>\n",
       "      <td>0.127821</td>\n",
       "      <td>1000.000000</td>\n",
       "      <td>1000.000000</td>\n",
       "      <td>1000.000000</td>\n",
       "      <td>-0.282858</td>\n",
       "    </tr>\n",
       "    <tr>\n",
       "      <th>4</th>\n",
       "      <td>0.342289</td>\n",
       "      <td>1.070417</td>\n",
       "      <td>0.620291</td>\n",
       "      <td>0.211575</td>\n",
       "      <td>0.870712</td>\n",
       "    </tr>\n",
       "  </tbody>\n",
       "</table>\n",
       "</div>"
      ],
      "text/plain": [
       "          0            1            2            3         4\n",
       "0  0.075130     0.698190     0.914568    -2.039216 -0.495184\n",
       "1 -0.797642  1000.000000  1000.000000  1000.000000 -0.214399\n",
       "2  0.257646  1000.000000  1000.000000  1000.000000 -0.564885\n",
       "3  0.127821  1000.000000  1000.000000  1000.000000 -0.282858\n",
       "4  0.342289     1.070417     0.620291     0.211575  0.870712"
      ]
     },
     "execution_count": 24,
     "metadata": {},
     "output_type": "execute_result"
    }
   ],
   "source": [
    "df"
   ]
  },
  {
   "cell_type": "code",
   "execution_count": null,
   "metadata": {},
   "outputs": [],
   "source": []
  },
  {
   "cell_type": "code",
   "execution_count": 112,
   "metadata": {},
   "outputs": [
    {
     "data": {
      "text/plain": [
       "(9,)"
      ]
     },
     "execution_count": 112,
     "metadata": {},
     "output_type": "execute_result"
    }
   ],
   "source": [
    "np.arange(9).shape"
   ]
  },
  {
   "cell_type": "code",
   "execution_count": 113,
   "metadata": {},
   "outputs": [
    {
     "data": {
      "text/plain": [
       "(1, 9)"
      ]
     },
     "execution_count": 113,
     "metadata": {},
     "output_type": "execute_result"
    }
   ],
   "source": [
    "np.arange(9).reshape(1, 9).shape"
   ]
  },
  {
   "cell_type": "code",
   "execution_count": 117,
   "metadata": {},
   "outputs": [
    {
     "data": {
      "text/plain": [
       "(9,)"
      ]
     },
     "execution_count": 117,
     "metadata": {},
     "output_type": "execute_result"
    }
   ],
   "source": [
    "np.arange(9).reshape(1, 9).ravel().shape"
   ]
  },
  {
   "cell_type": "code",
   "execution_count": null,
   "metadata": {},
   "outputs": [],
   "source": []
  },
  {
   "cell_type": "code",
   "execution_count": 40,
   "metadata": {},
   "outputs": [],
   "source": [
    "max_depth_value = range(0,10)\n",
    "train_score = range(0,10)\n",
    "test_score = range(0,10)\n",
    "scores_data = pd.DataFrame()"
   ]
  },
  {
   "cell_type": "code",
   "execution_count": 41,
   "metadata": {},
   "outputs": [],
   "source": [
    "for max_depth in max_depth_value:\n",
    "    temp_scores_data = pd.DataFrame([{'max_depth': max_depth,\n",
    "                                    \"train_score\": train_score[max_depth],\n",
    "                                    'test_score': test_score[max_depth]}])\n",
    "    scores_data = pd.concat([temp_scores_data, scores_data], ignore_index=True)"
   ]
  },
  {
   "cell_type": "code",
   "execution_count": 42,
   "metadata": {},
   "outputs": [
    {
     "data": {
      "text/html": [
       "<div>\n",
       "<style scoped>\n",
       "    .dataframe tbody tr th:only-of-type {\n",
       "        vertical-align: middle;\n",
       "    }\n",
       "\n",
       "    .dataframe tbody tr th {\n",
       "        vertical-align: top;\n",
       "    }\n",
       "\n",
       "    .dataframe thead th {\n",
       "        text-align: right;\n",
       "    }\n",
       "</style>\n",
       "<table border=\"1\" class=\"dataframe\">\n",
       "  <thead>\n",
       "    <tr style=\"text-align: right;\">\n",
       "      <th></th>\n",
       "      <th>max_depth</th>\n",
       "      <th>train_score</th>\n",
       "      <th>test_score</th>\n",
       "    </tr>\n",
       "  </thead>\n",
       "  <tbody>\n",
       "    <tr>\n",
       "      <th>0</th>\n",
       "      <td>9</td>\n",
       "      <td>9</td>\n",
       "      <td>9</td>\n",
       "    </tr>\n",
       "    <tr>\n",
       "      <th>1</th>\n",
       "      <td>8</td>\n",
       "      <td>8</td>\n",
       "      <td>8</td>\n",
       "    </tr>\n",
       "    <tr>\n",
       "      <th>2</th>\n",
       "      <td>7</td>\n",
       "      <td>7</td>\n",
       "      <td>7</td>\n",
       "    </tr>\n",
       "    <tr>\n",
       "      <th>3</th>\n",
       "      <td>6</td>\n",
       "      <td>6</td>\n",
       "      <td>6</td>\n",
       "    </tr>\n",
       "    <tr>\n",
       "      <th>4</th>\n",
       "      <td>5</td>\n",
       "      <td>5</td>\n",
       "      <td>5</td>\n",
       "    </tr>\n",
       "    <tr>\n",
       "      <th>5</th>\n",
       "      <td>4</td>\n",
       "      <td>4</td>\n",
       "      <td>4</td>\n",
       "    </tr>\n",
       "    <tr>\n",
       "      <th>6</th>\n",
       "      <td>3</td>\n",
       "      <td>3</td>\n",
       "      <td>3</td>\n",
       "    </tr>\n",
       "    <tr>\n",
       "      <th>7</th>\n",
       "      <td>2</td>\n",
       "      <td>2</td>\n",
       "      <td>2</td>\n",
       "    </tr>\n",
       "    <tr>\n",
       "      <th>8</th>\n",
       "      <td>1</td>\n",
       "      <td>1</td>\n",
       "      <td>1</td>\n",
       "    </tr>\n",
       "    <tr>\n",
       "      <th>9</th>\n",
       "      <td>0</td>\n",
       "      <td>0</td>\n",
       "      <td>0</td>\n",
       "    </tr>\n",
       "  </tbody>\n",
       "</table>\n",
       "</div>"
      ],
      "text/plain": [
       "   max_depth  train_score  test_score\n",
       "0          9            9           9\n",
       "1          8            8           8\n",
       "2          7            7           7\n",
       "3          6            6           6\n",
       "4          5            5           5\n",
       "5          4            4           4\n",
       "6          3            3           3\n",
       "7          2            2           2\n",
       "8          1            1           1\n",
       "9          0            0           0"
      ]
     },
     "execution_count": 42,
     "metadata": {},
     "output_type": "execute_result"
    }
   ],
   "source": [
    "scores_data"
   ]
  },
  {
   "cell_type": "code",
   "execution_count": null,
   "metadata": {},
   "outputs": [],
   "source": []
  },
  {
   "cell_type": "code",
   "execution_count": 6,
   "metadata": {},
   "outputs": [
    {
     "data": {
      "text/plain": [
       "False"
      ]
     },
     "execution_count": 6,
     "metadata": {},
     "output_type": "execute_result"
    }
   ],
   "source": [
    "def palindrome_check(s):\n",
    "    return s == s[::-1]\n",
    "\n",
    "palindrome_check('dsfgads')"
   ]
  },
  {
   "cell_type": "code",
   "execution_count": 12,
   "metadata": {},
   "outputs": [
    {
     "data": {
      "text/plain": [
       "False"
      ]
     },
     "execution_count": 12,
     "metadata": {},
     "output_type": "execute_result"
    }
   ],
   "source": [
    "def anagram_check(s1, s2):\n",
    "    return sorted(s1.lower()) == sorted(s2.lower())\n",
    "\n",
    "anagram_check('песнь', 'снедь')"
   ]
  },
  {
   "cell_type": "code",
   "execution_count": 20,
   "metadata": {},
   "outputs": [
    {
     "data": {
      "text/plain": [
       "'9W3B24W1B14W'"
      ]
     },
     "execution_count": 20,
     "metadata": {},
     "output_type": "execute_result"
    }
   ],
   "source": [
    "def rle_encode(s):\n",
    "    answer = ''\n",
    "    char_now = s[0]\n",
    "    char_amount = 1\n",
    "\n",
    "    for char in s[1:]:\n",
    "        if char == char_now:\n",
    "            char_amount += 1\n",
    "        else:\n",
    "            answer += str(char_amount) + char_now\n",
    "            char_now = char\n",
    "            char_amount = 1\n",
    "    \n",
    "    answer += str(char_amount) + char_now\n",
    "    char_now = char\n",
    "    char_amount = 1\n",
    "    \n",
    "    return answer\n",
    "\n",
    "rle_encode('WWWWWWWWWBBBWWWWWWWWWWWWWWWWWWWWWWWWBWWWWWWWWWWWWWW')"
   ]
  },
  {
   "cell_type": "code",
   "execution_count": null,
   "metadata": {},
   "outputs": [],
   "source": []
  },
  {
   "cell_type": "code",
   "execution_count": 3,
   "metadata": {},
   "outputs": [
    {
     "data": {
      "text/html": [
       "<div>\n",
       "<style scoped>\n",
       "    .dataframe tbody tr th:only-of-type {\n",
       "        vertical-align: middle;\n",
       "    }\n",
       "\n",
       "    .dataframe tbody tr th {\n",
       "        vertical-align: top;\n",
       "    }\n",
       "\n",
       "    .dataframe thead th {\n",
       "        text-align: right;\n",
       "    }\n",
       "</style>\n",
       "<table border=\"1\" class=\"dataframe\">\n",
       "  <thead>\n",
       "    <tr style=\"text-align: right;\">\n",
       "      <th></th>\n",
       "      <th>pickup</th>\n",
       "      <th>dropoff</th>\n",
       "      <th>passengers</th>\n",
       "      <th>distance</th>\n",
       "      <th>fare</th>\n",
       "      <th>tip</th>\n",
       "      <th>tolls</th>\n",
       "      <th>total</th>\n",
       "      <th>color</th>\n",
       "      <th>payment</th>\n",
       "      <th>pickup_zone</th>\n",
       "      <th>dropoff_zone</th>\n",
       "      <th>pickup_borough</th>\n",
       "      <th>dropoff_borough</th>\n",
       "    </tr>\n",
       "  </thead>\n",
       "  <tbody>\n",
       "    <tr>\n",
       "      <th>0</th>\n",
       "      <td>2019-03-23 20:21:09</td>\n",
       "      <td>2019-03-23 20:27:24</td>\n",
       "      <td>1</td>\n",
       "      <td>1.60</td>\n",
       "      <td>7.0</td>\n",
       "      <td>2.15</td>\n",
       "      <td>0.0</td>\n",
       "      <td>12.95</td>\n",
       "      <td>yellow</td>\n",
       "      <td>credit card</td>\n",
       "      <td>Lenox Hill West</td>\n",
       "      <td>UN/Turtle Bay South</td>\n",
       "      <td>Manhattan</td>\n",
       "      <td>Manhattan</td>\n",
       "    </tr>\n",
       "    <tr>\n",
       "      <th>1</th>\n",
       "      <td>2019-03-04 16:11:55</td>\n",
       "      <td>2019-03-04 16:19:00</td>\n",
       "      <td>1</td>\n",
       "      <td>0.79</td>\n",
       "      <td>5.0</td>\n",
       "      <td>0.00</td>\n",
       "      <td>0.0</td>\n",
       "      <td>9.30</td>\n",
       "      <td>yellow</td>\n",
       "      <td>cash</td>\n",
       "      <td>Upper West Side South</td>\n",
       "      <td>Upper West Side South</td>\n",
       "      <td>Manhattan</td>\n",
       "      <td>Manhattan</td>\n",
       "    </tr>\n",
       "    <tr>\n",
       "      <th>2</th>\n",
       "      <td>2019-03-27 17:53:01</td>\n",
       "      <td>2019-03-27 18:00:25</td>\n",
       "      <td>1</td>\n",
       "      <td>1.37</td>\n",
       "      <td>7.5</td>\n",
       "      <td>2.36</td>\n",
       "      <td>0.0</td>\n",
       "      <td>14.16</td>\n",
       "      <td>yellow</td>\n",
       "      <td>credit card</td>\n",
       "      <td>Alphabet City</td>\n",
       "      <td>West Village</td>\n",
       "      <td>Manhattan</td>\n",
       "      <td>Manhattan</td>\n",
       "    </tr>\n",
       "    <tr>\n",
       "      <th>3</th>\n",
       "      <td>2019-03-10 01:23:59</td>\n",
       "      <td>2019-03-10 01:49:51</td>\n",
       "      <td>1</td>\n",
       "      <td>7.70</td>\n",
       "      <td>27.0</td>\n",
       "      <td>6.15</td>\n",
       "      <td>0.0</td>\n",
       "      <td>36.95</td>\n",
       "      <td>yellow</td>\n",
       "      <td>credit card</td>\n",
       "      <td>Hudson Sq</td>\n",
       "      <td>Yorkville West</td>\n",
       "      <td>Manhattan</td>\n",
       "      <td>Manhattan</td>\n",
       "    </tr>\n",
       "    <tr>\n",
       "      <th>4</th>\n",
       "      <td>2019-03-30 13:27:42</td>\n",
       "      <td>2019-03-30 13:37:14</td>\n",
       "      <td>3</td>\n",
       "      <td>2.16</td>\n",
       "      <td>9.0</td>\n",
       "      <td>1.10</td>\n",
       "      <td>0.0</td>\n",
       "      <td>13.40</td>\n",
       "      <td>yellow</td>\n",
       "      <td>credit card</td>\n",
       "      <td>Midtown East</td>\n",
       "      <td>Yorkville West</td>\n",
       "      <td>Manhattan</td>\n",
       "      <td>Manhattan</td>\n",
       "    </tr>\n",
       "  </tbody>\n",
       "</table>\n",
       "</div>"
      ],
      "text/plain": [
       "               pickup             dropoff  passengers  distance  fare   tip  \\\n",
       "0 2019-03-23 20:21:09 2019-03-23 20:27:24           1      1.60   7.0  2.15   \n",
       "1 2019-03-04 16:11:55 2019-03-04 16:19:00           1      0.79   5.0  0.00   \n",
       "2 2019-03-27 17:53:01 2019-03-27 18:00:25           1      1.37   7.5  2.36   \n",
       "3 2019-03-10 01:23:59 2019-03-10 01:49:51           1      7.70  27.0  6.15   \n",
       "4 2019-03-30 13:27:42 2019-03-30 13:37:14           3      2.16   9.0  1.10   \n",
       "\n",
       "   tolls  total   color      payment            pickup_zone  \\\n",
       "0    0.0  12.95  yellow  credit card        Lenox Hill West   \n",
       "1    0.0   9.30  yellow         cash  Upper West Side South   \n",
       "2    0.0  14.16  yellow  credit card          Alphabet City   \n",
       "3    0.0  36.95  yellow  credit card              Hudson Sq   \n",
       "4    0.0  13.40  yellow  credit card           Midtown East   \n",
       "\n",
       "            dropoff_zone pickup_borough dropoff_borough  \n",
       "0    UN/Turtle Bay South      Manhattan       Manhattan  \n",
       "1  Upper West Side South      Manhattan       Manhattan  \n",
       "2           West Village      Manhattan       Manhattan  \n",
       "3         Yorkville West      Manhattan       Manhattan  \n",
       "4         Yorkville West      Manhattan       Manhattan  "
      ]
     },
     "execution_count": 3,
     "metadata": {},
     "output_type": "execute_result"
    }
   ],
   "source": [
    "df= sns.load_dataset('taxis')\n",
    "df.head()"
   ]
  },
  {
   "cell_type": "code",
   "execution_count": 43,
   "metadata": {},
   "outputs": [],
   "source": [
    "df_total = df.groupby(['pickup_borough', 'dropoff_borough', 'payment']).agg({'total':['sum', 'count']}).T.copy()"
   ]
  },
  {
   "cell_type": "code",
   "execution_count": 44,
   "metadata": {},
   "outputs": [
    {
     "data": {
      "text/html": [
       "<div>\n",
       "<style scoped>\n",
       "    .dataframe tbody tr th:only-of-type {\n",
       "        vertical-align: middle;\n",
       "    }\n",
       "\n",
       "    .dataframe tbody tr th {\n",
       "        vertical-align: top;\n",
       "    }\n",
       "\n",
       "    .dataframe thead tr th {\n",
       "        text-align: left;\n",
       "    }\n",
       "</style>\n",
       "<table border=\"1\" class=\"dataframe\">\n",
       "  <thead>\n",
       "    <tr>\n",
       "      <th></th>\n",
       "      <th>pickup_borough</th>\n",
       "      <th colspan=\"6\" halign=\"left\">Bronx</th>\n",
       "      <th colspan=\"7\" halign=\"left\">Brooklyn</th>\n",
       "      <th colspan=\"9\" halign=\"left\">Manhattan</th>\n",
       "      <th colspan=\"8\" halign=\"left\">Queens</th>\n",
       "    </tr>\n",
       "    <tr>\n",
       "      <th></th>\n",
       "      <th>dropoff_borough</th>\n",
       "      <th colspan=\"2\" halign=\"left\">Bronx</th>\n",
       "      <th>Brooklyn</th>\n",
       "      <th colspan=\"2\" halign=\"left\">Manhattan</th>\n",
       "      <th>Queens</th>\n",
       "      <th>Bronx</th>\n",
       "      <th colspan=\"2\" halign=\"left\">Brooklyn</th>\n",
       "      <th colspan=\"2\" halign=\"left\">Manhattan</th>\n",
       "      <th colspan=\"2\" halign=\"left\">Queens</th>\n",
       "      <th colspan=\"2\" halign=\"left\">Bronx</th>\n",
       "      <th colspan=\"2\" halign=\"left\">Brooklyn</th>\n",
       "      <th colspan=\"2\" halign=\"left\">Manhattan</th>\n",
       "      <th colspan=\"2\" halign=\"left\">Queens</th>\n",
       "      <th>Staten Island</th>\n",
       "      <th colspan=\"2\" halign=\"left\">Bronx</th>\n",
       "      <th colspan=\"2\" halign=\"left\">Brooklyn</th>\n",
       "      <th colspan=\"2\" halign=\"left\">Manhattan</th>\n",
       "      <th colspan=\"2\" halign=\"left\">Queens</th>\n",
       "    </tr>\n",
       "    <tr>\n",
       "      <th></th>\n",
       "      <th>payment</th>\n",
       "      <th>cash</th>\n",
       "      <th>credit card</th>\n",
       "      <th>credit card</th>\n",
       "      <th>cash</th>\n",
       "      <th>credit card</th>\n",
       "      <th>credit card</th>\n",
       "      <th>credit card</th>\n",
       "      <th>cash</th>\n",
       "      <th>credit card</th>\n",
       "      <th>cash</th>\n",
       "      <th>credit card</th>\n",
       "      <th>cash</th>\n",
       "      <th>credit card</th>\n",
       "      <th>cash</th>\n",
       "      <th>credit card</th>\n",
       "      <th>cash</th>\n",
       "      <th>credit card</th>\n",
       "      <th>cash</th>\n",
       "      <th>credit card</th>\n",
       "      <th>cash</th>\n",
       "      <th>credit card</th>\n",
       "      <th>credit card</th>\n",
       "      <th>cash</th>\n",
       "      <th>credit card</th>\n",
       "      <th>cash</th>\n",
       "      <th>credit card</th>\n",
       "      <th>cash</th>\n",
       "      <th>credit card</th>\n",
       "      <th>cash</th>\n",
       "      <th>credit card</th>\n",
       "    </tr>\n",
       "  </thead>\n",
       "  <tbody>\n",
       "    <tr>\n",
       "      <th rowspan=\"2\" valign=\"top\">total</th>\n",
       "      <th>sum</th>\n",
       "      <td>195.2</td>\n",
       "      <td>837.6</td>\n",
       "      <td>236.13</td>\n",
       "      <td>61.1</td>\n",
       "      <td>737.46</td>\n",
       "      <td>186.27</td>\n",
       "      <td>324.12</td>\n",
       "      <td>1171.2</td>\n",
       "      <td>2682.01</td>\n",
       "      <td>233.55</td>\n",
       "      <td>1875.87</td>\n",
       "      <td>83.9</td>\n",
       "      <td>883.93</td>\n",
       "      <td>619.1</td>\n",
       "      <td>863.63</td>\n",
       "      <td>914.79</td>\n",
       "      <td>3958.23</td>\n",
       "      <td>16130.76</td>\n",
       "      <td>56546.25</td>\n",
       "      <td>1223.82</td>\n",
       "      <td>6444.04</td>\n",
       "      <td>153.73</td>\n",
       "      <td>257.74</td>\n",
       "      <td>329.85</td>\n",
       "      <td>490.2</td>\n",
       "      <td>2135.61</td>\n",
       "      <td>1902.09</td>\n",
       "      <td>9469.01</td>\n",
       "      <td>2459.78</td>\n",
       "      <td>2698.41</td>\n",
       "    </tr>\n",
       "    <tr>\n",
       "      <th>count</th>\n",
       "      <td>21.0</td>\n",
       "      <td>45.0</td>\n",
       "      <td>4.00</td>\n",
       "      <td>4.0</td>\n",
       "      <td>21.00</td>\n",
       "      <td>4.00</td>\n",
       "      <td>5.00</td>\n",
       "      <td>104.0</td>\n",
       "      <td>176.00</td>\n",
       "      <td>11.00</td>\n",
       "      <td>56.00</td>\n",
       "      <td>3.0</td>\n",
       "      <td>23.00</td>\n",
       "      <td>27.0</td>\n",
       "      <td>27.00</td>\n",
       "      <td>35.00</td>\n",
       "      <td>116.00</td>\n",
       "      <td>1298.00</td>\n",
       "      <td>3559.00</td>\n",
       "      <td>34.00</td>\n",
       "      <td>128.00</td>\n",
       "      <td>2.00</td>\n",
       "      <td>4.00</td>\n",
       "      <td>7.00</td>\n",
       "      <td>14.0</td>\n",
       "      <td>48.00</td>\n",
       "      <td>47.00</td>\n",
       "      <td>176.00</td>\n",
       "      <td>193.00</td>\n",
       "      <td>149.00</td>\n",
       "    </tr>\n",
       "  </tbody>\n",
       "</table>\n",
       "</div>"
      ],
      "text/plain": [
       "pickup_borough   Bronx                                                \\\n",
       "dropoff_borough  Bronx                Brooklyn Manhattan               \n",
       "payment           cash credit card credit card      cash credit card   \n",
       "total sum        195.2       837.6      236.13      61.1      737.46   \n",
       "      count       21.0        45.0        4.00       4.0       21.00   \n",
       "\n",
       "pickup_borough                 Brooklyn                                 \\\n",
       "dropoff_borough      Queens       Bronx Brooklyn             Manhattan   \n",
       "payment         credit card credit card     cash credit card      cash   \n",
       "total sum            186.27      324.12   1171.2     2682.01    233.55   \n",
       "      count            4.00        5.00    104.0      176.00     11.00   \n",
       "\n",
       "pickup_borough                                 Manhattan                       \\\n",
       "dropoff_borough             Queens                 Bronx             Brooklyn   \n",
       "payment         credit card   cash credit card      cash credit card     cash   \n",
       "total sum           1875.87   83.9      883.93     619.1      863.63   914.79   \n",
       "      count           56.00    3.0       23.00      27.0       27.00    35.00   \n",
       "\n",
       "pickup_borough                                                          \\\n",
       "dropoff_borough             Manhattan               Queens               \n",
       "payment         credit card      cash credit card     cash credit card   \n",
       "total sum           3958.23  16130.76    56546.25  1223.82     6444.04   \n",
       "      count          116.00   1298.00     3559.00    34.00      128.00   \n",
       "\n",
       "pickup_borough                 Queens                                   \\\n",
       "dropoff_borough Staten Island   Bronx             Brooklyn               \n",
       "payment           credit card    cash credit card     cash credit card   \n",
       "total sum              153.73  257.74      329.85    490.2     2135.61   \n",
       "      count              2.00    4.00        7.00     14.0       48.00   \n",
       "\n",
       "pickup_borough                                              \n",
       "dropoff_borough Manhattan               Queens              \n",
       "payment              cash credit card     cash credit card  \n",
       "total sum         1902.09     9469.01  2459.78     2698.41  \n",
       "      count         47.00      176.00   193.00      149.00  "
      ]
     },
     "execution_count": 44,
     "metadata": {},
     "output_type": "execute_result"
    }
   ],
   "source": [
    "df_total"
   ]
  },
  {
   "cell_type": "code",
   "execution_count": 45,
   "metadata": {},
   "outputs": [
    {
     "data": {
      "text/plain": [
       "MultiIndex([(    'Bronx',         'Bronx',        'cash'),\n",
       "            (    'Bronx',         'Bronx', 'credit card'),\n",
       "            (    'Bronx',      'Brooklyn', 'credit card'),\n",
       "            (    'Bronx',     'Manhattan',        'cash'),\n",
       "            (    'Bronx',     'Manhattan', 'credit card'),\n",
       "            (    'Bronx',        'Queens', 'credit card'),\n",
       "            ( 'Brooklyn',         'Bronx', 'credit card'),\n",
       "            ( 'Brooklyn',      'Brooklyn',        'cash'),\n",
       "            ( 'Brooklyn',      'Brooklyn', 'credit card'),\n",
       "            ( 'Brooklyn',     'Manhattan',        'cash'),\n",
       "            ( 'Brooklyn',     'Manhattan', 'credit card'),\n",
       "            ( 'Brooklyn',        'Queens',        'cash'),\n",
       "            ( 'Brooklyn',        'Queens', 'credit card'),\n",
       "            ('Manhattan',         'Bronx',        'cash'),\n",
       "            ('Manhattan',         'Bronx', 'credit card'),\n",
       "            ('Manhattan',      'Brooklyn',        'cash'),\n",
       "            ('Manhattan',      'Brooklyn', 'credit card'),\n",
       "            ('Manhattan',     'Manhattan',        'cash'),\n",
       "            ('Manhattan',     'Manhattan', 'credit card'),\n",
       "            ('Manhattan',        'Queens',        'cash'),\n",
       "            ('Manhattan',        'Queens', 'credit card'),\n",
       "            ('Manhattan', 'Staten Island', 'credit card'),\n",
       "            (   'Queens',         'Bronx',        'cash'),\n",
       "            (   'Queens',         'Bronx', 'credit card'),\n",
       "            (   'Queens',      'Brooklyn',        'cash'),\n",
       "            (   'Queens',      'Brooklyn', 'credit card'),\n",
       "            (   'Queens',     'Manhattan',        'cash'),\n",
       "            (   'Queens',     'Manhattan', 'credit card'),\n",
       "            (   'Queens',        'Queens',        'cash'),\n",
       "            (   'Queens',        'Queens', 'credit card')],\n",
       "           names=['pickup_borough', 'dropoff_borough', 'payment'])"
      ]
     },
     "execution_count": 45,
     "metadata": {},
     "output_type": "execute_result"
    }
   ],
   "source": [
    "df_total.columns"
   ]
  },
  {
   "cell_type": "code",
   "execution_count": 46,
   "metadata": {},
   "outputs": [
    {
     "data": {
      "text/plain": [
       "array([('Bronx', 'Bronx', 'cash'), ('Bronx', 'Bronx', 'credit card'),\n",
       "       ('Bronx', 'Brooklyn', 'credit card'),\n",
       "       ('Bronx', 'Manhattan', 'cash'),\n",
       "       ('Bronx', 'Manhattan', 'credit card'),\n",
       "       ('Bronx', 'Queens', 'credit card'),\n",
       "       ('Brooklyn', 'Bronx', 'credit card'),\n",
       "       ('Brooklyn', 'Brooklyn', 'cash'),\n",
       "       ('Brooklyn', 'Brooklyn', 'credit card'),\n",
       "       ('Brooklyn', 'Manhattan', 'cash'),\n",
       "       ('Brooklyn', 'Manhattan', 'credit card'),\n",
       "       ('Brooklyn', 'Queens', 'cash'),\n",
       "       ('Brooklyn', 'Queens', 'credit card'),\n",
       "       ('Manhattan', 'Bronx', 'cash'),\n",
       "       ('Manhattan', 'Bronx', 'credit card'),\n",
       "       ('Manhattan', 'Brooklyn', 'cash'),\n",
       "       ('Manhattan', 'Brooklyn', 'credit card'),\n",
       "       ('Manhattan', 'Manhattan', 'cash'),\n",
       "       ('Manhattan', 'Manhattan', 'credit card'),\n",
       "       ('Manhattan', 'Queens', 'cash'),\n",
       "       ('Manhattan', 'Queens', 'credit card'),\n",
       "       ('Manhattan', 'Staten Island', 'credit card'),\n",
       "       ('Queens', 'Bronx', 'cash'), ('Queens', 'Bronx', 'credit card'),\n",
       "       ('Queens', 'Brooklyn', 'cash'),\n",
       "       ('Queens', 'Brooklyn', 'credit card'),\n",
       "       ('Queens', 'Manhattan', 'cash'),\n",
       "       ('Queens', 'Manhattan', 'credit card'),\n",
       "       ('Queens', 'Queens', 'cash'), ('Queens', 'Queens', 'credit card')],\n",
       "      dtype=object)"
      ]
     },
     "execution_count": 46,
     "metadata": {},
     "output_type": "execute_result"
    }
   ],
   "source": [
    "df_total.columns.values"
   ]
  },
  {
   "cell_type": "code",
   "execution_count": 47,
   "metadata": {},
   "outputs": [],
   "source": [
    "df_total.columns = ['_'.join(col).strip() for col  in df_total.columns.values]"
   ]
  },
  {
   "cell_type": "code",
   "execution_count": 48,
   "metadata": {},
   "outputs": [
    {
     "data": {
      "text/html": [
       "<div>\n",
       "<style scoped>\n",
       "    .dataframe tbody tr th:only-of-type {\n",
       "        vertical-align: middle;\n",
       "    }\n",
       "\n",
       "    .dataframe tbody tr th {\n",
       "        vertical-align: top;\n",
       "    }\n",
       "\n",
       "    .dataframe thead th {\n",
       "        text-align: right;\n",
       "    }\n",
       "</style>\n",
       "<table border=\"1\" class=\"dataframe\">\n",
       "  <thead>\n",
       "    <tr style=\"text-align: right;\">\n",
       "      <th></th>\n",
       "      <th></th>\n",
       "      <th>Bronx_Bronx_cash</th>\n",
       "      <th>Bronx_Bronx_credit card</th>\n",
       "      <th>Bronx_Brooklyn_credit card</th>\n",
       "      <th>Bronx_Manhattan_cash</th>\n",
       "      <th>Bronx_Manhattan_credit card</th>\n",
       "      <th>Bronx_Queens_credit card</th>\n",
       "      <th>Brooklyn_Bronx_credit card</th>\n",
       "      <th>Brooklyn_Brooklyn_cash</th>\n",
       "      <th>Brooklyn_Brooklyn_credit card</th>\n",
       "      <th>Brooklyn_Manhattan_cash</th>\n",
       "      <th>Brooklyn_Manhattan_credit card</th>\n",
       "      <th>Brooklyn_Queens_cash</th>\n",
       "      <th>Brooklyn_Queens_credit card</th>\n",
       "      <th>Manhattan_Bronx_cash</th>\n",
       "      <th>Manhattan_Bronx_credit card</th>\n",
       "      <th>Manhattan_Brooklyn_cash</th>\n",
       "      <th>Manhattan_Brooklyn_credit card</th>\n",
       "      <th>Manhattan_Manhattan_cash</th>\n",
       "      <th>Manhattan_Manhattan_credit card</th>\n",
       "      <th>Manhattan_Queens_cash</th>\n",
       "      <th>Manhattan_Queens_credit card</th>\n",
       "      <th>Manhattan_Staten Island_credit card</th>\n",
       "      <th>Queens_Bronx_cash</th>\n",
       "      <th>Queens_Bronx_credit card</th>\n",
       "      <th>Queens_Brooklyn_cash</th>\n",
       "      <th>Queens_Brooklyn_credit card</th>\n",
       "      <th>Queens_Manhattan_cash</th>\n",
       "      <th>Queens_Manhattan_credit card</th>\n",
       "      <th>Queens_Queens_cash</th>\n",
       "      <th>Queens_Queens_credit card</th>\n",
       "    </tr>\n",
       "  </thead>\n",
       "  <tbody>\n",
       "    <tr>\n",
       "      <th rowspan=\"2\" valign=\"top\">total</th>\n",
       "      <th>sum</th>\n",
       "      <td>195.2</td>\n",
       "      <td>837.6</td>\n",
       "      <td>236.13</td>\n",
       "      <td>61.1</td>\n",
       "      <td>737.46</td>\n",
       "      <td>186.27</td>\n",
       "      <td>324.12</td>\n",
       "      <td>1171.2</td>\n",
       "      <td>2682.01</td>\n",
       "      <td>233.55</td>\n",
       "      <td>1875.87</td>\n",
       "      <td>83.9</td>\n",
       "      <td>883.93</td>\n",
       "      <td>619.1</td>\n",
       "      <td>863.63</td>\n",
       "      <td>914.79</td>\n",
       "      <td>3958.23</td>\n",
       "      <td>16130.76</td>\n",
       "      <td>56546.25</td>\n",
       "      <td>1223.82</td>\n",
       "      <td>6444.04</td>\n",
       "      <td>153.73</td>\n",
       "      <td>257.74</td>\n",
       "      <td>329.85</td>\n",
       "      <td>490.2</td>\n",
       "      <td>2135.61</td>\n",
       "      <td>1902.09</td>\n",
       "      <td>9469.01</td>\n",
       "      <td>2459.78</td>\n",
       "      <td>2698.41</td>\n",
       "    </tr>\n",
       "    <tr>\n",
       "      <th>count</th>\n",
       "      <td>21.0</td>\n",
       "      <td>45.0</td>\n",
       "      <td>4.00</td>\n",
       "      <td>4.0</td>\n",
       "      <td>21.00</td>\n",
       "      <td>4.00</td>\n",
       "      <td>5.00</td>\n",
       "      <td>104.0</td>\n",
       "      <td>176.00</td>\n",
       "      <td>11.00</td>\n",
       "      <td>56.00</td>\n",
       "      <td>3.0</td>\n",
       "      <td>23.00</td>\n",
       "      <td>27.0</td>\n",
       "      <td>27.00</td>\n",
       "      <td>35.00</td>\n",
       "      <td>116.00</td>\n",
       "      <td>1298.00</td>\n",
       "      <td>3559.00</td>\n",
       "      <td>34.00</td>\n",
       "      <td>128.00</td>\n",
       "      <td>2.00</td>\n",
       "      <td>4.00</td>\n",
       "      <td>7.00</td>\n",
       "      <td>14.0</td>\n",
       "      <td>48.00</td>\n",
       "      <td>47.00</td>\n",
       "      <td>176.00</td>\n",
       "      <td>193.00</td>\n",
       "      <td>149.00</td>\n",
       "    </tr>\n",
       "  </tbody>\n",
       "</table>\n",
       "</div>"
      ],
      "text/plain": [
       "             Bronx_Bronx_cash  Bronx_Bronx_credit card  \\\n",
       "total sum               195.2                    837.6   \n",
       "      count              21.0                     45.0   \n",
       "\n",
       "             Bronx_Brooklyn_credit card  Bronx_Manhattan_cash  \\\n",
       "total sum                        236.13                  61.1   \n",
       "      count                        4.00                   4.0   \n",
       "\n",
       "             Bronx_Manhattan_credit card  Bronx_Queens_credit card  \\\n",
       "total sum                         737.46                    186.27   \n",
       "      count                        21.00                      4.00   \n",
       "\n",
       "             Brooklyn_Bronx_credit card  Brooklyn_Brooklyn_cash  \\\n",
       "total sum                        324.12                  1171.2   \n",
       "      count                        5.00                   104.0   \n",
       "\n",
       "             Brooklyn_Brooklyn_credit card  Brooklyn_Manhattan_cash  \\\n",
       "total sum                          2682.01                   233.55   \n",
       "      count                         176.00                    11.00   \n",
       "\n",
       "             Brooklyn_Manhattan_credit card  Brooklyn_Queens_cash  \\\n",
       "total sum                           1875.87                  83.9   \n",
       "      count                           56.00                   3.0   \n",
       "\n",
       "             Brooklyn_Queens_credit card  Manhattan_Bronx_cash  \\\n",
       "total sum                         883.93                 619.1   \n",
       "      count                        23.00                  27.0   \n",
       "\n",
       "             Manhattan_Bronx_credit card  Manhattan_Brooklyn_cash  \\\n",
       "total sum                         863.63                   914.79   \n",
       "      count                        27.00                    35.00   \n",
       "\n",
       "             Manhattan_Brooklyn_credit card  Manhattan_Manhattan_cash  \\\n",
       "total sum                           3958.23                  16130.76   \n",
       "      count                          116.00                   1298.00   \n",
       "\n",
       "             Manhattan_Manhattan_credit card  Manhattan_Queens_cash  \\\n",
       "total sum                           56546.25                1223.82   \n",
       "      count                          3559.00                  34.00   \n",
       "\n",
       "             Manhattan_Queens_credit card  \\\n",
       "total sum                         6444.04   \n",
       "      count                        128.00   \n",
       "\n",
       "             Manhattan_Staten Island_credit card  Queens_Bronx_cash  \\\n",
       "total sum                                 153.73             257.74   \n",
       "      count                                 2.00               4.00   \n",
       "\n",
       "             Queens_Bronx_credit card  Queens_Brooklyn_cash  \\\n",
       "total sum                      329.85                 490.2   \n",
       "      count                      7.00                  14.0   \n",
       "\n",
       "             Queens_Brooklyn_credit card  Queens_Manhattan_cash  \\\n",
       "total sum                        2135.61                1902.09   \n",
       "      count                        48.00                  47.00   \n",
       "\n",
       "             Queens_Manhattan_credit card  Queens_Queens_cash  \\\n",
       "total sum                         9469.01             2459.78   \n",
       "      count                        176.00              193.00   \n",
       "\n",
       "             Queens_Queens_credit card  \n",
       "total sum                      2698.41  \n",
       "      count                     149.00  "
      ]
     },
     "execution_count": 48,
     "metadata": {},
     "output_type": "execute_result"
    }
   ],
   "source": [
    "df_total"
   ]
  },
  {
   "cell_type": "code",
   "execution_count": 10,
   "metadata": {},
   "outputs": [
    {
     "data": {
      "text/html": [
       "<div>\n",
       "<style scoped>\n",
       "    .dataframe tbody tr th:only-of-type {\n",
       "        vertical-align: middle;\n",
       "    }\n",
       "\n",
       "    .dataframe tbody tr th {\n",
       "        vertical-align: top;\n",
       "    }\n",
       "\n",
       "    .dataframe thead th {\n",
       "        text-align: right;\n",
       "    }\n",
       "</style>\n",
       "<table border=\"1\" class=\"dataframe\">\n",
       "  <thead>\n",
       "    <tr style=\"text-align: right;\">\n",
       "      <th></th>\n",
       "      <th></th>\n",
       "      <th>MatchSum</th>\n",
       "      <th>MatchCount</th>\n",
       "    </tr>\n",
       "    <tr>\n",
       "      <th>pickup_borough</th>\n",
       "      <th>dropoff_borough</th>\n",
       "      <th></th>\n",
       "      <th></th>\n",
       "    </tr>\n",
       "  </thead>\n",
       "  <tbody>\n",
       "    <tr>\n",
       "      <th rowspan=\"4\" valign=\"top\">Bronx</th>\n",
       "      <th>Bronx</th>\n",
       "      <td>1032.80</td>\n",
       "      <td>66</td>\n",
       "    </tr>\n",
       "    <tr>\n",
       "      <th>Brooklyn</th>\n",
       "      <td>236.13</td>\n",
       "      <td>4</td>\n",
       "    </tr>\n",
       "    <tr>\n",
       "      <th>Manhattan</th>\n",
       "      <td>798.56</td>\n",
       "      <td>25</td>\n",
       "    </tr>\n",
       "    <tr>\n",
       "      <th>Queens</th>\n",
       "      <td>186.27</td>\n",
       "      <td>4</td>\n",
       "    </tr>\n",
       "    <tr>\n",
       "      <th rowspan=\"4\" valign=\"top\">Brooklyn</th>\n",
       "      <th>Bronx</th>\n",
       "      <td>324.12</td>\n",
       "      <td>5</td>\n",
       "    </tr>\n",
       "    <tr>\n",
       "      <th>Brooklyn</th>\n",
       "      <td>3863.81</td>\n",
       "      <td>282</td>\n",
       "    </tr>\n",
       "    <tr>\n",
       "      <th>Manhattan</th>\n",
       "      <td>2109.42</td>\n",
       "      <td>67</td>\n",
       "    </tr>\n",
       "    <tr>\n",
       "      <th>Queens</th>\n",
       "      <td>967.83</td>\n",
       "      <td>26</td>\n",
       "    </tr>\n",
       "    <tr>\n",
       "      <th rowspan=\"5\" valign=\"top\">Manhattan</th>\n",
       "      <th>Bronx</th>\n",
       "      <td>1489.53</td>\n",
       "      <td>55</td>\n",
       "    </tr>\n",
       "    <tr>\n",
       "      <th>Brooklyn</th>\n",
       "      <td>4921.12</td>\n",
       "      <td>153</td>\n",
       "    </tr>\n",
       "    <tr>\n",
       "      <th>Manhattan</th>\n",
       "      <td>73009.91</td>\n",
       "      <td>4885</td>\n",
       "    </tr>\n",
       "    <tr>\n",
       "      <th>Queens</th>\n",
       "      <td>7718.92</td>\n",
       "      <td>163</td>\n",
       "    </tr>\n",
       "    <tr>\n",
       "      <th>Staten Island</th>\n",
       "      <td>153.73</td>\n",
       "      <td>2</td>\n",
       "    </tr>\n",
       "    <tr>\n",
       "      <th rowspan=\"4\" valign=\"top\">Queens</th>\n",
       "      <th>Bronx</th>\n",
       "      <td>587.59</td>\n",
       "      <td>11</td>\n",
       "    </tr>\n",
       "    <tr>\n",
       "      <th>Brooklyn</th>\n",
       "      <td>2625.81</td>\n",
       "      <td>62</td>\n",
       "    </tr>\n",
       "    <tr>\n",
       "      <th>Manhattan</th>\n",
       "      <td>11436.66</td>\n",
       "      <td>224</td>\n",
       "    </tr>\n",
       "    <tr>\n",
       "      <th>Queens</th>\n",
       "      <td>5225.79</td>\n",
       "      <td>349</td>\n",
       "    </tr>\n",
       "  </tbody>\n",
       "</table>\n",
       "</div>"
      ],
      "text/plain": [
       "                                MatchSum  MatchCount\n",
       "pickup_borough dropoff_borough                      \n",
       "Bronx          Bronx             1032.80          66\n",
       "               Brooklyn           236.13           4\n",
       "               Manhattan          798.56          25\n",
       "               Queens             186.27           4\n",
       "Brooklyn       Bronx              324.12           5\n",
       "               Brooklyn          3863.81         282\n",
       "               Manhattan         2109.42          67\n",
       "               Queens             967.83          26\n",
       "Manhattan      Bronx             1489.53          55\n",
       "               Brooklyn          4921.12         153\n",
       "               Manhattan        73009.91        4885\n",
       "               Queens            7718.92         163\n",
       "               Staten Island      153.73           2\n",
       "Queens         Bronx              587.59          11\n",
       "               Brooklyn          2625.81          62\n",
       "               Manhattan        11436.66         224\n",
       "               Queens            5225.79         349"
      ]
     },
     "execution_count": 10,
     "metadata": {},
     "output_type": "execute_result"
    }
   ],
   "source": [
    "df.groupby(['pickup_borough', 'dropoff_borough']).agg(MatchSum = ('total', 'sum'), MatchCount = ('total', 'count'))"
   ]
  },
  {
   "cell_type": "code",
   "execution_count": null,
   "metadata": {},
   "outputs": [],
   "source": []
  },
  {
   "cell_type": "code",
   "execution_count": 5,
   "metadata": {},
   "outputs": [],
   "source": [
    "df = pd.DataFrame(np.random.randint(0, 100, (10, 6)))"
   ]
  },
  {
   "cell_type": "code",
   "execution_count": 6,
   "metadata": {},
   "outputs": [
    {
     "data": {
      "text/html": [
       "<div>\n",
       "<style scoped>\n",
       "    .dataframe tbody tr th:only-of-type {\n",
       "        vertical-align: middle;\n",
       "    }\n",
       "\n",
       "    .dataframe tbody tr th {\n",
       "        vertical-align: top;\n",
       "    }\n",
       "\n",
       "    .dataframe thead th {\n",
       "        text-align: right;\n",
       "    }\n",
       "</style>\n",
       "<table border=\"1\" class=\"dataframe\">\n",
       "  <thead>\n",
       "    <tr style=\"text-align: right;\">\n",
       "      <th></th>\n",
       "      <th>0</th>\n",
       "      <th>1</th>\n",
       "      <th>2</th>\n",
       "      <th>3</th>\n",
       "      <th>4</th>\n",
       "      <th>5</th>\n",
       "    </tr>\n",
       "  </thead>\n",
       "  <tbody>\n",
       "    <tr>\n",
       "      <th>0</th>\n",
       "      <td>55</td>\n",
       "      <td>68</td>\n",
       "      <td>61</td>\n",
       "      <td>45</td>\n",
       "      <td>6</td>\n",
       "      <td>14</td>\n",
       "    </tr>\n",
       "    <tr>\n",
       "      <th>1</th>\n",
       "      <td>2</td>\n",
       "      <td>28</td>\n",
       "      <td>98</td>\n",
       "      <td>88</td>\n",
       "      <td>66</td>\n",
       "      <td>63</td>\n",
       "    </tr>\n",
       "    <tr>\n",
       "      <th>2</th>\n",
       "      <td>64</td>\n",
       "      <td>20</td>\n",
       "      <td>11</td>\n",
       "      <td>81</td>\n",
       "      <td>50</td>\n",
       "      <td>25</td>\n",
       "    </tr>\n",
       "    <tr>\n",
       "      <th>3</th>\n",
       "      <td>44</td>\n",
       "      <td>19</td>\n",
       "      <td>36</td>\n",
       "      <td>33</td>\n",
       "      <td>75</td>\n",
       "      <td>68</td>\n",
       "    </tr>\n",
       "    <tr>\n",
       "      <th>4</th>\n",
       "      <td>54</td>\n",
       "      <td>87</td>\n",
       "      <td>68</td>\n",
       "      <td>21</td>\n",
       "      <td>55</td>\n",
       "      <td>90</td>\n",
       "    </tr>\n",
       "    <tr>\n",
       "      <th>5</th>\n",
       "      <td>53</td>\n",
       "      <td>62</td>\n",
       "      <td>50</td>\n",
       "      <td>91</td>\n",
       "      <td>5</td>\n",
       "      <td>70</td>\n",
       "    </tr>\n",
       "    <tr>\n",
       "      <th>6</th>\n",
       "      <td>17</td>\n",
       "      <td>9</td>\n",
       "      <td>69</td>\n",
       "      <td>86</td>\n",
       "      <td>58</td>\n",
       "      <td>34</td>\n",
       "    </tr>\n",
       "    <tr>\n",
       "      <th>7</th>\n",
       "      <td>98</td>\n",
       "      <td>49</td>\n",
       "      <td>52</td>\n",
       "      <td>49</td>\n",
       "      <td>41</td>\n",
       "      <td>97</td>\n",
       "    </tr>\n",
       "    <tr>\n",
       "      <th>8</th>\n",
       "      <td>51</td>\n",
       "      <td>72</td>\n",
       "      <td>98</td>\n",
       "      <td>20</td>\n",
       "      <td>96</td>\n",
       "      <td>42</td>\n",
       "    </tr>\n",
       "    <tr>\n",
       "      <th>9</th>\n",
       "      <td>17</td>\n",
       "      <td>78</td>\n",
       "      <td>68</td>\n",
       "      <td>32</td>\n",
       "      <td>65</td>\n",
       "      <td>47</td>\n",
       "    </tr>\n",
       "  </tbody>\n",
       "</table>\n",
       "</div>"
      ],
      "text/plain": [
       "    0   1   2   3   4   5\n",
       "0  55  68  61  45   6  14\n",
       "1   2  28  98  88  66  63\n",
       "2  64  20  11  81  50  25\n",
       "3  44  19  36  33  75  68\n",
       "4  54  87  68  21  55  90\n",
       "5  53  62  50  91   5  70\n",
       "6  17   9  69  86  58  34\n",
       "7  98  49  52  49  41  97\n",
       "8  51  72  98  20  96  42\n",
       "9  17  78  68  32  65  47"
      ]
     },
     "execution_count": 6,
     "metadata": {},
     "output_type": "execute_result"
    }
   ],
   "source": [
    "df"
   ]
  },
  {
   "cell_type": "code",
   "execution_count": 11,
   "metadata": {},
   "outputs": [
    {
     "data": {
      "text/html": [
       "<div>\n",
       "<style scoped>\n",
       "    .dataframe tbody tr th:only-of-type {\n",
       "        vertical-align: middle;\n",
       "    }\n",
       "\n",
       "    .dataframe tbody tr th {\n",
       "        vertical-align: top;\n",
       "    }\n",
       "\n",
       "    .dataframe thead th {\n",
       "        text-align: right;\n",
       "    }\n",
       "</style>\n",
       "<table border=\"1\" class=\"dataframe\">\n",
       "  <thead>\n",
       "    <tr style=\"text-align: right;\">\n",
       "      <th></th>\n",
       "      <th>0</th>\n",
       "      <th>2</th>\n",
       "      <th>4</th>\n",
       "    </tr>\n",
       "  </thead>\n",
       "  <tbody>\n",
       "    <tr>\n",
       "      <th>0</th>\n",
       "      <td>55</td>\n",
       "      <td>61</td>\n",
       "      <td>6</td>\n",
       "    </tr>\n",
       "    <tr>\n",
       "      <th>1</th>\n",
       "      <td>2</td>\n",
       "      <td>98</td>\n",
       "      <td>66</td>\n",
       "    </tr>\n",
       "    <tr>\n",
       "      <th>2</th>\n",
       "      <td>64</td>\n",
       "      <td>11</td>\n",
       "      <td>50</td>\n",
       "    </tr>\n",
       "    <tr>\n",
       "      <th>3</th>\n",
       "      <td>44</td>\n",
       "      <td>36</td>\n",
       "      <td>75</td>\n",
       "    </tr>\n",
       "    <tr>\n",
       "      <th>4</th>\n",
       "      <td>54</td>\n",
       "      <td>68</td>\n",
       "      <td>55</td>\n",
       "    </tr>\n",
       "    <tr>\n",
       "      <th>5</th>\n",
       "      <td>53</td>\n",
       "      <td>50</td>\n",
       "      <td>5</td>\n",
       "    </tr>\n",
       "    <tr>\n",
       "      <th>6</th>\n",
       "      <td>17</td>\n",
       "      <td>69</td>\n",
       "      <td>58</td>\n",
       "    </tr>\n",
       "    <tr>\n",
       "      <th>7</th>\n",
       "      <td>98</td>\n",
       "      <td>52</td>\n",
       "      <td>41</td>\n",
       "    </tr>\n",
       "    <tr>\n",
       "      <th>8</th>\n",
       "      <td>51</td>\n",
       "      <td>98</td>\n",
       "      <td>96</td>\n",
       "    </tr>\n",
       "    <tr>\n",
       "      <th>9</th>\n",
       "      <td>17</td>\n",
       "      <td>68</td>\n",
       "      <td>65</td>\n",
       "    </tr>\n",
       "  </tbody>\n",
       "</table>\n",
       "</div>"
      ],
      "text/plain": [
       "    0   2   4\n",
       "0  55  61   6\n",
       "1   2  98  66\n",
       "2  64  11  50\n",
       "3  44  36  75\n",
       "4  54  68  55\n",
       "5  53  50   5\n",
       "6  17  69  58\n",
       "7  98  52  41\n",
       "8  51  98  96\n",
       "9  17  68  65"
      ]
     },
     "execution_count": 11,
     "metadata": {},
     "output_type": "execute_result"
    }
   ],
   "source": [
    "df.drop([1, 3, 5], axis=1)"
   ]
  },
  {
   "cell_type": "code",
   "execution_count": null,
   "metadata": {},
   "outputs": [],
   "source": []
  },
  {
   "cell_type": "code",
   "execution_count": 3,
   "metadata": {},
   "outputs": [
    {
     "data": {
      "text/html": [
       "<div>\n",
       "<style scoped>\n",
       "    .dataframe tbody tr th:only-of-type {\n",
       "        vertical-align: middle;\n",
       "    }\n",
       "\n",
       "    .dataframe tbody tr th {\n",
       "        vertical-align: top;\n",
       "    }\n",
       "\n",
       "    .dataframe thead th {\n",
       "        text-align: right;\n",
       "    }\n",
       "</style>\n",
       "<table border=\"1\" class=\"dataframe\">\n",
       "  <thead>\n",
       "    <tr style=\"text-align: right;\">\n",
       "      <th></th>\n",
       "      <th>pickup</th>\n",
       "      <th>dropoff</th>\n",
       "      <th>passengers</th>\n",
       "      <th>distance</th>\n",
       "      <th>fare</th>\n",
       "      <th>tip</th>\n",
       "      <th>tolls</th>\n",
       "      <th>total</th>\n",
       "      <th>color</th>\n",
       "      <th>payment</th>\n",
       "      <th>pickup_zone</th>\n",
       "      <th>dropoff_zone</th>\n",
       "      <th>pickup_borough</th>\n",
       "      <th>dropoff_borough</th>\n",
       "    </tr>\n",
       "  </thead>\n",
       "  <tbody>\n",
       "    <tr>\n",
       "      <th>0</th>\n",
       "      <td>2019-03-23 20:21:09</td>\n",
       "      <td>2019-03-23 20:27:24</td>\n",
       "      <td>1</td>\n",
       "      <td>1.60</td>\n",
       "      <td>7.0</td>\n",
       "      <td>2.15</td>\n",
       "      <td>0.0</td>\n",
       "      <td>12.95</td>\n",
       "      <td>yellow</td>\n",
       "      <td>credit card</td>\n",
       "      <td>Lenox Hill West</td>\n",
       "      <td>UN/Turtle Bay South</td>\n",
       "      <td>Manhattan</td>\n",
       "      <td>Manhattan</td>\n",
       "    </tr>\n",
       "    <tr>\n",
       "      <th>1</th>\n",
       "      <td>2019-03-04 16:11:55</td>\n",
       "      <td>2019-03-04 16:19:00</td>\n",
       "      <td>1</td>\n",
       "      <td>0.79</td>\n",
       "      <td>5.0</td>\n",
       "      <td>0.00</td>\n",
       "      <td>0.0</td>\n",
       "      <td>9.30</td>\n",
       "      <td>yellow</td>\n",
       "      <td>cash</td>\n",
       "      <td>Upper West Side South</td>\n",
       "      <td>Upper West Side South</td>\n",
       "      <td>Manhattan</td>\n",
       "      <td>Manhattan</td>\n",
       "    </tr>\n",
       "    <tr>\n",
       "      <th>2</th>\n",
       "      <td>2019-03-27 17:53:01</td>\n",
       "      <td>2019-03-27 18:00:25</td>\n",
       "      <td>1</td>\n",
       "      <td>1.37</td>\n",
       "      <td>7.5</td>\n",
       "      <td>2.36</td>\n",
       "      <td>0.0</td>\n",
       "      <td>14.16</td>\n",
       "      <td>yellow</td>\n",
       "      <td>credit card</td>\n",
       "      <td>Alphabet City</td>\n",
       "      <td>West Village</td>\n",
       "      <td>Manhattan</td>\n",
       "      <td>Manhattan</td>\n",
       "    </tr>\n",
       "    <tr>\n",
       "      <th>3</th>\n",
       "      <td>2019-03-10 01:23:59</td>\n",
       "      <td>2019-03-10 01:49:51</td>\n",
       "      <td>1</td>\n",
       "      <td>7.70</td>\n",
       "      <td>27.0</td>\n",
       "      <td>6.15</td>\n",
       "      <td>0.0</td>\n",
       "      <td>36.95</td>\n",
       "      <td>yellow</td>\n",
       "      <td>credit card</td>\n",
       "      <td>Hudson Sq</td>\n",
       "      <td>Yorkville West</td>\n",
       "      <td>Manhattan</td>\n",
       "      <td>Manhattan</td>\n",
       "    </tr>\n",
       "    <tr>\n",
       "      <th>4</th>\n",
       "      <td>2019-03-30 13:27:42</td>\n",
       "      <td>2019-03-30 13:37:14</td>\n",
       "      <td>3</td>\n",
       "      <td>2.16</td>\n",
       "      <td>9.0</td>\n",
       "      <td>1.10</td>\n",
       "      <td>0.0</td>\n",
       "      <td>13.40</td>\n",
       "      <td>yellow</td>\n",
       "      <td>credit card</td>\n",
       "      <td>Midtown East</td>\n",
       "      <td>Yorkville West</td>\n",
       "      <td>Manhattan</td>\n",
       "      <td>Manhattan</td>\n",
       "    </tr>\n",
       "  </tbody>\n",
       "</table>\n",
       "</div>"
      ],
      "text/plain": [
       "               pickup             dropoff  passengers  distance  fare   tip  \\\n",
       "0 2019-03-23 20:21:09 2019-03-23 20:27:24           1      1.60   7.0  2.15   \n",
       "1 2019-03-04 16:11:55 2019-03-04 16:19:00           1      0.79   5.0  0.00   \n",
       "2 2019-03-27 17:53:01 2019-03-27 18:00:25           1      1.37   7.5  2.36   \n",
       "3 2019-03-10 01:23:59 2019-03-10 01:49:51           1      7.70  27.0  6.15   \n",
       "4 2019-03-30 13:27:42 2019-03-30 13:37:14           3      2.16   9.0  1.10   \n",
       "\n",
       "   tolls  total   color      payment            pickup_zone  \\\n",
       "0    0.0  12.95  yellow  credit card        Lenox Hill West   \n",
       "1    0.0   9.30  yellow         cash  Upper West Side South   \n",
       "2    0.0  14.16  yellow  credit card          Alphabet City   \n",
       "3    0.0  36.95  yellow  credit card              Hudson Sq   \n",
       "4    0.0  13.40  yellow  credit card           Midtown East   \n",
       "\n",
       "            dropoff_zone pickup_borough dropoff_borough  \n",
       "0    UN/Turtle Bay South      Manhattan       Manhattan  \n",
       "1  Upper West Side South      Manhattan       Manhattan  \n",
       "2           West Village      Manhattan       Manhattan  \n",
       "3         Yorkville West      Manhattan       Manhattan  \n",
       "4         Yorkville West      Manhattan       Manhattan  "
      ]
     },
     "execution_count": 3,
     "metadata": {},
     "output_type": "execute_result"
    }
   ],
   "source": [
    "df = sns.load_dataset('taxis')\n",
    "df.head()"
   ]
  },
  {
   "cell_type": "code",
   "execution_count": 4,
   "metadata": {},
   "outputs": [
    {
     "data": {
      "text/plain": [
       "0    23\n",
       "1     4\n",
       "2    27\n",
       "3    10\n",
       "4    30\n",
       "Name: pickup, dtype: int64"
      ]
     },
     "execution_count": 4,
     "metadata": {},
     "output_type": "execute_result"
    }
   ],
   "source": [
    "df[:5].pickup.dt.day\n",
    "# отдает \"номер\" дня"
   ]
  },
  {
   "cell_type": "code",
   "execution_count": 10,
   "metadata": {},
   "outputs": [
    {
     "data": {
      "text/plain": [
       "0    2019-03-23\n",
       "1    2019-03-04\n",
       "2    2019-03-27\n",
       "3    2019-03-10\n",
       "4    2019-03-30\n",
       "Name: pickup, dtype: period[D]"
      ]
     },
     "execution_count": 10,
     "metadata": {},
     "output_type": "execute_result"
    }
   ],
   "source": [
    "df[:5].pickup.dt.to_period('D')\n",
    "# выдает конкретную дату"
   ]
  },
  {
   "cell_type": "code",
   "execution_count": 4,
   "metadata": {},
   "outputs": [
    {
     "data": {
      "text/plain": [
       "0    2019-03-23\n",
       "1    2019-03-04\n",
       "2    2019-03-27\n",
       "3    2019-03-10\n",
       "4    2019-03-30\n",
       "Name: pickup, dtype: object"
      ]
     },
     "execution_count": 4,
     "metadata": {},
     "output_type": "execute_result"
    }
   ],
   "source": [
    "df[:5].pickup.dt.strftime('%Y-%m-%d')"
   ]
  },
  {
   "cell_type": "code",
   "execution_count": 8,
   "metadata": {},
   "outputs": [
    {
     "data": {
      "text/plain": [
       "0   2019-03-23 20:21:09\n",
       "1   2019-03-04 16:11:55\n",
       "2   2019-03-27 17:53:01\n",
       "3   2019-03-10 01:23:59\n",
       "4   2019-03-30 13:27:42\n",
       "Name: pickup, dtype: datetime64[ns]"
      ]
     },
     "execution_count": 8,
     "metadata": {},
     "output_type": "execute_result"
    }
   ],
   "source": [
    "df[:5].pickup"
   ]
  },
  {
   "cell_type": "code",
   "execution_count": 10,
   "metadata": {},
   "outputs": [
    {
     "data": {
      "text/plain": [
       "0    20:00:00 2019-03-23\n",
       "1    16:00:00 2019-03-04\n",
       "2    17:00:00 2019-03-27\n",
       "3    01:00:00 2019-03-10\n",
       "4    13:00:00 2019-03-30\n",
       "Name: pickup, dtype: object"
      ]
     },
     "execution_count": 10,
     "metadata": {},
     "output_type": "execute_result"
    }
   ],
   "source": [
    "df[:5].pickup.dt.strftime('%H:00:00 %Y-%m-%d')"
   ]
  },
  {
   "cell_type": "code",
   "execution_count": 14,
   "metadata": {},
   "outputs": [
    {
     "data": {
      "text/plain": [
       "0    2019-03\n",
       "1    2019-03\n",
       "2    2019-03\n",
       "3    2019-03\n",
       "4    2019-03\n",
       "Name: pickup, dtype: object"
      ]
     },
     "execution_count": 14,
     "metadata": {},
     "output_type": "execute_result"
    }
   ],
   "source": [
    "df[:5].pickup.dt.strftime('%Y-%m')"
   ]
  },
  {
   "cell_type": "code",
   "execution_count": null,
   "metadata": {},
   "outputs": [],
   "source": []
  },
  {
   "cell_type": "code",
   "execution_count": 23,
   "metadata": {},
   "outputs": [
    {
     "data": {
      "text/plain": [
       "'money_title_2023-05-01.csv'"
      ]
     },
     "execution_count": 23,
     "metadata": {},
     "output_type": "execute_result"
    }
   ],
   "source": [
    "from datetime import datetime\n",
    "today = datetime.today().strftime('%Y-%m-%d')\n",
    "file_name = 'money_title_{}.csv'\n",
    "file_name.format(today)"
   ]
  },
  {
   "cell_type": "code",
   "execution_count": null,
   "metadata": {},
   "outputs": [],
   "source": []
  },
  {
   "cell_type": "code",
   "execution_count": 13,
   "metadata": {},
   "outputs": [
    {
     "data": {
      "text/html": [
       "<div>\n",
       "<style scoped>\n",
       "    .dataframe tbody tr th:only-of-type {\n",
       "        vertical-align: middle;\n",
       "    }\n",
       "\n",
       "    .dataframe tbody tr th {\n",
       "        vertical-align: top;\n",
       "    }\n",
       "\n",
       "    .dataframe thead th {\n",
       "        text-align: right;\n",
       "    }\n",
       "</style>\n",
       "<table border=\"1\" class=\"dataframe\">\n",
       "  <thead>\n",
       "    <tr style=\"text-align: right;\">\n",
       "      <th></th>\n",
       "      <th>A</th>\n",
       "      <th>B</th>\n",
       "      <th>C</th>\n",
       "    </tr>\n",
       "  </thead>\n",
       "  <tbody>\n",
       "    <tr>\n",
       "      <th>0</th>\n",
       "      <td>-1.992757</td>\n",
       "      <td>-0.510021</td>\n",
       "      <td>1.117661</td>\n",
       "    </tr>\n",
       "    <tr>\n",
       "      <th>1</th>\n",
       "      <td>-0.090676</td>\n",
       "      <td>0.034087</td>\n",
       "      <td>0.235398</td>\n",
       "    </tr>\n",
       "    <tr>\n",
       "      <th>2</th>\n",
       "      <td>-0.972027</td>\n",
       "      <td>-0.510320</td>\n",
       "      <td>-0.569144</td>\n",
       "    </tr>\n",
       "    <tr>\n",
       "      <th>3</th>\n",
       "      <td>-0.611827</td>\n",
       "      <td>1.446573</td>\n",
       "      <td>-0.854776</td>\n",
       "    </tr>\n",
       "    <tr>\n",
       "      <th>4</th>\n",
       "      <td>0.429794</td>\n",
       "      <td>0.041135</td>\n",
       "      <td>-1.017171</td>\n",
       "    </tr>\n",
       "  </tbody>\n",
       "</table>\n",
       "</div>"
      ],
      "text/plain": [
       "          A         B         C\n",
       "0 -1.992757 -0.510021  1.117661\n",
       "1 -0.090676  0.034087  0.235398\n",
       "2 -0.972027 -0.510320 -0.569144\n",
       "3 -0.611827  1.446573 -0.854776\n",
       "4  0.429794  0.041135 -1.017171"
      ]
     },
     "execution_count": 13,
     "metadata": {},
     "output_type": "execute_result"
    }
   ],
   "source": [
    "df = pd.DataFrame(np.random.randn(1000, 3), columns=list('ABC'))\n",
    "df.head()"
   ]
  },
  {
   "cell_type": "code",
   "execution_count": 35,
   "metadata": {},
   "outputs": [
    {
     "data": {
      "image/png": "[encoded data removed]",
      "text/plain": [
       "<Figure size 640x480 with 1 Axes>"
      ]
     },
     "metadata": {},
     "output_type": "display_data"
    }
   ],
   "source": [
    "# df.plot.box();\n",
    "sns.boxplot(df);"
   ]
  },
  {
   "cell_type": "code",
   "execution_count": 36,
   "metadata": {},
   "outputs": [],
   "source": [
    "standard_deviations = 3\n",
    "df1 = df[df.apply(lambda x: np.abs(x - x.mean()) / x.std() < standard_deviations)\n",
    "           .all(axis=1)\n",
    "        ]"
   ]
  },
  {
   "cell_type": "code",
   "execution_count": 37,
   "metadata": {},
   "outputs": [
    {
     "data": {
      "image/png": "[encoded data removed]",
      "text/plain": [
       "<Figure size 640x480 with 2 Axes>"
      ]
     },
     "metadata": {},
     "output_type": "display_data"
    }
   ],
   "source": [
    "plt.subplot(1, 2, 1)\n",
    "plt.ylim(-4, 4)\n",
    "sns.boxplot(df)\n",
    "plt.subplot(1, 2, 2)\n",
    "plt.ylim(-4, 4)\n",
    "sns.boxplot(df1);"
   ]
  },
  {
   "cell_type": "code",
   "execution_count": 38,
   "metadata": {},
   "outputs": [],
   "source": [
    "standard_deviations = 3\n",
    "df2 = df1[df1.apply(lambda x: np.abs(x - x.mean()) / x.std() < standard_deviations).\n",
    "       all(axis=1)\n",
    "  ]"
   ]
  },
  {
   "cell_type": "code",
   "execution_count": 39,
   "metadata": {},
   "outputs": [
    {
     "data": {
      "image/png": "[encoded data removed]",
      "text/plain": [
       "<Figure size 640x480 with 2 Axes>"
      ]
     },
     "metadata": {},
     "output_type": "display_data"
    }
   ],
   "source": [
    "plt.subplot(1, 2, 1)\n",
    "plt.ylim(-4, 4)\n",
    "sns.boxplot(df1)\n",
    "plt.subplot(1, 2, 2)\n",
    "plt.ylim(-4, 4)\n",
    "sns.boxplot(df2);"
   ]
  },
  {
   "cell_type": "code",
   "execution_count": null,
   "metadata": {},
   "outputs": [],
   "source": []
  },
  {
   "cell_type": "code",
   "execution_count": 26,
   "metadata": {},
   "outputs": [],
   "source": [
    "from scipy.stats import zscore"
   ]
  },
  {
   "cell_type": "code",
   "execution_count": 40,
   "metadata": {},
   "outputs": [],
   "source": [
    "df1 = df[(np.abs(zscore(df)) < 3).all(axis=1)]"
   ]
  },
  {
   "cell_type": "code",
   "execution_count": 41,
   "metadata": {},
   "outputs": [
    {
     "data": {
      "image/png": "[encoded data removed]",
      "text/plain": [
       "<Figure size 640x480 with 2 Axes>"
      ]
     },
     "metadata": {},
     "output_type": "display_data"
    }
   ],
   "source": [
    "plt.subplot(1, 2, 1)\n",
    "plt.ylim(-4, 4)\n",
    "sns.boxplot(df)\n",
    "plt.subplot(1, 2, 2)\n",
    "plt.ylim(-4, 4)\n",
    "sns.boxplot(df1);"
   ]
  },
  {
   "cell_type": "code",
   "execution_count": 43,
   "metadata": {},
   "outputs": [
    {
     "data": {
      "image/png": "[encoded data removed]",
      "text/plain": [
       "<Figure size 640x480 with 1 Axes>"
      ]
     },
     "metadata": {},
     "output_type": "display_data"
    }
   ],
   "source": [
    "df1.plot.box();"
   ]
  },
  {
   "cell_type": "code",
   "execution_count": 49,
   "metadata": {},
   "outputs": [
    {
     "data": {
      "text/html": [
       "<div>\n",
       "<style scoped>\n",
       "    .dataframe tbody tr th:only-of-type {\n",
       "        vertical-align: middle;\n",
       "    }\n",
       "\n",
       "    .dataframe tbody tr th {\n",
       "        vertical-align: top;\n",
       "    }\n",
       "\n",
       "    .dataframe thead th {\n",
       "        text-align: right;\n",
       "    }\n",
       "</style>\n",
       "<table border=\"1\" class=\"dataframe\">\n",
       "  <thead>\n",
       "    <tr style=\"text-align: right;\">\n",
       "      <th></th>\n",
       "      <th>A</th>\n",
       "      <th>B</th>\n",
       "      <th>C</th>\n",
       "    </tr>\n",
       "  </thead>\n",
       "  <tbody>\n",
       "    <tr>\n",
       "      <th>0</th>\n",
       "      <td>0.030117</td>\n",
       "      <td>0.016233</td>\n",
       "      <td>-0.012390</td>\n",
       "    </tr>\n",
       "    <tr>\n",
       "      <th>1</th>\n",
       "      <td>-0.000253</td>\n",
       "      <td>0.008662</td>\n",
       "      <td>-0.000182</td>\n",
       "    </tr>\n",
       "    <tr>\n",
       "      <th>2</th>\n",
       "      <td>0.013819</td>\n",
       "      <td>0.016238</td>\n",
       "      <td>0.010950</td>\n",
       "    </tr>\n",
       "    <tr>\n",
       "      <th>3</th>\n",
       "      <td>0.008068</td>\n",
       "      <td>-0.010995</td>\n",
       "      <td>0.014903</td>\n",
       "    </tr>\n",
       "    <tr>\n",
       "      <th>4</th>\n",
       "      <td>-0.008564</td>\n",
       "      <td>0.008564</td>\n",
       "      <td>0.017150</td>\n",
       "    </tr>\n",
       "    <tr>\n",
       "      <th>...</th>\n",
       "      <td>...</td>\n",
       "      <td>...</td>\n",
       "      <td>...</td>\n",
       "    </tr>\n",
       "    <tr>\n",
       "      <th>995</th>\n",
       "      <td>0.009714</td>\n",
       "      <td>0.024718</td>\n",
       "      <td>-0.009234</td>\n",
       "    </tr>\n",
       "    <tr>\n",
       "      <th>996</th>\n",
       "      <td>0.018420</td>\n",
       "      <td>0.007101</td>\n",
       "      <td>-0.005697</td>\n",
       "    </tr>\n",
       "    <tr>\n",
       "      <th>997</th>\n",
       "      <td>-0.015174</td>\n",
       "      <td>0.014013</td>\n",
       "      <td>0.016317</td>\n",
       "    </tr>\n",
       "    <tr>\n",
       "      <th>998</th>\n",
       "      <td>-0.014387</td>\n",
       "      <td>-0.004144</td>\n",
       "      <td>0.009442</td>\n",
       "    </tr>\n",
       "    <tr>\n",
       "      <th>999</th>\n",
       "      <td>-0.010515</td>\n",
       "      <td>-0.007265</td>\n",
       "      <td>-0.014584</td>\n",
       "    </tr>\n",
       "  </tbody>\n",
       "</table>\n",
       "<p>1000 rows × 3 columns</p>\n",
       "</div>"
      ],
      "text/plain": [
       "            A         B         C\n",
       "0    0.030117  0.016233 -0.012390\n",
       "1   -0.000253  0.008662 -0.000182\n",
       "2    0.013819  0.016238  0.010950\n",
       "3    0.008068 -0.010995  0.014903\n",
       "4   -0.008564  0.008564  0.017150\n",
       "..        ...       ...       ...\n",
       "995  0.009714  0.024718 -0.009234\n",
       "996  0.018420  0.007101 -0.005697\n",
       "997 -0.015174  0.014013  0.016317\n",
       "998 -0.014387 -0.004144  0.009442\n",
       "999 -0.010515 -0.007265 -0.014584\n",
       "\n",
       "[1000 rows x 3 columns]"
      ]
     },
     "execution_count": 49,
     "metadata": {},
     "output_type": "execute_result"
    }
   ],
   "source": [
    "zscore(df) - zscore(df1)"
   ]
  },
  {
   "cell_type": "code",
   "execution_count": null,
   "metadata": {},
   "outputs": [],
   "source": []
  },
  {
   "cell_type": "code",
   "execution_count": 35,
   "metadata": {},
   "outputs": [
    {
     "data": {
      "text/html": [
       "<div>\n",
       "<style scoped>\n",
       "    .dataframe tbody tr th:only-of-type {\n",
       "        vertical-align: middle;\n",
       "    }\n",
       "\n",
       "    .dataframe tbody tr th {\n",
       "        vertical-align: top;\n",
       "    }\n",
       "\n",
       "    .dataframe thead th {\n",
       "        text-align: right;\n",
       "    }\n",
       "</style>\n",
       "<table border=\"1\" class=\"dataframe\">\n",
       "  <thead>\n",
       "    <tr style=\"text-align: right;\">\n",
       "      <th></th>\n",
       "      <th>A</th>\n",
       "      <th>B</th>\n",
       "      <th>C</th>\n",
       "    </tr>\n",
       "  </thead>\n",
       "  <tbody>\n",
       "    <tr>\n",
       "      <th>0</th>\n",
       "      <td>0.512015</td>\n",
       "      <td>0.719861</td>\n",
       "      <td>-1.404335</td>\n",
       "    </tr>\n",
       "    <tr>\n",
       "      <th>1</th>\n",
       "      <td>-0.748650</td>\n",
       "      <td>1.083873</td>\n",
       "      <td>-0.505929</td>\n",
       "    </tr>\n",
       "    <tr>\n",
       "      <th>2</th>\n",
       "      <td>0.766852</td>\n",
       "      <td>2.157619</td>\n",
       "      <td>-0.744613</td>\n",
       "    </tr>\n",
       "    <tr>\n",
       "      <th>3</th>\n",
       "      <td>-1.561851</td>\n",
       "      <td>0.697597</td>\n",
       "      <td>0.026346</td>\n",
       "    </tr>\n",
       "    <tr>\n",
       "      <th>4</th>\n",
       "      <td>-0.883675</td>\n",
       "      <td>-0.013103</td>\n",
       "      <td>-0.205249</td>\n",
       "    </tr>\n",
       "  </tbody>\n",
       "</table>\n",
       "</div>"
      ],
      "text/plain": [
       "          A         B         C\n",
       "0  0.512015  0.719861 -1.404335\n",
       "1 -0.748650  1.083873 -0.505929\n",
       "2  0.766852  2.157619 -0.744613\n",
       "3 -1.561851  0.697597  0.026346\n",
       "4 -0.883675 -0.013103 -0.205249"
      ]
     },
     "execution_count": 35,
     "metadata": {},
     "output_type": "execute_result"
    }
   ],
   "source": [
    "df = pd.DataFrame(np.random.randn(1000, 3), columns=list('ABC'))\n",
    "df.head()"
   ]
  },
  {
   "cell_type": "code",
   "execution_count": 36,
   "metadata": {},
   "outputs": [
    {
     "data": {
      "image/png": "[encoded data removed]",
      "text/plain": [
       "<Figure size 640x480 with 1 Axes>"
      ]
     },
     "metadata": {},
     "output_type": "display_data"
    }
   ],
   "source": [
    "sns.boxplot(df.A);"
   ]
  },
  {
   "cell_type": "code",
   "execution_count": 37,
   "metadata": {},
   "outputs": [
    {
     "data": {
      "text/plain": [
       "(-0.6425284702811308, 0.6716392468464375)"
      ]
     },
     "execution_count": 37,
     "metadata": {},
     "output_type": "execute_result"
    }
   ],
   "source": [
    "q_1, q_3 = np.nanpercentile(df.A, [25, 75])\n",
    "q_1, q_3"
   ]
  },
  {
   "cell_type": "code",
   "execution_count": 38,
   "metadata": {},
   "outputs": [],
   "source": [
    "diff_3_1 = q_3 - q_1\n",
    "up_thresh = q_3 + 1.5 * diff_3_1\n",
    "low_thresh = q_1 - 1.5 * diff_3_1"
   ]
  },
  {
   "cell_type": "code",
   "execution_count": 44,
   "metadata": {},
   "outputs": [],
   "source": [
    "df1 = df.A[(df.A > low_thresh) & (df.A < up_thresh)]"
   ]
  },
  {
   "cell_type": "code",
   "execution_count": 45,
   "metadata": {},
   "outputs": [
    {
     "data": {
      "image/png": "[encoded data removed]",
      "text/plain": [
       "<Figure size 640x480 with 2 Axes>"
      ]
     },
     "metadata": {},
     "output_type": "display_data"
    }
   ],
   "source": [
    "plt.subplot(1, 2, 1)\n",
    "sns.boxplot(df.A)\n",
    "plt.ylim(-4, 4)\n",
    "plt.subplot(1, 2, 2)\n",
    "sns.boxplot(df1)\n",
    "plt.ylim(-4, 4);"
   ]
  },
  {
   "cell_type": "code",
   "execution_count": null,
   "metadata": {},
   "outputs": [],
   "source": []
  },
  {
   "cell_type": "code",
   "execution_count": 1,
   "metadata": {},
   "outputs": [
    {
     "name": "stdout",
     "output_type": "stream",
     "text": [
      "10\n",
      "Hello, 10\n"
     ]
    }
   ],
   "source": [
    "def print_hello(name: str, upper: bool = False) -> None:\n",
    "    print(f'Hello, {name}')\n",
    "# def __init__(self, x: int, y: int) -> None:\n",
    "\n",
    "\n",
    "title: str\n",
    "name: str = 'John'\n",
    "\n",
    "name = 10\n",
    "title = [2, 5]\n",
    "\n",
    "print(name)\n",
    "print_hello(name)"
   ]
  },
  {
   "cell_type": "code",
   "execution_count": null,
   "metadata": {},
   "outputs": [],
   "source": []
  },
  {
   "cell_type": "code",
   "execution_count": null,
   "metadata": {},
   "outputs": [],
   "source": []
  },
  {
   "cell_type": "code",
   "execution_count": null,
   "metadata": {},
   "outputs": [],
   "source": []
  },
  {
   "cell_type": "code",
   "execution_count": null,
   "metadata": {},
   "outputs": [],
   "source": []
  },
  {
   "cell_type": "code",
   "execution_count": null,
   "metadata": {},
   "outputs": [],
   "source": []
  },
  {
   "cell_type": "code",
   "execution_count": null,
   "metadata": {},
   "outputs": [],
   "source": []
  },
  {
   "cell_type": "code",
   "execution_count": null,
   "metadata": {
    "tags": []
   },
   "outputs": [],
   "source": []
  }
 ],
 "metadata": {
  "kernelspec": {
   "display_name": "Python 3 (ipykernel)",
   "language": "python",
   "name": "python3"
  },
  "language_info": {
   "codemirror_mode": {
    "name": "ipython",
    "version": 3
   },
   "file_extension": ".py",
   "mimetype": "text/x-python",
   "name": "python",
   "nbconvert_exporter": "python",
   "pygments_lexer": "ipython3",
   "version": "3.7.15"
  }
 },
 "nbformat": 4,
 "nbformat_minor": 4
}
