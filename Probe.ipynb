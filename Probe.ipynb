{
 "cells": [
  {
   "cell_type": "code",
   "execution_count": 1,
   "metadata": {},
   "outputs": [],
   "source": [
    "import numpy as np\n",
    "import pandas as pd\n",
    "import matplotlib.pyplot as plt\n",
    "import seaborn as sns"
   ]
  },
  {
   "cell_type": "code",
   "execution_count": 2,
   "metadata": {},
   "outputs": [],
   "source": [
    "sns.set()\n",
    "pd.set_option('display.max_columns', None)"
   ]
  },
  {
   "cell_type": "code",
   "execution_count": null,
   "metadata": {},
   "outputs": [],
   "source": []
  },
  {
   "cell_type": "code",
   "execution_count": 46,
   "metadata": {},
   "outputs": [],
   "source": [
    "%load_ext memory_profiler"
   ]
  },
  {
   "cell_type": "code",
   "execution_count": 28,
   "metadata": {},
   "outputs": [],
   "source": [
    "def sm():\n",
    "    \"\"\"исследуемая функция\"\"\"\n",
    "    sm = 0\n",
    "    for i in range(1000):\n",
    "        sm += i\n",
    "    return sm\n"
   ]
  },
  {
   "cell_type": "code",
   "execution_count": 4,
   "metadata": {
    "tags": []
   },
   "outputs": [
    {
     "name": "stdout",
     "output_type": "stream",
     "text": [
      "70.9 µs ± 3.74 µs per loop (mean ± std. dev. of 7 runs, 10000 loops each)\n"
     ]
    }
   ],
   "source": [
    "%timeit sm()"
   ]
  },
  {
   "cell_type": "code",
   "execution_count": 5,
   "metadata": {
    "scrolled": true
   },
   "outputs": [
    {
     "name": "stdout",
     "output_type": "stream",
     "text": [
      "peak memory: 119.87 MiB, increment: 0.11 MiB\n"
     ]
    }
   ],
   "source": [
    "%memit sm()"
   ]
  },
  {
   "cell_type": "code",
   "execution_count": 3,
   "metadata": {
    "tags": []
   },
   "outputs": [
    {
     "name": "stdout",
     "output_type": "stream",
     "text": [
      " "
     ]
    }
   ],
   "source": [
    "%prun sm()\n"
   ]
  },
  {
   "cell_type": "code",
   "execution_count": 44,
   "metadata": {
    "scrolled": true
   },
   "outputs": [
    {
     "name": "stdout",
     "output_type": "stream",
     "text": [
      "The line_profiler extension is already loaded. To reload it, use:\n",
      "  %reload_ext line_profiler\n"
     ]
    }
   ],
   "source": [
    "%load_ext line_profiler"
   ]
  },
  {
   "cell_type": "code",
   "execution_count": 49,
   "metadata": {
    "scrolled": true
   },
   "outputs": [
    {
     "name": "stdout",
     "output_type": "stream",
     "text": [
      "ERROR: Could not find file <ipython-input-28-1c6147451ae2>\n",
      "NOTE: %mprun can only be used on functions defined in physical files, and not in the IPython environment.\n",
      "\n"
     ]
    }
   ],
   "source": [
    "%mprun -f sm"
   ]
  },
  {
   "cell_type": "code",
   "execution_count": null,
   "metadata": {},
   "outputs": [],
   "source": []
  },
  {
   "cell_type": "code",
   "execution_count": 5,
   "metadata": {
    "scrolled": true
   },
   "outputs": [
    {
     "name": "stderr",
     "output_type": "stream",
     "text": [
      "C:\\ProgramData\\Anaconda3\\lib\\site-packages\\line_profiler\\line_profiler.py:344: UserWarning: Could not extract a code object for the object 499500\n",
      "  profile = LineProfiler(*funcs)\n"
     ]
    }
   ],
   "source": [
    "%lprun -f sm()"
   ]
  },
  {
   "cell_type": "code",
   "execution_count": 6,
   "metadata": {},
   "outputs": [
    {
     "name": "stdout",
     "output_type": "stream",
     "text": [
      "Timer unit: 3.3094e-07 s\n",
      "\n",
      "Total time: 0.00104279 s\n",
      "File: <ipython-input-2-4a243120c7e7>\n",
      "Function: sm at line 1\n",
      "\n",
      "Line #      Hits         Time  Per Hit   % Time  Line Contents\n",
      "==============================================================\n",
      "     1                                           def sm():\n",
      "     2         1          5.0      5.0      0.2      sm = 0\n",
      "     3      1001       1508.0      1.5     47.9      for i in range(1000):\n",
      "     4      1000       1637.0      1.6     52.0          sm += i\n",
      "     5         1          1.0      1.0      0.0      return sm\n",
      "\n"
     ]
    }
   ],
   "source": [
    "import line_profiler\n",
    "lp = line_profiler.LineProfiler()\n",
    "lp.add_function(sm)\n",
    "lp.runctx('sm()', locals=locals(), globals=globals())\n",
    "lp.print_stats()"
   ]
  },
  {
   "cell_type": "code",
   "execution_count": 39,
   "metadata": {},
   "outputs": [],
   "source": [
    "arr1 = pd.DataFrame(np.random.rand(100, 100))\n",
    "arr2 = pd.DataFrame(np.random.rand(100, 100))\n",
    "arr3 = pd.DataFrame(np.random.rand(100, 100))"
   ]
  },
  {
   "cell_type": "code",
   "execution_count": 8,
   "metadata": {},
   "outputs": [
    {
     "name": "stdout",
     "output_type": "stream",
     "text": [
      "916 ms ± 16.9 ms per loop (mean ± std. dev. of 7 runs, 1 loop each)\n"
     ]
    }
   ],
   "source": [
    "%%timeit\n",
    "for i in range(100):\n",
    "    for j in range(100):\n",
    "        arr3[i][j] = arr1[i][j] / arr2[i][j]"
   ]
  },
  {
   "cell_type": "code",
   "execution_count": 12,
   "metadata": {},
   "outputs": [
    {
     "name": "stdout",
     "output_type": "stream",
     "text": [
      "peak memory: 122.59 MiB, increment: 0.57 MiB\n"
     ]
    }
   ],
   "source": [
    "%%memit\n",
    "arr4 = arr1 / arr2"
   ]
  },
  {
   "cell_type": "code",
   "execution_count": 43,
   "metadata": {},
   "outputs": [
    {
     "data": {
      "application/json": {
       "cell": {
        "!": "OSMagics",
        "HTML": "Other",
        "SVG": "Other",
        "bash": "Other",
        "capture": "ExecutionMagics",
        "cmd": "Other",
        "debug": "ExecutionMagics",
        "file": "Other",
        "html": "DisplayMagics",
        "javascript": "DisplayMagics",
        "js": "DisplayMagics",
        "latex": "DisplayMagics",
        "markdown": "DisplayMagics",
        "perl": "Other",
        "prun": "ExecutionMagics",
        "pypy": "Other",
        "python": "Other",
        "python2": "Other",
        "python3": "Other",
        "ruby": "Other",
        "script": "ScriptMagics",
        "sh": "Other",
        "svg": "DisplayMagics",
        "sx": "OSMagics",
        "system": "OSMagics",
        "time": "ExecutionMagics",
        "timeit": "ExecutionMagics",
        "writefile": "OSMagics"
       },
       "line": {
        "alias": "OSMagics",
        "alias_magic": "BasicMagics",
        "autoawait": "AsyncMagics",
        "autocall": "AutoMagics",
        "automagic": "AutoMagics",
        "autosave": "KernelMagics",
        "bookmark": "OSMagics",
        "cd": "OSMagics",
        "clear": "KernelMagics",
        "cls": "KernelMagics",
        "colors": "BasicMagics",
        "conda": "PackagingMagics",
        "config": "ConfigMagics",
        "connect_info": "KernelMagics",
        "copy": "Other",
        "ddir": "Other",
        "debug": "ExecutionMagics",
        "dhist": "OSMagics",
        "dirs": "OSMagics",
        "doctest_mode": "BasicMagics",
        "echo": "Other",
        "ed": "Other",
        "edit": "KernelMagics",
        "env": "OSMagics",
        "gui": "BasicMagics",
        "hist": "Other",
        "history": "HistoryMagics",
        "killbgscripts": "ScriptMagics",
        "ldir": "Other",
        "less": "KernelMagics",
        "load": "CodeMagics",
        "load_ext": "ExtensionMagics",
        "loadpy": "CodeMagics",
        "logoff": "LoggingMagics",
        "logon": "LoggingMagics",
        "logstart": "LoggingMagics",
        "logstate": "LoggingMagics",
        "logstop": "LoggingMagics",
        "lprun": "LineProfilerMagics",
        "ls": "Other",
        "lsmagic": "BasicMagics",
        "macro": "ExecutionMagics",
        "magic": "BasicMagics",
        "matplotlib": "PylabMagics",
        "mkdir": "Other",
        "more": "KernelMagics",
        "notebook": "BasicMagics",
        "page": "BasicMagics",
        "pastebin": "CodeMagics",
        "pdb": "ExecutionMagics",
        "pdef": "NamespaceMagics",
        "pdoc": "NamespaceMagics",
        "pfile": "NamespaceMagics",
        "pinfo": "NamespaceMagics",
        "pinfo2": "NamespaceMagics",
        "pip": "PackagingMagics",
        "popd": "OSMagics",
        "pprint": "BasicMagics",
        "precision": "BasicMagics",
        "prun": "ExecutionMagics",
        "psearch": "NamespaceMagics",
        "psource": "NamespaceMagics",
        "pushd": "OSMagics",
        "pwd": "OSMagics",
        "pycat": "OSMagics",
        "pylab": "PylabMagics",
        "qtconsole": "KernelMagics",
        "quickref": "BasicMagics",
        "recall": "HistoryMagics",
        "rehashx": "OSMagics",
        "reload_ext": "ExtensionMagics",
        "ren": "Other",
        "rep": "Other",
        "rerun": "HistoryMagics",
        "reset": "NamespaceMagics",
        "reset_selective": "NamespaceMagics",
        "rmdir": "Other",
        "run": "ExecutionMagics",
        "save": "CodeMagics",
        "sc": "OSMagics",
        "set_env": "OSMagics",
        "store": "StoreMagics",
        "sx": "OSMagics",
        "system": "OSMagics",
        "tb": "ExecutionMagics",
        "time": "ExecutionMagics",
        "timeit": "ExecutionMagics",
        "unalias": "OSMagics",
        "unload_ext": "ExtensionMagics",
        "who": "NamespaceMagics",
        "who_ls": "NamespaceMagics",
        "whos": "NamespaceMagics",
        "xdel": "NamespaceMagics",
        "xmode": "BasicMagics"
       }
      },
      "text/plain": [
       "Available line magics:\n",
       "%alias  %alias_magic  %autoawait  %autocall  %automagic  %autosave  %bookmark  %cd  %clear  %cls  %colors  %conda  %config  %connect_info  %copy  %ddir  %debug  %dhist  %dirs  %doctest_mode  %echo  %ed  %edit  %env  %gui  %hist  %history  %killbgscripts  %ldir  %less  %load  %load_ext  %loadpy  %logoff  %logon  %logstart  %logstate  %logstop  %lprun  %ls  %lsmagic  %macro  %magic  %matplotlib  %mkdir  %more  %notebook  %page  %pastebin  %pdb  %pdef  %pdoc  %pfile  %pinfo  %pinfo2  %pip  %popd  %pprint  %precision  %prun  %psearch  %psource  %pushd  %pwd  %pycat  %pylab  %qtconsole  %quickref  %recall  %rehashx  %reload_ext  %ren  %rep  %rerun  %reset  %reset_selective  %rmdir  %run  %save  %sc  %set_env  %store  %sx  %system  %tb  %time  %timeit  %unalias  %unload_ext  %who  %who_ls  %whos  %xdel  %xmode\n",
       "\n",
       "Available cell magics:\n",
       "%%!  %%HTML  %%SVG  %%bash  %%capture  %%cmd  %%debug  %%file  %%html  %%javascript  %%js  %%latex  %%markdown  %%perl  %%prun  %%pypy  %%python  %%python2  %%python3  %%ruby  %%script  %%sh  %%svg  %%sx  %%system  %%time  %%timeit  %%writefile\n",
       "\n",
       "Automagic is ON, % prefix IS NOT needed for line magics."
      ]
     },
     "execution_count": 43,
     "metadata": {},
     "output_type": "execute_result"
    }
   ],
   "source": [
    "%lsmagic\n"
   ]
  },
  {
   "cell_type": "code",
   "execution_count": 42,
   "metadata": {},
   "outputs": [],
   "source": [
    "?arr1.add"
   ]
  },
  {
   "cell_type": "code",
   "execution_count": 105,
   "metadata": {},
   "outputs": [],
   "source": [
    "import scipy"
   ]
  },
  {
   "cell_type": "code",
   "execution_count": 132,
   "metadata": {
    "scrolled": true
   },
   "outputs": [
    {
     "data": {
      "text/plain": [
       "(0.9995960593223572, 0.8290085792541504)"
      ]
     },
     "execution_count": 132,
     "metadata": {},
     "output_type": "execute_result"
    }
   ],
   "source": [
    "scipy.stats.shapiro(df)"
   ]
  },
  {
   "cell_type": "code",
   "execution_count": 131,
   "metadata": {},
   "outputs": [
    {
     "data": {
      "text/plain": [
       "NormaltestResult(statistic=array([4.10452135, 0.76544463, 1.78599902]), pvalue=array([0.1284442 , 0.68200226, 0.40942583]))"
      ]
     },
     "execution_count": 131,
     "metadata": {},
     "output_type": "execute_result"
    }
   ],
   "source": [
    "scipy.stats.normaltest(df)"
   ]
  },
  {
   "cell_type": "code",
   "execution_count": 172,
   "metadata": {},
   "outputs": [
    {
     "data": {
      "text/plain": [
       "Ttest_indResult(statistic=-0.00378764875375555, pvalue=0.9969786577148051)"
      ]
     },
     "execution_count": 172,
     "metadata": {},
     "output_type": "execute_result"
    }
   ],
   "source": [
    "scipy.stats.ttest_ind(df.a[:500], df.a[500:])"
   ]
  },
  {
   "cell_type": "code",
   "execution_count": 194,
   "metadata": {},
   "outputs": [
    {
     "data": {
      "text/html": [
       "<div>\n",
       "<style scoped>\n",
       "    .dataframe tbody tr th:only-of-type {\n",
       "        vertical-align: middle;\n",
       "    }\n",
       "\n",
       "    .dataframe tbody tr th {\n",
       "        vertical-align: top;\n",
       "    }\n",
       "\n",
       "    .dataframe thead th {\n",
       "        text-align: right;\n",
       "    }\n",
       "</style>\n",
       "<table border=\"1\" class=\"dataframe\">\n",
       "  <thead>\n",
       "    <tr style=\"text-align: right;\">\n",
       "      <th></th>\n",
       "      <th>a</th>\n",
       "      <th>b</th>\n",
       "      <th>c</th>\n",
       "      <th>d</th>\n",
       "    </tr>\n",
       "  </thead>\n",
       "  <tbody>\n",
       "    <tr>\n",
       "      <th>0</th>\n",
       "      <td>0.029219</td>\n",
       "      <td>-2.903424</td>\n",
       "      <td>-0.500705</td>\n",
       "      <td>0.319561</td>\n",
       "    </tr>\n",
       "    <tr>\n",
       "      <th>1</th>\n",
       "      <td>-0.581401</td>\n",
       "      <td>-0.691049</td>\n",
       "      <td>0.618647</td>\n",
       "      <td>-0.512296</td>\n",
       "    </tr>\n",
       "    <tr>\n",
       "      <th>2</th>\n",
       "      <td>1.048681</td>\n",
       "      <td>-1.142982</td>\n",
       "      <td>0.863099</td>\n",
       "      <td>1.162979</td>\n",
       "    </tr>\n",
       "    <tr>\n",
       "      <th>3</th>\n",
       "      <td>-0.674633</td>\n",
       "      <td>0.932612</td>\n",
       "      <td>-0.234586</td>\n",
       "      <td>-0.581372</td>\n",
       "    </tr>\n",
       "    <tr>\n",
       "      <th>4</th>\n",
       "      <td>-0.226700</td>\n",
       "      <td>0.619903</td>\n",
       "      <td>0.233450</td>\n",
       "      <td>-0.164710</td>\n",
       "    </tr>\n",
       "    <tr>\n",
       "      <th>...</th>\n",
       "      <td>...</td>\n",
       "      <td>...</td>\n",
       "      <td>...</td>\n",
       "      <td>...</td>\n",
       "    </tr>\n",
       "    <tr>\n",
       "      <th>995</th>\n",
       "      <td>-0.810591</td>\n",
       "      <td>-1.918957</td>\n",
       "      <td>0.458101</td>\n",
       "      <td>-0.618696</td>\n",
       "    </tr>\n",
       "    <tr>\n",
       "      <th>996</th>\n",
       "      <td>0.230917</td>\n",
       "      <td>1.234558</td>\n",
       "      <td>-1.935713</td>\n",
       "      <td>0.354372</td>\n",
       "    </tr>\n",
       "    <tr>\n",
       "      <th>997</th>\n",
       "      <td>-0.606310</td>\n",
       "      <td>-2.342535</td>\n",
       "      <td>-0.613960</td>\n",
       "      <td>-0.372057</td>\n",
       "    </tr>\n",
       "    <tr>\n",
       "      <th>998</th>\n",
       "      <td>0.238668</td>\n",
       "      <td>0.246697</td>\n",
       "      <td>-0.116900</td>\n",
       "      <td>0.263338</td>\n",
       "    </tr>\n",
       "    <tr>\n",
       "      <th>999</th>\n",
       "      <td>-0.741109</td>\n",
       "      <td>1.206009</td>\n",
       "      <td>-0.391324</td>\n",
       "      <td>-0.620508</td>\n",
       "    </tr>\n",
       "  </tbody>\n",
       "</table>\n",
       "<p>1000 rows × 4 columns</p>\n",
       "</div>"
      ],
      "text/plain": [
       "            a         b         c         d\n",
       "0    0.029219 -2.903424 -0.500705  0.319561\n",
       "1   -0.581401 -0.691049  0.618647 -0.512296\n",
       "2    1.048681 -1.142982  0.863099  1.162979\n",
       "3   -0.674633  0.932612 -0.234586 -0.581372\n",
       "4   -0.226700  0.619903  0.233450 -0.164710\n",
       "..        ...       ...       ...       ...\n",
       "995 -0.810591 -1.918957  0.458101 -0.618696\n",
       "996  0.230917  1.234558 -1.935713  0.354372\n",
       "997 -0.606310 -2.342535 -0.613960 -0.372057\n",
       "998  0.238668  0.246697 -0.116900  0.263338\n",
       "999 -0.741109  1.206009 -0.391324 -0.620508\n",
       "\n",
       "[1000 rows x 4 columns]"
      ]
     },
     "execution_count": 194,
     "metadata": {},
     "output_type": "execute_result"
    }
   ],
   "source": [
    "df['d'] = df.a + 0.1 * abs(df.b)\n",
    "df"
   ]
  },
  {
   "cell_type": "code",
   "execution_count": 195,
   "metadata": {
    "scrolled": true
   },
   "outputs": [
    {
     "data": {
      "text/plain": [
       "Ttest_relResult(statistic=-41.670442565038016, pvalue=9.760891545699535e-221)"
      ]
     },
     "execution_count": 195,
     "metadata": {},
     "output_type": "execute_result"
    }
   ],
   "source": [
    "scipy.stats.ttest_rel(df['a'], df['d'])"
   ]
  },
  {
   "cell_type": "code",
   "execution_count": 198,
   "metadata": {
    "scrolled": true
   },
   "outputs": [
    {
     "data": {
      "text/plain": [
       "array([[[-3., -3., -3., -3., -3., -3., -3.],\n",
       "        [-2., -2., -2., -2., -2., -2., -2.],\n",
       "        [-1., -1., -1., -1., -1., -1., -1.],\n",
       "        [ 0.,  0.,  0.,  0.,  0.,  0.,  0.],\n",
       "        [ 1.,  1.,  1.,  1.,  1.,  1.,  1.],\n",
       "        [ 2.,  2.,  2.,  2.,  2.,  2.,  2.],\n",
       "        [ 3.,  3.,  3.,  3.,  3.,  3.,  3.]],\n",
       "\n",
       "       [[-3., -2., -1.,  0.,  1.,  2.,  3.],\n",
       "        [-3., -2., -1.,  0.,  1.,  2.,  3.],\n",
       "        [-3., -2., -1.,  0.,  1.,  2.,  3.],\n",
       "        [-3., -2., -1.,  0.,  1.,  2.,  3.],\n",
       "        [-3., -2., -1.,  0.,  1.,  2.,  3.],\n",
       "        [-3., -2., -1.,  0.,  1.,  2.,  3.],\n",
       "        [-3., -2., -1.,  0.,  1.,  2.,  3.]]])"
      ]
     },
     "execution_count": 198,
     "metadata": {},
     "output_type": "execute_result"
    }
   ],
   "source": [
    "np.mgrid[-3:3:7j, -3:3:7j]"
   ]
  },
  {
   "cell_type": "code",
   "execution_count": 205,
   "metadata": {
    "scrolled": true
   },
   "outputs": [
    {
     "data": {
      "text/plain": [
       "array([[0, 1, 2],\n",
       "       [3, 4, 5]])"
      ]
     },
     "execution_count": 205,
     "metadata": {},
     "output_type": "execute_result"
    }
   ],
   "source": [
    "arr = np.arange(6)\n",
    "arr.resize(2, 3)\n",
    "arr"
   ]
  },
  {
   "cell_type": "code",
   "execution_count": 206,
   "metadata": {},
   "outputs": [
    {
     "data": {
      "text/html": [
       "<div>\n",
       "<style scoped>\n",
       "    .dataframe tbody tr th:only-of-type {\n",
       "        vertical-align: middle;\n",
       "    }\n",
       "\n",
       "    .dataframe tbody tr th {\n",
       "        vertical-align: top;\n",
       "    }\n",
       "\n",
       "    .dataframe thead th {\n",
       "        text-align: right;\n",
       "    }\n",
       "</style>\n",
       "<table border=\"1\" class=\"dataframe\">\n",
       "  <thead>\n",
       "    <tr style=\"text-align: right;\">\n",
       "      <th></th>\n",
       "      <th>a</th>\n",
       "      <th>b</th>\n",
       "      <th>c</th>\n",
       "      <th>d</th>\n",
       "      <th>e</th>\n",
       "    </tr>\n",
       "  </thead>\n",
       "  <tbody>\n",
       "    <tr>\n",
       "      <th>0</th>\n",
       "      <td>0.029219</td>\n",
       "      <td>-2.903424</td>\n",
       "      <td>-0.500705</td>\n",
       "      <td>0.319561</td>\n",
       "      <td>inf</td>\n",
       "    </tr>\n",
       "    <tr>\n",
       "      <th>1</th>\n",
       "      <td>-0.581401</td>\n",
       "      <td>-0.691049</td>\n",
       "      <td>0.618647</td>\n",
       "      <td>-0.512296</td>\n",
       "      <td>-inf</td>\n",
       "    </tr>\n",
       "    <tr>\n",
       "      <th>2</th>\n",
       "      <td>1.048681</td>\n",
       "      <td>-1.142982</td>\n",
       "      <td>0.863099</td>\n",
       "      <td>1.162979</td>\n",
       "      <td>inf</td>\n",
       "    </tr>\n",
       "    <tr>\n",
       "      <th>3</th>\n",
       "      <td>-0.674633</td>\n",
       "      <td>0.932612</td>\n",
       "      <td>-0.234586</td>\n",
       "      <td>-0.581372</td>\n",
       "      <td>-inf</td>\n",
       "    </tr>\n",
       "    <tr>\n",
       "      <th>4</th>\n",
       "      <td>-0.226700</td>\n",
       "      <td>0.619903</td>\n",
       "      <td>0.233450</td>\n",
       "      <td>-0.164710</td>\n",
       "      <td>-inf</td>\n",
       "    </tr>\n",
       "    <tr>\n",
       "      <th>...</th>\n",
       "      <td>...</td>\n",
       "      <td>...</td>\n",
       "      <td>...</td>\n",
       "      <td>...</td>\n",
       "      <td>...</td>\n",
       "    </tr>\n",
       "    <tr>\n",
       "      <th>995</th>\n",
       "      <td>-0.810591</td>\n",
       "      <td>-1.918957</td>\n",
       "      <td>0.458101</td>\n",
       "      <td>-0.618696</td>\n",
       "      <td>-inf</td>\n",
       "    </tr>\n",
       "    <tr>\n",
       "      <th>996</th>\n",
       "      <td>0.230917</td>\n",
       "      <td>1.234558</td>\n",
       "      <td>-1.935713</td>\n",
       "      <td>0.354372</td>\n",
       "      <td>inf</td>\n",
       "    </tr>\n",
       "    <tr>\n",
       "      <th>997</th>\n",
       "      <td>-0.606310</td>\n",
       "      <td>-2.342535</td>\n",
       "      <td>-0.613960</td>\n",
       "      <td>-0.372057</td>\n",
       "      <td>-inf</td>\n",
       "    </tr>\n",
       "    <tr>\n",
       "      <th>998</th>\n",
       "      <td>0.238668</td>\n",
       "      <td>0.246697</td>\n",
       "      <td>-0.116900</td>\n",
       "      <td>0.263338</td>\n",
       "      <td>inf</td>\n",
       "    </tr>\n",
       "    <tr>\n",
       "      <th>999</th>\n",
       "      <td>-0.741109</td>\n",
       "      <td>1.206009</td>\n",
       "      <td>-0.391324</td>\n",
       "      <td>-0.620508</td>\n",
       "      <td>-inf</td>\n",
       "    </tr>\n",
       "  </tbody>\n",
       "</table>\n",
       "<p>1000 rows × 5 columns</p>\n",
       "</div>"
      ],
      "text/plain": [
       "            a         b         c         d    e\n",
       "0    0.029219 -2.903424 -0.500705  0.319561  inf\n",
       "1   -0.581401 -0.691049  0.618647 -0.512296 -inf\n",
       "2    1.048681 -1.142982  0.863099  1.162979  inf\n",
       "3   -0.674633  0.932612 -0.234586 -0.581372 -inf\n",
       "4   -0.226700  0.619903  0.233450 -0.164710 -inf\n",
       "..        ...       ...       ...       ...  ...\n",
       "995 -0.810591 -1.918957  0.458101 -0.618696 -inf\n",
       "996  0.230917  1.234558 -1.935713  0.354372  inf\n",
       "997 -0.606310 -2.342535 -0.613960 -0.372057 -inf\n",
       "998  0.238668  0.246697 -0.116900  0.263338  inf\n",
       "999 -0.741109  1.206009 -0.391324 -0.620508 -inf\n",
       "\n",
       "[1000 rows x 5 columns]"
      ]
     },
     "execution_count": 206,
     "metadata": {},
     "output_type": "execute_result"
    }
   ],
   "source": [
    "df['e'] = df['d'] / 0\n",
    "df"
   ]
  },
  {
   "cell_type": "code",
   "execution_count": 211,
   "metadata": {},
   "outputs": [
    {
     "data": {
      "text/plain": [
       "array([8, 3, 0, 5, 1, 6, 5, 3, 6, 6, 3, 0, 7, 2, 6, 7, 1, 7, 0, 7, 2, 7,\n",
       "       1, 2, 3, 8, 3, 3, 1, 0, 0, 1, 4, 3, 8, 9, 9, 6, 5, 8, 6, 0, 8, 0,\n",
       "       8, 2, 9, 6, 0, 0, 6, 3, 4, 8, 2, 2, 4, 5, 3, 2, 9, 5, 7, 0, 4, 7,\n",
       "       9, 6, 0, 9, 8, 2, 3, 8, 2, 1, 1, 4, 9, 5, 7, 1, 5, 7, 5, 7, 2, 0,\n",
       "       8, 1, 7, 6, 6, 5, 2, 0, 1, 0, 9, 5])"
      ]
     },
     "execution_count": 211,
     "metadata": {},
     "output_type": "execute_result"
    }
   ],
   "source": [
    "np.random.randint(0, 10, size=100)"
   ]
  },
  {
   "cell_type": "code",
   "execution_count": null,
   "metadata": {},
   "outputs": [],
   "source": []
  },
  {
   "cell_type": "code",
   "execution_count": 7,
   "metadata": {},
   "outputs": [
    {
     "name": "stderr",
     "output_type": "stream",
     "text": [
      "Processing g: 100%|██████████████████████████████████████████████████████████████████████| 7/7 [00:05<00:00,  1.38it/s]\n"
     ]
    }
   ],
   "source": [
    "from tqdm import tqdm\n",
    "import time\n",
    "\n",
    "pbar = tqdm([\"a\",\"b\",\"c\",\"d\", \"e\", \"f\", \"g\"])\n",
    "for c in pbar:\n",
    "    if c == 'c':\n",
    "        time.sleep(1.5)\n",
    "    time.sleep(0.5)\n",
    "    pbar.set_description(\"Processing %s\"%c)"
   ]
  },
  {
   "cell_type": "code",
   "execution_count": 4,
   "metadata": {},
   "outputs": [
    {
     "data": {
      "application/vnd.jupyter.widget-view+json": {
       "model_id": "01224268554f4b35bedd282d4b8177cf",
       "version_major": 2,
       "version_minor": 0
      },
      "text/plain": [
       "HBox(children=(FloatProgress(value=0.0), HTML(value='')))"
      ]
     },
     "metadata": {},
     "output_type": "display_data"
    },
    {
     "name": "stdout",
     "output_type": "stream",
     "text": [
      "\n"
     ]
    }
   ],
   "source": [
    "from tqdm.notebook import tqdm\n",
    "import time\n",
    "\n",
    "#totalParameter установка общей длины индикатора выполнения\n",
    "with tqdm(total=100) as pbar:\n",
    "  for i in range(100):\n",
    "    time.sleep(0.05)\n",
    "    # Обновлять длину индикатора выполнения каждый раз\n",
    "    pbar.update(1)"
   ]
  },
  {
   "cell_type": "code",
   "execution_count": null,
   "metadata": {},
   "outputs": [],
   "source": [
    "import pandas as pd\n",
    "import numpy as np\n",
    "from tqdm.notebook import tqdm\n",
    "\n",
    "df = pd.DataFrame(np.random.randint(0, 100, (10000000, 6)))\n",
    "\n",
    "# Register `pandas.progress_apply` and `pandas.Series.map_apply` with `tqdm`\n",
    "# (can use `tqdm.gui.tqdm`, `tqdm.notebook.tqdm`, optional kwargs, etc.)\n",
    "# tqdm.pandas(desc=\"my bar!\")\n",
    "tqdm.pandas()\n",
    "\n",
    "# Now you can use `progress_apply` instead of `apply`\n",
    "# and `progress_map` instead of `map`\n",
    "df.progress_apply(lambda x: x**2)\n",
    "# can also groupby:\n",
    "# df.groupby(0).progress_apply(lambda x: x**2)"
   ]
  },
  {
   "cell_type": "code",
   "execution_count": 3,
   "metadata": {},
   "outputs": [
    {
     "data": {
      "application/vnd.jupyter.widget-view+json": {
       "model_id": "e76e367721ee406ebe7a09888a89e3d1",
       "version_major": 2,
       "version_minor": 0
      },
      "text/plain": [
       "HBox(children=(FloatProgress(value=0.0, description='1st loop', max=3.0, style=ProgressStyle(description_width…"
      ]
     },
     "metadata": {},
     "output_type": "display_data"
    },
    {
     "data": {
      "application/vnd.jupyter.widget-view+json": {
       "model_id": "248bf646787f48b991d2272a7e6f9176",
       "version_major": 2,
       "version_minor": 0
      },
      "text/plain": [
       "HBox(children=(FloatProgress(value=0.0, description='2nd loop', style=ProgressStyle(description_width='initial…"
      ]
     },
     "metadata": {},
     "output_type": "display_data"
    },
    {
     "name": "stdout",
     "output_type": "stream",
     "text": [
      "\n"
     ]
    },
    {
     "data": {
      "application/vnd.jupyter.widget-view+json": {
       "model_id": "fcb0a0c9b4bc4c60b3aa69eb3db2316d",
       "version_major": 2,
       "version_minor": 0
      },
      "text/plain": [
       "HBox(children=(FloatProgress(value=0.0, description='2nd loop', style=ProgressStyle(description_width='initial…"
      ]
     },
     "metadata": {},
     "output_type": "display_data"
    },
    {
     "name": "stdout",
     "output_type": "stream",
     "text": [
      "\n"
     ]
    },
    {
     "data": {
      "application/vnd.jupyter.widget-view+json": {
       "model_id": "37cb2391db5e44729398198d32a196dc",
       "version_major": 2,
       "version_minor": 0
      },
      "text/plain": [
       "HBox(children=(FloatProgress(value=0.0, description='2nd loop', style=ProgressStyle(description_width='initial…"
      ]
     },
     "metadata": {},
     "output_type": "display_data"
    },
    {
     "name": "stdout",
     "output_type": "stream",
     "text": [
      "\n",
      "\n"
     ]
    }
   ],
   "source": [
    "from tqdm.notebook import trange, tqdm\n",
    "from time import sleep\n",
    "\n",
    "for i in trange(3, desc='1st loop'):\n",
    "    for j in tqdm(range(100), desc='2nd loop'):\n",
    "        sleep(0.01)"
   ]
  },
  {
   "cell_type": "code",
   "execution_count": null,
   "metadata": {},
   "outputs": [],
   "source": []
  },
  {
   "cell_type": "code",
   "execution_count": 5,
   "metadata": {},
   "outputs": [
    {
     "data": {
      "text/html": [
       "<div>\n",
       "<style scoped>\n",
       "    .dataframe tbody tr th:only-of-type {\n",
       "        vertical-align: middle;\n",
       "    }\n",
       "\n",
       "    .dataframe tbody tr th {\n",
       "        vertical-align: top;\n",
       "    }\n",
       "\n",
       "    .dataframe thead th {\n",
       "        text-align: right;\n",
       "    }\n",
       "</style>\n",
       "<table border=\"1\" class=\"dataframe\">\n",
       "  <thead>\n",
       "    <tr style=\"text-align: right;\">\n",
       "      <th></th>\n",
       "      <th>A</th>\n",
       "      <th>B</th>\n",
       "      <th>C</th>\n",
       "    </tr>\n",
       "  </thead>\n",
       "  <tbody>\n",
       "    <tr>\n",
       "      <th>0</th>\n",
       "      <td>4</td>\n",
       "      <td>1</td>\n",
       "      <td>4</td>\n",
       "    </tr>\n",
       "    <tr>\n",
       "      <th>1</th>\n",
       "      <td>5</td>\n",
       "      <td>1</td>\n",
       "      <td>4</td>\n",
       "    </tr>\n",
       "    <tr>\n",
       "      <th>2</th>\n",
       "      <td>9</td>\n",
       "      <td>7</td>\n",
       "      <td>2</td>\n",
       "    </tr>\n",
       "  </tbody>\n",
       "</table>\n",
       "</div>"
      ],
      "text/plain": [
       "   A  B  C\n",
       "0  4  1  4\n",
       "1  5  1  4\n",
       "2  9  7  2"
      ]
     },
     "execution_count": 5,
     "metadata": {},
     "output_type": "execute_result"
    }
   ],
   "source": [
    "pd.DataFrame(np.random.randint(0, 11, (3, 3)), columns=list('ABC'))"
   ]
  },
  {
   "cell_type": "code",
   "execution_count": null,
   "metadata": {},
   "outputs": [],
   "source": []
  },
  {
   "cell_type": "code",
   "execution_count": 14,
   "metadata": {
    "scrolled": true
   },
   "outputs": [
    {
     "data": {
      "text/html": [
       "<div>\n",
       "<style scoped>\n",
       "    .dataframe tbody tr th:only-of-type {\n",
       "        vertical-align: middle;\n",
       "    }\n",
       "\n",
       "    .dataframe tbody tr th {\n",
       "        vertical-align: top;\n",
       "    }\n",
       "\n",
       "    .dataframe thead th {\n",
       "        text-align: right;\n",
       "    }\n",
       "</style>\n",
       "<table border=\"1\" class=\"dataframe\">\n",
       "  <thead>\n",
       "    <tr style=\"text-align: right;\">\n",
       "      <th></th>\n",
       "      <th>gender</th>\n",
       "      <th>math_score</th>\n",
       "    </tr>\n",
       "  </thead>\n",
       "  <tbody>\n",
       "    <tr>\n",
       "      <th>0</th>\n",
       "      <td>f</td>\n",
       "      <td>61</td>\n",
       "    </tr>\n",
       "    <tr>\n",
       "      <th>1</th>\n",
       "      <td>f</td>\n",
       "      <td>63</td>\n",
       "    </tr>\n",
       "    <tr>\n",
       "      <th>2</th>\n",
       "      <td>f</td>\n",
       "      <td>52</td>\n",
       "    </tr>\n",
       "    <tr>\n",
       "      <th>3</th>\n",
       "      <td>f</td>\n",
       "      <td>67</td>\n",
       "    </tr>\n",
       "    <tr>\n",
       "      <th>4</th>\n",
       "      <td>m</td>\n",
       "      <td>92</td>\n",
       "    </tr>\n",
       "    <tr>\n",
       "      <th>5</th>\n",
       "      <td>m</td>\n",
       "      <td>19</td>\n",
       "    </tr>\n",
       "    <tr>\n",
       "      <th>6</th>\n",
       "      <td>m</td>\n",
       "      <td>74</td>\n",
       "    </tr>\n",
       "    <tr>\n",
       "      <th>7</th>\n",
       "      <td>f</td>\n",
       "      <td>3</td>\n",
       "    </tr>\n",
       "    <tr>\n",
       "      <th>8</th>\n",
       "      <td>m</td>\n",
       "      <td>98</td>\n",
       "    </tr>\n",
       "    <tr>\n",
       "      <th>9</th>\n",
       "      <td>m</td>\n",
       "      <td>40</td>\n",
       "    </tr>\n",
       "    <tr>\n",
       "      <th>10</th>\n",
       "      <td>f</td>\n",
       "      <td>93</td>\n",
       "    </tr>\n",
       "    <tr>\n",
       "      <th>11</th>\n",
       "      <td>f</td>\n",
       "      <td>85</td>\n",
       "    </tr>\n",
       "    <tr>\n",
       "      <th>12</th>\n",
       "      <td>f</td>\n",
       "      <td>79</td>\n",
       "    </tr>\n",
       "    <tr>\n",
       "      <th>13</th>\n",
       "      <td>m</td>\n",
       "      <td>85</td>\n",
       "    </tr>\n",
       "    <tr>\n",
       "      <th>14</th>\n",
       "      <td>m</td>\n",
       "      <td>21</td>\n",
       "    </tr>\n",
       "    <tr>\n",
       "      <th>15</th>\n",
       "      <td>m</td>\n",
       "      <td>13</td>\n",
       "    </tr>\n",
       "    <tr>\n",
       "      <th>16</th>\n",
       "      <td>m</td>\n",
       "      <td>100</td>\n",
       "    </tr>\n",
       "    <tr>\n",
       "      <th>17</th>\n",
       "      <td>f</td>\n",
       "      <td>66</td>\n",
       "    </tr>\n",
       "    <tr>\n",
       "      <th>18</th>\n",
       "      <td>f</td>\n",
       "      <td>90</td>\n",
       "    </tr>\n",
       "    <tr>\n",
       "      <th>19</th>\n",
       "      <td>f</td>\n",
       "      <td>36</td>\n",
       "    </tr>\n",
       "    <tr>\n",
       "      <th>20</th>\n",
       "      <td>f</td>\n",
       "      <td>89</td>\n",
       "    </tr>\n",
       "    <tr>\n",
       "      <th>21</th>\n",
       "      <td>m</td>\n",
       "      <td>98</td>\n",
       "    </tr>\n",
       "    <tr>\n",
       "      <th>22</th>\n",
       "      <td>m</td>\n",
       "      <td>16</td>\n",
       "    </tr>\n",
       "    <tr>\n",
       "      <th>23</th>\n",
       "      <td>f</td>\n",
       "      <td>20</td>\n",
       "    </tr>\n",
       "    <tr>\n",
       "      <th>24</th>\n",
       "      <td>f</td>\n",
       "      <td>59</td>\n",
       "    </tr>\n",
       "    <tr>\n",
       "      <th>25</th>\n",
       "      <td>m</td>\n",
       "      <td>85</td>\n",
       "    </tr>\n",
       "    <tr>\n",
       "      <th>26</th>\n",
       "      <td>m</td>\n",
       "      <td>94</td>\n",
       "    </tr>\n",
       "    <tr>\n",
       "      <th>27</th>\n",
       "      <td>f</td>\n",
       "      <td>44</td>\n",
       "    </tr>\n",
       "    <tr>\n",
       "      <th>28</th>\n",
       "      <td>f</td>\n",
       "      <td>26</td>\n",
       "    </tr>\n",
       "    <tr>\n",
       "      <th>29</th>\n",
       "      <td>m</td>\n",
       "      <td>76</td>\n",
       "    </tr>\n",
       "    <tr>\n",
       "      <th>30</th>\n",
       "      <td>m</td>\n",
       "      <td>10</td>\n",
       "    </tr>\n",
       "    <tr>\n",
       "      <th>31</th>\n",
       "      <td>m</td>\n",
       "      <td>70</td>\n",
       "    </tr>\n",
       "    <tr>\n",
       "      <th>32</th>\n",
       "      <td>f</td>\n",
       "      <td>7</td>\n",
       "    </tr>\n",
       "    <tr>\n",
       "      <th>33</th>\n",
       "      <td>f</td>\n",
       "      <td>6</td>\n",
       "    </tr>\n",
       "    <tr>\n",
       "      <th>34</th>\n",
       "      <td>m</td>\n",
       "      <td>78</td>\n",
       "    </tr>\n",
       "    <tr>\n",
       "      <th>35</th>\n",
       "      <td>f</td>\n",
       "      <td>0</td>\n",
       "    </tr>\n",
       "    <tr>\n",
       "      <th>36</th>\n",
       "      <td>f</td>\n",
       "      <td>75</td>\n",
       "    </tr>\n",
       "    <tr>\n",
       "      <th>37</th>\n",
       "      <td>f</td>\n",
       "      <td>9</td>\n",
       "    </tr>\n",
       "    <tr>\n",
       "      <th>38</th>\n",
       "      <td>m</td>\n",
       "      <td>68</td>\n",
       "    </tr>\n",
       "    <tr>\n",
       "      <th>39</th>\n",
       "      <td>f</td>\n",
       "      <td>29</td>\n",
       "    </tr>\n",
       "    <tr>\n",
       "      <th>40</th>\n",
       "      <td>m</td>\n",
       "      <td>14</td>\n",
       "    </tr>\n",
       "    <tr>\n",
       "      <th>41</th>\n",
       "      <td>f</td>\n",
       "      <td>0</td>\n",
       "    </tr>\n",
       "    <tr>\n",
       "      <th>42</th>\n",
       "      <td>f</td>\n",
       "      <td>56</td>\n",
       "    </tr>\n",
       "    <tr>\n",
       "      <th>43</th>\n",
       "      <td>f</td>\n",
       "      <td>18</td>\n",
       "    </tr>\n",
       "    <tr>\n",
       "      <th>44</th>\n",
       "      <td>f</td>\n",
       "      <td>97</td>\n",
       "    </tr>\n",
       "    <tr>\n",
       "      <th>45</th>\n",
       "      <td>m</td>\n",
       "      <td>48</td>\n",
       "    </tr>\n",
       "    <tr>\n",
       "      <th>46</th>\n",
       "      <td>m</td>\n",
       "      <td>5</td>\n",
       "    </tr>\n",
       "    <tr>\n",
       "      <th>47</th>\n",
       "      <td>f</td>\n",
       "      <td>3</td>\n",
       "    </tr>\n",
       "    <tr>\n",
       "      <th>48</th>\n",
       "      <td>f</td>\n",
       "      <td>84</td>\n",
       "    </tr>\n",
       "    <tr>\n",
       "      <th>49</th>\n",
       "      <td>f</td>\n",
       "      <td>96</td>\n",
       "    </tr>\n",
       "  </tbody>\n",
       "</table>\n",
       "</div>"
      ],
      "text/plain": [
       "   gender  math_score\n",
       "0       f          61\n",
       "1       f          63\n",
       "2       f          52\n",
       "3       f          67\n",
       "4       m          92\n",
       "5       m          19\n",
       "6       m          74\n",
       "7       f           3\n",
       "8       m          98\n",
       "9       m          40\n",
       "10      f          93\n",
       "11      f          85\n",
       "12      f          79\n",
       "13      m          85\n",
       "14      m          21\n",
       "15      m          13\n",
       "16      m         100\n",
       "17      f          66\n",
       "18      f          90\n",
       "19      f          36\n",
       "20      f          89\n",
       "21      m          98\n",
       "22      m          16\n",
       "23      f          20\n",
       "24      f          59\n",
       "25      m          85\n",
       "26      m          94\n",
       "27      f          44\n",
       "28      f          26\n",
       "29      m          76\n",
       "30      m          10\n",
       "31      m          70\n",
       "32      f           7\n",
       "33      f           6\n",
       "34      m          78\n",
       "35      f           0\n",
       "36      f          75\n",
       "37      f           9\n",
       "38      m          68\n",
       "39      f          29\n",
       "40      m          14\n",
       "41      f           0\n",
       "42      f          56\n",
       "43      f          18\n",
       "44      f          97\n",
       "45      m          48\n",
       "46      m           5\n",
       "47      f           3\n",
       "48      f          84\n",
       "49      f          96"
      ]
     },
     "execution_count": 14,
     "metadata": {},
     "output_type": "execute_result"
    }
   ],
   "source": [
    "df = pd.DataFrame({'gender': np.random.choice(['m', 'f'], size=50), 'math_score': np.random.randint(0, 101, 50)})\n",
    "df"
   ]
  },
  {
   "cell_type": "code",
   "execution_count": 18,
   "metadata": {},
   "outputs": [
    {
     "data": {
      "text/html": [
       "<div>\n",
       "<style scoped>\n",
       "    .dataframe tbody tr th:only-of-type {\n",
       "        vertical-align: middle;\n",
       "    }\n",
       "\n",
       "    .dataframe tbody tr th {\n",
       "        vertical-align: top;\n",
       "    }\n",
       "\n",
       "    .dataframe thead th {\n",
       "        text-align: right;\n",
       "    }\n",
       "</style>\n",
       "<table border=\"1\" class=\"dataframe\">\n",
       "  <thead>\n",
       "    <tr style=\"text-align: right;\">\n",
       "      <th></th>\n",
       "      <th>gender</th>\n",
       "      <th>math_score</th>\n",
       "    </tr>\n",
       "  </thead>\n",
       "  <tbody>\n",
       "    <tr>\n",
       "      <th>44</th>\n",
       "      <td>f</td>\n",
       "      <td>97</td>\n",
       "    </tr>\n",
       "    <tr>\n",
       "      <th>49</th>\n",
       "      <td>f</td>\n",
       "      <td>96</td>\n",
       "    </tr>\n",
       "    <tr>\n",
       "      <th>10</th>\n",
       "      <td>f</td>\n",
       "      <td>93</td>\n",
       "    </tr>\n",
       "    <tr>\n",
       "      <th>18</th>\n",
       "      <td>f</td>\n",
       "      <td>90</td>\n",
       "    </tr>\n",
       "    <tr>\n",
       "      <th>20</th>\n",
       "      <td>f</td>\n",
       "      <td>89</td>\n",
       "    </tr>\n",
       "    <tr>\n",
       "      <th>16</th>\n",
       "      <td>m</td>\n",
       "      <td>100</td>\n",
       "    </tr>\n",
       "    <tr>\n",
       "      <th>8</th>\n",
       "      <td>m</td>\n",
       "      <td>98</td>\n",
       "    </tr>\n",
       "    <tr>\n",
       "      <th>21</th>\n",
       "      <td>m</td>\n",
       "      <td>98</td>\n",
       "    </tr>\n",
       "    <tr>\n",
       "      <th>26</th>\n",
       "      <td>m</td>\n",
       "      <td>94</td>\n",
       "    </tr>\n",
       "    <tr>\n",
       "      <th>4</th>\n",
       "      <td>m</td>\n",
       "      <td>92</td>\n",
       "    </tr>\n",
       "  </tbody>\n",
       "</table>\n",
       "</div>"
      ],
      "text/plain": [
       "   gender  math_score\n",
       "44      f          97\n",
       "49      f          96\n",
       "10      f          93\n",
       "18      f          90\n",
       "20      f          89\n",
       "16      m         100\n",
       "8       m          98\n",
       "21      m          98\n",
       "26      m          94\n",
       "4       m          92"
      ]
     },
     "execution_count": 18,
     "metadata": {},
     "output_type": "execute_result"
    }
   ],
   "source": [
    "df.sort_values(['gender','math_score'], ascending=[True, False])\\\n",
    "    .groupby('gender')\\\n",
    "    .head(5)"
   ]
  },
  {
   "cell_type": "code",
   "execution_count": 21,
   "metadata": {},
   "outputs": [
    {
     "data": {
      "text/plain": [
       "800"
      ]
     },
     "execution_count": 21,
     "metadata": {},
     "output_type": "execute_result"
    }
   ],
   "source": [
    "df.values.nbytes"
   ]
  },
  {
   "cell_type": "code",
   "execution_count": null,
   "metadata": {},
   "outputs": [],
   "source": []
  },
  {
   "cell_type": "code",
   "execution_count": 33,
   "metadata": {},
   "outputs": [],
   "source": [
    "df = pd.DataFrame(np.random.randint(0, 100, (10000, 100)))"
   ]
  },
  {
   "cell_type": "code",
   "execution_count": 4,
   "metadata": {},
   "outputs": [],
   "source": [
    "from tqdm import tqdm\n",
    "tqdm.pandas()"
   ]
  },
  {
   "cell_type": "code",
   "execution_count": 35,
   "metadata": {},
   "outputs": [
    {
     "name": "stderr",
     "output_type": "stream",
     "text": [
      "100%|████████████████████████████| 1000000/1000000 [00:04<00:00, 209149.29it/s]\n"
     ]
    },
    {
     "data": {
      "text/html": [
       "<div>\n",
       "<style scoped>\n",
       "    .dataframe tbody tr th:only-of-type {\n",
       "        vertical-align: middle;\n",
       "    }\n",
       "\n",
       "    .dataframe tbody tr th {\n",
       "        vertical-align: top;\n",
       "    }\n",
       "\n",
       "    .dataframe thead th {\n",
       "        text-align: right;\n",
       "    }\n",
       "</style>\n",
       "<table border=\"1\" class=\"dataframe\">\n",
       "  <thead>\n",
       "    <tr style=\"text-align: right;\">\n",
       "      <th></th>\n",
       "      <th>0</th>\n",
       "      <th>1</th>\n",
       "      <th>2</th>\n",
       "      <th>3</th>\n",
       "      <th>4</th>\n",
       "      <th>5</th>\n",
       "      <th>6</th>\n",
       "      <th>7</th>\n",
       "      <th>8</th>\n",
       "      <th>9</th>\n",
       "      <th>...</th>\n",
       "      <th>90</th>\n",
       "      <th>91</th>\n",
       "      <th>92</th>\n",
       "      <th>93</th>\n",
       "      <th>94</th>\n",
       "      <th>95</th>\n",
       "      <th>96</th>\n",
       "      <th>97</th>\n",
       "      <th>98</th>\n",
       "      <th>99</th>\n",
       "    </tr>\n",
       "  </thead>\n",
       "  <tbody>\n",
       "    <tr>\n",
       "      <th>0</th>\n",
       "      <td>0.992873</td>\n",
       "      <td>-0.536573</td>\n",
       "      <td>0.017702</td>\n",
       "      <td>0.670229</td>\n",
       "      <td>0.920026</td>\n",
       "      <td>-0.026551</td>\n",
       "      <td>0.296369</td>\n",
       "      <td>-0.905578</td>\n",
       "      <td>0.412118</td>\n",
       "      <td>-0.966118</td>\n",
       "      <td>...</td>\n",
       "      <td>0.963795</td>\n",
       "      <td>0.893997</td>\n",
       "      <td>0.901788</td>\n",
       "      <td>0.762558</td>\n",
       "      <td>0.999912</td>\n",
       "      <td>-0.544021</td>\n",
       "      <td>-0.245252</td>\n",
       "      <td>0.656987</td>\n",
       "      <td>-0.676772</td>\n",
       "      <td>0.986628</td>\n",
       "    </tr>\n",
       "    <tr>\n",
       "      <th>1</th>\n",
       "      <td>-0.132352</td>\n",
       "      <td>0.017702</td>\n",
       "      <td>-0.750987</td>\n",
       "      <td>-0.993889</td>\n",
       "      <td>-0.756802</td>\n",
       "      <td>0.656987</td>\n",
       "      <td>0.436165</td>\n",
       "      <td>0.551427</td>\n",
       "      <td>-0.993889</td>\n",
       "      <td>-0.916522</td>\n",
       "      <td>...</td>\n",
       "      <td>0.656987</td>\n",
       "      <td>-0.831775</td>\n",
       "      <td>-0.676772</td>\n",
       "      <td>-0.905578</td>\n",
       "      <td>0.989358</td>\n",
       "      <td>-0.428183</td>\n",
       "      <td>0.436165</td>\n",
       "      <td>0.999520</td>\n",
       "      <td>0.412118</td>\n",
       "      <td>0.992873</td>\n",
       "    </tr>\n",
       "    <tr>\n",
       "      <th>2</th>\n",
       "      <td>-0.905578</td>\n",
       "      <td>-0.831775</td>\n",
       "      <td>0.986628</td>\n",
       "      <td>0.395925</td>\n",
       "      <td>0.296369</td>\n",
       "      <td>-0.558789</td>\n",
       "      <td>-0.821818</td>\n",
       "      <td>0.395925</td>\n",
       "      <td>-0.404038</td>\n",
       "      <td>0.762558</td>\n",
       "      <td>...</td>\n",
       "      <td>0.733190</td>\n",
       "      <td>0.826829</td>\n",
       "      <td>0.989358</td>\n",
       "      <td>-0.304811</td>\n",
       "      <td>0.826829</td>\n",
       "      <td>-0.176076</td>\n",
       "      <td>-0.643538</td>\n",
       "      <td>0.968364</td>\n",
       "      <td>0.149877</td>\n",
       "      <td>-0.756802</td>\n",
       "    </tr>\n",
       "    <tr>\n",
       "      <th>3</th>\n",
       "      <td>-0.444113</td>\n",
       "      <td>-0.245252</td>\n",
       "      <td>0.513978</td>\n",
       "      <td>-0.821818</td>\n",
       "      <td>0.745113</td>\n",
       "      <td>0.990607</td>\n",
       "      <td>0.920026</td>\n",
       "      <td>0.566108</td>\n",
       "      <td>0.850904</td>\n",
       "      <td>-0.905578</td>\n",
       "      <td>...</td>\n",
       "      <td>0.105988</td>\n",
       "      <td>0.270906</td>\n",
       "      <td>0.395925</td>\n",
       "      <td>0.983588</td>\n",
       "      <td>-0.923458</td>\n",
       "      <td>-0.158623</td>\n",
       "      <td>0.551427</td>\n",
       "      <td>0.270906</td>\n",
       "      <td>-0.245252</td>\n",
       "      <td>0.826829</td>\n",
       "    </tr>\n",
       "    <tr>\n",
       "      <th>4</th>\n",
       "      <td>0.986628</td>\n",
       "      <td>-0.287903</td>\n",
       "      <td>0.513978</td>\n",
       "      <td>-0.750987</td>\n",
       "      <td>-0.428183</td>\n",
       "      <td>-0.855520</td>\n",
       "      <td>-0.026551</td>\n",
       "      <td>-0.176076</td>\n",
       "      <td>-0.026551</td>\n",
       "      <td>0.656987</td>\n",
       "      <td>...</td>\n",
       "      <td>-0.768255</td>\n",
       "      <td>-0.905578</td>\n",
       "      <td>-0.961397</td>\n",
       "      <td>-0.821818</td>\n",
       "      <td>-0.245252</td>\n",
       "      <td>-0.132352</td>\n",
       "      <td>-0.287903</td>\n",
       "      <td>-0.573382</td>\n",
       "      <td>0.773891</td>\n",
       "      <td>0.860069</td>\n",
       "    </tr>\n",
       "    <tr>\n",
       "      <th>...</th>\n",
       "      <td>...</td>\n",
       "      <td>...</td>\n",
       "      <td>...</td>\n",
       "      <td>...</td>\n",
       "      <td>...</td>\n",
       "      <td>...</td>\n",
       "      <td>...</td>\n",
       "      <td>...</td>\n",
       "      <td>...</td>\n",
       "      <td>...</td>\n",
       "      <td>...</td>\n",
       "      <td>...</td>\n",
       "      <td>...</td>\n",
       "      <td>...</td>\n",
       "      <td>...</td>\n",
       "      <td>...</td>\n",
       "      <td>...</td>\n",
       "      <td>...</td>\n",
       "      <td>...</td>\n",
       "      <td>...</td>\n",
       "      <td>...</td>\n",
       "    </tr>\n",
       "    <tr>\n",
       "      <th>9995</th>\n",
       "      <td>-0.132352</td>\n",
       "      <td>0.149877</td>\n",
       "      <td>0.683262</td>\n",
       "      <td>-0.008851</td>\n",
       "      <td>0.035398</td>\n",
       "      <td>-0.521551</td>\n",
       "      <td>-0.999990</td>\n",
       "      <td>-0.663634</td>\n",
       "      <td>0.990607</td>\n",
       "      <td>0.105988</td>\n",
       "      <td>...</td>\n",
       "      <td>-0.966118</td>\n",
       "      <td>-0.404038</td>\n",
       "      <td>0.650288</td>\n",
       "      <td>0.529083</td>\n",
       "      <td>-0.387782</td>\n",
       "      <td>-0.855520</td>\n",
       "      <td>-0.643538</td>\n",
       "      <td>-0.916522</td>\n",
       "      <td>-0.158623</td>\n",
       "      <td>0.745113</td>\n",
       "    </tr>\n",
       "    <tr>\n",
       "      <th>9996</th>\n",
       "      <td>0.912945</td>\n",
       "      <td>-0.750987</td>\n",
       "      <td>0.412118</td>\n",
       "      <td>0.636738</td>\n",
       "      <td>-0.993889</td>\n",
       "      <td>-0.279415</td>\n",
       "      <td>-0.676772</td>\n",
       "      <td>-0.404038</td>\n",
       "      <td>-0.739181</td>\n",
       "      <td>-0.404038</td>\n",
       "      <td>...</td>\n",
       "      <td>0.893997</td>\n",
       "      <td>-0.245252</td>\n",
       "      <td>-0.114785</td>\n",
       "      <td>-0.629888</td>\n",
       "      <td>-0.026551</td>\n",
       "      <td>-0.544021</td>\n",
       "      <td>-0.831775</td>\n",
       "      <td>-0.846220</td>\n",
       "      <td>0.253823</td>\n",
       "      <td>-0.953753</td>\n",
       "    </tr>\n",
       "    <tr>\n",
       "      <th>9997</th>\n",
       "      <td>-0.916522</td>\n",
       "      <td>-0.988032</td>\n",
       "      <td>-0.663634</td>\n",
       "      <td>-0.831775</td>\n",
       "      <td>0.999520</td>\n",
       "      <td>0.893997</td>\n",
       "      <td>-0.262375</td>\n",
       "      <td>-0.629888</td>\n",
       "      <td>-0.988032</td>\n",
       "      <td>-0.988032</td>\n",
       "      <td>...</td>\n",
       "      <td>0.000000</td>\n",
       "      <td>-0.132352</td>\n",
       "      <td>0.566108</td>\n",
       "      <td>-0.387782</td>\n",
       "      <td>-0.821818</td>\n",
       "      <td>0.920026</td>\n",
       "      <td>-0.663634</td>\n",
       "      <td>-0.750987</td>\n",
       "      <td>0.951055</td>\n",
       "      <td>0.566108</td>\n",
       "    </tr>\n",
       "    <tr>\n",
       "      <th>9998</th>\n",
       "      <td>0.762558</td>\n",
       "      <td>-0.629888</td>\n",
       "      <td>-0.279415</td>\n",
       "      <td>0.017702</td>\n",
       "      <td>-0.676772</td>\n",
       "      <td>-0.132352</td>\n",
       "      <td>0.035398</td>\n",
       "      <td>-0.573382</td>\n",
       "      <td>0.836656</td>\n",
       "      <td>0.841471</td>\n",
       "      <td>...</td>\n",
       "      <td>-0.262375</td>\n",
       "      <td>-0.521551</td>\n",
       "      <td>-0.287903</td>\n",
       "      <td>0.956376</td>\n",
       "      <td>0.893997</td>\n",
       "      <td>0.683262</td>\n",
       "      <td>-0.988032</td>\n",
       "      <td>-0.008851</td>\n",
       "      <td>0.270906</td>\n",
       "      <td>0.745113</td>\n",
       "    </tr>\n",
       "    <tr>\n",
       "      <th>9999</th>\n",
       "      <td>-0.821818</td>\n",
       "      <td>0.990607</td>\n",
       "      <td>-0.999207</td>\n",
       "      <td>-0.779466</td>\n",
       "      <td>-0.991779</td>\n",
       "      <td>-0.114785</td>\n",
       "      <td>0.989358</td>\n",
       "      <td>0.141120</td>\n",
       "      <td>-0.676772</td>\n",
       "      <td>-0.287903</td>\n",
       "      <td>...</td>\n",
       "      <td>0.920026</td>\n",
       "      <td>-0.114785</td>\n",
       "      <td>0.745113</td>\n",
       "      <td>-0.768255</td>\n",
       "      <td>-0.958924</td>\n",
       "      <td>-0.779466</td>\n",
       "      <td>-0.132352</td>\n",
       "      <td>0.999912</td>\n",
       "      <td>0.670229</td>\n",
       "      <td>0.123573</td>\n",
       "    </tr>\n",
       "  </tbody>\n",
       "</table>\n",
       "<p>10000 rows × 100 columns</p>\n",
       "</div>"
      ],
      "text/plain": [
       "            0         1         2         3         4         5         6   \\\n",
       "0     0.992873 -0.536573  0.017702  0.670229  0.920026 -0.026551  0.296369   \n",
       "1    -0.132352  0.017702 -0.750987 -0.993889 -0.756802  0.656987  0.436165   \n",
       "2    -0.905578 -0.831775  0.986628  0.395925  0.296369 -0.558789 -0.821818   \n",
       "3    -0.444113 -0.245252  0.513978 -0.821818  0.745113  0.990607  0.920026   \n",
       "4     0.986628 -0.287903  0.513978 -0.750987 -0.428183 -0.855520 -0.026551   \n",
       "...        ...       ...       ...       ...       ...       ...       ...   \n",
       "9995 -0.132352  0.149877  0.683262 -0.008851  0.035398 -0.521551 -0.999990   \n",
       "9996  0.912945 -0.750987  0.412118  0.636738 -0.993889 -0.279415 -0.676772   \n",
       "9997 -0.916522 -0.988032 -0.663634 -0.831775  0.999520  0.893997 -0.262375   \n",
       "9998  0.762558 -0.629888 -0.279415  0.017702 -0.676772 -0.132352  0.035398   \n",
       "9999 -0.821818  0.990607 -0.999207 -0.779466 -0.991779 -0.114785  0.989358   \n",
       "\n",
       "            7         8         9   ...        90        91        92  \\\n",
       "0    -0.905578  0.412118 -0.966118  ...  0.963795  0.893997  0.901788   \n",
       "1     0.551427 -0.993889 -0.916522  ...  0.656987 -0.831775 -0.676772   \n",
       "2     0.395925 -0.404038  0.762558  ...  0.733190  0.826829  0.989358   \n",
       "3     0.566108  0.850904 -0.905578  ...  0.105988  0.270906  0.395925   \n",
       "4    -0.176076 -0.026551  0.656987  ... -0.768255 -0.905578 -0.961397   \n",
       "...        ...       ...       ...  ...       ...       ...       ...   \n",
       "9995 -0.663634  0.990607  0.105988  ... -0.966118 -0.404038  0.650288   \n",
       "9996 -0.404038 -0.739181 -0.404038  ...  0.893997 -0.245252 -0.114785   \n",
       "9997 -0.629888 -0.988032 -0.988032  ...  0.000000 -0.132352  0.566108   \n",
       "9998 -0.573382  0.836656  0.841471  ... -0.262375 -0.521551 -0.287903   \n",
       "9999  0.141120 -0.676772 -0.287903  ...  0.920026 -0.114785  0.745113   \n",
       "\n",
       "            93        94        95        96        97        98        99  \n",
       "0     0.762558  0.999912 -0.544021 -0.245252  0.656987 -0.676772  0.986628  \n",
       "1    -0.905578  0.989358 -0.428183  0.436165  0.999520  0.412118  0.992873  \n",
       "2    -0.304811  0.826829 -0.176076 -0.643538  0.968364  0.149877 -0.756802  \n",
       "3     0.983588 -0.923458 -0.158623  0.551427  0.270906 -0.245252  0.826829  \n",
       "4    -0.821818 -0.245252 -0.132352 -0.287903 -0.573382  0.773891  0.860069  \n",
       "...        ...       ...       ...       ...       ...       ...       ...  \n",
       "9995  0.529083 -0.387782 -0.855520 -0.643538 -0.916522 -0.158623  0.745113  \n",
       "9996 -0.629888 -0.026551 -0.544021 -0.831775 -0.846220  0.253823 -0.953753  \n",
       "9997 -0.387782 -0.821818  0.920026 -0.663634 -0.750987  0.951055  0.566108  \n",
       "9998  0.956376  0.893997  0.683262 -0.988032 -0.008851  0.270906  0.745113  \n",
       "9999 -0.768255 -0.958924 -0.779466 -0.132352  0.999912  0.670229  0.123573  \n",
       "\n",
       "[10000 rows x 100 columns]"
      ]
     },
     "execution_count": 35,
     "metadata": {},
     "output_type": "execute_result"
    }
   ],
   "source": [
    "df.progress_applymap(lambda x: np.sin(x))\n",
    "# progress_map()"
   ]
  },
  {
   "cell_type": "code",
   "execution_count": 31,
   "metadata": {},
   "outputs": [
    {
     "name": "stderr",
     "output_type": "stream",
     "text": [
      "100%|████████████████████████████████| 10000/10000 [00:00<00:00, 161280.93it/s]\n"
     ]
    },
    {
     "data": {
      "text/plain": [
       "0       0.683262\n",
       "1      -0.923458\n",
       "2      -0.999755\n",
       "3      -0.387782\n",
       "4      -0.993889\n",
       "          ...   \n",
       "9995   -0.993889\n",
       "9996   -0.026551\n",
       "9997    0.683262\n",
       "9998   -0.905578\n",
       "9999   -0.026551\n",
       "Name: 0, Length: 10000, dtype: float64"
      ]
     },
     "execution_count": 31,
     "metadata": {},
     "output_type": "execute_result"
    }
   ],
   "source": [
    "df[0].progress_map(lambda x: np.sin(x))"
   ]
  },
  {
   "cell_type": "code",
   "execution_count": null,
   "metadata": {},
   "outputs": [],
   "source": []
  },
  {
   "cell_type": "code",
   "execution_count": null,
   "metadata": {},
   "outputs": [],
   "source": []
  },
  {
   "cell_type": "code",
   "execution_count": 6,
   "metadata": {},
   "outputs": [
    {
     "data": {
      "text/plain": [
       "False"
      ]
     },
     "execution_count": 6,
     "metadata": {},
     "output_type": "execute_result"
    }
   ],
   "source": [
    "def palindrome_check(s):\n",
    "    return s == s[::-1]\n",
    "\n",
    "palindrome_check('dsfgads')"
   ]
  },
  {
   "cell_type": "code",
   "execution_count": 12,
   "metadata": {},
   "outputs": [
    {
     "data": {
      "text/plain": [
       "False"
      ]
     },
     "execution_count": 12,
     "metadata": {},
     "output_type": "execute_result"
    }
   ],
   "source": [
    "def anagram_check(s1, s2):\n",
    "    return sorted(s1.lower()) == sorted(s2.lower())\n",
    "\n",
    "anagram_check('песнь', 'снедь')"
   ]
  },
  {
   "cell_type": "code",
   "execution_count": 20,
   "metadata": {},
   "outputs": [
    {
     "data": {
      "text/plain": [
       "'9W3B24W1B14W'"
      ]
     },
     "execution_count": 20,
     "metadata": {},
     "output_type": "execute_result"
    }
   ],
   "source": [
    "def rle_encode(s):\n",
    "    answer = ''\n",
    "    char_now = s[0]\n",
    "    char_amount = 1\n",
    "\n",
    "    for char in s[1:]:\n",
    "        if char == char_now:\n",
    "            char_amount += 1\n",
    "        else:\n",
    "            answer += str(char_amount) + char_now\n",
    "            char_now = char\n",
    "            char_amount = 1\n",
    "    \n",
    "    answer += str(char_amount) + char_now\n",
    "    char_now = char\n",
    "    char_amount = 1\n",
    "    \n",
    "    return answer\n",
    "\n",
    "rle_encode('WWWWWWWWWBBBWWWWWWWWWWWWWWWWWWWWWWWWBWWWWWWWWWWWWWW')"
   ]
  },
  {
   "cell_type": "code",
   "execution_count": null,
   "metadata": {},
   "outputs": [],
   "source": []
  },
  {
   "cell_type": "code",
   "execution_count": null,
   "metadata": {},
   "outputs": [],
   "source": []
  },
  {
   "cell_type": "code",
   "execution_count": 1,
   "metadata": {},
   "outputs": [
    {
     "name": "stdout",
     "output_type": "stream",
     "text": [
      "10\n",
      "Hello, 10\n"
     ]
    }
   ],
   "source": [
    "def print_hello(name: str, upper: bool = False) -> None:\n",
    "    print(f'Hello, {name}')\n",
    "# def __init__(self, x: int, y: int) -> None:\n",
    "\n",
    "\n",
    "title: str\n",
    "name: str = 'John'\n",
    "\n",
    "name = 10\n",
    "title = [2, 5]\n",
    "\n",
    "print(name)\n",
    "print_hello(name)"
   ]
  },
  {
   "cell_type": "code",
   "execution_count": null,
   "metadata": {},
   "outputs": [],
   "source": []
  },
  {
   "cell_type": "code",
   "execution_count": null,
   "metadata": {},
   "outputs": [],
   "source": []
  },
  {
   "cell_type": "code",
   "execution_count": 3,
   "metadata": {},
   "outputs": [
    {
     "data": {
      "text/html": [
       "<div>\n",
       "<style scoped>\n",
       "    .dataframe tbody tr th:only-of-type {\n",
       "        vertical-align: middle;\n",
       "    }\n",
       "\n",
       "    .dataframe tbody tr th {\n",
       "        vertical-align: top;\n",
       "    }\n",
       "\n",
       "    .dataframe thead th {\n",
       "        text-align: right;\n",
       "    }\n",
       "</style>\n",
       "<table border=\"1\" class=\"dataframe\">\n",
       "  <thead>\n",
       "    <tr style=\"text-align: right;\">\n",
       "      <th></th>\n",
       "      <th>pickup</th>\n",
       "      <th>dropoff</th>\n",
       "      <th>passengers</th>\n",
       "      <th>distance</th>\n",
       "      <th>fare</th>\n",
       "      <th>tip</th>\n",
       "      <th>tolls</th>\n",
       "      <th>total</th>\n",
       "      <th>color</th>\n",
       "      <th>payment</th>\n",
       "      <th>pickup_zone</th>\n",
       "      <th>dropoff_zone</th>\n",
       "      <th>pickup_borough</th>\n",
       "      <th>dropoff_borough</th>\n",
       "    </tr>\n",
       "  </thead>\n",
       "  <tbody>\n",
       "    <tr>\n",
       "      <th>0</th>\n",
       "      <td>2019-03-23 20:21:09</td>\n",
       "      <td>2019-03-23 20:27:24</td>\n",
       "      <td>1</td>\n",
       "      <td>1.60</td>\n",
       "      <td>7.0</td>\n",
       "      <td>2.15</td>\n",
       "      <td>0.0</td>\n",
       "      <td>12.95</td>\n",
       "      <td>yellow</td>\n",
       "      <td>credit card</td>\n",
       "      <td>Lenox Hill West</td>\n",
       "      <td>UN/Turtle Bay South</td>\n",
       "      <td>Manhattan</td>\n",
       "      <td>Manhattan</td>\n",
       "    </tr>\n",
       "    <tr>\n",
       "      <th>1</th>\n",
       "      <td>2019-03-04 16:11:55</td>\n",
       "      <td>2019-03-04 16:19:00</td>\n",
       "      <td>1</td>\n",
       "      <td>0.79</td>\n",
       "      <td>5.0</td>\n",
       "      <td>0.00</td>\n",
       "      <td>0.0</td>\n",
       "      <td>9.30</td>\n",
       "      <td>yellow</td>\n",
       "      <td>cash</td>\n",
       "      <td>Upper West Side South</td>\n",
       "      <td>Upper West Side South</td>\n",
       "      <td>Manhattan</td>\n",
       "      <td>Manhattan</td>\n",
       "    </tr>\n",
       "    <tr>\n",
       "      <th>2</th>\n",
       "      <td>2019-03-27 17:53:01</td>\n",
       "      <td>2019-03-27 18:00:25</td>\n",
       "      <td>1</td>\n",
       "      <td>1.37</td>\n",
       "      <td>7.5</td>\n",
       "      <td>2.36</td>\n",
       "      <td>0.0</td>\n",
       "      <td>14.16</td>\n",
       "      <td>yellow</td>\n",
       "      <td>credit card</td>\n",
       "      <td>Alphabet City</td>\n",
       "      <td>West Village</td>\n",
       "      <td>Manhattan</td>\n",
       "      <td>Manhattan</td>\n",
       "    </tr>\n",
       "    <tr>\n",
       "      <th>3</th>\n",
       "      <td>2019-03-10 01:23:59</td>\n",
       "      <td>2019-03-10 01:49:51</td>\n",
       "      <td>1</td>\n",
       "      <td>7.70</td>\n",
       "      <td>27.0</td>\n",
       "      <td>6.15</td>\n",
       "      <td>0.0</td>\n",
       "      <td>36.95</td>\n",
       "      <td>yellow</td>\n",
       "      <td>credit card</td>\n",
       "      <td>Hudson Sq</td>\n",
       "      <td>Yorkville West</td>\n",
       "      <td>Manhattan</td>\n",
       "      <td>Manhattan</td>\n",
       "    </tr>\n",
       "    <tr>\n",
       "      <th>4</th>\n",
       "      <td>2019-03-30 13:27:42</td>\n",
       "      <td>2019-03-30 13:37:14</td>\n",
       "      <td>3</td>\n",
       "      <td>2.16</td>\n",
       "      <td>9.0</td>\n",
       "      <td>1.10</td>\n",
       "      <td>0.0</td>\n",
       "      <td>13.40</td>\n",
       "      <td>yellow</td>\n",
       "      <td>credit card</td>\n",
       "      <td>Midtown East</td>\n",
       "      <td>Yorkville West</td>\n",
       "      <td>Manhattan</td>\n",
       "      <td>Manhattan</td>\n",
       "    </tr>\n",
       "  </tbody>\n",
       "</table>\n",
       "</div>"
      ],
      "text/plain": [
       "               pickup             dropoff  passengers  distance  fare   tip  \\\n",
       "0 2019-03-23 20:21:09 2019-03-23 20:27:24           1      1.60   7.0  2.15   \n",
       "1 2019-03-04 16:11:55 2019-03-04 16:19:00           1      0.79   5.0  0.00   \n",
       "2 2019-03-27 17:53:01 2019-03-27 18:00:25           1      1.37   7.5  2.36   \n",
       "3 2019-03-10 01:23:59 2019-03-10 01:49:51           1      7.70  27.0  6.15   \n",
       "4 2019-03-30 13:27:42 2019-03-30 13:37:14           3      2.16   9.0  1.10   \n",
       "\n",
       "   tolls  total   color      payment            pickup_zone  \\\n",
       "0    0.0  12.95  yellow  credit card        Lenox Hill West   \n",
       "1    0.0   9.30  yellow         cash  Upper West Side South   \n",
       "2    0.0  14.16  yellow  credit card          Alphabet City   \n",
       "3    0.0  36.95  yellow  credit card              Hudson Sq   \n",
       "4    0.0  13.40  yellow  credit card           Midtown East   \n",
       "\n",
       "            dropoff_zone pickup_borough dropoff_borough  \n",
       "0    UN/Turtle Bay South      Manhattan       Manhattan  \n",
       "1  Upper West Side South      Manhattan       Manhattan  \n",
       "2           West Village      Manhattan       Manhattan  \n",
       "3         Yorkville West      Manhattan       Manhattan  \n",
       "4         Yorkville West      Manhattan       Manhattan  "
      ]
     },
     "execution_count": 3,
     "metadata": {},
     "output_type": "execute_result"
    }
   ],
   "source": [
    "df = sns.load_dataset('taxis')\n",
    "df.head()"
   ]
  },
  {
   "cell_type": "code",
   "execution_count": 4,
   "metadata": {},
   "outputs": [],
   "source": [
    "q_1, q_3 = df.distance.quantile([0.25, 0.75])"
   ]
  },
  {
   "cell_type": "code",
   "execution_count": 5,
   "metadata": {},
   "outputs": [
    {
     "data": {
      "text/plain": [
       "(-2.3649999999999998, 6.555)"
      ]
     },
     "execution_count": 5,
     "metadata": {},
     "output_type": "execute_result"
    }
   ],
   "source": [
    "diff_3_1 = q_3 - q_1 \n",
    "up_thresh = q_3 + 1.5 * diff_3_1\n",
    "low_thresh = q_1 - 1.5 * diff_3_1\n",
    "low_thresh, up_thresh"
   ]
  },
  {
   "cell_type": "code",
   "execution_count": 6,
   "metadata": {},
   "outputs": [
    {
     "data": {
      "text/plain": [
       "0       1.60\n",
       "1       0.79\n",
       "2       1.37\n",
       "4       2.16\n",
       "5       0.49\n",
       "        ... \n",
       "6426    0.71\n",
       "6428    0.75\n",
       "6430    4.14\n",
       "6431    1.12\n",
       "6432    3.85\n",
       "Name: distance, Length: 5699, dtype: float64"
      ]
     },
     "execution_count": 6,
     "metadata": {},
     "output_type": "execute_result"
    }
   ],
   "source": [
    "df.distance[(df.distance > low_thresh) * (df.distance < up_thresh)]"
   ]
  },
  {
   "cell_type": "code",
   "execution_count": 8,
   "metadata": {},
   "outputs": [
    {
     "data": {
      "text/plain": [
       "0       1.60\n",
       "1       0.79\n",
       "2       1.37\n",
       "4       2.16\n",
       "5       0.49\n",
       "        ... \n",
       "6426    0.71\n",
       "6428    0.75\n",
       "6430    4.14\n",
       "6431    1.12\n",
       "6432    3.85\n",
       "Name: distance, Length: 5699, dtype: float64"
      ]
     },
     "execution_count": 8,
     "metadata": {},
     "output_type": "execute_result"
    }
   ],
   "source": [
    "df.distance[df.distance.between(low_thresh, up_thresh)]"
   ]
  },
  {
   "cell_type": "code",
   "execution_count": 4,
   "metadata": {},
   "outputs": [],
   "source": [
    "df = df.loc[:, 'distance':'total'].copy()"
   ]
  },
  {
   "cell_type": "code",
   "execution_count": 5,
   "metadata": {},
   "outputs": [],
   "source": [
    "standard_deviations = 3\n",
    "df1 = df[df.apply(lambda x: (x - x.mean()).abs() / x.std() < standard_deviations).all(axis=1)]"
   ]
  },
  {
   "cell_type": "code",
   "execution_count": 6,
   "metadata": {},
   "outputs": [
    {
     "data": {
      "text/html": [
       "<div>\n",
       "<style scoped>\n",
       "    .dataframe tbody tr th:only-of-type {\n",
       "        vertical-align: middle;\n",
       "    }\n",
       "\n",
       "    .dataframe tbody tr th {\n",
       "        vertical-align: top;\n",
       "    }\n",
       "\n",
       "    .dataframe thead th {\n",
       "        text-align: right;\n",
       "    }\n",
       "</style>\n",
       "<table border=\"1\" class=\"dataframe\">\n",
       "  <thead>\n",
       "    <tr style=\"text-align: right;\">\n",
       "      <th></th>\n",
       "      <th>distance</th>\n",
       "      <th>fare</th>\n",
       "      <th>tip</th>\n",
       "      <th>tolls</th>\n",
       "      <th>total</th>\n",
       "    </tr>\n",
       "  </thead>\n",
       "  <tbody>\n",
       "    <tr>\n",
       "      <th>0</th>\n",
       "      <td>1.60</td>\n",
       "      <td>7.0</td>\n",
       "      <td>2.15</td>\n",
       "      <td>0.0</td>\n",
       "      <td>12.95</td>\n",
       "    </tr>\n",
       "    <tr>\n",
       "      <th>1</th>\n",
       "      <td>0.79</td>\n",
       "      <td>5.0</td>\n",
       "      <td>0.00</td>\n",
       "      <td>0.0</td>\n",
       "      <td>9.30</td>\n",
       "    </tr>\n",
       "    <tr>\n",
       "      <th>2</th>\n",
       "      <td>1.37</td>\n",
       "      <td>7.5</td>\n",
       "      <td>2.36</td>\n",
       "      <td>0.0</td>\n",
       "      <td>14.16</td>\n",
       "    </tr>\n",
       "    <tr>\n",
       "      <th>3</th>\n",
       "      <td>7.70</td>\n",
       "      <td>27.0</td>\n",
       "      <td>6.15</td>\n",
       "      <td>0.0</td>\n",
       "      <td>36.95</td>\n",
       "    </tr>\n",
       "    <tr>\n",
       "      <th>4</th>\n",
       "      <td>2.16</td>\n",
       "      <td>9.0</td>\n",
       "      <td>1.10</td>\n",
       "      <td>0.0</td>\n",
       "      <td>13.40</td>\n",
       "    </tr>\n",
       "    <tr>\n",
       "      <th>...</th>\n",
       "      <td>...</td>\n",
       "      <td>...</td>\n",
       "      <td>...</td>\n",
       "      <td>...</td>\n",
       "      <td>...</td>\n",
       "    </tr>\n",
       "    <tr>\n",
       "      <th>6427</th>\n",
       "      <td>7.07</td>\n",
       "      <td>20.0</td>\n",
       "      <td>0.00</td>\n",
       "      <td>0.0</td>\n",
       "      <td>20.00</td>\n",
       "    </tr>\n",
       "    <tr>\n",
       "      <th>6428</th>\n",
       "      <td>0.75</td>\n",
       "      <td>4.5</td>\n",
       "      <td>1.06</td>\n",
       "      <td>0.0</td>\n",
       "      <td>6.36</td>\n",
       "    </tr>\n",
       "    <tr>\n",
       "      <th>6430</th>\n",
       "      <td>4.14</td>\n",
       "      <td>16.0</td>\n",
       "      <td>0.00</td>\n",
       "      <td>0.0</td>\n",
       "      <td>17.30</td>\n",
       "    </tr>\n",
       "    <tr>\n",
       "      <th>6431</th>\n",
       "      <td>1.12</td>\n",
       "      <td>6.0</td>\n",
       "      <td>0.00</td>\n",
       "      <td>0.0</td>\n",
       "      <td>6.80</td>\n",
       "    </tr>\n",
       "    <tr>\n",
       "      <th>6432</th>\n",
       "      <td>3.85</td>\n",
       "      <td>15.0</td>\n",
       "      <td>3.36</td>\n",
       "      <td>0.0</td>\n",
       "      <td>20.16</td>\n",
       "    </tr>\n",
       "  </tbody>\n",
       "</table>\n",
       "<p>5994 rows × 5 columns</p>\n",
       "</div>"
      ],
      "text/plain": [
       "      distance  fare   tip  tolls  total\n",
       "0         1.60   7.0  2.15    0.0  12.95\n",
       "1         0.79   5.0  0.00    0.0   9.30\n",
       "2         1.37   7.5  2.36    0.0  14.16\n",
       "3         7.70  27.0  6.15    0.0  36.95\n",
       "4         2.16   9.0  1.10    0.0  13.40\n",
       "...        ...   ...   ...    ...    ...\n",
       "6427      7.07  20.0  0.00    0.0  20.00\n",
       "6428      0.75   4.5  1.06    0.0   6.36\n",
       "6430      4.14  16.0  0.00    0.0  17.30\n",
       "6431      1.12   6.0  0.00    0.0   6.80\n",
       "6432      3.85  15.0  3.36    0.0  20.16\n",
       "\n",
       "[5994 rows x 5 columns]"
      ]
     },
     "execution_count": 6,
     "metadata": {},
     "output_type": "execute_result"
    }
   ],
   "source": [
    "df1"
   ]
  },
  {
   "cell_type": "code",
   "execution_count": 27,
   "metadata": {},
   "outputs": [],
   "source": [
    "standard_deviations = 3\n",
    "df2 = df[df.transform(lambda x: np.abs(x - x.mean()) / x.std() < standard_deviations).all(axis=1)]"
   ]
  },
  {
   "cell_type": "code",
   "execution_count": 28,
   "metadata": {},
   "outputs": [
    {
     "data": {
      "text/html": [
       "<div>\n",
       "<style scoped>\n",
       "    .dataframe tbody tr th:only-of-type {\n",
       "        vertical-align: middle;\n",
       "    }\n",
       "\n",
       "    .dataframe tbody tr th {\n",
       "        vertical-align: top;\n",
       "    }\n",
       "\n",
       "    .dataframe thead th {\n",
       "        text-align: right;\n",
       "    }\n",
       "</style>\n",
       "<table border=\"1\" class=\"dataframe\">\n",
       "  <thead>\n",
       "    <tr style=\"text-align: right;\">\n",
       "      <th></th>\n",
       "      <th>distance</th>\n",
       "      <th>fare</th>\n",
       "      <th>tip</th>\n",
       "      <th>tolls</th>\n",
       "      <th>total</th>\n",
       "    </tr>\n",
       "  </thead>\n",
       "  <tbody>\n",
       "    <tr>\n",
       "      <th>0</th>\n",
       "      <td>1.60</td>\n",
       "      <td>7.0</td>\n",
       "      <td>2.15</td>\n",
       "      <td>0.0</td>\n",
       "      <td>12.95</td>\n",
       "    </tr>\n",
       "    <tr>\n",
       "      <th>1</th>\n",
       "      <td>0.79</td>\n",
       "      <td>5.0</td>\n",
       "      <td>0.00</td>\n",
       "      <td>0.0</td>\n",
       "      <td>9.30</td>\n",
       "    </tr>\n",
       "    <tr>\n",
       "      <th>2</th>\n",
       "      <td>1.37</td>\n",
       "      <td>7.5</td>\n",
       "      <td>2.36</td>\n",
       "      <td>0.0</td>\n",
       "      <td>14.16</td>\n",
       "    </tr>\n",
       "    <tr>\n",
       "      <th>3</th>\n",
       "      <td>7.70</td>\n",
       "      <td>27.0</td>\n",
       "      <td>6.15</td>\n",
       "      <td>0.0</td>\n",
       "      <td>36.95</td>\n",
       "    </tr>\n",
       "    <tr>\n",
       "      <th>4</th>\n",
       "      <td>2.16</td>\n",
       "      <td>9.0</td>\n",
       "      <td>1.10</td>\n",
       "      <td>0.0</td>\n",
       "      <td>13.40</td>\n",
       "    </tr>\n",
       "    <tr>\n",
       "      <th>...</th>\n",
       "      <td>...</td>\n",
       "      <td>...</td>\n",
       "      <td>...</td>\n",
       "      <td>...</td>\n",
       "      <td>...</td>\n",
       "    </tr>\n",
       "    <tr>\n",
       "      <th>6427</th>\n",
       "      <td>7.07</td>\n",
       "      <td>20.0</td>\n",
       "      <td>0.00</td>\n",
       "      <td>0.0</td>\n",
       "      <td>20.00</td>\n",
       "    </tr>\n",
       "    <tr>\n",
       "      <th>6428</th>\n",
       "      <td>0.75</td>\n",
       "      <td>4.5</td>\n",
       "      <td>1.06</td>\n",
       "      <td>0.0</td>\n",
       "      <td>6.36</td>\n",
       "    </tr>\n",
       "    <tr>\n",
       "      <th>6430</th>\n",
       "      <td>4.14</td>\n",
       "      <td>16.0</td>\n",
       "      <td>0.00</td>\n",
       "      <td>0.0</td>\n",
       "      <td>17.30</td>\n",
       "    </tr>\n",
       "    <tr>\n",
       "      <th>6431</th>\n",
       "      <td>1.12</td>\n",
       "      <td>6.0</td>\n",
       "      <td>0.00</td>\n",
       "      <td>0.0</td>\n",
       "      <td>6.80</td>\n",
       "    </tr>\n",
       "    <tr>\n",
       "      <th>6432</th>\n",
       "      <td>3.85</td>\n",
       "      <td>15.0</td>\n",
       "      <td>3.36</td>\n",
       "      <td>0.0</td>\n",
       "      <td>20.16</td>\n",
       "    </tr>\n",
       "  </tbody>\n",
       "</table>\n",
       "<p>5994 rows × 5 columns</p>\n",
       "</div>"
      ],
      "text/plain": [
       "      distance  fare   tip  tolls  total\n",
       "0         1.60   7.0  2.15    0.0  12.95\n",
       "1         0.79   5.0  0.00    0.0   9.30\n",
       "2         1.37   7.5  2.36    0.0  14.16\n",
       "3         7.70  27.0  6.15    0.0  36.95\n",
       "4         2.16   9.0  1.10    0.0  13.40\n",
       "...        ...   ...   ...    ...    ...\n",
       "6427      7.07  20.0  0.00    0.0  20.00\n",
       "6428      0.75   4.5  1.06    0.0   6.36\n",
       "6430      4.14  16.0  0.00    0.0  17.30\n",
       "6431      1.12   6.0  0.00    0.0   6.80\n",
       "6432      3.85  15.0  3.36    0.0  20.16\n",
       "\n",
       "[5994 rows x 5 columns]"
      ]
     },
     "execution_count": 28,
     "metadata": {},
     "output_type": "execute_result"
    }
   ],
   "source": [
    "df2"
   ]
  },
  {
   "cell_type": "code",
   "execution_count": 30,
   "metadata": {},
   "outputs": [
    {
     "data": {
      "text/plain": [
       "True"
      ]
     },
     "execution_count": 30,
     "metadata": {},
     "output_type": "execute_result"
    }
   ],
   "source": [
    "(df1 == df2).all().all()"
   ]
  },
  {
   "cell_type": "code",
   "execution_count": 7,
   "metadata": {},
   "outputs": [],
   "source": [
    "from scipy.stats import zscore\n",
    "df1 = df[(zscore(df).abs() < 3).all(axis=1)]"
   ]
  },
  {
   "cell_type": "code",
   "execution_count": 8,
   "metadata": {},
   "outputs": [
    {
     "data": {
      "text/html": [
       "<div>\n",
       "<style scoped>\n",
       "    .dataframe tbody tr th:only-of-type {\n",
       "        vertical-align: middle;\n",
       "    }\n",
       "\n",
       "    .dataframe tbody tr th {\n",
       "        vertical-align: top;\n",
       "    }\n",
       "\n",
       "    .dataframe thead th {\n",
       "        text-align: right;\n",
       "    }\n",
       "</style>\n",
       "<table border=\"1\" class=\"dataframe\">\n",
       "  <thead>\n",
       "    <tr style=\"text-align: right;\">\n",
       "      <th></th>\n",
       "      <th>distance</th>\n",
       "      <th>fare</th>\n",
       "      <th>tip</th>\n",
       "      <th>tolls</th>\n",
       "      <th>total</th>\n",
       "    </tr>\n",
       "  </thead>\n",
       "  <tbody>\n",
       "    <tr>\n",
       "      <th>0</th>\n",
       "      <td>1.60</td>\n",
       "      <td>7.0</td>\n",
       "      <td>2.15</td>\n",
       "      <td>0.0</td>\n",
       "      <td>12.95</td>\n",
       "    </tr>\n",
       "    <tr>\n",
       "      <th>1</th>\n",
       "      <td>0.79</td>\n",
       "      <td>5.0</td>\n",
       "      <td>0.00</td>\n",
       "      <td>0.0</td>\n",
       "      <td>9.30</td>\n",
       "    </tr>\n",
       "    <tr>\n",
       "      <th>2</th>\n",
       "      <td>1.37</td>\n",
       "      <td>7.5</td>\n",
       "      <td>2.36</td>\n",
       "      <td>0.0</td>\n",
       "      <td>14.16</td>\n",
       "    </tr>\n",
       "    <tr>\n",
       "      <th>3</th>\n",
       "      <td>7.70</td>\n",
       "      <td>27.0</td>\n",
       "      <td>6.15</td>\n",
       "      <td>0.0</td>\n",
       "      <td>36.95</td>\n",
       "    </tr>\n",
       "    <tr>\n",
       "      <th>4</th>\n",
       "      <td>2.16</td>\n",
       "      <td>9.0</td>\n",
       "      <td>1.10</td>\n",
       "      <td>0.0</td>\n",
       "      <td>13.40</td>\n",
       "    </tr>\n",
       "    <tr>\n",
       "      <th>...</th>\n",
       "      <td>...</td>\n",
       "      <td>...</td>\n",
       "      <td>...</td>\n",
       "      <td>...</td>\n",
       "      <td>...</td>\n",
       "    </tr>\n",
       "    <tr>\n",
       "      <th>6427</th>\n",
       "      <td>7.07</td>\n",
       "      <td>20.0</td>\n",
       "      <td>0.00</td>\n",
       "      <td>0.0</td>\n",
       "      <td>20.00</td>\n",
       "    </tr>\n",
       "    <tr>\n",
       "      <th>6428</th>\n",
       "      <td>0.75</td>\n",
       "      <td>4.5</td>\n",
       "      <td>1.06</td>\n",
       "      <td>0.0</td>\n",
       "      <td>6.36</td>\n",
       "    </tr>\n",
       "    <tr>\n",
       "      <th>6430</th>\n",
       "      <td>4.14</td>\n",
       "      <td>16.0</td>\n",
       "      <td>0.00</td>\n",
       "      <td>0.0</td>\n",
       "      <td>17.30</td>\n",
       "    </tr>\n",
       "    <tr>\n",
       "      <th>6431</th>\n",
       "      <td>1.12</td>\n",
       "      <td>6.0</td>\n",
       "      <td>0.00</td>\n",
       "      <td>0.0</td>\n",
       "      <td>6.80</td>\n",
       "    </tr>\n",
       "    <tr>\n",
       "      <th>6432</th>\n",
       "      <td>3.85</td>\n",
       "      <td>15.0</td>\n",
       "      <td>3.36</td>\n",
       "      <td>0.0</td>\n",
       "      <td>20.16</td>\n",
       "    </tr>\n",
       "  </tbody>\n",
       "</table>\n",
       "<p>5994 rows × 5 columns</p>\n",
       "</div>"
      ],
      "text/plain": [
       "      distance  fare   tip  tolls  total\n",
       "0         1.60   7.0  2.15    0.0  12.95\n",
       "1         0.79   5.0  0.00    0.0   9.30\n",
       "2         1.37   7.5  2.36    0.0  14.16\n",
       "3         7.70  27.0  6.15    0.0  36.95\n",
       "4         2.16   9.0  1.10    0.0  13.40\n",
       "...        ...   ...   ...    ...    ...\n",
       "6427      7.07  20.0  0.00    0.0  20.00\n",
       "6428      0.75   4.5  1.06    0.0   6.36\n",
       "6430      4.14  16.0  0.00    0.0  17.30\n",
       "6431      1.12   6.0  0.00    0.0   6.80\n",
       "6432      3.85  15.0  3.36    0.0  20.16\n",
       "\n",
       "[5994 rows x 5 columns]"
      ]
     },
     "execution_count": 8,
     "metadata": {},
     "output_type": "execute_result"
    }
   ],
   "source": [
    "df1"
   ]
  },
  {
   "cell_type": "code",
   "execution_count": null,
   "metadata": {},
   "outputs": [],
   "source": []
  },
  {
   "cell_type": "code",
   "execution_count": 36,
   "metadata": {},
   "outputs": [],
   "source": [
    "df3 = df.loc[:10].copy()\n",
    "df4 = df3.loc[:1]\n",
    "df5 = df3.loc[:1]"
   ]
  },
  {
   "cell_type": "code",
   "execution_count": 38,
   "metadata": {},
   "outputs": [
    {
     "data": {
      "text/html": [
       "<div>\n",
       "<style scoped>\n",
       "    .dataframe tbody tr th:only-of-type {\n",
       "        vertical-align: middle;\n",
       "    }\n",
       "\n",
       "    .dataframe tbody tr th {\n",
       "        vertical-align: top;\n",
       "    }\n",
       "\n",
       "    .dataframe thead th {\n",
       "        text-align: right;\n",
       "    }\n",
       "</style>\n",
       "<table border=\"1\" class=\"dataframe\">\n",
       "  <thead>\n",
       "    <tr style=\"text-align: right;\">\n",
       "      <th></th>\n",
       "      <th>distance</th>\n",
       "      <th>fare</th>\n",
       "      <th>tip</th>\n",
       "      <th>tolls</th>\n",
       "      <th>total</th>\n",
       "    </tr>\n",
       "  </thead>\n",
       "  <tbody>\n",
       "    <tr>\n",
       "      <th>0</th>\n",
       "      <td>1.60</td>\n",
       "      <td>7.0</td>\n",
       "      <td>2.15</td>\n",
       "      <td>0.0</td>\n",
       "      <td>12.95</td>\n",
       "    </tr>\n",
       "    <tr>\n",
       "      <th>1</th>\n",
       "      <td>0.79</td>\n",
       "      <td>5.0</td>\n",
       "      <td>0.00</td>\n",
       "      <td>0.0</td>\n",
       "      <td>9.30</td>\n",
       "    </tr>\n",
       "  </tbody>\n",
       "</table>\n",
       "</div>"
      ],
      "text/plain": [
       "   distance  fare   tip  tolls  total\n",
       "0      1.60   7.0  2.15    0.0  12.95\n",
       "1      0.79   5.0  0.00    0.0   9.30"
      ]
     },
     "execution_count": 38,
     "metadata": {},
     "output_type": "execute_result"
    }
   ],
   "source": [
    "df4"
   ]
  },
  {
   "cell_type": "code",
   "execution_count": 39,
   "metadata": {},
   "outputs": [
    {
     "data": {
      "text/html": [
       "<div>\n",
       "<style scoped>\n",
       "    .dataframe tbody tr th:only-of-type {\n",
       "        vertical-align: middle;\n",
       "    }\n",
       "\n",
       "    .dataframe tbody tr th {\n",
       "        vertical-align: top;\n",
       "    }\n",
       "\n",
       "    .dataframe thead th {\n",
       "        text-align: right;\n",
       "    }\n",
       "</style>\n",
       "<table border=\"1\" class=\"dataframe\">\n",
       "  <thead>\n",
       "    <tr style=\"text-align: right;\">\n",
       "      <th></th>\n",
       "      <th>distance</th>\n",
       "      <th>fare</th>\n",
       "      <th>tip</th>\n",
       "      <th>tolls</th>\n",
       "      <th>total</th>\n",
       "    </tr>\n",
       "  </thead>\n",
       "  <tbody>\n",
       "    <tr>\n",
       "      <th>0</th>\n",
       "      <td>1.60</td>\n",
       "      <td>7.0</td>\n",
       "      <td>2.15</td>\n",
       "      <td>0.0</td>\n",
       "      <td>12.95</td>\n",
       "    </tr>\n",
       "    <tr>\n",
       "      <th>1</th>\n",
       "      <td>0.79</td>\n",
       "      <td>5.0</td>\n",
       "      <td>0.00</td>\n",
       "      <td>0.0</td>\n",
       "      <td>9.30</td>\n",
       "    </tr>\n",
       "  </tbody>\n",
       "</table>\n",
       "</div>"
      ],
      "text/plain": [
       "   distance  fare   tip  tolls  total\n",
       "0      1.60   7.0  2.15    0.0  12.95\n",
       "1      0.79   5.0  0.00    0.0   9.30"
      ]
     },
     "execution_count": 39,
     "metadata": {},
     "output_type": "execute_result"
    }
   ],
   "source": [
    "df5"
   ]
  },
  {
   "cell_type": "code",
   "execution_count": 40,
   "metadata": {},
   "outputs": [
    {
     "name": "stderr",
     "output_type": "stream",
     "text": [
      "C:\\ProgramData\\Anaconda3\\lib\\site-packages\\pandas\\core\\indexing.py:1732: SettingWithCopyWarning: \n",
      "A value is trying to be set on a copy of a slice from a DataFrame\n",
      "\n",
      "See the caveats in the documentation: https://pandas.pydata.org/pandas-docs/stable/user_guide/indexing.html#returning-a-view-versus-a-copy\n",
      "  self._setitem_single_block(indexer, value, name)\n",
      "C:\\ProgramData\\Anaconda3\\lib\\site-packages\\pandas\\core\\indexing.py:723: SettingWithCopyWarning: \n",
      "A value is trying to be set on a copy of a slice from a DataFrame\n",
      "\n",
      "See the caveats in the documentation: https://pandas.pydata.org/pandas-docs/stable/user_guide/indexing.html#returning-a-view-versus-a-copy\n",
      "  iloc._setitem_with_indexer(indexer, value, self.name)\n"
     ]
    },
    {
     "data": {
      "text/html": [
       "<div>\n",
       "<style scoped>\n",
       "    .dataframe tbody tr th:only-of-type {\n",
       "        vertical-align: middle;\n",
       "    }\n",
       "\n",
       "    .dataframe tbody tr th {\n",
       "        vertical-align: top;\n",
       "    }\n",
       "\n",
       "    .dataframe thead th {\n",
       "        text-align: right;\n",
       "    }\n",
       "</style>\n",
       "<table border=\"1\" class=\"dataframe\">\n",
       "  <thead>\n",
       "    <tr style=\"text-align: right;\">\n",
       "      <th></th>\n",
       "      <th>distance</th>\n",
       "      <th>fare</th>\n",
       "      <th>tip</th>\n",
       "      <th>tolls</th>\n",
       "      <th>total</th>\n",
       "    </tr>\n",
       "  </thead>\n",
       "  <tbody>\n",
       "    <tr>\n",
       "      <th>0</th>\n",
       "      <td>100500.00</td>\n",
       "      <td>7.0</td>\n",
       "      <td>2.15</td>\n",
       "      <td>0.0</td>\n",
       "      <td>12.95</td>\n",
       "    </tr>\n",
       "    <tr>\n",
       "      <th>1</th>\n",
       "      <td>0.79</td>\n",
       "      <td>5.0</td>\n",
       "      <td>0.00</td>\n",
       "      <td>0.0</td>\n",
       "      <td>9.30</td>\n",
       "    </tr>\n",
       "  </tbody>\n",
       "</table>\n",
       "</div>"
      ],
      "text/plain": [
       "    distance  fare   tip  tolls  total\n",
       "0  100500.00   7.0  2.15    0.0  12.95\n",
       "1       0.79   5.0  0.00    0.0   9.30"
      ]
     },
     "execution_count": 40,
     "metadata": {},
     "output_type": "execute_result"
    }
   ],
   "source": [
    "df4.loc[0, 'distance'] = 100500\n",
    "df4"
   ]
  },
  {
   "cell_type": "code",
   "execution_count": 42,
   "metadata": {},
   "outputs": [
    {
     "data": {
      "text/html": [
       "<div>\n",
       "<style scoped>\n",
       "    .dataframe tbody tr th:only-of-type {\n",
       "        vertical-align: middle;\n",
       "    }\n",
       "\n",
       "    .dataframe tbody tr th {\n",
       "        vertical-align: top;\n",
       "    }\n",
       "\n",
       "    .dataframe thead th {\n",
       "        text-align: right;\n",
       "    }\n",
       "</style>\n",
       "<table border=\"1\" class=\"dataframe\">\n",
       "  <thead>\n",
       "    <tr style=\"text-align: right;\">\n",
       "      <th></th>\n",
       "      <th>distance</th>\n",
       "      <th>fare</th>\n",
       "      <th>tip</th>\n",
       "      <th>tolls</th>\n",
       "      <th>total</th>\n",
       "    </tr>\n",
       "  </thead>\n",
       "  <tbody>\n",
       "    <tr>\n",
       "      <th>0</th>\n",
       "      <td>100500.00</td>\n",
       "      <td>7.0</td>\n",
       "      <td>2.15</td>\n",
       "      <td>0.0</td>\n",
       "      <td>12.95</td>\n",
       "    </tr>\n",
       "    <tr>\n",
       "      <th>1</th>\n",
       "      <td>0.79</td>\n",
       "      <td>5.0</td>\n",
       "      <td>0.00</td>\n",
       "      <td>0.0</td>\n",
       "      <td>9.30</td>\n",
       "    </tr>\n",
       "  </tbody>\n",
       "</table>\n",
       "</div>"
      ],
      "text/plain": [
       "    distance  fare   tip  tolls  total\n",
       "0  100500.00   7.0  2.15    0.0  12.95\n",
       "1       0.79   5.0  0.00    0.0   9.30"
      ]
     },
     "execution_count": 42,
     "metadata": {},
     "output_type": "execute_result"
    }
   ],
   "source": [
    "df5"
   ]
  },
  {
   "cell_type": "code",
   "execution_count": 43,
   "metadata": {},
   "outputs": [
    {
     "data": {
      "text/plain": [
       "False"
      ]
     },
     "execution_count": 43,
     "metadata": {},
     "output_type": "execute_result"
    }
   ],
   "source": [
    "df4 is df5"
   ]
  },
  {
   "cell_type": "code",
   "execution_count": null,
   "metadata": {},
   "outputs": [],
   "source": []
  },
  {
   "cell_type": "code",
   "execution_count": 3,
   "metadata": {},
   "outputs": [
    {
     "data": {
      "text/html": [
       "<div>\n",
       "<style scoped>\n",
       "    .dataframe tbody tr th:only-of-type {\n",
       "        vertical-align: middle;\n",
       "    }\n",
       "\n",
       "    .dataframe tbody tr th {\n",
       "        vertical-align: top;\n",
       "    }\n",
       "\n",
       "    .dataframe thead th {\n",
       "        text-align: right;\n",
       "    }\n",
       "</style>\n",
       "<table border=\"1\" class=\"dataframe\">\n",
       "  <thead>\n",
       "    <tr style=\"text-align: right;\">\n",
       "      <th></th>\n",
       "      <th>pickup</th>\n",
       "      <th>dropoff</th>\n",
       "      <th>passengers</th>\n",
       "      <th>distance</th>\n",
       "      <th>fare</th>\n",
       "      <th>tip</th>\n",
       "      <th>tolls</th>\n",
       "      <th>total</th>\n",
       "      <th>color</th>\n",
       "      <th>payment</th>\n",
       "      <th>pickup_zone</th>\n",
       "      <th>dropoff_zone</th>\n",
       "      <th>pickup_borough</th>\n",
       "      <th>dropoff_borough</th>\n",
       "    </tr>\n",
       "  </thead>\n",
       "  <tbody>\n",
       "    <tr>\n",
       "      <th>0</th>\n",
       "      <td>2019-03-23 20:21:09</td>\n",
       "      <td>2019-03-23 20:27:24</td>\n",
       "      <td>1</td>\n",
       "      <td>1.60</td>\n",
       "      <td>7.0</td>\n",
       "      <td>2.15</td>\n",
       "      <td>0.0</td>\n",
       "      <td>12.95</td>\n",
       "      <td>yellow</td>\n",
       "      <td>credit card</td>\n",
       "      <td>Lenox Hill West</td>\n",
       "      <td>UN/Turtle Bay South</td>\n",
       "      <td>Manhattan</td>\n",
       "      <td>Manhattan</td>\n",
       "    </tr>\n",
       "    <tr>\n",
       "      <th>1</th>\n",
       "      <td>2019-03-04 16:11:55</td>\n",
       "      <td>2019-03-04 16:19:00</td>\n",
       "      <td>1</td>\n",
       "      <td>0.79</td>\n",
       "      <td>5.0</td>\n",
       "      <td>0.00</td>\n",
       "      <td>0.0</td>\n",
       "      <td>9.30</td>\n",
       "      <td>yellow</td>\n",
       "      <td>cash</td>\n",
       "      <td>Upper West Side South</td>\n",
       "      <td>Upper West Side South</td>\n",
       "      <td>Manhattan</td>\n",
       "      <td>Manhattan</td>\n",
       "    </tr>\n",
       "    <tr>\n",
       "      <th>2</th>\n",
       "      <td>2019-03-27 17:53:01</td>\n",
       "      <td>2019-03-27 18:00:25</td>\n",
       "      <td>1</td>\n",
       "      <td>1.37</td>\n",
       "      <td>7.5</td>\n",
       "      <td>2.36</td>\n",
       "      <td>0.0</td>\n",
       "      <td>14.16</td>\n",
       "      <td>yellow</td>\n",
       "      <td>credit card</td>\n",
       "      <td>Alphabet City</td>\n",
       "      <td>West Village</td>\n",
       "      <td>Manhattan</td>\n",
       "      <td>Manhattan</td>\n",
       "    </tr>\n",
       "    <tr>\n",
       "      <th>3</th>\n",
       "      <td>2019-03-10 01:23:59</td>\n",
       "      <td>2019-03-10 01:49:51</td>\n",
       "      <td>1</td>\n",
       "      <td>7.70</td>\n",
       "      <td>27.0</td>\n",
       "      <td>6.15</td>\n",
       "      <td>0.0</td>\n",
       "      <td>36.95</td>\n",
       "      <td>yellow</td>\n",
       "      <td>credit card</td>\n",
       "      <td>Hudson Sq</td>\n",
       "      <td>Yorkville West</td>\n",
       "      <td>Manhattan</td>\n",
       "      <td>Manhattan</td>\n",
       "    </tr>\n",
       "    <tr>\n",
       "      <th>4</th>\n",
       "      <td>2019-03-30 13:27:42</td>\n",
       "      <td>2019-03-30 13:37:14</td>\n",
       "      <td>3</td>\n",
       "      <td>2.16</td>\n",
       "      <td>9.0</td>\n",
       "      <td>1.10</td>\n",
       "      <td>0.0</td>\n",
       "      <td>13.40</td>\n",
       "      <td>yellow</td>\n",
       "      <td>credit card</td>\n",
       "      <td>Midtown East</td>\n",
       "      <td>Yorkville West</td>\n",
       "      <td>Manhattan</td>\n",
       "      <td>Manhattan</td>\n",
       "    </tr>\n",
       "  </tbody>\n",
       "</table>\n",
       "</div>"
      ],
      "text/plain": [
       "               pickup             dropoff  passengers  distance  fare   tip  \\\n",
       "0 2019-03-23 20:21:09 2019-03-23 20:27:24           1      1.60   7.0  2.15   \n",
       "1 2019-03-04 16:11:55 2019-03-04 16:19:00           1      0.79   5.0  0.00   \n",
       "2 2019-03-27 17:53:01 2019-03-27 18:00:25           1      1.37   7.5  2.36   \n",
       "3 2019-03-10 01:23:59 2019-03-10 01:49:51           1      7.70  27.0  6.15   \n",
       "4 2019-03-30 13:27:42 2019-03-30 13:37:14           3      2.16   9.0  1.10   \n",
       "\n",
       "   tolls  total   color      payment            pickup_zone  \\\n",
       "0    0.0  12.95  yellow  credit card        Lenox Hill West   \n",
       "1    0.0   9.30  yellow         cash  Upper West Side South   \n",
       "2    0.0  14.16  yellow  credit card          Alphabet City   \n",
       "3    0.0  36.95  yellow  credit card              Hudson Sq   \n",
       "4    0.0  13.40  yellow  credit card           Midtown East   \n",
       "\n",
       "            dropoff_zone pickup_borough dropoff_borough  \n",
       "0    UN/Turtle Bay South      Manhattan       Manhattan  \n",
       "1  Upper West Side South      Manhattan       Manhattan  \n",
       "2           West Village      Manhattan       Manhattan  \n",
       "3         Yorkville West      Manhattan       Manhattan  \n",
       "4         Yorkville West      Manhattan       Manhattan  "
      ]
     },
     "execution_count": 3,
     "metadata": {},
     "output_type": "execute_result"
    }
   ],
   "source": [
    "df = sns.load_dataset('taxis')\n",
    "df.head()"
   ]
  },
  {
   "cell_type": "code",
   "execution_count": 6,
   "metadata": {},
   "outputs": [
    {
     "data": {
      "text/html": [
       "<style type=\"text/css\">\n",
       "#T_30369_row0_col2, #T_30369_row1_col2, #T_30369_row2_col2, #T_30369_row3_col2, #T_30369_row5_col2, #T_30369_row6_col2, #T_30369_row8_col2, #T_30369_row9_col2 {\n",
       "  background-color: #b4c4df;\n",
       "  color: #000000;\n",
       "}\n",
       "#T_30369_row0_col3 {\n",
       "  background-color: #e6e2ef;\n",
       "  color: #000000;\n",
       "}\n",
       "#T_30369_row0_col4, #T_30369_row7_col7 {\n",
       "  background-color: #f1ebf5;\n",
       "  color: #000000;\n",
       "}\n",
       "#T_30369_row0_col5, #T_30369_row5_col5 {\n",
       "  background-color: #afc1dd;\n",
       "  color: #000000;\n",
       "}\n",
       "#T_30369_row0_col6, #T_30369_row1_col4, #T_30369_row1_col5, #T_30369_row1_col6, #T_30369_row1_col7, #T_30369_row2_col6, #T_30369_row3_col6, #T_30369_row4_col6, #T_30369_row5_col3, #T_30369_row5_col6, #T_30369_row6_col6, #T_30369_row7_col2, #T_30369_row7_col5, #T_30369_row7_col6, #T_30369_row8_col6, #T_30369_row9_col6 {\n",
       "  background-color: #fff7fb;\n",
       "  color: #000000;\n",
       "}\n",
       "#T_30369_row0_col7, #T_30369_row5_col7 {\n",
       "  background-color: #ebe6f2;\n",
       "  color: #000000;\n",
       "}\n",
       "#T_30369_row1_col3 {\n",
       "  background-color: #f9f2f8;\n",
       "  color: #000000;\n",
       "}\n",
       "#T_30369_row2_col3 {\n",
       "  background-color: #ede7f2;\n",
       "  color: #000000;\n",
       "}\n",
       "#T_30369_row2_col4, #T_30369_row5_col4 {\n",
       "  background-color: #eee8f3;\n",
       "  color: #000000;\n",
       "}\n",
       "#T_30369_row2_col5 {\n",
       "  background-color: #a2bcda;\n",
       "  color: #000000;\n",
       "}\n",
       "#T_30369_row2_col7 {\n",
       "  background-color: #e1dfed;\n",
       "  color: #000000;\n",
       "}\n",
       "#T_30369_row3_col3, #T_30369_row3_col4, #T_30369_row3_col5, #T_30369_row3_col7, #T_30369_row4_col2 {\n",
       "  background-color: #023858;\n",
       "  color: #f1f1f1;\n",
       "}\n",
       "#T_30369_row4_col3 {\n",
       "  background-color: #d4d4e8;\n",
       "  color: #000000;\n",
       "}\n",
       "#T_30369_row4_col4 {\n",
       "  background-color: #e0dded;\n",
       "  color: #000000;\n",
       "}\n",
       "#T_30369_row4_col5 {\n",
       "  background-color: #e0deed;\n",
       "  color: #000000;\n",
       "}\n",
       "#T_30369_row4_col7, #T_30369_row9_col7 {\n",
       "  background-color: #e7e3f0;\n",
       "  color: #000000;\n",
       "}\n",
       "#T_30369_row6_col3 {\n",
       "  background-color: #8cb3d5;\n",
       "  color: #000000;\n",
       "}\n",
       "#T_30369_row6_col4 {\n",
       "  background-color: #a9bfdc;\n",
       "  color: #000000;\n",
       "}\n",
       "#T_30369_row6_col5 {\n",
       "  background-color: #b7c5df;\n",
       "  color: #000000;\n",
       "}\n",
       "#T_30369_row6_col7 {\n",
       "  background-color: #b1c2de;\n",
       "  color: #000000;\n",
       "}\n",
       "#T_30369_row7_col3 {\n",
       "  background-color: #ece7f2;\n",
       "  color: #000000;\n",
       "}\n",
       "#T_30369_row7_col4 {\n",
       "  background-color: #e5e1ef;\n",
       "  color: #000000;\n",
       "}\n",
       "#T_30369_row8_col3 {\n",
       "  background-color: #8eb3d5;\n",
       "  color: #000000;\n",
       "}\n",
       "#T_30369_row8_col4 {\n",
       "  background-color: #86b0d3;\n",
       "  color: #000000;\n",
       "}\n",
       "#T_30369_row8_col5, #T_30369_row9_col5 {\n",
       "  background-color: #e4e1ef;\n",
       "  color: #000000;\n",
       "}\n",
       "#T_30369_row8_col7 {\n",
       "  background-color: #abbfdc;\n",
       "  color: #000000;\n",
       "}\n",
       "#T_30369_row9_col3 {\n",
       "  background-color: #e8e4f0;\n",
       "  color: #000000;\n",
       "}\n",
       "#T_30369_row9_col4 {\n",
       "  background-color: #eae6f1;\n",
       "  color: #000000;\n",
       "}\n",
       "</style>\n",
       "<table id=\"T_30369_\">\n",
       "  <thead>\n",
       "    <tr>\n",
       "      <th class=\"blank level0\" >&nbsp;</th>\n",
       "      <th class=\"col_heading level0 col0\" >pickup</th>\n",
       "      <th class=\"col_heading level0 col1\" >dropoff</th>\n",
       "      <th class=\"col_heading level0 col2\" >passengers</th>\n",
       "      <th class=\"col_heading level0 col3\" >distance</th>\n",
       "      <th class=\"col_heading level0 col4\" >fare</th>\n",
       "      <th class=\"col_heading level0 col5\" >tip</th>\n",
       "      <th class=\"col_heading level0 col6\" >tolls</th>\n",
       "      <th class=\"col_heading level0 col7\" >total</th>\n",
       "      <th class=\"col_heading level0 col8\" >color</th>\n",
       "      <th class=\"col_heading level0 col9\" >payment</th>\n",
       "      <th class=\"col_heading level0 col10\" >pickup_zone</th>\n",
       "      <th class=\"col_heading level0 col11\" >dropoff_zone</th>\n",
       "      <th class=\"col_heading level0 col12\" >pickup_borough</th>\n",
       "      <th class=\"col_heading level0 col13\" >dropoff_borough</th>\n",
       "    </tr>\n",
       "  </thead>\n",
       "  <tbody>\n",
       "    <tr>\n",
       "      <th id=\"T_30369_level0_row0\" class=\"row_heading level0 row0\" >0</th>\n",
       "      <td id=\"T_30369_row0_col0\" class=\"data row0 col0\" >2019-03-23 20:21:09</td>\n",
       "      <td id=\"T_30369_row0_col1\" class=\"data row0 col1\" >2019-03-23 20:27:24</td>\n",
       "      <td id=\"T_30369_row0_col2\" class=\"data row0 col2\" >1</td>\n",
       "      <td id=\"T_30369_row0_col3\" class=\"data row0 col3\" >1.600000</td>\n",
       "      <td id=\"T_30369_row0_col4\" class=\"data row0 col4\" >7.000000</td>\n",
       "      <td id=\"T_30369_row0_col5\" class=\"data row0 col5\" >2.150000</td>\n",
       "      <td id=\"T_30369_row0_col6\" class=\"data row0 col6\" >0.000000</td>\n",
       "      <td id=\"T_30369_row0_col7\" class=\"data row0 col7\" >12.950000</td>\n",
       "      <td id=\"T_30369_row0_col8\" class=\"data row0 col8\" >yellow</td>\n",
       "      <td id=\"T_30369_row0_col9\" class=\"data row0 col9\" >credit card</td>\n",
       "      <td id=\"T_30369_row0_col10\" class=\"data row0 col10\" >Lenox Hill West</td>\n",
       "      <td id=\"T_30369_row0_col11\" class=\"data row0 col11\" >UN/Turtle Bay South</td>\n",
       "      <td id=\"T_30369_row0_col12\" class=\"data row0 col12\" >Manhattan</td>\n",
       "      <td id=\"T_30369_row0_col13\" class=\"data row0 col13\" >Manhattan</td>\n",
       "    </tr>\n",
       "    <tr>\n",
       "      <th id=\"T_30369_level0_row1\" class=\"row_heading level0 row1\" >1</th>\n",
       "      <td id=\"T_30369_row1_col0\" class=\"data row1 col0\" >2019-03-04 16:11:55</td>\n",
       "      <td id=\"T_30369_row1_col1\" class=\"data row1 col1\" >2019-03-04 16:19:00</td>\n",
       "      <td id=\"T_30369_row1_col2\" class=\"data row1 col2\" >1</td>\n",
       "      <td id=\"T_30369_row1_col3\" class=\"data row1 col3\" >0.790000</td>\n",
       "      <td id=\"T_30369_row1_col4\" class=\"data row1 col4\" >5.000000</td>\n",
       "      <td id=\"T_30369_row1_col5\" class=\"data row1 col5\" >0.000000</td>\n",
       "      <td id=\"T_30369_row1_col6\" class=\"data row1 col6\" >0.000000</td>\n",
       "      <td id=\"T_30369_row1_col7\" class=\"data row1 col7\" >9.300000</td>\n",
       "      <td id=\"T_30369_row1_col8\" class=\"data row1 col8\" >yellow</td>\n",
       "      <td id=\"T_30369_row1_col9\" class=\"data row1 col9\" >cash</td>\n",
       "      <td id=\"T_30369_row1_col10\" class=\"data row1 col10\" >Upper West Side South</td>\n",
       "      <td id=\"T_30369_row1_col11\" class=\"data row1 col11\" >Upper West Side South</td>\n",
       "      <td id=\"T_30369_row1_col12\" class=\"data row1 col12\" >Manhattan</td>\n",
       "      <td id=\"T_30369_row1_col13\" class=\"data row1 col13\" >Manhattan</td>\n",
       "    </tr>\n",
       "    <tr>\n",
       "      <th id=\"T_30369_level0_row2\" class=\"row_heading level0 row2\" >2</th>\n",
       "      <td id=\"T_30369_row2_col0\" class=\"data row2 col0\" >2019-03-27 17:53:01</td>\n",
       "      <td id=\"T_30369_row2_col1\" class=\"data row2 col1\" >2019-03-27 18:00:25</td>\n",
       "      <td id=\"T_30369_row2_col2\" class=\"data row2 col2\" >1</td>\n",
       "      <td id=\"T_30369_row2_col3\" class=\"data row2 col3\" >1.370000</td>\n",
       "      <td id=\"T_30369_row2_col4\" class=\"data row2 col4\" >7.500000</td>\n",
       "      <td id=\"T_30369_row2_col5\" class=\"data row2 col5\" >2.360000</td>\n",
       "      <td id=\"T_30369_row2_col6\" class=\"data row2 col6\" >0.000000</td>\n",
       "      <td id=\"T_30369_row2_col7\" class=\"data row2 col7\" >14.160000</td>\n",
       "      <td id=\"T_30369_row2_col8\" class=\"data row2 col8\" >yellow</td>\n",
       "      <td id=\"T_30369_row2_col9\" class=\"data row2 col9\" >credit card</td>\n",
       "      <td id=\"T_30369_row2_col10\" class=\"data row2 col10\" >Alphabet City</td>\n",
       "      <td id=\"T_30369_row2_col11\" class=\"data row2 col11\" >West Village</td>\n",
       "      <td id=\"T_30369_row2_col12\" class=\"data row2 col12\" >Manhattan</td>\n",
       "      <td id=\"T_30369_row2_col13\" class=\"data row2 col13\" >Manhattan</td>\n",
       "    </tr>\n",
       "    <tr>\n",
       "      <th id=\"T_30369_level0_row3\" class=\"row_heading level0 row3\" >3</th>\n",
       "      <td id=\"T_30369_row3_col0\" class=\"data row3 col0\" >2019-03-10 01:23:59</td>\n",
       "      <td id=\"T_30369_row3_col1\" class=\"data row3 col1\" >2019-03-10 01:49:51</td>\n",
       "      <td id=\"T_30369_row3_col2\" class=\"data row3 col2\" >1</td>\n",
       "      <td id=\"T_30369_row3_col3\" class=\"data row3 col3\" >7.700000</td>\n",
       "      <td id=\"T_30369_row3_col4\" class=\"data row3 col4\" >27.000000</td>\n",
       "      <td id=\"T_30369_row3_col5\" class=\"data row3 col5\" >6.150000</td>\n",
       "      <td id=\"T_30369_row3_col6\" class=\"data row3 col6\" >0.000000</td>\n",
       "      <td id=\"T_30369_row3_col7\" class=\"data row3 col7\" >36.950000</td>\n",
       "      <td id=\"T_30369_row3_col8\" class=\"data row3 col8\" >yellow</td>\n",
       "      <td id=\"T_30369_row3_col9\" class=\"data row3 col9\" >credit card</td>\n",
       "      <td id=\"T_30369_row3_col10\" class=\"data row3 col10\" >Hudson Sq</td>\n",
       "      <td id=\"T_30369_row3_col11\" class=\"data row3 col11\" >Yorkville West</td>\n",
       "      <td id=\"T_30369_row3_col12\" class=\"data row3 col12\" >Manhattan</td>\n",
       "      <td id=\"T_30369_row3_col13\" class=\"data row3 col13\" >Manhattan</td>\n",
       "    </tr>\n",
       "    <tr>\n",
       "      <th id=\"T_30369_level0_row4\" class=\"row_heading level0 row4\" >4</th>\n",
       "      <td id=\"T_30369_row4_col0\" class=\"data row4 col0\" >2019-03-30 13:27:42</td>\n",
       "      <td id=\"T_30369_row4_col1\" class=\"data row4 col1\" >2019-03-30 13:37:14</td>\n",
       "      <td id=\"T_30369_row4_col2\" class=\"data row4 col2\" >3</td>\n",
       "      <td id=\"T_30369_row4_col3\" class=\"data row4 col3\" >2.160000</td>\n",
       "      <td id=\"T_30369_row4_col4\" class=\"data row4 col4\" >9.000000</td>\n",
       "      <td id=\"T_30369_row4_col5\" class=\"data row4 col5\" >1.100000</td>\n",
       "      <td id=\"T_30369_row4_col6\" class=\"data row4 col6\" >0.000000</td>\n",
       "      <td id=\"T_30369_row4_col7\" class=\"data row4 col7\" >13.400000</td>\n",
       "      <td id=\"T_30369_row4_col8\" class=\"data row4 col8\" >yellow</td>\n",
       "      <td id=\"T_30369_row4_col9\" class=\"data row4 col9\" >credit card</td>\n",
       "      <td id=\"T_30369_row4_col10\" class=\"data row4 col10\" >Midtown East</td>\n",
       "      <td id=\"T_30369_row4_col11\" class=\"data row4 col11\" >Yorkville West</td>\n",
       "      <td id=\"T_30369_row4_col12\" class=\"data row4 col12\" >Manhattan</td>\n",
       "      <td id=\"T_30369_row4_col13\" class=\"data row4 col13\" >Manhattan</td>\n",
       "    </tr>\n",
       "    <tr>\n",
       "      <th id=\"T_30369_level0_row5\" class=\"row_heading level0 row5\" >5</th>\n",
       "      <td id=\"T_30369_row5_col0\" class=\"data row5 col0\" >2019-03-11 10:37:23</td>\n",
       "      <td id=\"T_30369_row5_col1\" class=\"data row5 col1\" >2019-03-11 10:47:31</td>\n",
       "      <td id=\"T_30369_row5_col2\" class=\"data row5 col2\" >1</td>\n",
       "      <td id=\"T_30369_row5_col3\" class=\"data row5 col3\" >0.490000</td>\n",
       "      <td id=\"T_30369_row5_col4\" class=\"data row5 col4\" >7.500000</td>\n",
       "      <td id=\"T_30369_row5_col5\" class=\"data row5 col5\" >2.160000</td>\n",
       "      <td id=\"T_30369_row5_col6\" class=\"data row5 col6\" >0.000000</td>\n",
       "      <td id=\"T_30369_row5_col7\" class=\"data row5 col7\" >12.960000</td>\n",
       "      <td id=\"T_30369_row5_col8\" class=\"data row5 col8\" >yellow</td>\n",
       "      <td id=\"T_30369_row5_col9\" class=\"data row5 col9\" >credit card</td>\n",
       "      <td id=\"T_30369_row5_col10\" class=\"data row5 col10\" >Times Sq/Theatre District</td>\n",
       "      <td id=\"T_30369_row5_col11\" class=\"data row5 col11\" >Midtown East</td>\n",
       "      <td id=\"T_30369_row5_col12\" class=\"data row5 col12\" >Manhattan</td>\n",
       "      <td id=\"T_30369_row5_col13\" class=\"data row5 col13\" >Manhattan</td>\n",
       "    </tr>\n",
       "    <tr>\n",
       "      <th id=\"T_30369_level0_row6\" class=\"row_heading level0 row6\" >6</th>\n",
       "      <td id=\"T_30369_row6_col0\" class=\"data row6 col0\" >2019-03-26 21:07:31</td>\n",
       "      <td id=\"T_30369_row6_col1\" class=\"data row6 col1\" >2019-03-26 21:17:29</td>\n",
       "      <td id=\"T_30369_row6_col2\" class=\"data row6 col2\" >1</td>\n",
       "      <td id=\"T_30369_row6_col3\" class=\"data row6 col3\" >3.650000</td>\n",
       "      <td id=\"T_30369_row6_col4\" class=\"data row6 col4\" >13.000000</td>\n",
       "      <td id=\"T_30369_row6_col5\" class=\"data row6 col5\" >2.000000</td>\n",
       "      <td id=\"T_30369_row6_col6\" class=\"data row6 col6\" >0.000000</td>\n",
       "      <td id=\"T_30369_row6_col7\" class=\"data row6 col7\" >18.800000</td>\n",
       "      <td id=\"T_30369_row6_col8\" class=\"data row6 col8\" >yellow</td>\n",
       "      <td id=\"T_30369_row6_col9\" class=\"data row6 col9\" >credit card</td>\n",
       "      <td id=\"T_30369_row6_col10\" class=\"data row6 col10\" >Battery Park City</td>\n",
       "      <td id=\"T_30369_row6_col11\" class=\"data row6 col11\" >Two Bridges/Seward Park</td>\n",
       "      <td id=\"T_30369_row6_col12\" class=\"data row6 col12\" >Manhattan</td>\n",
       "      <td id=\"T_30369_row6_col13\" class=\"data row6 col13\" >Manhattan</td>\n",
       "    </tr>\n",
       "    <tr>\n",
       "      <th id=\"T_30369_level0_row7\" class=\"row_heading level0 row7\" >7</th>\n",
       "      <td id=\"T_30369_row7_col0\" class=\"data row7 col0\" >2019-03-22 12:47:13</td>\n",
       "      <td id=\"T_30369_row7_col1\" class=\"data row7 col1\" >2019-03-22 12:58:17</td>\n",
       "      <td id=\"T_30369_row7_col2\" class=\"data row7 col2\" >0</td>\n",
       "      <td id=\"T_30369_row7_col3\" class=\"data row7 col3\" >1.400000</td>\n",
       "      <td id=\"T_30369_row7_col4\" class=\"data row7 col4\" >8.500000</td>\n",
       "      <td id=\"T_30369_row7_col5\" class=\"data row7 col5\" >0.000000</td>\n",
       "      <td id=\"T_30369_row7_col6\" class=\"data row7 col6\" >0.000000</td>\n",
       "      <td id=\"T_30369_row7_col7\" class=\"data row7 col7\" >11.800000</td>\n",
       "      <td id=\"T_30369_row7_col8\" class=\"data row7 col8\" >yellow</td>\n",
       "      <td id=\"T_30369_row7_col9\" class=\"data row7 col9\" >nan</td>\n",
       "      <td id=\"T_30369_row7_col10\" class=\"data row7 col10\" >Murray Hill</td>\n",
       "      <td id=\"T_30369_row7_col11\" class=\"data row7 col11\" >Flatiron</td>\n",
       "      <td id=\"T_30369_row7_col12\" class=\"data row7 col12\" >Manhattan</td>\n",
       "      <td id=\"T_30369_row7_col13\" class=\"data row7 col13\" >Manhattan</td>\n",
       "    </tr>\n",
       "    <tr>\n",
       "      <th id=\"T_30369_level0_row8\" class=\"row_heading level0 row8\" >8</th>\n",
       "      <td id=\"T_30369_row8_col0\" class=\"data row8 col0\" >2019-03-23 11:48:50</td>\n",
       "      <td id=\"T_30369_row8_col1\" class=\"data row8 col1\" >2019-03-23 12:06:14</td>\n",
       "      <td id=\"T_30369_row8_col2\" class=\"data row8 col2\" >1</td>\n",
       "      <td id=\"T_30369_row8_col3\" class=\"data row8 col3\" >3.630000</td>\n",
       "      <td id=\"T_30369_row8_col4\" class=\"data row8 col4\" >15.000000</td>\n",
       "      <td id=\"T_30369_row8_col5\" class=\"data row8 col5\" >1.000000</td>\n",
       "      <td id=\"T_30369_row8_col6\" class=\"data row8 col6\" >0.000000</td>\n",
       "      <td id=\"T_30369_row8_col7\" class=\"data row8 col7\" >19.300000</td>\n",
       "      <td id=\"T_30369_row8_col8\" class=\"data row8 col8\" >yellow</td>\n",
       "      <td id=\"T_30369_row8_col9\" class=\"data row8 col9\" >credit card</td>\n",
       "      <td id=\"T_30369_row8_col10\" class=\"data row8 col10\" >East Harlem South</td>\n",
       "      <td id=\"T_30369_row8_col11\" class=\"data row8 col11\" >Midtown Center</td>\n",
       "      <td id=\"T_30369_row8_col12\" class=\"data row8 col12\" >Manhattan</td>\n",
       "      <td id=\"T_30369_row8_col13\" class=\"data row8 col13\" >Manhattan</td>\n",
       "    </tr>\n",
       "    <tr>\n",
       "      <th id=\"T_30369_level0_row9\" class=\"row_heading level0 row9\" >9</th>\n",
       "      <td id=\"T_30369_row9_col0\" class=\"data row9 col0\" >2019-03-08 16:18:37</td>\n",
       "      <td id=\"T_30369_row9_col1\" class=\"data row9 col1\" >2019-03-08 16:26:57</td>\n",
       "      <td id=\"T_30369_row9_col2\" class=\"data row9 col2\" >1</td>\n",
       "      <td id=\"T_30369_row9_col3\" class=\"data row9 col3\" >1.520000</td>\n",
       "      <td id=\"T_30369_row9_col4\" class=\"data row9 col4\" >8.000000</td>\n",
       "      <td id=\"T_30369_row9_col5\" class=\"data row9 col5\" >1.000000</td>\n",
       "      <td id=\"T_30369_row9_col6\" class=\"data row9 col6\" >0.000000</td>\n",
       "      <td id=\"T_30369_row9_col7\" class=\"data row9 col7\" >13.300000</td>\n",
       "      <td id=\"T_30369_row9_col8\" class=\"data row9 col8\" >yellow</td>\n",
       "      <td id=\"T_30369_row9_col9\" class=\"data row9 col9\" >credit card</td>\n",
       "      <td id=\"T_30369_row9_col10\" class=\"data row9 col10\" >Lincoln Square East</td>\n",
       "      <td id=\"T_30369_row9_col11\" class=\"data row9 col11\" >Central Park</td>\n",
       "      <td id=\"T_30369_row9_col12\" class=\"data row9 col12\" >Manhattan</td>\n",
       "      <td id=\"T_30369_row9_col13\" class=\"data row9 col13\" >Manhattan</td>\n",
       "    </tr>\n",
       "  </tbody>\n",
       "</table>\n"
      ],
      "text/plain": [
       "<pandas.io.formats.style.Styler at 0x18b62cb82c8>"
      ]
     },
     "execution_count": 6,
     "metadata": {},
     "output_type": "execute_result"
    }
   ],
   "source": [
    "df.head(10).style.background_gradient()"
   ]
  },
  {
   "cell_type": "code",
   "execution_count": 9,
   "metadata": {},
   "outputs": [
    {
     "data": {
      "text/html": [
       "<style type=\"text/css\">\n",
       "#T_1d145_row0_col3 {\n",
       "  width: 10em;\n",
       "  height: 80%;\n",
       "  background: linear-gradient(90deg,#d65f5f 20.8%, transparent 20.8%);\n",
       "}\n",
       "#T_1d145_row0_col7 {\n",
       "  width: 10em;\n",
       "  height: 80%;\n",
       "  background: linear-gradient(90deg,#d65f5f 35.0%, transparent 35.0%);\n",
       "}\n",
       "#T_1d145_row1_col3 {\n",
       "  width: 10em;\n",
       "  height: 80%;\n",
       "  background: linear-gradient(90deg,#d65f5f 10.3%, transparent 10.3%);\n",
       "}\n",
       "#T_1d145_row1_col7 {\n",
       "  width: 10em;\n",
       "  height: 80%;\n",
       "  background: linear-gradient(90deg,#d65f5f 25.2%, transparent 25.2%);\n",
       "}\n",
       "#T_1d145_row2_col3 {\n",
       "  width: 10em;\n",
       "  height: 80%;\n",
       "  background: linear-gradient(90deg,#d65f5f 17.8%, transparent 17.8%);\n",
       "}\n",
       "#T_1d145_row2_col7 {\n",
       "  width: 10em;\n",
       "  height: 80%;\n",
       "  background: linear-gradient(90deg,#d65f5f 38.3%, transparent 38.3%);\n",
       "}\n",
       "#T_1d145_row3_col3, #T_1d145_row3_col7 {\n",
       "  width: 10em;\n",
       "  height: 80%;\n",
       "  background: linear-gradient(90deg,#d65f5f 100.0%, transparent 100.0%);\n",
       "}\n",
       "#T_1d145_row4_col3 {\n",
       "  width: 10em;\n",
       "  height: 80%;\n",
       "  background: linear-gradient(90deg,#d65f5f 28.1%, transparent 28.1%);\n",
       "}\n",
       "#T_1d145_row4_col7 {\n",
       "  width: 10em;\n",
       "  height: 80%;\n",
       "  background: linear-gradient(90deg,#d65f5f 36.3%, transparent 36.3%);\n",
       "}\n",
       "#T_1d145_row5_col3 {\n",
       "  width: 10em;\n",
       "  height: 80%;\n",
       "  background: linear-gradient(90deg,#d65f5f 6.4%, transparent 6.4%);\n",
       "}\n",
       "#T_1d145_row5_col7 {\n",
       "  width: 10em;\n",
       "  height: 80%;\n",
       "  background: linear-gradient(90deg,#d65f5f 35.1%, transparent 35.1%);\n",
       "}\n",
       "#T_1d145_row6_col3 {\n",
       "  width: 10em;\n",
       "  height: 80%;\n",
       "  background: linear-gradient(90deg,#d65f5f 47.4%, transparent 47.4%);\n",
       "}\n",
       "#T_1d145_row6_col7 {\n",
       "  width: 10em;\n",
       "  height: 80%;\n",
       "  background: linear-gradient(90deg,#d65f5f 50.9%, transparent 50.9%);\n",
       "}\n",
       "#T_1d145_row7_col3 {\n",
       "  width: 10em;\n",
       "  height: 80%;\n",
       "  background: linear-gradient(90deg,#d65f5f 18.2%, transparent 18.2%);\n",
       "}\n",
       "#T_1d145_row7_col7 {\n",
       "  width: 10em;\n",
       "  height: 80%;\n",
       "  background: linear-gradient(90deg,#d65f5f 31.9%, transparent 31.9%);\n",
       "}\n",
       "#T_1d145_row8_col3 {\n",
       "  width: 10em;\n",
       "  height: 80%;\n",
       "  background: linear-gradient(90deg,#d65f5f 47.1%, transparent 47.1%);\n",
       "}\n",
       "#T_1d145_row8_col7 {\n",
       "  width: 10em;\n",
       "  height: 80%;\n",
       "  background: linear-gradient(90deg,#d65f5f 52.2%, transparent 52.2%);\n",
       "}\n",
       "#T_1d145_row9_col3 {\n",
       "  width: 10em;\n",
       "  height: 80%;\n",
       "  background: linear-gradient(90deg,#d65f5f 19.7%, transparent 19.7%);\n",
       "}\n",
       "#T_1d145_row9_col7 {\n",
       "  width: 10em;\n",
       "  height: 80%;\n",
       "  background: linear-gradient(90deg,#d65f5f 36.0%, transparent 36.0%);\n",
       "}\n",
       "</style>\n",
       "<table id=\"T_1d145_\">\n",
       "  <thead>\n",
       "    <tr>\n",
       "      <th class=\"blank level0\" >&nbsp;</th>\n",
       "      <th class=\"col_heading level0 col0\" >pickup</th>\n",
       "      <th class=\"col_heading level0 col1\" >dropoff</th>\n",
       "      <th class=\"col_heading level0 col2\" >passengers</th>\n",
       "      <th class=\"col_heading level0 col3\" >distance</th>\n",
       "      <th class=\"col_heading level0 col4\" >fare</th>\n",
       "      <th class=\"col_heading level0 col5\" >tip</th>\n",
       "      <th class=\"col_heading level0 col6\" >tolls</th>\n",
       "      <th class=\"col_heading level0 col7\" >total</th>\n",
       "      <th class=\"col_heading level0 col8\" >color</th>\n",
       "      <th class=\"col_heading level0 col9\" >payment</th>\n",
       "      <th class=\"col_heading level0 col10\" >pickup_zone</th>\n",
       "      <th class=\"col_heading level0 col11\" >dropoff_zone</th>\n",
       "      <th class=\"col_heading level0 col12\" >pickup_borough</th>\n",
       "      <th class=\"col_heading level0 col13\" >dropoff_borough</th>\n",
       "    </tr>\n",
       "  </thead>\n",
       "  <tbody>\n",
       "    <tr>\n",
       "      <th id=\"T_1d145_level0_row0\" class=\"row_heading level0 row0\" >0</th>\n",
       "      <td id=\"T_1d145_row0_col0\" class=\"data row0 col0\" >2019-03-23 20:21:09</td>\n",
       "      <td id=\"T_1d145_row0_col1\" class=\"data row0 col1\" >2019-03-23 20:27:24</td>\n",
       "      <td id=\"T_1d145_row0_col2\" class=\"data row0 col2\" >1</td>\n",
       "      <td id=\"T_1d145_row0_col3\" class=\"data row0 col3\" >1.600000</td>\n",
       "      <td id=\"T_1d145_row0_col4\" class=\"data row0 col4\" >7.000000</td>\n",
       "      <td id=\"T_1d145_row0_col5\" class=\"data row0 col5\" >2.150000</td>\n",
       "      <td id=\"T_1d145_row0_col6\" class=\"data row0 col6\" >0.000000</td>\n",
       "      <td id=\"T_1d145_row0_col7\" class=\"data row0 col7\" >12.950000</td>\n",
       "      <td id=\"T_1d145_row0_col8\" class=\"data row0 col8\" >yellow</td>\n",
       "      <td id=\"T_1d145_row0_col9\" class=\"data row0 col9\" >credit card</td>\n",
       "      <td id=\"T_1d145_row0_col10\" class=\"data row0 col10\" >Lenox Hill West</td>\n",
       "      <td id=\"T_1d145_row0_col11\" class=\"data row0 col11\" >UN/Turtle Bay South</td>\n",
       "      <td id=\"T_1d145_row0_col12\" class=\"data row0 col12\" >Manhattan</td>\n",
       "      <td id=\"T_1d145_row0_col13\" class=\"data row0 col13\" >Manhattan</td>\n",
       "    </tr>\n",
       "    <tr>\n",
       "      <th id=\"T_1d145_level0_row1\" class=\"row_heading level0 row1\" >1</th>\n",
       "      <td id=\"T_1d145_row1_col0\" class=\"data row1 col0\" >2019-03-04 16:11:55</td>\n",
       "      <td id=\"T_1d145_row1_col1\" class=\"data row1 col1\" >2019-03-04 16:19:00</td>\n",
       "      <td id=\"T_1d145_row1_col2\" class=\"data row1 col2\" >1</td>\n",
       "      <td id=\"T_1d145_row1_col3\" class=\"data row1 col3\" >0.790000</td>\n",
       "      <td id=\"T_1d145_row1_col4\" class=\"data row1 col4\" >5.000000</td>\n",
       "      <td id=\"T_1d145_row1_col5\" class=\"data row1 col5\" >0.000000</td>\n",
       "      <td id=\"T_1d145_row1_col6\" class=\"data row1 col6\" >0.000000</td>\n",
       "      <td id=\"T_1d145_row1_col7\" class=\"data row1 col7\" >9.300000</td>\n",
       "      <td id=\"T_1d145_row1_col8\" class=\"data row1 col8\" >yellow</td>\n",
       "      <td id=\"T_1d145_row1_col9\" class=\"data row1 col9\" >cash</td>\n",
       "      <td id=\"T_1d145_row1_col10\" class=\"data row1 col10\" >Upper West Side South</td>\n",
       "      <td id=\"T_1d145_row1_col11\" class=\"data row1 col11\" >Upper West Side South</td>\n",
       "      <td id=\"T_1d145_row1_col12\" class=\"data row1 col12\" >Manhattan</td>\n",
       "      <td id=\"T_1d145_row1_col13\" class=\"data row1 col13\" >Manhattan</td>\n",
       "    </tr>\n",
       "    <tr>\n",
       "      <th id=\"T_1d145_level0_row2\" class=\"row_heading level0 row2\" >2</th>\n",
       "      <td id=\"T_1d145_row2_col0\" class=\"data row2 col0\" >2019-03-27 17:53:01</td>\n",
       "      <td id=\"T_1d145_row2_col1\" class=\"data row2 col1\" >2019-03-27 18:00:25</td>\n",
       "      <td id=\"T_1d145_row2_col2\" class=\"data row2 col2\" >1</td>\n",
       "      <td id=\"T_1d145_row2_col3\" class=\"data row2 col3\" >1.370000</td>\n",
       "      <td id=\"T_1d145_row2_col4\" class=\"data row2 col4\" >7.500000</td>\n",
       "      <td id=\"T_1d145_row2_col5\" class=\"data row2 col5\" >2.360000</td>\n",
       "      <td id=\"T_1d145_row2_col6\" class=\"data row2 col6\" >0.000000</td>\n",
       "      <td id=\"T_1d145_row2_col7\" class=\"data row2 col7\" >14.160000</td>\n",
       "      <td id=\"T_1d145_row2_col8\" class=\"data row2 col8\" >yellow</td>\n",
       "      <td id=\"T_1d145_row2_col9\" class=\"data row2 col9\" >credit card</td>\n",
       "      <td id=\"T_1d145_row2_col10\" class=\"data row2 col10\" >Alphabet City</td>\n",
       "      <td id=\"T_1d145_row2_col11\" class=\"data row2 col11\" >West Village</td>\n",
       "      <td id=\"T_1d145_row2_col12\" class=\"data row2 col12\" >Manhattan</td>\n",
       "      <td id=\"T_1d145_row2_col13\" class=\"data row2 col13\" >Manhattan</td>\n",
       "    </tr>\n",
       "    <tr>\n",
       "      <th id=\"T_1d145_level0_row3\" class=\"row_heading level0 row3\" >3</th>\n",
       "      <td id=\"T_1d145_row3_col0\" class=\"data row3 col0\" >2019-03-10 01:23:59</td>\n",
       "      <td id=\"T_1d145_row3_col1\" class=\"data row3 col1\" >2019-03-10 01:49:51</td>\n",
       "      <td id=\"T_1d145_row3_col2\" class=\"data row3 col2\" >1</td>\n",
       "      <td id=\"T_1d145_row3_col3\" class=\"data row3 col3\" >7.700000</td>\n",
       "      <td id=\"T_1d145_row3_col4\" class=\"data row3 col4\" >27.000000</td>\n",
       "      <td id=\"T_1d145_row3_col5\" class=\"data row3 col5\" >6.150000</td>\n",
       "      <td id=\"T_1d145_row3_col6\" class=\"data row3 col6\" >0.000000</td>\n",
       "      <td id=\"T_1d145_row3_col7\" class=\"data row3 col7\" >36.950000</td>\n",
       "      <td id=\"T_1d145_row3_col8\" class=\"data row3 col8\" >yellow</td>\n",
       "      <td id=\"T_1d145_row3_col9\" class=\"data row3 col9\" >credit card</td>\n",
       "      <td id=\"T_1d145_row3_col10\" class=\"data row3 col10\" >Hudson Sq</td>\n",
       "      <td id=\"T_1d145_row3_col11\" class=\"data row3 col11\" >Yorkville West</td>\n",
       "      <td id=\"T_1d145_row3_col12\" class=\"data row3 col12\" >Manhattan</td>\n",
       "      <td id=\"T_1d145_row3_col13\" class=\"data row3 col13\" >Manhattan</td>\n",
       "    </tr>\n",
       "    <tr>\n",
       "      <th id=\"T_1d145_level0_row4\" class=\"row_heading level0 row4\" >4</th>\n",
       "      <td id=\"T_1d145_row4_col0\" class=\"data row4 col0\" >2019-03-30 13:27:42</td>\n",
       "      <td id=\"T_1d145_row4_col1\" class=\"data row4 col1\" >2019-03-30 13:37:14</td>\n",
       "      <td id=\"T_1d145_row4_col2\" class=\"data row4 col2\" >3</td>\n",
       "      <td id=\"T_1d145_row4_col3\" class=\"data row4 col3\" >2.160000</td>\n",
       "      <td id=\"T_1d145_row4_col4\" class=\"data row4 col4\" >9.000000</td>\n",
       "      <td id=\"T_1d145_row4_col5\" class=\"data row4 col5\" >1.100000</td>\n",
       "      <td id=\"T_1d145_row4_col6\" class=\"data row4 col6\" >0.000000</td>\n",
       "      <td id=\"T_1d145_row4_col7\" class=\"data row4 col7\" >13.400000</td>\n",
       "      <td id=\"T_1d145_row4_col8\" class=\"data row4 col8\" >yellow</td>\n",
       "      <td id=\"T_1d145_row4_col9\" class=\"data row4 col9\" >credit card</td>\n",
       "      <td id=\"T_1d145_row4_col10\" class=\"data row4 col10\" >Midtown East</td>\n",
       "      <td id=\"T_1d145_row4_col11\" class=\"data row4 col11\" >Yorkville West</td>\n",
       "      <td id=\"T_1d145_row4_col12\" class=\"data row4 col12\" >Manhattan</td>\n",
       "      <td id=\"T_1d145_row4_col13\" class=\"data row4 col13\" >Manhattan</td>\n",
       "    </tr>\n",
       "    <tr>\n",
       "      <th id=\"T_1d145_level0_row5\" class=\"row_heading level0 row5\" >5</th>\n",
       "      <td id=\"T_1d145_row5_col0\" class=\"data row5 col0\" >2019-03-11 10:37:23</td>\n",
       "      <td id=\"T_1d145_row5_col1\" class=\"data row5 col1\" >2019-03-11 10:47:31</td>\n",
       "      <td id=\"T_1d145_row5_col2\" class=\"data row5 col2\" >1</td>\n",
       "      <td id=\"T_1d145_row5_col3\" class=\"data row5 col3\" >0.490000</td>\n",
       "      <td id=\"T_1d145_row5_col4\" class=\"data row5 col4\" >7.500000</td>\n",
       "      <td id=\"T_1d145_row5_col5\" class=\"data row5 col5\" >2.160000</td>\n",
       "      <td id=\"T_1d145_row5_col6\" class=\"data row5 col6\" >0.000000</td>\n",
       "      <td id=\"T_1d145_row5_col7\" class=\"data row5 col7\" >12.960000</td>\n",
       "      <td id=\"T_1d145_row5_col8\" class=\"data row5 col8\" >yellow</td>\n",
       "      <td id=\"T_1d145_row5_col9\" class=\"data row5 col9\" >credit card</td>\n",
       "      <td id=\"T_1d145_row5_col10\" class=\"data row5 col10\" >Times Sq/Theatre District</td>\n",
       "      <td id=\"T_1d145_row5_col11\" class=\"data row5 col11\" >Midtown East</td>\n",
       "      <td id=\"T_1d145_row5_col12\" class=\"data row5 col12\" >Manhattan</td>\n",
       "      <td id=\"T_1d145_row5_col13\" class=\"data row5 col13\" >Manhattan</td>\n",
       "    </tr>\n",
       "    <tr>\n",
       "      <th id=\"T_1d145_level0_row6\" class=\"row_heading level0 row6\" >6</th>\n",
       "      <td id=\"T_1d145_row6_col0\" class=\"data row6 col0\" >2019-03-26 21:07:31</td>\n",
       "      <td id=\"T_1d145_row6_col1\" class=\"data row6 col1\" >2019-03-26 21:17:29</td>\n",
       "      <td id=\"T_1d145_row6_col2\" class=\"data row6 col2\" >1</td>\n",
       "      <td id=\"T_1d145_row6_col3\" class=\"data row6 col3\" >3.650000</td>\n",
       "      <td id=\"T_1d145_row6_col4\" class=\"data row6 col4\" >13.000000</td>\n",
       "      <td id=\"T_1d145_row6_col5\" class=\"data row6 col5\" >2.000000</td>\n",
       "      <td id=\"T_1d145_row6_col6\" class=\"data row6 col6\" >0.000000</td>\n",
       "      <td id=\"T_1d145_row6_col7\" class=\"data row6 col7\" >18.800000</td>\n",
       "      <td id=\"T_1d145_row6_col8\" class=\"data row6 col8\" >yellow</td>\n",
       "      <td id=\"T_1d145_row6_col9\" class=\"data row6 col9\" >credit card</td>\n",
       "      <td id=\"T_1d145_row6_col10\" class=\"data row6 col10\" >Battery Park City</td>\n",
       "      <td id=\"T_1d145_row6_col11\" class=\"data row6 col11\" >Two Bridges/Seward Park</td>\n",
       "      <td id=\"T_1d145_row6_col12\" class=\"data row6 col12\" >Manhattan</td>\n",
       "      <td id=\"T_1d145_row6_col13\" class=\"data row6 col13\" >Manhattan</td>\n",
       "    </tr>\n",
       "    <tr>\n",
       "      <th id=\"T_1d145_level0_row7\" class=\"row_heading level0 row7\" >7</th>\n",
       "      <td id=\"T_1d145_row7_col0\" class=\"data row7 col0\" >2019-03-22 12:47:13</td>\n",
       "      <td id=\"T_1d145_row7_col1\" class=\"data row7 col1\" >2019-03-22 12:58:17</td>\n",
       "      <td id=\"T_1d145_row7_col2\" class=\"data row7 col2\" >0</td>\n",
       "      <td id=\"T_1d145_row7_col3\" class=\"data row7 col3\" >1.400000</td>\n",
       "      <td id=\"T_1d145_row7_col4\" class=\"data row7 col4\" >8.500000</td>\n",
       "      <td id=\"T_1d145_row7_col5\" class=\"data row7 col5\" >0.000000</td>\n",
       "      <td id=\"T_1d145_row7_col6\" class=\"data row7 col6\" >0.000000</td>\n",
       "      <td id=\"T_1d145_row7_col7\" class=\"data row7 col7\" >11.800000</td>\n",
       "      <td id=\"T_1d145_row7_col8\" class=\"data row7 col8\" >yellow</td>\n",
       "      <td id=\"T_1d145_row7_col9\" class=\"data row7 col9\" >nan</td>\n",
       "      <td id=\"T_1d145_row7_col10\" class=\"data row7 col10\" >Murray Hill</td>\n",
       "      <td id=\"T_1d145_row7_col11\" class=\"data row7 col11\" >Flatiron</td>\n",
       "      <td id=\"T_1d145_row7_col12\" class=\"data row7 col12\" >Manhattan</td>\n",
       "      <td id=\"T_1d145_row7_col13\" class=\"data row7 col13\" >Manhattan</td>\n",
       "    </tr>\n",
       "    <tr>\n",
       "      <th id=\"T_1d145_level0_row8\" class=\"row_heading level0 row8\" >8</th>\n",
       "      <td id=\"T_1d145_row8_col0\" class=\"data row8 col0\" >2019-03-23 11:48:50</td>\n",
       "      <td id=\"T_1d145_row8_col1\" class=\"data row8 col1\" >2019-03-23 12:06:14</td>\n",
       "      <td id=\"T_1d145_row8_col2\" class=\"data row8 col2\" >1</td>\n",
       "      <td id=\"T_1d145_row8_col3\" class=\"data row8 col3\" >3.630000</td>\n",
       "      <td id=\"T_1d145_row8_col4\" class=\"data row8 col4\" >15.000000</td>\n",
       "      <td id=\"T_1d145_row8_col5\" class=\"data row8 col5\" >1.000000</td>\n",
       "      <td id=\"T_1d145_row8_col6\" class=\"data row8 col6\" >0.000000</td>\n",
       "      <td id=\"T_1d145_row8_col7\" class=\"data row8 col7\" >19.300000</td>\n",
       "      <td id=\"T_1d145_row8_col8\" class=\"data row8 col8\" >yellow</td>\n",
       "      <td id=\"T_1d145_row8_col9\" class=\"data row8 col9\" >credit card</td>\n",
       "      <td id=\"T_1d145_row8_col10\" class=\"data row8 col10\" >East Harlem South</td>\n",
       "      <td id=\"T_1d145_row8_col11\" class=\"data row8 col11\" >Midtown Center</td>\n",
       "      <td id=\"T_1d145_row8_col12\" class=\"data row8 col12\" >Manhattan</td>\n",
       "      <td id=\"T_1d145_row8_col13\" class=\"data row8 col13\" >Manhattan</td>\n",
       "    </tr>\n",
       "    <tr>\n",
       "      <th id=\"T_1d145_level0_row9\" class=\"row_heading level0 row9\" >9</th>\n",
       "      <td id=\"T_1d145_row9_col0\" class=\"data row9 col0\" >2019-03-08 16:18:37</td>\n",
       "      <td id=\"T_1d145_row9_col1\" class=\"data row9 col1\" >2019-03-08 16:26:57</td>\n",
       "      <td id=\"T_1d145_row9_col2\" class=\"data row9 col2\" >1</td>\n",
       "      <td id=\"T_1d145_row9_col3\" class=\"data row9 col3\" >1.520000</td>\n",
       "      <td id=\"T_1d145_row9_col4\" class=\"data row9 col4\" >8.000000</td>\n",
       "      <td id=\"T_1d145_row9_col5\" class=\"data row9 col5\" >1.000000</td>\n",
       "      <td id=\"T_1d145_row9_col6\" class=\"data row9 col6\" >0.000000</td>\n",
       "      <td id=\"T_1d145_row9_col7\" class=\"data row9 col7\" >13.300000</td>\n",
       "      <td id=\"T_1d145_row9_col8\" class=\"data row9 col8\" >yellow</td>\n",
       "      <td id=\"T_1d145_row9_col9\" class=\"data row9 col9\" >credit card</td>\n",
       "      <td id=\"T_1d145_row9_col10\" class=\"data row9 col10\" >Lincoln Square East</td>\n",
       "      <td id=\"T_1d145_row9_col11\" class=\"data row9 col11\" >Central Park</td>\n",
       "      <td id=\"T_1d145_row9_col12\" class=\"data row9 col12\" >Manhattan</td>\n",
       "      <td id=\"T_1d145_row9_col13\" class=\"data row9 col13\" >Manhattan</td>\n",
       "    </tr>\n",
       "  </tbody>\n",
       "</table>\n"
      ],
      "text/plain": [
       "<pandas.io.formats.style.Styler at 0x18b639e4fc8>"
      ]
     },
     "execution_count": 9,
     "metadata": {},
     "output_type": "execute_result"
    }
   ],
   "source": [
    "df.head(10).style.bar(subset=['distance', 'total'], color='#d65f5f', align='mid')"
   ]
  },
  {
   "cell_type": "code",
   "execution_count": null,
   "metadata": {},
   "outputs": [],
   "source": []
  },
  {
   "cell_type": "code",
   "execution_count": null,
   "metadata": {},
   "outputs": [],
   "source": []
  },
  {
   "cell_type": "markdown",
   "metadata": {},
   "source": [
    "Вам необходимо:\n",
    "- Объединить все датафреймы в один\n",
    "- Удалить строки, где есть хотя бы один пропуск\n",
    "- Добавить строку Mean в конец датафрейма, в которой будет рассчитано среднее значение по каждому из столбцов"
   ]
  },
  {
   "cell_type": "code",
   "execution_count": 1,
   "metadata": {},
   "outputs": [],
   "source": [
    "import pandas as pd"
   ]
  },
  {
   "cell_type": "code",
   "execution_count": 2,
   "metadata": {},
   "outputs": [],
   "source": [
    "df1 = [\n",
    "    {'page1': 1, 'page2': 25, 'page3': 3}, \n",
    "    {'page1': 4, 'page2': 58, 'page3': 1}, \n",
    "    {'page1': 1.5, 'page2': 8, 'page3': 0.5}\n",
    "    ]\n",
    "\n",
    "df2 = [\n",
    "     {'page1': 2, 'page2': 11, 'page3': None}, \n",
    "     {'page1': 5, 'page2': 21, 'page3': 5}, \n",
    "     {'page1': 0.1, 'page2': 38, 'page3': 15}\n",
    "     ]\n",
    "\n",
    "df3 = [\n",
    "     {'page1': 2, 'page2': 11, 'page3': 40}, \n",
    "     {'page1': 5, 'page2': 15, 'page3': None}, \n",
    "     {'page1': 4, 'page2': 21, 'page3': 13}\n",
    "     ]\n",
    "\n",
    "df1, df2, df3 = [pd.DataFrame(df) for df in [df1, df2, df3]]"
   ]
  },
  {
   "cell_type": "code",
   "execution_count": 10,
   "metadata": {},
   "outputs": [
    {
     "data": {
      "text/html": [
       "<div>\n",
       "<style scoped>\n",
       "    .dataframe tbody tr th:only-of-type {\n",
       "        vertical-align: middle;\n",
       "    }\n",
       "\n",
       "    .dataframe tbody tr th {\n",
       "        vertical-align: top;\n",
       "    }\n",
       "\n",
       "    .dataframe thead th {\n",
       "        text-align: right;\n",
       "    }\n",
       "</style>\n",
       "<table border=\"1\" class=\"dataframe\">\n",
       "  <thead>\n",
       "    <tr style=\"text-align: right;\">\n",
       "      <th></th>\n",
       "      <th>page1</th>\n",
       "      <th>page2</th>\n",
       "      <th>page3</th>\n",
       "    </tr>\n",
       "  </thead>\n",
       "  <tbody>\n",
       "    <tr>\n",
       "      <th>0</th>\n",
       "      <td>1.0</td>\n",
       "      <td>25</td>\n",
       "      <td>3.0</td>\n",
       "    </tr>\n",
       "    <tr>\n",
       "      <th>1</th>\n",
       "      <td>4.0</td>\n",
       "      <td>58</td>\n",
       "      <td>1.0</td>\n",
       "    </tr>\n",
       "    <tr>\n",
       "      <th>2</th>\n",
       "      <td>1.5</td>\n",
       "      <td>8</td>\n",
       "      <td>0.5</td>\n",
       "    </tr>\n",
       "    <tr>\n",
       "      <th>3</th>\n",
       "      <td>2.0</td>\n",
       "      <td>11</td>\n",
       "      <td>NaN</td>\n",
       "    </tr>\n",
       "    <tr>\n",
       "      <th>4</th>\n",
       "      <td>5.0</td>\n",
       "      <td>21</td>\n",
       "      <td>5.0</td>\n",
       "    </tr>\n",
       "    <tr>\n",
       "      <th>5</th>\n",
       "      <td>0.1</td>\n",
       "      <td>38</td>\n",
       "      <td>15.0</td>\n",
       "    </tr>\n",
       "    <tr>\n",
       "      <th>6</th>\n",
       "      <td>2.0</td>\n",
       "      <td>11</td>\n",
       "      <td>40.0</td>\n",
       "    </tr>\n",
       "    <tr>\n",
       "      <th>7</th>\n",
       "      <td>5.0</td>\n",
       "      <td>15</td>\n",
       "      <td>NaN</td>\n",
       "    </tr>\n",
       "    <tr>\n",
       "      <th>8</th>\n",
       "      <td>4.0</td>\n",
       "      <td>21</td>\n",
       "      <td>13.0</td>\n",
       "    </tr>\n",
       "  </tbody>\n",
       "</table>\n",
       "</div>"
      ],
      "text/plain": [
       "   page1  page2  page3\n",
       "0    1.0     25    3.0\n",
       "1    4.0     58    1.0\n",
       "2    1.5      8    0.5\n",
       "3    2.0     11    NaN\n",
       "4    5.0     21    5.0\n",
       "5    0.1     38   15.0\n",
       "6    2.0     11   40.0\n",
       "7    5.0     15    NaN\n",
       "8    4.0     21   13.0"
      ]
     },
     "execution_count": 10,
     "metadata": {},
     "output_type": "execute_result"
    }
   ],
   "source": [
    "df = pd.concat((df1, df2, df3)).reset_index(drop=True)\n",
    "df"
   ]
  },
  {
   "cell_type": "code",
   "execution_count": 12,
   "metadata": {},
   "outputs": [],
   "source": [
    "df = df.dropna()"
   ]
  },
  {
   "cell_type": "code",
   "execution_count": 15,
   "metadata": {},
   "outputs": [
    {
     "name": "stderr",
     "output_type": "stream",
     "text": [
      "C:\\ProgramData\\Anaconda3\\lib\\site-packages\\pandas\\core\\indexing.py:723: SettingWithCopyWarning: \n",
      "A value is trying to be set on a copy of a slice from a DataFrame\n",
      "\n",
      "See the caveats in the documentation: https://pandas.pydata.org/pandas-docs/stable/user_guide/indexing.html#returning-a-view-versus-a-copy\n",
      "  iloc._setitem_with_indexer(indexer, value, self.name)\n"
     ]
    }
   ],
   "source": [
    "df.loc['Mean'] = (df.page1.mean(), df.page1.mean(), df.page1.mean())"
   ]
  },
  {
   "cell_type": "code",
   "execution_count": 16,
   "metadata": {},
   "outputs": [
    {
     "data": {
      "text/html": [
       "<div>\n",
       "<style scoped>\n",
       "    .dataframe tbody tr th:only-of-type {\n",
       "        vertical-align: middle;\n",
       "    }\n",
       "\n",
       "    .dataframe tbody tr th {\n",
       "        vertical-align: top;\n",
       "    }\n",
       "\n",
       "    .dataframe thead th {\n",
       "        text-align: right;\n",
       "    }\n",
       "</style>\n",
       "<table border=\"1\" class=\"dataframe\">\n",
       "  <thead>\n",
       "    <tr style=\"text-align: right;\">\n",
       "      <th></th>\n",
       "      <th>page1</th>\n",
       "      <th>page2</th>\n",
       "      <th>page3</th>\n",
       "    </tr>\n",
       "  </thead>\n",
       "  <tbody>\n",
       "    <tr>\n",
       "      <th>0</th>\n",
       "      <td>1.000000</td>\n",
       "      <td>25.000000</td>\n",
       "      <td>3.000000</td>\n",
       "    </tr>\n",
       "    <tr>\n",
       "      <th>1</th>\n",
       "      <td>4.000000</td>\n",
       "      <td>58.000000</td>\n",
       "      <td>1.000000</td>\n",
       "    </tr>\n",
       "    <tr>\n",
       "      <th>2</th>\n",
       "      <td>1.500000</td>\n",
       "      <td>8.000000</td>\n",
       "      <td>0.500000</td>\n",
       "    </tr>\n",
       "    <tr>\n",
       "      <th>4</th>\n",
       "      <td>5.000000</td>\n",
       "      <td>21.000000</td>\n",
       "      <td>5.000000</td>\n",
       "    </tr>\n",
       "    <tr>\n",
       "      <th>5</th>\n",
       "      <td>0.100000</td>\n",
       "      <td>38.000000</td>\n",
       "      <td>15.000000</td>\n",
       "    </tr>\n",
       "    <tr>\n",
       "      <th>6</th>\n",
       "      <td>2.000000</td>\n",
       "      <td>11.000000</td>\n",
       "      <td>40.000000</td>\n",
       "    </tr>\n",
       "    <tr>\n",
       "      <th>8</th>\n",
       "      <td>4.000000</td>\n",
       "      <td>21.000000</td>\n",
       "      <td>13.000000</td>\n",
       "    </tr>\n",
       "    <tr>\n",
       "      <th>Mean</th>\n",
       "      <td>2.514286</td>\n",
       "      <td>2.514286</td>\n",
       "      <td>2.514286</td>\n",
       "    </tr>\n",
       "  </tbody>\n",
       "</table>\n",
       "</div>"
      ],
      "text/plain": [
       "         page1      page2      page3\n",
       "0     1.000000  25.000000   3.000000\n",
       "1     4.000000  58.000000   1.000000\n",
       "2     1.500000   8.000000   0.500000\n",
       "4     5.000000  21.000000   5.000000\n",
       "5     0.100000  38.000000  15.000000\n",
       "6     2.000000  11.000000  40.000000\n",
       "8     4.000000  21.000000  13.000000\n",
       "Mean  2.514286   2.514286   2.514286"
      ]
     },
     "execution_count": 16,
     "metadata": {},
     "output_type": "execute_result"
    }
   ],
   "source": [
    "df"
   ]
  },
  {
   "cell_type": "code",
   "execution_count": 19,
   "metadata": {},
   "outputs": [],
   "source": [
    "class Answer:\n",
    "    def calcMean(self, df1, df2, df3):\n",
    "        df = pd.concat((df1, df2, df3))\n",
    "        df = df.dropna()\n",
    "        df.loc['Mean'] = (df.page1.mean(), df.page2.mean(), df.page3.mean())\n",
    "        return df"
   ]
  },
  {
   "cell_type": "code",
   "execution_count": 20,
   "metadata": {},
   "outputs": [
    {
     "data": {
      "text/html": [
       "<div>\n",
       "<style scoped>\n",
       "    .dataframe tbody tr th:only-of-type {\n",
       "        vertical-align: middle;\n",
       "    }\n",
       "\n",
       "    .dataframe tbody tr th {\n",
       "        vertical-align: top;\n",
       "    }\n",
       "\n",
       "    .dataframe thead th {\n",
       "        text-align: right;\n",
       "    }\n",
       "</style>\n",
       "<table border=\"1\" class=\"dataframe\">\n",
       "  <thead>\n",
       "    <tr style=\"text-align: right;\">\n",
       "      <th></th>\n",
       "      <th>page1</th>\n",
       "      <th>page2</th>\n",
       "      <th>page3</th>\n",
       "    </tr>\n",
       "  </thead>\n",
       "  <tbody>\n",
       "    <tr>\n",
       "      <th>0</th>\n",
       "      <td>1.000000</td>\n",
       "      <td>25.0</td>\n",
       "      <td>3.000000</td>\n",
       "    </tr>\n",
       "    <tr>\n",
       "      <th>1</th>\n",
       "      <td>4.000000</td>\n",
       "      <td>58.0</td>\n",
       "      <td>1.000000</td>\n",
       "    </tr>\n",
       "    <tr>\n",
       "      <th>2</th>\n",
       "      <td>1.500000</td>\n",
       "      <td>8.0</td>\n",
       "      <td>0.500000</td>\n",
       "    </tr>\n",
       "    <tr>\n",
       "      <th>1</th>\n",
       "      <td>5.000000</td>\n",
       "      <td>21.0</td>\n",
       "      <td>5.000000</td>\n",
       "    </tr>\n",
       "    <tr>\n",
       "      <th>2</th>\n",
       "      <td>0.100000</td>\n",
       "      <td>38.0</td>\n",
       "      <td>15.000000</td>\n",
       "    </tr>\n",
       "    <tr>\n",
       "      <th>0</th>\n",
       "      <td>2.000000</td>\n",
       "      <td>11.0</td>\n",
       "      <td>40.000000</td>\n",
       "    </tr>\n",
       "    <tr>\n",
       "      <th>2</th>\n",
       "      <td>4.000000</td>\n",
       "      <td>21.0</td>\n",
       "      <td>13.000000</td>\n",
       "    </tr>\n",
       "    <tr>\n",
       "      <th>Mean</th>\n",
       "      <td>2.514286</td>\n",
       "      <td>26.0</td>\n",
       "      <td>11.071429</td>\n",
       "    </tr>\n",
       "  </tbody>\n",
       "</table>\n",
       "</div>"
      ],
      "text/plain": [
       "         page1  page2      page3\n",
       "0     1.000000   25.0   3.000000\n",
       "1     4.000000   58.0   1.000000\n",
       "2     1.500000    8.0   0.500000\n",
       "1     5.000000   21.0   5.000000\n",
       "2     0.100000   38.0  15.000000\n",
       "0     2.000000   11.0  40.000000\n",
       "2     4.000000   21.0  13.000000\n",
       "Mean  2.514286   26.0  11.071429"
      ]
     },
     "execution_count": 20,
     "metadata": {},
     "output_type": "execute_result"
    }
   ],
   "source": [
    "ans = Answer()\n",
    "ans.calcMean(df1, df2, df3)"
   ]
  },
  {
   "cell_type": "code",
   "execution_count": null,
   "metadata": {},
   "outputs": [],
   "source": []
  },
  {
   "cell_type": "code",
   "execution_count": 5,
   "metadata": {},
   "outputs": [],
   "source": [
    "from tqdm.notebook import tqdm\n",
    "from statsmodels.stats.proportion import proportions_ztest\n",
    "import scipy.stats as sps"
   ]
  },
  {
   "cell_type": "code",
   "execution_count": null,
   "metadata": {},
   "outputs": [],
   "source": []
  },
  {
   "cell_type": "code",
   "execution_count": 6,
   "metadata": {},
   "outputs": [],
   "source": [
    "mde = 0.05\n",
    "baseline = 0.2\n",
    "sample_size = 1030"
   ]
  },
  {
   "cell_type": "code",
   "execution_count": 7,
   "metadata": {},
   "outputs": [
    {
     "data": {
      "application/vnd.jupyter.widget-view+json": {
       "model_id": "f1c8860b5db64b9291cc6f9311586f02",
       "version_major": 2,
       "version_minor": 0
      },
      "text/plain": [
       "  0%|          | 0/10000 [00:00<?, ?it/s]"
      ]
     },
     "metadata": {},
     "output_type": "display_data"
    }
   ],
   "source": [
    "result = []\n",
    "for _ in tqdm(range(10000)):\n",
    "  a = np.random.binomial(1,baseline, size=sample_size)\n",
    "  b = np.random.binomial(1,baseline + mde, size=sample_size)\n",
    "  _, pval = proportions_ztest([a.sum(), b.sum()], [len(a), len(b)], )\n",
    "  result.append(pval)"
   ]
  },
  {
   "cell_type": "code",
   "execution_count": 8,
   "metadata": {},
   "outputs": [
    {
     "data": {
      "image/png": "[encoded data removed]",
      "text/plain": [
       "<Figure size 640x480 with 1 Axes>"
      ]
     },
     "metadata": {},
     "output_type": "display_data"
    }
   ],
   "source": [
    "pd.Series(result).hist(bins=20);"
   ]
  },
  {
   "cell_type": "code",
   "execution_count": 9,
   "metadata": {},
   "outputs": [],
   "source": [
    "a = np.random.binomial(1,baseline, size=sample_size)\n",
    "b = np.random.binomial(1,baseline + mde, size=sample_size)"
   ]
  },
  {
   "cell_type": "code",
   "execution_count": 10,
   "metadata": {},
   "outputs": [
    {
     "data": {
      "text/plain": [
       "(-0.7642729198142753, 0.4447046196356115)"
      ]
     },
     "execution_count": 10,
     "metadata": {},
     "output_type": "execute_result"
    }
   ],
   "source": [
    "proportions_ztest([a.sum(), b.sum()], [len(a), len(b)], )"
   ]
  },
  {
   "cell_type": "code",
   "execution_count": 11,
   "metadata": {},
   "outputs": [
    {
     "data": {
      "text/plain": [
       "Power_divergenceResult(statistic=1.1980724493187105, pvalue=0.27370727417821317)"
      ]
     },
     "execution_count": 11,
     "metadata": {},
     "output_type": "execute_result"
    }
   ],
   "source": [
    "sps.chisquare([b.sum(), len(b) - b.sum()], [a.sum(), len(a) - a.sum()])"
   ]
  },
  {
   "cell_type": "code",
   "execution_count": 12,
   "metadata": {},
   "outputs": [
    {
     "data": {
      "text/plain": [
       "(0.5036485368238923,\n",
       " 0.477901358660342,\n",
       " 1,\n",
       " array([[211., 819.],\n",
       "        [211., 819.]]))"
      ]
     },
     "execution_count": 12,
     "metadata": {},
     "output_type": "execute_result"
    }
   ],
   "source": [
    "sps.chi2_contingency([[b.sum(), len(b) - b.sum()], [a.sum(), len(a) - a.sum()]])"
   ]
  },
  {
   "cell_type": "code",
   "execution_count": 14,
   "metadata": {},
   "outputs": [
    {
     "data": {
      "text/plain": [
       "Ttest_indResult(statistic=-0.7640101486847903, pvalue=0.4449487769417205)"
      ]
     },
     "execution_count": 14,
     "metadata": {},
     "output_type": "execute_result"
    }
   ],
   "source": [
    "sps.ttest_ind(a, b)"
   ]
  },
  {
   "cell_type": "code",
   "execution_count": 15,
   "metadata": {},
   "outputs": [
    {
     "data": {
      "text/plain": [
       "Ttest_indResult(statistic=-0.7643812976737382, pvalue=0.4447276818819862)"
      ]
     },
     "execution_count": 15,
     "metadata": {},
     "output_type": "execute_result"
    }
   ],
   "source": [
    "sps.ttest_ind_from_stats(\n",
    "    a.mean(), a.std(), a.shape[0],\n",
    "    b.mean(), b.std(), b.shape[0]\n",
    ")"
   ]
  },
  {
   "cell_type": "code",
   "execution_count": null,
   "metadata": {},
   "outputs": [],
   "source": []
  },
  {
   "cell_type": "code",
   "execution_count": 10,
   "metadata": {},
   "outputs": [
    {
     "data": {
      "text/html": [
       "<div>\n",
       "<style scoped>\n",
       "    .dataframe tbody tr th:only-of-type {\n",
       "        vertical-align: middle;\n",
       "    }\n",
       "\n",
       "    .dataframe tbody tr th {\n",
       "        vertical-align: top;\n",
       "    }\n",
       "\n",
       "    .dataframe thead th {\n",
       "        text-align: right;\n",
       "    }\n",
       "</style>\n",
       "<table border=\"1\" class=\"dataframe\">\n",
       "  <thead>\n",
       "    <tr style=\"text-align: right;\">\n",
       "      <th></th>\n",
       "      <th>pickup</th>\n",
       "      <th>dropoff</th>\n",
       "      <th>passengers</th>\n",
       "      <th>distance</th>\n",
       "      <th>fare</th>\n",
       "      <th>tip</th>\n",
       "      <th>tolls</th>\n",
       "      <th>total</th>\n",
       "      <th>color</th>\n",
       "      <th>payment</th>\n",
       "      <th>pickup_zone</th>\n",
       "      <th>dropoff_zone</th>\n",
       "      <th>pickup_borough</th>\n",
       "      <th>dropoff_borough</th>\n",
       "    </tr>\n",
       "  </thead>\n",
       "  <tbody>\n",
       "    <tr>\n",
       "      <th>0</th>\n",
       "      <td>2019-03-23 20:21:09</td>\n",
       "      <td>2019-03-23 20:27:24</td>\n",
       "      <td>1</td>\n",
       "      <td>1.60</td>\n",
       "      <td>7.0</td>\n",
       "      <td>2.15</td>\n",
       "      <td>0.0</td>\n",
       "      <td>12.95</td>\n",
       "      <td>yellow</td>\n",
       "      <td>credit card</td>\n",
       "      <td>Lenox Hill West</td>\n",
       "      <td>UN/Turtle Bay South</td>\n",
       "      <td>Manhattan</td>\n",
       "      <td>Manhattan</td>\n",
       "    </tr>\n",
       "    <tr>\n",
       "      <th>1</th>\n",
       "      <td>2019-03-04 16:11:55</td>\n",
       "      <td>2019-03-04 16:19:00</td>\n",
       "      <td>1</td>\n",
       "      <td>0.79</td>\n",
       "      <td>5.0</td>\n",
       "      <td>0.00</td>\n",
       "      <td>0.0</td>\n",
       "      <td>9.30</td>\n",
       "      <td>yellow</td>\n",
       "      <td>cash</td>\n",
       "      <td>Upper West Side South</td>\n",
       "      <td>Upper West Side South</td>\n",
       "      <td>Manhattan</td>\n",
       "      <td>Manhattan</td>\n",
       "    </tr>\n",
       "    <tr>\n",
       "      <th>2</th>\n",
       "      <td>2019-03-27 17:53:01</td>\n",
       "      <td>2019-03-27 18:00:25</td>\n",
       "      <td>1</td>\n",
       "      <td>1.37</td>\n",
       "      <td>7.5</td>\n",
       "      <td>2.36</td>\n",
       "      <td>0.0</td>\n",
       "      <td>14.16</td>\n",
       "      <td>yellow</td>\n",
       "      <td>credit card</td>\n",
       "      <td>Alphabet City</td>\n",
       "      <td>West Village</td>\n",
       "      <td>Manhattan</td>\n",
       "      <td>Manhattan</td>\n",
       "    </tr>\n",
       "    <tr>\n",
       "      <th>3</th>\n",
       "      <td>2019-03-10 01:23:59</td>\n",
       "      <td>2019-03-10 01:49:51</td>\n",
       "      <td>1</td>\n",
       "      <td>7.70</td>\n",
       "      <td>27.0</td>\n",
       "      <td>6.15</td>\n",
       "      <td>0.0</td>\n",
       "      <td>36.95</td>\n",
       "      <td>yellow</td>\n",
       "      <td>credit card</td>\n",
       "      <td>Hudson Sq</td>\n",
       "      <td>Yorkville West</td>\n",
       "      <td>Manhattan</td>\n",
       "      <td>Manhattan</td>\n",
       "    </tr>\n",
       "    <tr>\n",
       "      <th>4</th>\n",
       "      <td>2019-03-30 13:27:42</td>\n",
       "      <td>2019-03-30 13:37:14</td>\n",
       "      <td>3</td>\n",
       "      <td>2.16</td>\n",
       "      <td>9.0</td>\n",
       "      <td>1.10</td>\n",
       "      <td>0.0</td>\n",
       "      <td>13.40</td>\n",
       "      <td>yellow</td>\n",
       "      <td>credit card</td>\n",
       "      <td>Midtown East</td>\n",
       "      <td>Yorkville West</td>\n",
       "      <td>Manhattan</td>\n",
       "      <td>Manhattan</td>\n",
       "    </tr>\n",
       "  </tbody>\n",
       "</table>\n",
       "</div>"
      ],
      "text/plain": [
       "               pickup             dropoff  passengers  distance  fare   tip  \\\n",
       "0 2019-03-23 20:21:09 2019-03-23 20:27:24           1      1.60   7.0  2.15   \n",
       "1 2019-03-04 16:11:55 2019-03-04 16:19:00           1      0.79   5.0  0.00   \n",
       "2 2019-03-27 17:53:01 2019-03-27 18:00:25           1      1.37   7.5  2.36   \n",
       "3 2019-03-10 01:23:59 2019-03-10 01:49:51           1      7.70  27.0  6.15   \n",
       "4 2019-03-30 13:27:42 2019-03-30 13:37:14           3      2.16   9.0  1.10   \n",
       "\n",
       "   tolls  total   color      payment            pickup_zone  \\\n",
       "0    0.0  12.95  yellow  credit card        Lenox Hill West   \n",
       "1    0.0   9.30  yellow         cash  Upper West Side South   \n",
       "2    0.0  14.16  yellow  credit card          Alphabet City   \n",
       "3    0.0  36.95  yellow  credit card              Hudson Sq   \n",
       "4    0.0  13.40  yellow  credit card           Midtown East   \n",
       "\n",
       "            dropoff_zone pickup_borough dropoff_borough  \n",
       "0    UN/Turtle Bay South      Manhattan       Manhattan  \n",
       "1  Upper West Side South      Manhattan       Manhattan  \n",
       "2           West Village      Manhattan       Manhattan  \n",
       "3         Yorkville West      Manhattan       Manhattan  \n",
       "4         Yorkville West      Manhattan       Manhattan  "
      ]
     },
     "execution_count": 10,
     "metadata": {},
     "output_type": "execute_result"
    }
   ],
   "source": [
    "df = sns.load_dataset('taxis')\n",
    "df.head()"
   ]
  },
  {
   "cell_type": "code",
   "execution_count": 11,
   "metadata": {},
   "outputs": [
    {
     "data": {
      "text/plain": [
       "0      2019-03-23 20:21:09\n",
       "1      2019-03-04 16:11:55\n",
       "2      2019-03-27 17:53:01\n",
       "3      2019-03-10 01:23:59\n",
       "4      2019-03-30 13:27:42\n",
       "               ...        \n",
       "6428   2019-03-31 09:51:53\n",
       "6429   2019-03-31 17:38:00\n",
       "6430   2019-03-23 22:55:18\n",
       "6431   2019-03-04 10:09:25\n",
       "6432   2019-03-13 19:31:22\n",
       "Name: pickup, Length: 6433, dtype: datetime64[ns]"
      ]
     },
     "execution_count": 11,
     "metadata": {},
     "output_type": "execute_result"
    }
   ],
   "source": [
    "df.pickup = pd.to_datetime(df.pickup)\n",
    "df.pickup"
   ]
  },
  {
   "cell_type": "code",
   "execution_count": 17,
   "metadata": {},
   "outputs": [
    {
     "data": {
      "text/plain": [
       "0        9\n",
       "1       55\n",
       "2        1\n",
       "3       59\n",
       "4       42\n",
       "        ..\n",
       "6428    53\n",
       "6429     0\n",
       "6430    18\n",
       "6431    25\n",
       "6432    22\n",
       "Name: pickup, Length: 6433, dtype: int64"
      ]
     },
     "execution_count": 17,
     "metadata": {},
     "output_type": "execute_result"
    }
   ],
   "source": [
    "df.pickup.dt.second"
   ]
  },
  {
   "cell_type": "code",
   "execution_count": null,
   "metadata": {},
   "outputs": [],
   "source": []
  },
  {
   "cell_type": "code",
   "execution_count": 3,
   "metadata": {},
   "outputs": [
    {
     "data": {
      "text/html": [
       "<div>\n",
       "<style scoped>\n",
       "    .dataframe tbody tr th:only-of-type {\n",
       "        vertical-align: middle;\n",
       "    }\n",
       "\n",
       "    .dataframe tbody tr th {\n",
       "        vertical-align: top;\n",
       "    }\n",
       "\n",
       "    .dataframe thead th {\n",
       "        text-align: right;\n",
       "    }\n",
       "</style>\n",
       "<table border=\"1\" class=\"dataframe\">\n",
       "  <thead>\n",
       "    <tr style=\"text-align: right;\">\n",
       "      <th></th>\n",
       "      <th>pickup</th>\n",
       "      <th>dropoff</th>\n",
       "      <th>passengers</th>\n",
       "      <th>distance</th>\n",
       "      <th>fare</th>\n",
       "      <th>tip</th>\n",
       "      <th>tolls</th>\n",
       "      <th>total</th>\n",
       "      <th>color</th>\n",
       "      <th>payment</th>\n",
       "      <th>pickup_zone</th>\n",
       "      <th>dropoff_zone</th>\n",
       "      <th>pickup_borough</th>\n",
       "      <th>dropoff_borough</th>\n",
       "    </tr>\n",
       "  </thead>\n",
       "  <tbody>\n",
       "    <tr>\n",
       "      <th>0</th>\n",
       "      <td>2019-03-23 20:21:09</td>\n",
       "      <td>2019-03-23 20:27:24</td>\n",
       "      <td>1</td>\n",
       "      <td>1.60</td>\n",
       "      <td>7.0</td>\n",
       "      <td>2.15</td>\n",
       "      <td>0.0</td>\n",
       "      <td>12.95</td>\n",
       "      <td>yellow</td>\n",
       "      <td>credit card</td>\n",
       "      <td>Lenox Hill West</td>\n",
       "      <td>UN/Turtle Bay South</td>\n",
       "      <td>Manhattan</td>\n",
       "      <td>Manhattan</td>\n",
       "    </tr>\n",
       "    <tr>\n",
       "      <th>1</th>\n",
       "      <td>2019-03-04 16:11:55</td>\n",
       "      <td>2019-03-04 16:19:00</td>\n",
       "      <td>1</td>\n",
       "      <td>0.79</td>\n",
       "      <td>5.0</td>\n",
       "      <td>0.00</td>\n",
       "      <td>0.0</td>\n",
       "      <td>9.30</td>\n",
       "      <td>yellow</td>\n",
       "      <td>cash</td>\n",
       "      <td>Upper West Side South</td>\n",
       "      <td>Upper West Side South</td>\n",
       "      <td>Manhattan</td>\n",
       "      <td>Manhattan</td>\n",
       "    </tr>\n",
       "    <tr>\n",
       "      <th>2</th>\n",
       "      <td>2019-03-27 17:53:01</td>\n",
       "      <td>2019-03-27 18:00:25</td>\n",
       "      <td>1</td>\n",
       "      <td>1.37</td>\n",
       "      <td>7.5</td>\n",
       "      <td>2.36</td>\n",
       "      <td>0.0</td>\n",
       "      <td>14.16</td>\n",
       "      <td>yellow</td>\n",
       "      <td>credit card</td>\n",
       "      <td>Alphabet City</td>\n",
       "      <td>West Village</td>\n",
       "      <td>Manhattan</td>\n",
       "      <td>Manhattan</td>\n",
       "    </tr>\n",
       "    <tr>\n",
       "      <th>3</th>\n",
       "      <td>2019-03-10 01:23:59</td>\n",
       "      <td>2019-03-10 01:49:51</td>\n",
       "      <td>1</td>\n",
       "      <td>7.70</td>\n",
       "      <td>27.0</td>\n",
       "      <td>6.15</td>\n",
       "      <td>0.0</td>\n",
       "      <td>36.95</td>\n",
       "      <td>yellow</td>\n",
       "      <td>credit card</td>\n",
       "      <td>Hudson Sq</td>\n",
       "      <td>Yorkville West</td>\n",
       "      <td>Manhattan</td>\n",
       "      <td>Manhattan</td>\n",
       "    </tr>\n",
       "    <tr>\n",
       "      <th>4</th>\n",
       "      <td>2019-03-30 13:27:42</td>\n",
       "      <td>2019-03-30 13:37:14</td>\n",
       "      <td>3</td>\n",
       "      <td>2.16</td>\n",
       "      <td>9.0</td>\n",
       "      <td>1.10</td>\n",
       "      <td>0.0</td>\n",
       "      <td>13.40</td>\n",
       "      <td>yellow</td>\n",
       "      <td>credit card</td>\n",
       "      <td>Midtown East</td>\n",
       "      <td>Yorkville West</td>\n",
       "      <td>Manhattan</td>\n",
       "      <td>Manhattan</td>\n",
       "    </tr>\n",
       "  </tbody>\n",
       "</table>\n",
       "</div>"
      ],
      "text/plain": [
       "               pickup             dropoff  passengers  distance  fare   tip  \\\n",
       "0 2019-03-23 20:21:09 2019-03-23 20:27:24           1      1.60   7.0  2.15   \n",
       "1 2019-03-04 16:11:55 2019-03-04 16:19:00           1      0.79   5.0  0.00   \n",
       "2 2019-03-27 17:53:01 2019-03-27 18:00:25           1      1.37   7.5  2.36   \n",
       "3 2019-03-10 01:23:59 2019-03-10 01:49:51           1      7.70  27.0  6.15   \n",
       "4 2019-03-30 13:27:42 2019-03-30 13:37:14           3      2.16   9.0  1.10   \n",
       "\n",
       "   tolls  total   color      payment            pickup_zone  \\\n",
       "0    0.0  12.95  yellow  credit card        Lenox Hill West   \n",
       "1    0.0   9.30  yellow         cash  Upper West Side South   \n",
       "2    0.0  14.16  yellow  credit card          Alphabet City   \n",
       "3    0.0  36.95  yellow  credit card              Hudson Sq   \n",
       "4    0.0  13.40  yellow  credit card           Midtown East   \n",
       "\n",
       "            dropoff_zone pickup_borough dropoff_borough  \n",
       "0    UN/Turtle Bay South      Manhattan       Manhattan  \n",
       "1  Upper West Side South      Manhattan       Manhattan  \n",
       "2           West Village      Manhattan       Manhattan  \n",
       "3         Yorkville West      Manhattan       Manhattan  \n",
       "4         Yorkville West      Manhattan       Manhattan  "
      ]
     },
     "execution_count": 3,
     "metadata": {},
     "output_type": "execute_result"
    }
   ],
   "source": [
    "df = sns.load_dataset('taxis')\n",
    "df.head()"
   ]
  },
  {
   "cell_type": "code",
   "execution_count": 7,
   "metadata": {},
   "outputs": [],
   "source": [
    "df['day'] = pd.to_datetime(df.pickup).dt.date"
   ]
  },
  {
   "cell_type": "code",
   "execution_count": 10,
   "metadata": {},
   "outputs": [
    {
     "data": {
      "text/html": [
       "<div>\n",
       "<style scoped>\n",
       "    .dataframe tbody tr th:only-of-type {\n",
       "        vertical-align: middle;\n",
       "    }\n",
       "\n",
       "    .dataframe tbody tr th {\n",
       "        vertical-align: top;\n",
       "    }\n",
       "\n",
       "    .dataframe thead th {\n",
       "        text-align: right;\n",
       "    }\n",
       "</style>\n",
       "<table border=\"1\" class=\"dataframe\">\n",
       "  <thead>\n",
       "    <tr style=\"text-align: right;\">\n",
       "      <th></th>\n",
       "      <th>day</th>\n",
       "      <th>distance</th>\n",
       "      <th>total</th>\n",
       "    </tr>\n",
       "  </thead>\n",
       "  <tbody>\n",
       "    <tr>\n",
       "      <th>0</th>\n",
       "      <td>2019-02-28</td>\n",
       "      <td>0.90</td>\n",
       "      <td>6.30</td>\n",
       "    </tr>\n",
       "    <tr>\n",
       "      <th>1</th>\n",
       "      <td>2019-03-01</td>\n",
       "      <td>640.29</td>\n",
       "      <td>4213.83</td>\n",
       "    </tr>\n",
       "    <tr>\n",
       "      <th>2</th>\n",
       "      <td>2019-03-02</td>\n",
       "      <td>548.70</td>\n",
       "      <td>3319.02</td>\n",
       "    </tr>\n",
       "    <tr>\n",
       "      <th>3</th>\n",
       "      <td>2019-03-03</td>\n",
       "      <td>554.04</td>\n",
       "      <td>3027.32</td>\n",
       "    </tr>\n",
       "    <tr>\n",
       "      <th>4</th>\n",
       "      <td>2019-03-04</td>\n",
       "      <td>583.81</td>\n",
       "      <td>3269.08</td>\n",
       "    </tr>\n",
       "  </tbody>\n",
       "</table>\n",
       "</div>"
      ],
      "text/plain": [
       "          day  distance    total\n",
       "0  2019-02-28      0.90     6.30\n",
       "1  2019-03-01    640.29  4213.83\n",
       "2  2019-03-02    548.70  3319.02\n",
       "3  2019-03-03    554.04  3027.32\n",
       "4  2019-03-04    583.81  3269.08"
      ]
     },
     "execution_count": 10,
     "metadata": {},
     "output_type": "execute_result"
    }
   ],
   "source": [
    "df_2 = df[['day', 'distance', 'total']].groupby('day', as_index=False).sum()\n",
    "df_2.head()"
   ]
  },
  {
   "cell_type": "code",
   "execution_count": 25,
   "metadata": {},
   "outputs": [
    {
     "data": {
      "image/png": "[encoded data removed]",
      "text/plain": [
       "<Figure size 640x480 with 1 Axes>"
      ]
     },
     "metadata": {},
     "output_type": "display_data"
    }
   ],
   "source": [
    "sns.lineplot(x='day', y='distance', data=df_2)\n",
    "sns.lineplot(x='day', y='total', data=df_2)\n",
    "plt.xticks(rotation=45);"
   ]
  },
  {
   "cell_type": "code",
   "execution_count": 33,
   "metadata": {},
   "outputs": [
    {
     "name": "stderr",
     "output_type": "stream",
     "text": [
      "C:\\ProgramData\\Anaconda3\\lib\\site-packages\\ipykernel_launcher.py:2: UserWarning: 'set_params()' not defined for locator of type <class 'pandas.plotting._matplotlib.converter.PandasAutoDateLocator'>\n",
      "  \n"
     ]
    },
    {
     "data": {
      "image/png": "[encoded data removed]",
      "text/plain": [
       "<Figure size 640x480 with 1 Axes>"
      ]
     },
     "metadata": {},
     "output_type": "display_data"
    }
   ],
   "source": [
    "df_2.plot(x='day', y=['distance', 'total'])\n",
    "plt.locator_params(axis='x', nbins=5);"
   ]
  },
  {
   "cell_type": "code",
   "execution_count": null,
   "metadata": {},
   "outputs": [],
   "source": []
  },
  {
   "cell_type": "code",
   "execution_count": 1,
   "metadata": {},
   "outputs": [],
   "source": [
    "s = 'JfvjjklgjhjgGgkGGGKgKGkgKLggKJkhkHgGkJhLKHGGHFFJgGjHGjk'"
   ]
  },
  {
   "cell_type": "code",
   "execution_count": 2,
   "metadata": {},
   "outputs": [
    {
     "data": {
      "text/plain": [
       "28"
      ]
     },
     "execution_count": 2,
     "metadata": {},
     "output_type": "execute_result"
    }
   ],
   "source": [
    "from functools import reduce\n",
    "reduce(lambda cnt, char: cnt + ('a' <= char <= 'z'), s, 0)"
   ]
  },
  {
   "cell_type": "code",
   "execution_count": 3,
   "metadata": {},
   "outputs": [
    {
     "data": {
      "text/plain": [
       "28"
      ]
     },
     "execution_count": 3,
     "metadata": {},
     "output_type": "execute_result"
    }
   ],
   "source": [
    "len([1 for char in s if 'a' <= char <= 'z'])"
   ]
  },
  {
   "cell_type": "code",
   "execution_count": 6,
   "metadata": {},
   "outputs": [
    {
     "data": {
      "text/plain": [
       "28"
      ]
     },
     "execution_count": 6,
     "metadata": {},
     "output_type": "execute_result"
    }
   ],
   "source": [
    "sum(char.islower() for char in s)"
   ]
  },
  {
   "cell_type": "code",
   "execution_count": null,
   "metadata": {},
   "outputs": [],
   "source": []
  },
  {
   "cell_type": "code",
   "execution_count": 7,
   "metadata": {},
   "outputs": [
    {
     "name": "stdout",
     "output_type": "stream",
     "text": [
      "ghjkd\n",
      "sghg fghgh dghg\n",
      "ghgf fg\n"
     ]
    }
   ],
   "source": [
    "with open('untitled.txt') as f:\n",
    "    a = f.read()\n",
    "    print(a)"
   ]
  },
  {
   "cell_type": "code",
   "execution_count": 14,
   "metadata": {},
   "outputs": [
    {
     "name": "stdout",
     "output_type": "stream",
     "text": [
      "ghjkd\n",
      "\n",
      "sghg fghgh dghg\n",
      "\n",
      "ghgf fg\n"
     ]
    }
   ],
   "source": [
    "with open('untitled.txt') as f:\n",
    "    for a in f:\n",
    "        print(a)"
   ]
  },
  {
   "cell_type": "code",
   "execution_count": 9,
   "metadata": {},
   "outputs": [
    {
     "name": "stdout",
     "output_type": "stream",
     "text": [
      "ghjkd\n",
      "\n",
      "sghg fghgh dghg\n",
      "\n",
      "ghgf fg\n"
     ]
    }
   ],
   "source": [
    "with open('untitled.txt') as f:\n",
    "    for a in f.readlines():\n",
    "        print(a)"
   ]
  },
  {
   "cell_type": "code",
   "execution_count": 12,
   "metadata": {},
   "outputs": [
    {
     "name": "stdout",
     "output_type": "stream",
     "text": [
      "ghjkd\n",
      "\n",
      "sghg fghgh dghg\n",
      "\n",
      "ghgf fg\n"
     ]
    }
   ],
   "source": [
    "with open('untitled.txt') as f:\n",
    "    while True:\n",
    "        line = f.readline(); \n",
    "        if not line: \n",
    "            break\n",
    "        print(line)"
   ]
  },
  {
   "cell_type": "code",
   "execution_count": null,
   "metadata": {},
   "outputs": [],
   "source": []
  },
  {
   "cell_type": "code",
   "execution_count": 3,
   "metadata": {},
   "outputs": [
    {
     "data": {
      "text/html": [
       "<div>\n",
       "<style scoped>\n",
       "    .dataframe tbody tr th:only-of-type {\n",
       "        vertical-align: middle;\n",
       "    }\n",
       "\n",
       "    .dataframe tbody tr th {\n",
       "        vertical-align: top;\n",
       "    }\n",
       "\n",
       "    .dataframe thead th {\n",
       "        text-align: right;\n",
       "    }\n",
       "</style>\n",
       "<table border=\"1\" class=\"dataframe\">\n",
       "  <thead>\n",
       "    <tr style=\"text-align: right;\">\n",
       "      <th></th>\n",
       "      <th>pickup</th>\n",
       "      <th>dropoff</th>\n",
       "      <th>passengers</th>\n",
       "      <th>distance</th>\n",
       "      <th>fare</th>\n",
       "      <th>tip</th>\n",
       "      <th>tolls</th>\n",
       "      <th>total</th>\n",
       "      <th>color</th>\n",
       "      <th>payment</th>\n",
       "      <th>pickup_zone</th>\n",
       "      <th>dropoff_zone</th>\n",
       "      <th>pickup_borough</th>\n",
       "      <th>dropoff_borough</th>\n",
       "    </tr>\n",
       "  </thead>\n",
       "  <tbody>\n",
       "    <tr>\n",
       "      <th>0</th>\n",
       "      <td>2019-03-23 20:21:09</td>\n",
       "      <td>2019-03-23 20:27:24</td>\n",
       "      <td>1</td>\n",
       "      <td>1.60</td>\n",
       "      <td>7.0</td>\n",
       "      <td>2.15</td>\n",
       "      <td>0.0</td>\n",
       "      <td>12.95</td>\n",
       "      <td>yellow</td>\n",
       "      <td>credit card</td>\n",
       "      <td>Lenox Hill West</td>\n",
       "      <td>UN/Turtle Bay South</td>\n",
       "      <td>Manhattan</td>\n",
       "      <td>Manhattan</td>\n",
       "    </tr>\n",
       "    <tr>\n",
       "      <th>1</th>\n",
       "      <td>2019-03-04 16:11:55</td>\n",
       "      <td>2019-03-04 16:19:00</td>\n",
       "      <td>1</td>\n",
       "      <td>0.79</td>\n",
       "      <td>5.0</td>\n",
       "      <td>0.00</td>\n",
       "      <td>0.0</td>\n",
       "      <td>9.30</td>\n",
       "      <td>yellow</td>\n",
       "      <td>cash</td>\n",
       "      <td>Upper West Side South</td>\n",
       "      <td>Upper West Side South</td>\n",
       "      <td>Manhattan</td>\n",
       "      <td>Manhattan</td>\n",
       "    </tr>\n",
       "    <tr>\n",
       "      <th>2</th>\n",
       "      <td>2019-03-27 17:53:01</td>\n",
       "      <td>2019-03-27 18:00:25</td>\n",
       "      <td>1</td>\n",
       "      <td>1.37</td>\n",
       "      <td>7.5</td>\n",
       "      <td>2.36</td>\n",
       "      <td>0.0</td>\n",
       "      <td>14.16</td>\n",
       "      <td>yellow</td>\n",
       "      <td>credit card</td>\n",
       "      <td>Alphabet City</td>\n",
       "      <td>West Village</td>\n",
       "      <td>Manhattan</td>\n",
       "      <td>Manhattan</td>\n",
       "    </tr>\n",
       "    <tr>\n",
       "      <th>3</th>\n",
       "      <td>2019-03-10 01:23:59</td>\n",
       "      <td>2019-03-10 01:49:51</td>\n",
       "      <td>1</td>\n",
       "      <td>7.70</td>\n",
       "      <td>27.0</td>\n",
       "      <td>6.15</td>\n",
       "      <td>0.0</td>\n",
       "      <td>36.95</td>\n",
       "      <td>yellow</td>\n",
       "      <td>credit card</td>\n",
       "      <td>Hudson Sq</td>\n",
       "      <td>Yorkville West</td>\n",
       "      <td>Manhattan</td>\n",
       "      <td>Manhattan</td>\n",
       "    </tr>\n",
       "    <tr>\n",
       "      <th>4</th>\n",
       "      <td>2019-03-30 13:27:42</td>\n",
       "      <td>2019-03-30 13:37:14</td>\n",
       "      <td>3</td>\n",
       "      <td>2.16</td>\n",
       "      <td>9.0</td>\n",
       "      <td>1.10</td>\n",
       "      <td>0.0</td>\n",
       "      <td>13.40</td>\n",
       "      <td>yellow</td>\n",
       "      <td>credit card</td>\n",
       "      <td>Midtown East</td>\n",
       "      <td>Yorkville West</td>\n",
       "      <td>Manhattan</td>\n",
       "      <td>Manhattan</td>\n",
       "    </tr>\n",
       "  </tbody>\n",
       "</table>\n",
       "</div>"
      ],
      "text/plain": [
       "               pickup             dropoff  passengers  distance  fare   tip  \\\n",
       "0 2019-03-23 20:21:09 2019-03-23 20:27:24           1      1.60   7.0  2.15   \n",
       "1 2019-03-04 16:11:55 2019-03-04 16:19:00           1      0.79   5.0  0.00   \n",
       "2 2019-03-27 17:53:01 2019-03-27 18:00:25           1      1.37   7.5  2.36   \n",
       "3 2019-03-10 01:23:59 2019-03-10 01:49:51           1      7.70  27.0  6.15   \n",
       "4 2019-03-30 13:27:42 2019-03-30 13:37:14           3      2.16   9.0  1.10   \n",
       "\n",
       "   tolls  total   color      payment            pickup_zone  \\\n",
       "0    0.0  12.95  yellow  credit card        Lenox Hill West   \n",
       "1    0.0   9.30  yellow         cash  Upper West Side South   \n",
       "2    0.0  14.16  yellow  credit card          Alphabet City   \n",
       "3    0.0  36.95  yellow  credit card              Hudson Sq   \n",
       "4    0.0  13.40  yellow  credit card           Midtown East   \n",
       "\n",
       "            dropoff_zone pickup_borough dropoff_borough  \n",
       "0    UN/Turtle Bay South      Manhattan       Manhattan  \n",
       "1  Upper West Side South      Manhattan       Manhattan  \n",
       "2           West Village      Manhattan       Manhattan  \n",
       "3         Yorkville West      Manhattan       Manhattan  \n",
       "4         Yorkville West      Manhattan       Manhattan  "
      ]
     },
     "execution_count": 3,
     "metadata": {},
     "output_type": "execute_result"
    }
   ],
   "source": [
    "df = sns.load_dataset('taxis')\n",
    "df.head()"
   ]
  },
  {
   "cell_type": "code",
   "execution_count": 10,
   "metadata": {},
   "outputs": [
    {
     "data": {
      "text/html": [
       "<div>\n",
       "<style scoped>\n",
       "    .dataframe tbody tr th:only-of-type {\n",
       "        vertical-align: middle;\n",
       "    }\n",
       "\n",
       "    .dataframe tbody tr th {\n",
       "        vertical-align: top;\n",
       "    }\n",
       "\n",
       "    .dataframe thead th {\n",
       "        text-align: right;\n",
       "    }\n",
       "</style>\n",
       "<table border=\"1\" class=\"dataframe\">\n",
       "  <thead>\n",
       "    <tr style=\"text-align: right;\">\n",
       "      <th></th>\n",
       "      <th>avg_distance</th>\n",
       "      <th>passenger_amount</th>\n",
       "    </tr>\n",
       "    <tr>\n",
       "      <th>pickup_borough</th>\n",
       "      <th></th>\n",
       "      <th></th>\n",
       "    </tr>\n",
       "  </thead>\n",
       "  <tbody>\n",
       "    <tr>\n",
       "      <th>Bronx</th>\n",
       "      <td>5.725859</td>\n",
       "      <td>118</td>\n",
       "    </tr>\n",
       "    <tr>\n",
       "      <th>Brooklyn</th>\n",
       "      <td>4.058668</td>\n",
       "      <td>502</td>\n",
       "    </tr>\n",
       "    <tr>\n",
       "      <th>Manhattan</th>\n",
       "      <td>2.349723</td>\n",
       "      <td>8250</td>\n",
       "    </tr>\n",
       "    <tr>\n",
       "      <th>Queens</th>\n",
       "      <td>7.465830</td>\n",
       "      <td>1001</td>\n",
       "    </tr>\n",
       "  </tbody>\n",
       "</table>\n",
       "</div>"
      ],
      "text/plain": [
       "                avg_distance  passenger_amount\n",
       "pickup_borough                                \n",
       "Bronx               5.725859               118\n",
       "Brooklyn            4.058668               502\n",
       "Manhattan           2.349723              8250\n",
       "Queens              7.465830              1001"
      ]
     },
     "execution_count": 10,
     "metadata": {},
     "output_type": "execute_result"
    }
   ],
   "source": [
    "df.groupby('pickup_borough').agg(avg_distance=('distance', 'mean'), passenger_amount=('passengers', 'sum'))"
   ]
  },
  {
   "cell_type": "code",
   "execution_count": null,
   "metadata": {},
   "outputs": [],
   "source": []
  },
  {
   "cell_type": "code",
   "execution_count": 8,
   "metadata": {},
   "outputs": [
    {
     "name": "stdin",
     "output_type": "stream",
     "text": [
      "Давай число:  7\n"
     ]
    },
    {
     "name": "stdout",
     "output_type": "stream",
     "text": [
      "Поздравлямс!\n"
     ]
    }
   ],
   "source": [
    "sn = 7\n",
    "guess = 0\n",
    "while guess != sn:\n",
    "    guess = int(input(\"Давай число: \"))\n",
    "print(\"Поздравлямс!\")"
   ]
  },
  {
   "cell_type": "code",
   "execution_count": null,
   "metadata": {},
   "outputs": [],
   "source": []
  },
  {
   "cell_type": "code",
   "execution_count": null,
   "metadata": {},
   "outputs": [],
   "source": []
  },
  {
   "cell_type": "code",
   "execution_count": null,
   "metadata": {},
   "outputs": [],
   "source": []
  },
  {
   "cell_type": "code",
   "execution_count": null,
   "metadata": {},
   "outputs": [],
   "source": []
  },
  {
   "cell_type": "code",
   "execution_count": null,
   "metadata": {
    "tags": []
   },
   "outputs": [],
   "source": []
  }
 ],
 "metadata": {
  "kernelspec": {
   "display_name": "Python 3 (ipykernel)",
   "language": "python",
   "name": "python3"
  },
  "language_info": {
   "codemirror_mode": {
    "name": "ipython",
    "version": 3
   },
   "file_extension": ".py",
   "mimetype": "text/x-python",
   "name": "python",
   "nbconvert_exporter": "python",
   "pygments_lexer": "ipython3",
   "version": "3.7.16"
  }
 },
 "nbformat": 4,
 "nbformat_minor": 4
}
