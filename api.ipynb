{
 "cells": [
  {
   "cell_type": "code",
   "execution_count": 3,
   "metadata": {},
   "outputs": [],
   "source": [
    "import numpy as np\n",
    "import pandas as pd\n",
    "import matplotlib.pyplot as plt\n",
    "import seaborn as sns\n",
    "import requests"
   ]
  },
  {
   "cell_type": "code",
   "execution_count": 2,
   "metadata": {},
   "outputs": [],
   "source": [
    "sns.set()\n",
    "pd.set_option('display.max_columns', None)"
   ]
  },
  {
   "cell_type": "code",
   "execution_count": null,
   "metadata": {},
   "outputs": [],
   "source": []
  },
  {
   "cell_type": "markdown",
   "metadata": {},
   "source": [
    "https://sunrise-sunset.org/api"
   ]
  },
  {
   "cell_type": "code",
   "execution_count": null,
   "metadata": {},
   "outputs": [],
   "source": []
  },
  {
   "cell_type": "code",
   "execution_count": 8,
   "metadata": {},
   "outputs": [],
   "source": [
    "URL = 'https://api.sunrise-sunset.org/json'"
   ]
  },
  {
   "cell_type": "code",
   "execution_count": 16,
   "metadata": {},
   "outputs": [],
   "source": [
    "params = {\n",
    "    'lat': '36.7201600',\n",
    "    'lng': '-4.4203400',\n",
    "    'date': '2023-02-23'\n",
    "}"
   ]
  },
  {
   "cell_type": "code",
   "execution_count": 17,
   "metadata": {},
   "outputs": [],
   "source": [
    "response = requests.get(URL, params=params)"
   ]
  },
  {
   "cell_type": "code",
   "execution_count": 21,
   "metadata": {},
   "outputs": [
    {
     "data": {
      "text/plain": [
       "{'results': {'sunrise': '6:55:04 AM',\n",
       "  'sunset': '6:07:00 PM',\n",
       "  'solar_noon': '12:31:02 PM',\n",
       "  'day_length': '11:11:56',\n",
       "  'civil_twilight_begin': '6:30:16 AM',\n",
       "  'civil_twilight_end': '6:31:47 PM',\n",
       "  'nautical_twilight_begin': '6:00:11 AM',\n",
       "  'nautical_twilight_end': '7:01:53 PM',\n",
       "  'astronomical_twilight_begin': '5:30:14 AM',\n",
       "  'astronomical_twilight_end': '7:31:50 PM'},\n",
       " 'status': 'OK'}"
      ]
     },
     "execution_count": 21,
     "metadata": {},
     "output_type": "execute_result"
    }
   ],
   "source": [
    "sunrise_dict = response.json()\n",
    "sunrise_dict"
   ]
  },
  {
   "cell_type": "code",
   "execution_count": 22,
   "metadata": {},
   "outputs": [
    {
     "data": {
      "text/plain": [
       "'11:11:56'"
      ]
     },
     "execution_count": 22,
     "metadata": {},
     "output_type": "execute_result"
    }
   ],
   "source": [
    "sunrise_dict['results']['day_length']"
   ]
  },
  {
   "cell_type": "code",
   "execution_count": 26,
   "metadata": {},
   "outputs": [
    {
     "data": {
      "text/html": [
       "<div>\n",
       "<style scoped>\n",
       "    .dataframe tbody tr th:only-of-type {\n",
       "        vertical-align: middle;\n",
       "    }\n",
       "\n",
       "    .dataframe tbody tr th {\n",
       "        vertical-align: top;\n",
       "    }\n",
       "\n",
       "    .dataframe thead th {\n",
       "        text-align: right;\n",
       "    }\n",
       "</style>\n",
       "<table border=\"1\" class=\"dataframe\">\n",
       "  <thead>\n",
       "    <tr style=\"text-align: right;\">\n",
       "      <th></th>\n",
       "      <th>sunrise</th>\n",
       "      <th>sunset</th>\n",
       "      <th>solar_noon</th>\n",
       "      <th>day_length</th>\n",
       "      <th>civil_twilight_begin</th>\n",
       "      <th>civil_twilight_end</th>\n",
       "      <th>nautical_twilight_begin</th>\n",
       "      <th>nautical_twilight_end</th>\n",
       "      <th>astronomical_twilight_begin</th>\n",
       "      <th>astronomical_twilight_end</th>\n",
       "    </tr>\n",
       "  </thead>\n",
       "  <tbody>\n",
       "    <tr>\n",
       "      <th>0</th>\n",
       "      <td>6:55:04 AM</td>\n",
       "      <td>6:07:00 PM</td>\n",
       "      <td>12:31:02 PM</td>\n",
       "      <td>11:11:56</td>\n",
       "      <td>6:30:16 AM</td>\n",
       "      <td>6:31:47 PM</td>\n",
       "      <td>6:00:11 AM</td>\n",
       "      <td>7:01:53 PM</td>\n",
       "      <td>5:30:14 AM</td>\n",
       "      <td>7:31:50 PM</td>\n",
       "    </tr>\n",
       "  </tbody>\n",
       "</table>\n",
       "</div>"
      ],
      "text/plain": [
       "      sunrise      sunset   solar_noon day_length civil_twilight_begin  \\\n",
       "0  6:55:04 AM  6:07:00 PM  12:31:02 PM   11:11:56           6:30:16 AM   \n",
       "\n",
       "  civil_twilight_end nautical_twilight_begin nautical_twilight_end  \\\n",
       "0         6:31:47 PM              6:00:11 AM            7:01:53 PM   \n",
       "\n",
       "  astronomical_twilight_begin astronomical_twilight_end  \n",
       "0                  5:30:14 AM                7:31:50 PM  "
      ]
     },
     "execution_count": 26,
     "metadata": {},
     "output_type": "execute_result"
    }
   ],
   "source": [
    "pd.DataFrame([sunrise_dict['results']])\n",
    "# а почему нельзя без внешних квадратных скобок?"
   ]
  },
  {
   "cell_type": "code",
   "execution_count": null,
   "metadata": {},
   "outputs": [],
   "source": []
  },
  {
   "cell_type": "code",
   "execution_count": null,
   "metadata": {},
   "outputs": [],
   "source": []
  }
 ],
 "metadata": {
  "kernelspec": {
   "display_name": "Python 3",
   "language": "python",
   "name": "python3"
  },
  "language_info": {
   "codemirror_mode": {
    "name": "ipython",
    "version": 3
   },
   "file_extension": ".py",
   "mimetype": "text/x-python",
   "name": "python",
   "nbconvert_exporter": "python",
   "pygments_lexer": "ipython3",
   "version": "3.8.8"
  }
 },
 "nbformat": 4,
 "nbformat_minor": 4
}
