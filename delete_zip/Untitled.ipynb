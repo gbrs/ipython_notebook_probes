{
 "cells": [
  {
   "cell_type": "code",
   "execution_count": 1,
   "id": "ca6c257e-754f-470e-ad98-805972e9570e",
   "metadata": {},
   "outputs": [],
   "source": [
    "from flask import Flask, request, jsonify"
   ]
  },
  {
   "cell_type": "code",
   "execution_count": 2,
   "id": "7d17e1a4-7175-4db4-886a-0b80dcfe5792",
   "metadata": {},
   "outputs": [],
   "source": [
    "app = Flask('churn')"
   ]
  },
  {
   "cell_type": "code",
   "execution_count": null,
   "id": "750b3dec-68e2-4dd9-8fa1-6ea3337667d8",
   "metadata": {},
   "outputs": [
    {
     "name": "stdout",
     "output_type": "stream",
     "text": [
      " * Serving Flask app \"churn\" (lazy loading)\n",
      " * Environment: production\n",
      "\u001b[31m   WARNING: This is a development server. Do not use it in a production deployment.\u001b[0m\n",
      "\u001b[2m   Use a production WSGI server instead.\u001b[0m\n",
      " * Debug mode: on\n"
     ]
    },
    {
     "name": "stderr",
     "output_type": "stream",
     "text": [
      " * Running on all addresses.\n",
      "   WARNING: This is a development server. Do not use it in a production deployment.\n",
      " * Running on http://192.168.0.190:9696/ (Press CTRL+C to quit)\n",
      "127.0.0.1 - - [27/Apr/2024 20:08:55] \"POST /predict HTTP/1.1\" 404 -\n",
      "127.0.0.1 - - [27/Apr/2024 20:09:42] \"POST /compute HTTP/1.1\" 200 -\n"
     ]
    }
   ],
   "source": [
    "@app.route('/compute', methods=['POST'])\n",
    "def foo():\n",
    "    x = request.get_json()\n",
    "    result = {\n",
    "            'квадрат': x**2,\n",
    "            'куб': x**3}\n",
    "    return jsonify(result)\n",
    "\n",
    "app.run(debug=True, use_reloader=False, host='0.0.0.0', port=9696)"
   ]
  },
  {
   "cell_type": "code",
   "execution_count": null,
   "id": "d01340db-8189-49ed-8fbe-28230d29aacc",
   "metadata": {},
   "outputs": [],
   "source": []
  }
 ],
 "metadata": {
  "kernelspec": {
   "display_name": "Python 3 (ipykernel)",
   "language": "python",
   "name": "python3"
  },
  "language_info": {
   "codemirror_mode": {
    "name": "ipython",
    "version": 3
   },
   "file_extension": ".py",
   "mimetype": "text/x-python",
   "name": "python",
   "nbconvert_exporter": "python",
   "pygments_lexer": "ipython3",
   "version": "3.7.16"
  }
 },
 "nbformat": 4,
 "nbformat_minor": 5
}
