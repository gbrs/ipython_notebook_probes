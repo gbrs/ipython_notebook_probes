{
 "cells": [
  {
   "cell_type": "markdown",
   "metadata": {
    "id": "VVt6eQsIJxvD"
   },
   "source": [
    "1. Напишите код, который считает сумму всех чисел от 1 до 100"
   ]
  },
  {
   "cell_type": "code",
   "execution_count": 1,
   "metadata": {
    "id": "NtogIxU9AcwK"
   },
   "outputs": [
    {
     "data": {
      "text/plain": [
       "5050"
      ]
     },
     "execution_count": 1,
     "metadata": {},
     "output_type": "execute_result"
    }
   ],
   "source": [
    "sum(range(1, 101))"
   ]
  },
  {
   "cell_type": "markdown",
   "metadata": {
    "id": "Cyc2IDsnJzbc"
   },
   "source": [
    "2. Напишите код, который принимает на вход два числа и возвращает их сумму."
   ]
  },
  {
   "cell_type": "code",
   "execution_count": 3,
   "metadata": {
    "id": "NZ9ENBCLJ5bn"
   },
   "outputs": [
    {
     "name": "stdin",
     "output_type": "stream",
     "text": [
      " 5\n",
      " 12.5\n"
     ]
    },
    {
     "data": {
      "text/plain": [
       "17.5"
      ]
     },
     "execution_count": 3,
     "metadata": {},
     "output_type": "execute_result"
    }
   ],
   "source": [
    "float(input()) + float(input())"
   ]
  },
  {
   "cell_type": "markdown",
   "metadata": {
    "id": "ngLvkJeQKIJ7"
   },
   "source": [
    "3. Создайте программу, которая запрашивает у пользователя его возраст и выводит сообщение о том, можно ли ему участвовать в определенном соревновании (например, \"Возраст не подходит\" или \"Вы можете участвовать\")."
   ]
  },
  {
   "cell_type": "code",
   "execution_count": 5,
   "metadata": {
    "id": "GJXqxFskKPTD"
   },
   "outputs": [
    {
     "name": "stdin",
     "output_type": "stream",
     "text": [
      "Введите ваш возраст:  18\n"
     ]
    },
    {
     "name": "stdout",
     "output_type": "stream",
     "text": [
      "Вы можете участвовать\n"
     ]
    }
   ],
   "source": [
    "print([\"Возраст не подходит\", \"Вы можете участвовать\"][int(input('Введите ваш возраст: ')) >= 18])"
   ]
  },
  {
   "cell_type": "markdown",
   "metadata": {
    "id": "225eV-JVKQwT"
   },
   "source": [
    "4. Создайте программу, которая запрашивает у пользователя число и выводит сообщение о том, является ли оно простым"
   ]
  },
  {
   "cell_type": "code",
   "execution_count": 34,
   "metadata": {
    "id": "_y1TCvmgKRiW"
   },
   "outputs": [
    {
     "name": "stdin",
     "output_type": "stream",
     "text": [
      " 29\n"
     ]
    },
    {
     "name": "stdout",
     "output_type": "stream",
     "text": [
      "простое\n"
     ]
    }
   ],
   "source": [
    "n = int(input())\n",
    "for i in range(2, int(n**0.5 + 1)):\n",
    "    if n % i == 0:\n",
    "        print('составное')\n",
    "        break\n",
    "else:\n",
    "    print('простое')"
   ]
  },
  {
   "cell_type": "markdown",
   "metadata": {
    "id": "RC50cH3vKU3T"
   },
   "source": [
    "5. Напишите программу, которая проверяет введенное пользователем число на то, является ли оно палиндромом (читается справа налево и слева направо одинаково, например, 121 или 1331)."
   ]
  },
  {
   "cell_type": "code",
   "execution_count": 8,
   "metadata": {
    "id": "o7Nft-1pKYEz"
   },
   "outputs": [
    {
     "name": "stdin",
     "output_type": "stream",
     "text": [
      " 3331\n"
     ]
    },
    {
     "name": "stdout",
     "output_type": "stream",
     "text": [
      "False\n"
     ]
    }
   ],
   "source": [
    "n = input()\n",
    "print(n == n[::-1])"
   ]
  },
  {
   "cell_type": "markdown",
   "metadata": {
    "id": "USYV_oWALAFr"
   },
   "source": [
    "6. Создайте программу, которая принимает на вход строку и выводит ее в обратном порядке."
   ]
  },
  {
   "cell_type": "code",
   "execution_count": null,
   "metadata": {
    "id": "FIZEovfdLBKP"
   },
   "outputs": [],
   "source": [
    "print(input()[::-1])"
   ]
  },
  {
   "cell_type": "markdown",
   "metadata": {
    "id": "FYatpjxjLBdz"
   },
   "source": [
    "7. Напишите программу, которая запрашивает у пользователя числа до тех пор, пока пользователь не введет число 0. После этого программа должна вывести сумму всех введенных чисел."
   ]
  },
  {
   "cell_type": "code",
   "execution_count": 13,
   "metadata": {
    "id": "jd8WeCjkLD-j"
   },
   "outputs": [
    {
     "name": "stdin",
     "output_type": "stream",
     "text": [
      " 5\n",
      " 7\n",
      " 12.0\n",
      " 0.0\n"
     ]
    },
    {
     "name": "stdout",
     "output_type": "stream",
     "text": [
      "24.0\n"
     ]
    }
   ],
   "source": [
    "n = float(input())\n",
    "ans = 0\n",
    "while n != 0:\n",
    "    ans += n\n",
    "    n = float(input())\n",
    "print(ans)"
   ]
  },
  {
   "cell_type": "markdown",
   "metadata": {
    "id": "cw-UMuXzMHSj"
   },
   "source": [
    "8. Напишите программу, которая находит сумму всех чисел от 1 до 1000, которые делятся на 3 или на 5."
   ]
  },
  {
   "cell_type": "code",
   "execution_count": 15,
   "metadata": {
    "id": "fGBCUS3wMJOc"
   },
   "outputs": [
    {
     "data": {
      "text/plain": [
       "234168"
      ]
     },
     "execution_count": 15,
     "metadata": {},
     "output_type": "execute_result"
    }
   ],
   "source": [
    "sum([i for i in range(1, 1001) if i % 3 == 0 or i % 5 == 0])"
   ]
  },
  {
   "cell_type": "markdown",
   "metadata": {
    "id": "HdKuBqOBMJiG"
   },
   "source": [
    "9. Напишите программу, которая запрашивает у пользователя число и выводит на экран таблицу умножения для этого числа от 1 до 10."
   ]
  },
  {
   "cell_type": "code",
   "execution_count": 19,
   "metadata": {
    "id": "i8KzAZhVMMMG"
   },
   "outputs": [
    {
     "name": "stdin",
     "output_type": "stream",
     "text": [
      " 1.1\n"
     ]
    },
    {
     "name": "stdout",
     "output_type": "stream",
     "text": [
      "1.1\n",
      "2.2\n",
      "3.3000000000000003\n",
      "4.4\n",
      "5.5\n",
      "6.6000000000000005\n",
      "7.700000000000001\n",
      "8.8\n",
      "9.9\n",
      "11.0\n"
     ]
    }
   ],
   "source": [
    "n = float(input())\n",
    "for i in range(1, 11):\n",
    "    print(i * n)"
   ]
  }
 ],
 "metadata": {
  "colab": {
   "provenance": []
  },
  "kernelspec": {
   "display_name": "Python 3 (ipykernel)",
   "language": "python",
   "name": "python3"
  },
  "language_info": {
   "codemirror_mode": {
    "name": "ipython",
    "version": 3
   },
   "file_extension": ".py",
   "mimetype": "text/x-python",
   "name": "python",
   "nbconvert_exporter": "python",
   "pygments_lexer": "ipython3",
   "version": "3.7.16"
  }
 },
 "nbformat": 4,
 "nbformat_minor": 4
}
