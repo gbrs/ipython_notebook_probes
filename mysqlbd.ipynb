{
 "cells": [
  {
   "cell_type": "code",
   "execution_count": null,
   "id": "0e42a730",
   "metadata": {},
   "outputs": [],
   "source": [
    "# файл из https://www.youtube.com/watch?v=L9GZAxhurUY"
   ]
  },
  {
   "cell_type": "code",
   "execution_count": 1,
   "id": "1e09b013",
   "metadata": {},
   "outputs": [],
   "source": [
    "import mysql.connector  ## mysql-connector-python 8.0.31\n",
    "from mysql.connector import Error\n",
    "from config import db_config "
   ]
  },
  {
   "cell_type": "code",
   "execution_count": 2,
   "id": "38f1d9ed",
   "metadata": {},
   "outputs": [],
   "source": [
    "def create_connection_mysql_db(db_host, user_name, user_password, db_name = None):\n",
    "    connection_db = None\n",
    "    try:\n",
    "        connection_db = mysql.connector.connect(\n",
    "            host = db_host,\n",
    "            user = user_name,\n",
    "            passwd = user_password,\n",
    "            database = db_name\n",
    "        )\n",
    "        print(\"Подключение к MySQL успешно выполнено\")\n",
    "    except Error as db_connection_error:\n",
    "        print(\"Возникла ошибка: \", db_connection_error)\n",
    "    return connection_db"
   ]
  },
  {
   "cell_type": "code",
   "execution_count": 5,
   "id": "ed8a9f4f",
   "metadata": {},
   "outputs": [
    {
     "name": "stdout",
     "output_type": "stream",
     "text": [
      "Подключение к MySQL успешно выполнено\n"
     ]
    }
   ],
   "source": [
    "conn = create_connection_mysql_db(db_config[\"mysql\"][\"host\"], \n",
    "                                  db_config[\"mysql\"][\"user\"], \n",
    "                                  db_config[\"mysql\"][\"pass\"])\n",
    "cursor = conn.cursor()"
   ]
  },
  {
   "cell_type": "code",
   "execution_count": 6,
   "id": "3d993a1d",
   "metadata": {},
   "outputs": [],
   "source": [
    "###\n",
    "cursor.execute('SHOW DATABASES;')"
   ]
  },
  {
   "cell_type": "code",
   "execution_count": 7,
   "id": "3fdd8b6e",
   "metadata": {},
   "outputs": [
    {
     "data": {
      "text/plain": [
       "[('information_schema',), ('kvadromash_delete',), ('kvadromash_wor00',)]"
      ]
     },
     "execution_count": 7,
     "metadata": {},
     "output_type": "execute_result"
    }
   ],
   "source": [
    "###\n",
    "cursor.fetchall()"
   ]
  },
  {
   "cell_type": "code",
   "execution_count": 8,
   "id": "e0785737",
   "metadata": {},
   "outputs": [],
   "source": [
    "###\n",
    "cursor.close()\n",
    "conn.close()"
   ]
  },
  {
   "cell_type": "code",
   "execution_count": null,
   "id": "5a944230",
   "metadata": {},
   "outputs": [],
   "source": [
    "create_db_sql_query = 'CREATE DATABASE {}'.format('Test')\n",
    "cursor.execute(create_db_sql_query)\n",
    "cursor.close()\n",
    "conn.close()"
   ]
  },
  {
   "cell_type": "code",
   "execution_count": null,
   "id": "5f37afff",
   "metadata": {},
   "outputs": [],
   "source": [
    "conn = create_connection_mysql_db(db_config[\"mysql\"][\"host\"], \n",
    "                                  db_config[\"mysql\"][\"user\"], \n",
    "                                  db_config[\"mysql\"][\"pass\"],\n",
    "                                  \"Test\")\n",
    "try:\n",
    "    # создание таблицы\n",
    "    cursor = conn.cursor()\n",
    "    create_table_query = '''\n",
    "    CREATE TABLE IF NOT EXISTS users (\n",
    "    id INT AUTO_INCREMENT, \n",
    "    name TEXT NOT NULL, \n",
    "    age INT, \n",
    "    gender TEXT, \n",
    "    nationality TEXT, \n",
    "    PRIMARY KEY (id)\n",
    "    ) ENGINE = InnoDB'''\n",
    "    cursor.execute(create_table_query)\n",
    "    conn.commit()\n",
    "\n",
    "    # вставка данных в таблицу\n",
    "    insert_users_table_query = '''\n",
    "    INSERT INTO\n",
    "    `users` (`name`, `age`, `gender`, `nationality`)\n",
    "    VALUES\n",
    "    ('James', 25, 'male', 'USA'),\n",
    "    ('Leila', 32, 'female', 'France'),\n",
    "    ('Brigitte', 35, 'female', 'England');'''\n",
    "    cursor.execute(insert_users_table_query)\n",
    "    conn.commit()\n",
    "\n",
    "    # изблечение данных из бд\n",
    "    select_users_female_query = '''\n",
    "    SELECT name, age, nationality FROM users WHERE gender = 'female';\n",
    "    '''\n",
    "    cursor.execute(select_users_female_query)\n",
    "    query_result = cursor.fetchall()\n",
    "    for user in query_result:\n",
    "        print(user)\n",
    "\n",
    "    # редактирование записей\n",
    "    update_user_gender_query = '''\n",
    "    UPDATE users SET gender = 'deer' WHERE gender = 'male';\n",
    "    '''\n",
    "    cursor.execute(update_user_gender_query)\n",
    "    conn.commit()\n",
    "\n",
    "    # удаление записей \n",
    "    delete_Usa_users_query = '''\n",
    "    DELETE FROM users WHERE nationality = 'USA';\n",
    "    '''\n",
    "    cursor.execute(delete_Usa_users_query)\n",
    "    conn.commit()\n",
    "\n",
    "except Error as error:\n",
    "    print(error)\n",
    "finally:\n",
    "    cursor.close()\n",
    "    conn.close()                                 "
   ]
  },
  {
   "cell_type": "code",
   "execution_count": null,
   "id": "2dbe348e",
   "metadata": {},
   "outputs": [],
   "source": []
  },
  {
   "cell_type": "code",
   "execution_count": 9,
   "id": "eed8d6f4",
   "metadata": {},
   "outputs": [],
   "source": [
    "### Далее мои эксперименты ----------------------------------------"
   ]
  },
  {
   "cell_type": "code",
   "execution_count": 1,
   "id": "1c822014",
   "metadata": {},
   "outputs": [],
   "source": [
    "import mysql.connector  # mysql-connector-python 8.0.31\n",
    "from config import db_config  # из файла конфиг достаем словарик с регистрационными данными"
   ]
  },
  {
   "cell_type": "code",
   "execution_count": 20,
   "id": "7d6a5e13",
   "metadata": {},
   "outputs": [],
   "source": [
    "conn = mysql.connector.connect(\n",
    "            host = db_config[\"mysql\"][\"host\"],\n",
    "            user = db_config[\"mysql\"][\"user\"], \n",
    "            passwd = db_config[\"mysql\"][\"pass\"],\n",
    "            database = 'kvadromash_delete'\n",
    "        )\n",
    "cursor = conn.cursor()"
   ]
  },
  {
   "cell_type": "code",
   "execution_count": 21,
   "id": "6fe167e9",
   "metadata": {},
   "outputs": [
    {
     "data": {
      "text/plain": [
       "[('laptop',), ('pc',), ('printer',), ('product',)]"
      ]
     },
     "execution_count": 21,
     "metadata": {},
     "output_type": "execute_result"
    }
   ],
   "source": [
    "cursor.execute('SHOW TABLES;')\n",
    "cursor.fetchall()"
   ]
  },
  {
   "cell_type": "code",
   "execution_count": 22,
   "id": "bc93b11f",
   "metadata": {},
   "outputs": [],
   "source": [
    "cursor.close()\n",
    "conn.close()"
   ]
  },
  {
   "cell_type": "code",
   "execution_count": null,
   "id": "cf6b525f",
   "metadata": {},
   "outputs": [],
   "source": []
  },
  {
   "cell_type": "code",
   "execution_count": null,
   "id": "7984a5d2",
   "metadata": {},
   "outputs": [],
   "source": []
  },
  {
   "cell_type": "code",
   "execution_count": null,
   "id": "60d1bc5c",
   "metadata": {},
   "outputs": [],
   "source": []
  },
  {
   "cell_type": "code",
   "execution_count": null,
   "id": "bf0a1ad5",
   "metadata": {},
   "outputs": [],
   "source": []
  },
  {
   "cell_type": "code",
   "execution_count": null,
   "id": "300ff83f",
   "metadata": {},
   "outputs": [],
   "source": []
  },
  {
   "cell_type": "code",
   "execution_count": null,
   "id": "807e5142",
   "metadata": {},
   "outputs": [],
   "source": []
  },
  {
   "cell_type": "code",
   "execution_count": null,
   "id": "4260ffdf",
   "metadata": {},
   "outputs": [],
   "source": []
  },
  {
   "cell_type": "code",
   "execution_count": null,
   "id": "0d6a3a39",
   "metadata": {},
   "outputs": [],
   "source": []
  },
  {
   "cell_type": "code",
   "execution_count": null,
   "id": "4d303e50",
   "metadata": {},
   "outputs": [],
   "source": []
  },
  {
   "cell_type": "code",
   "execution_count": null,
   "id": "f0a0d3c8",
   "metadata": {},
   "outputs": [],
   "source": []
  },
  {
   "cell_type": "code",
   "execution_count": null,
   "id": "5bf61a60",
   "metadata": {},
   "outputs": [],
   "source": []
  },
  {
   "cell_type": "code",
   "execution_count": null,
   "id": "7dda381e",
   "metadata": {},
   "outputs": [],
   "source": []
  },
  {
   "cell_type": "code",
   "execution_count": null,
   "id": "182d929a",
   "metadata": {},
   "outputs": [],
   "source": []
  },
  {
   "cell_type": "code",
   "execution_count": null,
   "id": "49725e5b",
   "metadata": {},
   "outputs": [],
   "source": []
  },
  {
   "cell_type": "code",
   "execution_count": null,
   "id": "9b976c29",
   "metadata": {},
   "outputs": [],
   "source": []
  },
  {
   "cell_type": "code",
   "execution_count": null,
   "id": "46be9f3a",
   "metadata": {},
   "outputs": [],
   "source": []
  },
  {
   "cell_type": "code",
   "execution_count": null,
   "id": "b98bacd9",
   "metadata": {},
   "outputs": [],
   "source": []
  },
  {
   "cell_type": "code",
   "execution_count": null,
   "id": "d6acaa95",
   "metadata": {},
   "outputs": [],
   "source": []
  },
  {
   "cell_type": "code",
   "execution_count": null,
   "id": "6050d35e",
   "metadata": {},
   "outputs": [],
   "source": []
  },
  {
   "cell_type": "code",
   "execution_count": null,
   "id": "aa37416d",
   "metadata": {},
   "outputs": [],
   "source": []
  },
  {
   "cell_type": "code",
   "execution_count": null,
   "id": "fd18e1dd",
   "metadata": {},
   "outputs": [],
   "source": []
  }
 ],
 "metadata": {
  "kernelspec": {
   "display_name": "Python 3 (ipykernel)",
   "language": "python",
   "name": "python3"
  },
  "language_info": {
   "codemirror_mode": {
    "name": "ipython",
    "version": 3
   },
   "file_extension": ".py",
   "mimetype": "text/x-python",
   "name": "python",
   "nbconvert_exporter": "python",
   "pygments_lexer": "ipython3",
   "version": "3.7.15"
  }
 },
 "nbformat": 4,
 "nbformat_minor": 5
}
