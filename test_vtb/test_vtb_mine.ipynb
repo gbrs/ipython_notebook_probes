{
 "cells": [
  {
   "cell_type": "markdown",
   "id": "07c544b7-6c91-4753-bcd1-e81eb1ce3434",
   "metadata": {},
   "source": [
    "# Тестовоe задание на позицию junior-аналитика в Банк ВТБ"
   ]
  },
  {
   "cell_type": "markdown",
   "id": "62eb229f-f380-45f2-918c-bc8de952342d",
   "metadata": {},
   "source": [
    "Из видео https://www.youtube.com/watch?v=vG6_1zIiuao от Simulative"
   ]
  },
  {
   "cell_type": "code",
   "execution_count": 2,
   "id": "09c7947b-7cb5-400e-ba01-44bc561b41c5",
   "metadata": {},
   "outputs": [
    {
     "data": {
      "text/html": [
       "<div>\n",
       "<style scoped>\n",
       "    .dataframe tbody tr th:only-of-type {\n",
       "        vertical-align: middle;\n",
       "    }\n",
       "\n",
       "    .dataframe tbody tr th {\n",
       "        vertical-align: top;\n",
       "    }\n",
       "\n",
       "    .dataframe thead th {\n",
       "        text-align: right;\n",
       "    }\n",
       "</style>\n",
       "<table border=\"1\" class=\"dataframe\">\n",
       "  <thead>\n",
       "    <tr style=\"text-align: right;\">\n",
       "      <th></th>\n",
       "      <th>client_id</th>\n",
       "      <th>segment</th>\n",
       "      <th>period</th>\n",
       "      <th>product</th>\n",
       "      <th>pl</th>\n",
       "    </tr>\n",
       "  </thead>\n",
       "  <tbody>\n",
       "    <tr>\n",
       "      <th>0</th>\n",
       "      <td>ZDosW1zUAi</td>\n",
       "      <td>Массовый</td>\n",
       "      <td>p_1</td>\n",
       "      <td>Кредит</td>\n",
       "      <td>9.018067</td>\n",
       "    </tr>\n",
       "    <tr>\n",
       "      <th>1</th>\n",
       "      <td>wVRHQ9hzrw</td>\n",
       "      <td>Массовый</td>\n",
       "      <td>p_1</td>\n",
       "      <td>Кредит</td>\n",
       "      <td>18.889585</td>\n",
       "    </tr>\n",
       "    <tr>\n",
       "      <th>2</th>\n",
       "      <td>6DZQIaOyL3</td>\n",
       "      <td>Массовый</td>\n",
       "      <td>p_1</td>\n",
       "      <td>Кредит</td>\n",
       "      <td>0.369257</td>\n",
       "    </tr>\n",
       "    <tr>\n",
       "      <th>3</th>\n",
       "      <td>jDwO0sMhL2</td>\n",
       "      <td>Массовый</td>\n",
       "      <td>p_1</td>\n",
       "      <td>Кредит</td>\n",
       "      <td>124.315319</td>\n",
       "    </tr>\n",
       "    <tr>\n",
       "      <th>4</th>\n",
       "      <td>FXIJUkgjLy</td>\n",
       "      <td>Массовый</td>\n",
       "      <td>p_1</td>\n",
       "      <td>Кредит</td>\n",
       "      <td>41.287831</td>\n",
       "    </tr>\n",
       "  </tbody>\n",
       "</table>\n",
       "</div>"
      ],
      "text/plain": [
       "    client_id   segment period product          pl\n",
       "0  ZDosW1zUAi  Массовый    p_1  Кредит    9.018067\n",
       "1  wVRHQ9hzrw  Массовый    p_1  Кредит   18.889585\n",
       "2  6DZQIaOyL3  Массовый    p_1  Кредит    0.369257\n",
       "3  jDwO0sMhL2  Массовый    p_1  Кредит  124.315319\n",
       "4  FXIJUkgjLy  Массовый    p_1  Кредит   41.287831"
      ]
     },
     "execution_count": 2,
     "metadata": {},
     "output_type": "execute_result"
    }
   ],
   "source": [
    "import pandas as pd\n",
    "import sqlite3 as sql"
   ]
  },
  {
   "cell_type": "code",
   "execution_count": 3,
   "id": "837f9724-6a94-4e5d-82ac-34c043ce2d0b",
   "metadata": {},
   "outputs": [
    {
     "data": {
      "text/html": [
       "<div>\n",
       "<style scoped>\n",
       "    .dataframe tbody tr th:only-of-type {\n",
       "        vertical-align: middle;\n",
       "    }\n",
       "\n",
       "    .dataframe tbody tr th {\n",
       "        vertical-align: top;\n",
       "    }\n",
       "\n",
       "    .dataframe thead th {\n",
       "        text-align: right;\n",
       "    }\n",
       "</style>\n",
       "<table border=\"1\" class=\"dataframe\">\n",
       "  <thead>\n",
       "    <tr style=\"text-align: right;\">\n",
       "      <th></th>\n",
       "      <th>client_id</th>\n",
       "      <th>segment</th>\n",
       "      <th>period</th>\n",
       "      <th>product</th>\n",
       "      <th>pl</th>\n",
       "    </tr>\n",
       "  </thead>\n",
       "  <tbody>\n",
       "    <tr>\n",
       "      <th>0</th>\n",
       "      <td>ZDosW1zUAi</td>\n",
       "      <td>Массовый</td>\n",
       "      <td>p_1</td>\n",
       "      <td>Кредит</td>\n",
       "      <td>9.018067</td>\n",
       "    </tr>\n",
       "    <tr>\n",
       "      <th>1</th>\n",
       "      <td>wVRHQ9hzrw</td>\n",
       "      <td>Массовый</td>\n",
       "      <td>p_1</td>\n",
       "      <td>Кредит</td>\n",
       "      <td>18.889585</td>\n",
       "    </tr>\n",
       "    <tr>\n",
       "      <th>2</th>\n",
       "      <td>6DZQIaOyL3</td>\n",
       "      <td>Массовый</td>\n",
       "      <td>p_1</td>\n",
       "      <td>Кредит</td>\n",
       "      <td>0.369257</td>\n",
       "    </tr>\n",
       "    <tr>\n",
       "      <th>3</th>\n",
       "      <td>jDwO0sMhL2</td>\n",
       "      <td>Массовый</td>\n",
       "      <td>p_1</td>\n",
       "      <td>Кредит</td>\n",
       "      <td>124.315319</td>\n",
       "    </tr>\n",
       "    <tr>\n",
       "      <th>4</th>\n",
       "      <td>FXIJUkgjLy</td>\n",
       "      <td>Массовый</td>\n",
       "      <td>p_1</td>\n",
       "      <td>Кредит</td>\n",
       "      <td>41.287831</td>\n",
       "    </tr>\n",
       "  </tbody>\n",
       "</table>\n",
       "</div>"
      ],
      "text/plain": [
       "    client_id   segment period product          pl\n",
       "0  ZDosW1zUAi  Массовый    p_1  Кредит    9.018067\n",
       "1  wVRHQ9hzrw  Массовый    p_1  Кредит   18.889585\n",
       "2  6DZQIaOyL3  Массовый    p_1  Кредит    0.369257\n",
       "3  jDwO0sMhL2  Массовый    p_1  Кредит  124.315319\n",
       "4  FXIJUkgjLy  Массовый    p_1  Кредит   41.287831"
      ]
     },
     "execution_count": 3,
     "metadata": {},
     "output_type": "execute_result"
    }
   ],
   "source": [
    "with sql.connect('../data_ignored/database.db') as con:\n",
    "    pl_df = pd.read_sql_query('SELECT * FROM pl', con=con)\n",
    "\n",
    "pl_df.head()"
   ]
  },
  {
   "cell_type": "code",
   "execution_count": 10,
   "id": "78985f97-ae0a-4baf-b67d-b6f39a8013df",
   "metadata": {},
   "outputs": [
    {
     "data": {
      "text/html": [
       "<div>\n",
       "<style scoped>\n",
       "    .dataframe tbody tr th:only-of-type {\n",
       "        vertical-align: middle;\n",
       "    }\n",
       "\n",
       "    .dataframe tbody tr th {\n",
       "        vertical-align: top;\n",
       "    }\n",
       "\n",
       "    .dataframe thead th {\n",
       "        text-align: right;\n",
       "    }\n",
       "</style>\n",
       "<table border=\"1\" class=\"dataframe\">\n",
       "  <thead>\n",
       "    <tr style=\"text-align: right;\">\n",
       "      <th></th>\n",
       "      <th>client_id</th>\n",
       "      <th>product</th>\n",
       "      <th>response</th>\n",
       "      <th>manager_id</th>\n",
       "    </tr>\n",
       "  </thead>\n",
       "  <tbody>\n",
       "    <tr>\n",
       "      <th>0</th>\n",
       "      <td>owOyJEIst9</td>\n",
       "      <td>Кредит</td>\n",
       "      <td>Согласие</td>\n",
       "      <td>CM_EiBeeRMhdA</td>\n",
       "    </tr>\n",
       "    <tr>\n",
       "      <th>1</th>\n",
       "      <td>HkhuPN1KG7</td>\n",
       "      <td>Кредит</td>\n",
       "      <td>Не обработано менеджером</td>\n",
       "      <td>CM_PzEEav4ic0</td>\n",
       "    </tr>\n",
       "    <tr>\n",
       "      <th>2</th>\n",
       "      <td>x1rEdC5fys</td>\n",
       "      <td>Кредит</td>\n",
       "      <td>Согласие</td>\n",
       "      <td>CM_RCwv1r0OHO</td>\n",
       "    </tr>\n",
       "    <tr>\n",
       "      <th>3</th>\n",
       "      <td>fx0acVADvj</td>\n",
       "      <td>Кредит</td>\n",
       "      <td>Согласие</td>\n",
       "      <td>CM_nJ7j5pAcMB</td>\n",
       "    </tr>\n",
       "    <tr>\n",
       "      <th>4</th>\n",
       "      <td>nDNNydkKQR</td>\n",
       "      <td>Кредит</td>\n",
       "      <td>Согласие</td>\n",
       "      <td>CM_EiBeeRMhdA</td>\n",
       "    </tr>\n",
       "  </tbody>\n",
       "</table>\n",
       "</div>"
      ],
      "text/plain": [
       "    client_id product                  response     manager_id\n",
       "0  owOyJEIst9  Кредит                  Согласие  CM_EiBeeRMhdA\n",
       "1  HkhuPN1KG7  Кредит  Не обработано менеджером  CM_PzEEav4ic0\n",
       "2  x1rEdC5fys  Кредит                  Согласие  CM_RCwv1r0OHO\n",
       "3  fx0acVADvj  Кредит                  Согласие  CM_nJ7j5pAcMB\n",
       "4  nDNNydkKQR  Кредит                  Согласие  CM_EiBeeRMhdA"
      ]
     },
     "execution_count": 10,
     "metadata": {},
     "output_type": "execute_result"
    }
   ],
   "source": [
    "with sql.connect('../data_ignored/database.db') as con:\n",
    "    campaign = pd.read_sql_query('SELECT * FROM campaign', con=con)\n",
    "\n",
    "campaign.head()"
   ]
  },
  {
   "cell_type": "code",
   "execution_count": null,
   "id": "fef979bb-3770-405d-ad07-7180380faf96",
   "metadata": {},
   "outputs": [],
   "source": []
  },
  {
   "cell_type": "code",
   "execution_count": 6,
   "id": "724d0fc3-3c4d-46a7-90ba-2f1e5e3101cc",
   "metadata": {},
   "outputs": [
    {
     "name": "stdout",
     "output_type": "stream",
     "text": [
      "<class 'pandas.core.frame.DataFrame'>\n",
      "RangeIndex: 92609 entries, 0 to 92608\n",
      "Data columns (total 5 columns):\n",
      " #   Column     Non-Null Count  Dtype  \n",
      "---  ------     --------------  -----  \n",
      " 0   client_id  92609 non-null  object \n",
      " 1   segment    92609 non-null  object \n",
      " 2   period     92609 non-null  object \n",
      " 3   product    92609 non-null  object \n",
      " 4   pl         92609 non-null  float64\n",
      "dtypes: float64(1), object(4)\n",
      "memory usage: 3.5+ MB\n"
     ]
    }
   ],
   "source": [
    "pl_df.info()"
   ]
  },
  {
   "cell_type": "code",
   "execution_count": 20,
   "id": "9dfc468a-d4df-40ce-a060-181a56af1fb8",
   "metadata": {},
   "outputs": [
    {
     "data": {
      "text/plain": [
       "92609"
      ]
     },
     "execution_count": 20,
     "metadata": {},
     "output_type": "execute_result"
    }
   ],
   "source": [
    "len(pl_df.groupby(['client_id', 'period', 'product']))"
   ]
  },
  {
   "cell_type": "markdown",
   "id": "4386e23b-69bc-436d-883d-1f8b7c6b2a0d",
   "metadata": {},
   "source": [
    "Один и тот же клиент не может быть в 2 разных сегментах, но может быть в разных продуктах и периодах"
   ]
  },
  {
   "cell_type": "code",
   "execution_count": 22,
   "id": "c870c5e5-c590-4c89-a54a-e7c05a824070",
   "metadata": {},
   "outputs": [
    {
     "data": {
      "text/plain": [
       "client_id    24992\n",
       "segment          3\n",
       "period           2\n",
       "product          5\n",
       "pl           92609\n",
       "dtype: int64"
      ]
     },
     "execution_count": 22,
     "metadata": {},
     "output_type": "execute_result"
    }
   ],
   "source": [
    "pl_df.nunique()"
   ]
  },
  {
   "cell_type": "code",
   "execution_count": 11,
   "id": "3bd269b2-5cd2-431b-b5ac-9bc69433682d",
   "metadata": {},
   "outputs": [
    {
     "name": "stdout",
     "output_type": "stream",
     "text": [
      "<class 'pandas.core.frame.DataFrame'>\n",
      "RangeIndex: 5000 entries, 0 to 4999\n",
      "Data columns (total 4 columns):\n",
      " #   Column      Non-Null Count  Dtype \n",
      "---  ------      --------------  ----- \n",
      " 0   client_id   5000 non-null   object\n",
      " 1   product     5000 non-null   object\n",
      " 2   response    5000 non-null   object\n",
      " 3   manager_id  5000 non-null   object\n",
      "dtypes: object(4)\n",
      "memory usage: 156.4+ KB\n"
     ]
    }
   ],
   "source": [
    "campaign.info()"
   ]
  },
  {
   "cell_type": "code",
   "execution_count": 23,
   "id": "6955a73b-f6bf-46ea-a8d2-2c420a4973a7",
   "metadata": {},
   "outputs": [
    {
     "data": {
      "text/plain": [
       "client_id     5000\n",
       "product          1\n",
       "response         5\n",
       "manager_id      20\n",
       "dtype: int64"
      ]
     },
     "execution_count": 23,
     "metadata": {},
     "output_type": "execute_result"
    }
   ],
   "source": [
    "campaign.nunique()"
   ]
  },
  {
   "cell_type": "code",
   "execution_count": 25,
   "id": "f6ec2dc6-8ba2-45cd-96af-ea8e11baa39c",
   "metadata": {},
   "outputs": [
    {
     "data": {
      "text/plain": [
       "array(['Кредит'], dtype=object)"
      ]
     },
     "execution_count": 25,
     "metadata": {},
     "output_type": "execute_result"
    }
   ],
   "source": [
    "campaign['product'].unique()"
   ]
  },
  {
   "cell_type": "markdown",
   "id": "6a5920cd-798d-4370-a836-9f4fcb17d287",
   "metadata": {},
   "source": [
    "Рекламная кампания проводилась только по продукту \"Кредит\""
   ]
  },
  {
   "cell_type": "code",
   "execution_count": null,
   "id": "43dbab0d-fbe0-4411-bcb9-2020723022a5",
   "metadata": {},
   "outputs": [],
   "source": []
  },
  {
   "cell_type": "code",
   "execution_count": null,
   "id": "aa0f4d89-eca8-4311-b2ad-a3aeac07b821",
   "metadata": {},
   "outputs": [],
   "source": []
  }
 ],
 "metadata": {
  "kernelspec": {
   "display_name": "Python 3 (ipykernel)",
   "language": "python",
   "name": "python3"
  },
  "language_info": {
   "codemirror_mode": {
    "name": "ipython",
    "version": 3
   },
   "file_extension": ".py",
   "mimetype": "text/x-python",
   "name": "python",
   "nbconvert_exporter": "python",
   "pygments_lexer": "ipython3",
   "version": "3.9.13"
  }
 },
 "nbformat": 4,
 "nbformat_minor": 5
}
